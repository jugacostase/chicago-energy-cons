{
 "cells": [
  {
   "cell_type": "code",
   "execution_count": null,
   "metadata": {},
   "outputs": [],
   "source": [
    "import numpy as np\n",
    "import pandas as pd\n",
    "import geopandas as gpd\n",
    "\n",
    "from matplotlib import cm\n",
    "import matplotlib.pyplot as plt\n",
    "from models import estimate_knn_clusters, estimate_som_clusters, prepare_whole_year, prepare_TS\n",
    "from utils.utils import generate_filename\n",
    "from tslearn.clustering import TimeSeriesKMeans, silhouette_score\n",
    "from IPython.display import clear_output\n",
    "from tslearn.barycenters import dtw_barycenter_averaging\n",
    "\n",
    "from sklearn.inspection import permutation_importance\n",
    "from sklearn.linear_model import LogisticRegression\n",
    "from sklearn.ensemble import GradientBoostingClassifier, RandomForestClassifier\n",
    "from sklearn.model_selection import train_test_split, GridSearchCV, cross_validate\n",
    "from sklearn.metrics import confusion_matrix, f1_score\n",
    "from sklearn.svm import SVC\n",
    "\n",
    "\n",
    "import plotly.express as px\n",
    "\n",
    "from plotly.colors import qualitative\n",
    "from matplotlib.colors import ListedColormap\n",
    "\n",
    "import shap\n",
    "import xgboost\n",
    "from sklearn.preprocessing import LabelEncoder\n",
    "shap.initjs()\n",
    "\n",
    "px.set_mapbox_access_token(\"pk.eyJ1IjoiamdhY29zdGFzIiwiYSI6ImNsYWJwd3g1ZDAwaGUzb3Q0ZG04NDNndGgifQ.brk6kVA6biVSH0ovZ1dreA\")"
   ]
  },
  {
   "cell_type": "code",
   "execution_count": null,
   "outputs": [],
   "source": [
    "estimate_som_clusters(year=2019, month=1,  day=30, som_x=2, som_y=3, sigma=1, learning_rate = 0.5, plot=True)"
   ],
   "metadata": {
    "collapsed": false
   }
  },
  {
   "cell_type": "code",
   "execution_count": null,
   "outputs": [],
   "source": [
    "time_cols = ['60 or more minutes',\n",
    "'45 to 59 minutes',\n",
    "'35 to 44 minutes',\n",
    "'30 to 34 minutes',\n",
    "'25 to 29 minutes',\n",
    "'20 to 24 minutes',\n",
    "'15 to 19 minutes',\n",
    "'10 to 14 minutes',\n",
    "'Less than 10 minutes'\n",
    "]\n",
    "\n",
    "mode_cols = ['Car, truck, or van',\n",
    "'Other',\n",
    "'Public transportation',\n",
    "'Walked',\n",
    "]\n",
    "\n",
    "time_mode_cols = ['Car, truck, or van Less than 10 minutes',\n",
    "'Car, truck, or van 10 to 14 minutes',\n",
    "'Car, truck, or van 15 to 19 minutes',\n",
    "'Car, truck, or van 20 to 24 minutes',\n",
    "'Car, truck, or van 25 to 29 minutes',\n",
    "'Car, truck, or van 30 to 34 minutes',\n",
    "'Car, truck, or van 35 to 44 minutes',\n",
    "'Car, truck, or van 45 to 59 minutes',\n",
    "'Car, truck, or van 60 or more minutes',\n",
    "'Public transportation 10 to 14 minutes',\n",
    "'Public transportation 15 to 19 minutes',\n",
    "'Public transportation 20 to 24 minutes',\n",
    "'Public transportation 25 to 29 minutes',\n",
    "'Public transportation 30 to 34 minutes',\n",
    "'Public transportation 35 to 44 minutes',\n",
    "'Public transportation 45 to 59 minutes',\n",
    "'Public transportation 60 or more minutes',\n",
    "'Public transportation Bus 10 to 14 minutes',\n",
    "'Walked Less than 10 minutes',\n",
    "'Walked 10 to 14 minutes',\n",
    "'Walked 15 to 19 minutes',\n",
    "'Walked 20 to 24 minutes',\n",
    "'Walked 25 to 29 minutes',\n",
    "'Walked 30 to 34 minutes',\n",
    "'Walked 35 to 44 minutes',\n",
    "'Walked 45 to 59 minutes',\n",
    "'Walked 60 or more minutes',\n",
    "'Other Less than 10 minutes',\n",
    "'Other 10 to 14 minutes',\n",
    "'Other 15 to 19 minutes',\n",
    "'Other 20 to 24 minutes',\n",
    "'Other 25 to 29 minutes',\n",
    "'Other 30 to 34 minutes',\n",
    "'Other 35 to 44 minutes',\n",
    "'Other 45 to 59 minutes',\n",
    "'Other 60 or more minutes',\n",
    "]"
   ],
   "metadata": {
    "collapsed": false
   }
  },
  {
   "cell_type": "code",
   "execution_count": null,
   "metadata": {},
   "outputs": [],
   "source": [
    "df_comtime = pd.read_csv('data/census/commute_times_mode/commute_times_zc_il.csv')\n",
    "\n",
    "cols_comtimes = list(df_comtime.columns)[2:]\n",
    "cols_comtimes_perc = []\n",
    "\n",
    "#for col in cols_comtimes:\n",
    "for col in time_mode_cols:\n",
    "    new_col = f'{col}_perc'\n",
    "    df_comtime[new_col] = df_comtime[col] / df_comtime['Total']\n",
    "    cols_comtimes_perc.append(new_col)\n",
    "    \n",
    "print('Percentage check...')\n",
    "\n",
    "if int(df_comtime[cols_comtimes_perc].sum(axis=1).sum()) == df_comtime.shape[0]:\n",
    "    print('Successfully obtained percentages')\n",
    "else:\n",
    "    raise ValueError('Percentages do not add up to 1')\n",
    "\n",
    "#df_clusters = estimate_knn_clusters(year=2019, month=7, day=10, n_clusters=5, metric='euclidean', df=True)\n",
    "df_clusters = estimate_som_clusters(year=2019, month=1,  day=30, som_x=2, som_y=3, sigma=1, learning_rate = 0.5, df=True)\n",
    "df_clusters['zip'] = df_clusters['GEOID20'].astype(int)\n",
    "\n",
    "df_data = pd.merge(df_clusters[['zip', 'Cluster']], df_comtime[['zip', 'Total']+cols_comtimes_perc], on='zip').dropna()\n",
    "df_data['Cluster_n'] = df_data['Cluster'].str[-1]#.astype(int)"
   ]
  },
  {
   "cell_type": "code",
   "execution_count": null,
   "outputs": [],
   "source": [
    "X = df_data[cols_comtimes_perc]\n",
    "y = df_data['Cluster_n']\n",
    "\n",
    "cols_numeric = []\n",
    "count_i = 0\n",
    "for col in X.columns:\n",
    "    df_data[f'{count_i}'] = df_data[col]\n",
    "    cols_numeric.append(f'{count_i}') \n",
    "    count_i += 1"
   ],
   "metadata": {
    "collapsed": false
   }
  },
  {
   "cell_type": "code",
   "execution_count": null,
   "metadata": {},
   "outputs": [],
   "source": [
    "\n",
    "le = LabelEncoder()\n"
   ]
  },
  {
   "cell_type": "code",
   "execution_count": null,
   "outputs": [],
   "source": [
    "X = df_data[cols_numeric]\n",
    "y = df_data['Cluster_n']\n",
    "\n",
    "X = df_data[cols_comtimes_perc]\n",
    "y = df_data['Cluster']\n",
    "\n",
    "X_train, X_test, y_train, y_test = train_test_split(X, y, test_size=0.3, random_state=1234, stratify=y)\n",
    "y_train = le.fit_transform(y_train)\n",
    "y_test = le.fit_transform(y_test)"
   ],
   "metadata": {
    "collapsed": false
   }
  },
  {
   "cell_type": "code",
   "execution_count": null,
   "metadata": {},
   "outputs": [],
   "source": [
    "bst = xgboost.XGBClassifier(n_estimators=60, max_depth=7, learning_rate=0.1, objective='multi:softmaxc')"
   ]
  },
  {
   "cell_type": "code",
   "execution_count": null,
   "metadata": {},
   "outputs": [],
   "source": [
    "bst.fit(X_train, y_train)\n",
    "bst.score(X_train, y_train)"
   ]
  },
  {
   "cell_type": "code",
   "execution_count": null,
   "metadata": {},
   "outputs": [],
   "source": [
    "bst.score(X_test, y_test)"
   ]
  },
  {
   "cell_type": "code",
   "execution_count": null,
   "metadata": {},
   "outputs": [],
   "source": [
    "explainer = shap.Explainer(bst, X_train)\n",
    "shap_values = explainer.shap_values(X_train)"
   ]
  },
  {
   "cell_type": "code",
   "execution_count": null,
   "metadata": {},
   "outputs": [],
   "source": [
    "xgboost.plot_importance(bst)"
   ]
  },
  {
   "cell_type": "code",
   "execution_count": null,
   "metadata": {},
   "outputs": [],
   "source": [
    "plotly_cm = ListedColormap(['#EF553B', '#19D3F3', '#FFA15A', '#AB63FA', '#00CC96', '#636EFA'], name='my_colormap_name')"
   ]
  },
  {
   "cell_type": "code",
   "execution_count": null,
   "metadata": {},
   "outputs": [],
   "source": [
    "show_cols = []\n",
    "for col in X_train.columns:\n",
    "    a = col.replace('_perc', ' %')\n",
    "    a = a.replace(' to ', '-')\n",
    "    a = a.replace('minutes ', 'min')\n",
    "    a = a.replace('Public transportation', 'PT:')\n",
    "    a = a.replace('Car, truck, or van', 'Car:')\n",
    "    a = a.replace('Walked', 'Walk:')\n",
    "    a = a.replace('Other', 'Other:')\n",
    "    a = a.replace('Less than 10', '<10')\n",
    "    a = a.replace('60 or more', '60<')\n",
    "    show_cols.append(a)"
   ]
  },
  {
   "cell_type": "code",
   "execution_count": null,
   "metadata": {},
   "outputs": [],
   "source": [
    "shap.summary_plot(shap_values, X_train, class_names=['Cluster 1', 'Cluster 2', 'Cluster 3', 'Cluster 4', 'Cluster 5', 'Cluster 6'], color=plotly_cm, feature_names=show_cols)"
   ]
  },
  {
   "cell_type": "code",
   "execution_count": null,
   "metadata": {},
   "outputs": [],
   "source": [
    "top_n = 8\n",
    "\n",
    "shap.summary_plot(shap_values[0], X_train.values, feature_names = show_cols, cmap=plt.get_cmap(\"cool_r\"), show=False, max_display=top_n)\n",
    "plt.title('Cluster 1', fontsize=20)\n",
    "plt.show()"
   ]
  },
  {
   "cell_type": "code",
   "execution_count": null,
   "metadata": {},
   "outputs": [],
   "source": [
    "shap.summary_plot(shap_values[1], X_train.values, feature_names = show_cols, cmap=plt.get_cmap(\"Reds\"), show=False, max_display=top_n)\n",
    "plt.title('Cluster 2', fontsize=20)\n",
    "plt.show()"
   ]
  },
  {
   "cell_type": "code",
   "execution_count": null,
   "metadata": {},
   "outputs": [],
   "source": [
    "shap.summary_plot(shap_values[2], X_train.values, feature_names = show_cols, cmap=plt.get_cmap(\"Greens\"), show=False, max_display=top_n)\n",
    "plt.title('Cluster 3', fontsize=20)\n",
    "plt.show()"
   ]
  },
  {
   "cell_type": "code",
   "execution_count": null,
   "metadata": {},
   "outputs": [],
   "source": [
    "shap.summary_plot(shap_values[3], X_train.values, feature_names = show_cols, cmap=plt.get_cmap(\"Purples\"), show=False, max_display=top_n)\n",
    "plt.title('Cluster 4', fontsize=20)\n",
    "plt.show()"
   ]
  },
  {
   "cell_type": "code",
   "execution_count": null,
   "metadata": {},
   "outputs": [],
   "source": [
    "shap.summary_plot(shap_values[4], X_train.values, feature_names = show_cols, cmap=plt.get_cmap(\"Oranges\"), show=False, max_display=top_n)\n",
    "plt.title('Cluster 5', fontsize=20)\n",
    "plt.show()"
   ]
  },
  {
   "cell_type": "code",
   "execution_count": null,
   "metadata": {},
   "outputs": [],
   "source": [
    "shap.summary_plot(shap_values[5], X_train.values, feature_names = show_cols, cmap=plt.get_cmap(\"Blues\"), show=False, max_display=top_n)\n",
    "plt.title('Cluster 6', fontsize=20)\n",
    "plt.show()"
   ]
  },
  {
   "cell_type": "code",
   "execution_count": null,
   "outputs": [],
   "source": [],
   "metadata": {
    "collapsed": false
   }
  }
 ],
 "metadata": {
  "kernelspec": {
   "display_name": "Python 3",
   "language": "python",
   "name": "python3"
  },
  "language_info": {
   "codemirror_mode": {
    "name": "ipython",
    "version": 3
   },
   "file_extension": ".py",
   "mimetype": "text/x-python",
   "name": "python",
   "nbconvert_exporter": "python",
   "pygments_lexer": "ipython3",
   "version": "3.10.9"
  },
  "orig_nbformat": 4
 },
 "nbformat": 4,
 "nbformat_minor": 2
}
