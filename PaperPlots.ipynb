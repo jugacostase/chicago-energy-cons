{
 "cells": [
  {
   "cell_type": "code",
   "execution_count": null,
   "metadata": {},
   "outputs": [],
   "source": [
    "import os\n",
    "import re\n",
    "import glob\n",
    "import math\n",
    "import numpy as np\n",
    "import pandas as pd\n",
    "import matplotlib.pyplot as plt\n",
    "\n",
    "import matplotlib.dates as mdates\n",
    "import matplotlib.ticker as ticker\n",
    "\n",
    "from matplotlib import cm\n",
    "\n",
    "from models import estimate_knn_clusters, estimate_som_clusters, prepare_whole_year, prepare_TS\n",
    "from utils.utils import generate_filename\n",
    "\n",
    "from tslearn.clustering import TimeSeriesKMeans, silhouette_score\n",
    "from IPython.display import clear_output\n",
    "\n",
    "\n",
    "from tslearn.barycenters import dtw_barycenter_averaging\n",
    "\n",
    "import datetime\n",
    "\n",
    "import geopandas as gpd\n",
    "\n",
    "import plotly.express as px\n",
    "\n",
    "px.set_mapbox_access_token(\"pk.eyJ1IjoiamdhY29zdGFzIiwiYSI6ImNsYWJwd3g1ZDAwaGUzb3Q0ZG04NDNndGgifQ.brk6kVA6biVSH0ovZ1dreA\")"
   ]
  },
  {
   "cell_type": "code",
   "execution_count": null,
   "metadata": {},
   "outputs": [],
   "source": [
    "year=2019\n",
    "df_total = pd.DataFrame()\n",
    "for month in range(1, 13):\n",
    "    if month < 10:\n",
    "        file = f'{year}0{month}'\n",
    "    else:\n",
    "        file = f'{year}{month}'\n",
    "    df_data = pd.read_csv(f'data/comed_month/comed_{file}.csv')\n",
    "        # Filtering to get only residential accounts\n",
    "    df_data = df_data[df_data.service_name.str.contains('RESIDENTIAL')]\n",
    "    df_data['date_time'] = pd.to_datetime(df_data.date_time)\n",
    "    # Getting only the desired day of the month\n",
    "    df_data['date_time'] = df_data['date_time'].dt.month\n",
    "    # Grouping observations at the zipcode level\n",
    "    df_data = df_data.groupby(['zip5', 'date_time']).energy.sum().reset_index()\n",
    "    df_total = pd.concat([df_total, df_data])\n",
    "\n",
    "df_data = df_total\n",
    "df_data = df_data.groupby(['zip5', 'date_time']).energy.sum().reset_index()"
   ]
  },
  {
   "cell_type": "code",
   "execution_count": null,
   "metadata": {},
   "outputs": [],
   "source": [
    "df_data['year'] = 2019"
   ]
  },
  {
   "cell_type": "code",
   "execution_count": null,
   "metadata": {},
   "outputs": [],
   "source": [
    "df_acs = pd.read_csv('data/census/Census_Clean_Zip5_IL_Sex_Age_Ethnicity_2018.csv')\n",
    "dict_names = dict(zip(df_acs.columns, df_acs.loc[0].values))\n",
    "df_acs = df_acs.drop(0)\n",
    "df_acs['zip5'] = df_acs.NAME.str[6:]\n",
    "df_acs['zip5'] = df_acs['zip5'].astype(int)"
   ]
  },
  {
   "cell_type": "code",
   "execution_count": null,
   "metadata": {},
   "outputs": [],
   "source": [
    "pd.merge(df_data, df_acs[['zip5', 'DP05_0001E']], on='zip5').rename(columns={'date_time': 'month', 'DP05_0001E': 'population'})[['zip5', 'year', 'month', 'population','energy']].to_csv('2019_COMED_zipcode5_consumption.csv', index=False)"
   ]
  },
  {
   "cell_type": "code",
   "execution_count": null,
   "metadata": {},
   "outputs": [],
   "source": [
    "df_data.rename(columns={'date_time': 'month'})[['zip5', 'year', 'month', 'energy']].to_csv('2019_COMED_zipcode5_consumption.csv', index=False)"
   ]
  },
  {
   "cell_type": "code",
   "execution_count": null,
   "metadata": {},
   "outputs": [],
   "source": [
    "year=2019\n",
    "month=4\n",
    "day=7\n",
    "n_clusters=4\n",
    "metric='euclidean'\n",
    "\n",
    "if month == None:\n",
    "    df_data, mySeries, namesofMySeries = prepare_whole_year(year)\n",
    "else:\n",
    "    df_data, mySeries, namesofMySeries = prepare_TS(year=year, month=month, day=day)\n",
    "\n",
    "best_n_cluster = n_clusters\n",
    "km = TimeSeriesKMeans(n_clusters=best_n_cluster, metric=metric, n_init=5, random_state=1234)\n",
    "labels = km.fit_predict(mySeries)\n",
    "filename = generate_filename(year, month, day)\n"
   ]
  },
  {
   "cell_type": "code",
   "execution_count": null,
   "metadata": {},
   "outputs": [],
   "source": [
    "for label in set(labels):\n",
    "    dates = df_data.date_time.unique()\n",
    "    fig, ax = plt.subplots(figsize=(12, 6))\n",
    "    for i in range(len(labels)):\n",
    "        if(labels[i]==label):\n",
    "            cluster = []\n",
    "            ax.plot(dates[1:], mySeries[i][1:],c=\"gray\",alpha=0.2)\n",
    "            cluster.append(mySeries[i])\n",
    "    if len(cluster) > 0:\n",
    "            ax.plot(dates[1:], dtw_barycenter_averaging(np.vstack(cluster))[1:],c=\"red\")\n",
    "\n",
    "    ax.xaxis.set_major_formatter(\n",
    "        mdates.ConciseDateFormatter(ax.xaxis.get_major_locator()))\n",
    "\n",
    "    ax.set_ylabel(r'Normalized energy consumption')\n",
    "    ax.grid(linewidth=0.25)\n",
    "    filename = generate_filename(year, month, day)\n",
    "    if day != None:\n",
    "         folder = 'day'\n",
    "    elif month != None:\n",
    "         folder = 'month'\n",
    "    else:\n",
    "         folder = 'year'\n",
    "    #fig.savefig(f'outputs/plots/{folder}/{filename}_TimeSeries_pattern_cluster{label+1}.png')"
   ]
  },
  {
   "attachments": {},
   "cell_type": "markdown",
   "metadata": {},
   "source": [
    "# Inertias plot"
   ]
  },
  {
   "cell_type": "code",
   "execution_count": null,
   "metadata": {},
   "outputs": [],
   "source": [
    "inertias_files = glob.glob('outputs/*plot.csv')\n",
    "inertias_file = inertias_files[-1]\n",
    "\n",
    "df = pd.read_csv(inertias_file)"
   ]
  },
  {
   "cell_type": "code",
   "execution_count": null,
   "metadata": {},
   "outputs": [],
   "source": [
    "colors = cm.get_cmap('Dark2')\n",
    "\n",
    "fig, ax = plt.subplots(figsize=(12, 6))\n",
    "df = pd.read_csv('outputs/2019_inertias_plot.csv')\n",
    "ax.plot(df['clusters'], df['scld_intertia_0.04'], label='2019', linestyle=\"-\",marker=\".\", color=colors(1))\n",
    "df = pd.read_csv('outputs/20191_inertias_plot.csv')\n",
    "ax.plot(df['clusters'], df['scld_intertia_0.04'], label='January 2019', linestyle=\"-\",marker=\".\", color=colors(2))\n",
    "df = pd.read_csv('outputs/20194_inertias_plot.csv')\n",
    "ax.plot(df['clusters'], df['scld_intertia_0.04'], label='April 2019', linestyle=\"-\",marker=\".\", color=colors(3))\n",
    "df = pd.read_csv('outputs/20197_inertias_plot.csv')\n",
    "ax.plot(df['clusters'], df['scld_intertia_0.04'], label='July 2019', linestyle=\"-\",marker=\".\", color=colors(4))\n",
    "ax.grid(linewidth=0.25)\n",
    "ax.legend()\n",
    "ax.set_ylabel('Inertia')\n",
    "ax.set_xlabel('Number of clusters')\n",
    "\n",
    "#fig.savefig(f'outputs/plots/year_month_elbow_plot.png')"
   ]
  },
  {
   "cell_type": "code",
   "execution_count": null,
   "metadata": {},
   "outputs": [],
   "source": [
    "colors = cm.get_cmap('Dark2')\n",
    "\n",
    "fig, ax = plt.subplots(figsize=(12, 6))\n",
    "df = pd.read_csv('outputs/2019130_inertias_plot.csv')\n",
    "ax.plot(df['clusters'], df['scld_intertia_0.04'], label='January 30th', linestyle=\"-\",marker=\".\", color=colors(1))\n",
    "df = pd.read_csv('outputs/201948_inertias_plot.csv')\n",
    "ax.plot(df['clusters'], df['scld_intertia_0.04'], label='April 8th', linestyle=\"-\",marker=\".\", color=colors(2))\n",
    "df = pd.read_csv('outputs/2019710_inertias_plot.csv')\n",
    "ax.plot(df['clusters'], df['scld_intertia_0.04'], label='July 10th', linestyle=\"-\",marker=\".\", color=colors(3))\n",
    "ax.grid(linewidth=0.25)\n",
    "ax.legend()\n",
    "ax.set_ylabel('Inertia')\n",
    "ax.set_xlabel('Number of clusters')\n",
    "\n",
    "fig.savefig(f'outputs/plots/workdays_elbow_plot.png')"
   ]
  },
  {
   "cell_type": "code",
   "execution_count": null,
   "metadata": {},
   "outputs": [],
   "source": [
    "colors = cm.get_cmap('Dark2')\n",
    "\n",
    "fig, ax = plt.subplots(figsize=(12, 6))\n",
    "df = pd.read_csv('outputs/2019126_inertias_plot.csv')\n",
    "ax.plot(df['clusters'], df['scld_intertia_0.04'], label='January 26th', linestyle=\"-\",marker=\".\", color=colors(1))\n",
    "df = pd.read_csv('outputs/201947_inertias_plot.csv')\n",
    "ax.plot(df['clusters'], df['scld_intertia_0.04'], label='April 7th', linestyle=\"-\",marker=\".\", color=colors(2))\n",
    "df = pd.read_csv('outputs/2019720_inertias_plot.csv')\n",
    "ax.plot(df['clusters'], df['scld_intertia_0.04'], label='July 20th', linestyle=\"-\",marker=\".\", color=colors(3))\n",
    "ax.grid(linewidth=0.25)\n",
    "ax.legend()\n",
    "ax.set_ylabel('Inertia')\n",
    "ax.set_xlabel('Number of clusters')\n",
    "\n",
    "fig.savefig(f'outputs/plots/weekends_elbow_plot.png')"
   ]
  },
  {
   "attachments": {},
   "cell_type": "markdown",
   "metadata": {},
   "source": [
    "Whole year: 2019\n",
    "Important months: January, July, April\n",
    "Week: July 15-21, January 28-Feb3, April 15-21\n",
    "Day: \n",
    "    work: January 30, July 10, 8 April\n",
    "    weekend: January 26, July 20, 7 April\n",
    "\n",
    "\n",
    "\n",
    "\n"
   ]
  },
  {
   "attachments": {},
   "cell_type": "markdown",
   "metadata": {},
   "source": [
    "# Maps"
   ]
  },
  {
   "cell_type": "code",
   "execution_count": null,
   "metadata": {},
   "outputs": [],
   "source": [
    "gdf_zc = gpd.read_file('data/geo/tl_2020_us_zcta520/tl_2020_us_zcta520.shp')\n",
    "gdf_zc['GEOID20'] = gdf_zc['GEOID20'].astype(str)\n"
   ]
  },
  {
   "cell_type": "code",
   "execution_count": null,
   "metadata": {},
   "outputs": [],
   "source": [
    "dict_runs = {\n",
    "    1: {'year': 2019, 'month':None, 'day':None, 'n_clusters':5, 'metric': 'euclidean', 'day_type': None},\n",
    "    2: {'year': 2019, 'month':1, 'day':None, 'n_clusters':5, 'metric': 'euclidean', 'day_type': None},\n",
    "    3: {'year': 2019, 'month':4, 'day':None, 'n_clusters':5, 'metric': 'euclidean', 'day_type': None},\n",
    "    4: {'year': 2019, 'month':7, 'day':None, 'n_clusters':6, 'metric': 'euclidean', 'day_type': None},\n",
    "    5: {'year': 2019, 'month':1, 'day':30, 'n_clusters':6, 'metric': 'euclidean', 'day_type': 'workday'},\n",
    "    6: {'year': 2019, 'month':4, 'day':8, 'n_clusters':5, 'metric': 'euclidean', 'day_type': 'workday'},\n",
    "    7: {'year': 2019, 'month':7, 'day':10, 'n_clusters':5, 'metric': 'euclidean', 'day_type': 'workday'},\n",
    "    8: {'year': 2019, 'month':1, 'day':26, 'n_clusters':5, 'metric': 'euclidean', 'day_type': 'weekend'},\n",
    "    9: {'year': 2019, 'month':4, 'day':7, 'n_clusters':4, 'metric': 'euclidean', 'day_type': 'weekend'},\n",
    "    10: {'year': 2019, 'month':7, 'day':20, 'n_clusters':6, 'metric': 'euclidean', 'day_type': 'weekend'}\n",
    "\n",
    "}\n",
    "\n",
    "'''\n",
    "Whole year: 2019\n",
    "Important months: January, July, April\n",
    "Week: July 15-21, January 28-Feb3, April 15-21\n",
    "Day: \n",
    "    work: January 30, 8 April, July 10\n",
    "    weekend: January 26, 7 April, July 20,\n",
    "'''"
   ]
  },
  {
   "cell_type": "code",
   "execution_count": null,
   "metadata": {},
   "outputs": [],
   "source": [
    "for key in dict_runs.keys():\n",
    "        print(key)\n",
    "        year=dict_runs[key]['year']\n",
    "        month=dict_runs[key]['month']\n",
    "        day=dict_runs[key]['day']\n",
    "        n_clusters=dict_runs[key]['n_clusters']\n",
    "        metric=dict_runs[key]['metric']\n",
    "\n",
    "        if month == None:\n",
    "                df_data, mySeries, namesofMySeries = prepare_whole_year(year)\n",
    "        else:\n",
    "                df_data, mySeries, namesofMySeries = prepare_TS(year=year, month=month, day=day)\n",
    "\n",
    "        best_n_cluster = n_clusters\n",
    "        km = TimeSeriesKMeans(n_clusters=best_n_cluster, metric=metric, n_init=5, random_state=1234)\n",
    "        labels = km.fit_predict(mySeries)\n",
    "        filename = generate_filename(year, month, day)\n",
    "\n",
    "        if day != None:\n",
    "                folder = 'day'\n",
    "        elif month != None:\n",
    "                folder = 'month'\n",
    "        else:\n",
    "                folder = 'year'\n",
    "\n",
    "        fancy_names_for_labels = [f\"Cluster {label+1}\" for label in labels]\n",
    "        df_labels = pd.DataFrame(zip(namesofMySeries,fancy_names_for_labels),columns=[\"zip5\",\"Cluster\"]).sort_values(by=\"Cluster\").set_index(\"zip5\").reset_index()\n",
    "        df_labels['zip5'] = df_labels.zip5.astype(str)\n",
    "        gdf_data = pd.merge(gdf_zc, df_labels, left_on='GEOID20', right_on='zip5')\n",
    "        gdf_data = gdf_data[['GEOID20', 'Cluster', 'geometry']]\n",
    "        df_labels.to_csv(f'outputs/clusters/{filename}.csv', index=False)\n",
    "        fig = px.choropleth_mapbox(gdf_data,\n",
    "                        geojson=gdf_data,\n",
    "                        featureidkey='properties.GEOID20',\n",
    "                        color=\"Cluster\",\n",
    "                        locations='GEOID20',\n",
    "                        width=1000,\n",
    "                        height=700,\n",
    "                        center={'lat':41.6, 'lon':-88.99},\n",
    "                        zoom=6,\n",
    "                        mapbox_style='carto-positron',\n",
    "                        opacity=0.65,\n",
    "                        )\n",
    "        fig.update_geos(fitbounds=\"locations\", visible=False)\n",
    "        fig.write_html(f'outputs/plots/{folder}/{filename}_map.html')"
   ]
  },
  {
   "attachments": {},
   "cell_type": "markdown",
   "metadata": {},
   "source": [
    "Whole year: 2019\n",
    "Important months: January, July, April\n",
    "Week: July 15-21, January 28-Feb3, April 15-21\n",
    "Day: \n",
    "    work: January 30, 8 April, July 10\n",
    "    weekend: January 26, 7 April, July 20,\n",
    "\n"
   ]
  },
  {
   "cell_type": "code",
   "execution_count": null,
   "metadata": {},
   "outputs": [],
   "source": [
    "fig = px.choropleth_mapbox(gdf_data,\n",
    "                   geojson=gdf_data,\n",
    "                   featureidkey='properties.GEOID20',\n",
    "                   color=\"Cluster\",\n",
    "                   locations='GEOID20',\n",
    "                   width=1000,\n",
    "                   height=700,\n",
    "                   center={'lat':41.6, 'lon':-88.99},\n",
    "                   zoom=6,\n",
    "                   mapbox_style='carto-positron',\n",
    "                   opacity=0.65,\n",
    "                   )\n",
    "fig.update_geos(fitbounds=\"locations\", visible=False)\n",
    "fig.write_html(f'outputs/plots/{folder}/{filename}_map.html')\n",
    "#fig.show()"
   ]
  }
 ],
 "metadata": {
  "kernelspec": {
   "display_name": "Python 3",
   "language": "python",
   "name": "python3"
  },
  "language_info": {
   "codemirror_mode": {
    "name": "ipython",
    "version": 3
   },
   "file_extension": ".py",
   "mimetype": "text/x-python",
   "name": "python",
   "nbconvert_exporter": "python",
   "pygments_lexer": "ipython3",
   "version": "3.10.9"
  },
  "orig_nbformat": 4
 },
 "nbformat": 4,
 "nbformat_minor": 2
}
