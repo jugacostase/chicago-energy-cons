{
 "cells": [
  {
   "cell_type": "code",
   "execution_count": 1,
   "id": "85a8baa3103b5a3f",
   "metadata": {
    "ExecuteTime": {
     "end_time": "2023-11-01T20:22:56.593188400Z",
     "start_time": "2023-11-01T20:22:56.550182Z"
    },
    "collapsed": true
   },
   "outputs": [],
   "source": [
    "import os\n",
    "\n",
    "import random\n",
    "from datetime import datetime\n",
    "import numpy as np\n",
    "import pandas as pd\n",
    "import geopandas as gpd\n",
    "import dask.dataframe as dd"
   ]
  },
  {
   "cell_type": "code",
   "execution_count": 2,
   "id": "initial_id",
   "metadata": {
    "ExecuteTime": {
     "end_time": "2023-11-01T20:22:58.724562600Z",
     "start_time": "2023-11-01T20:22:58.636542800Z"
    },
    "collapsed": false
   },
   "outputs": [
    {
     "data": {
      "application/javascript": "(function(root) {\n  function now() {\n    return new Date();\n  }\n\n  var force = true;\n  var py_version = '3.1.1'.replace('rc', '-rc.').replace('.dev', '-dev.');\n  var is_dev = py_version.indexOf(\"+\") !== -1 || py_version.indexOf(\"-\") !== -1;\n  var reloading = false;\n  var Bokeh = root.Bokeh;\n  var bokeh_loaded = Bokeh != null && (Bokeh.version === py_version || (Bokeh.versions !== undefined && Bokeh.versions.has(py_version)));\n\n  if (typeof (root._bokeh_timeout) === \"undefined\" || force) {\n    root._bokeh_timeout = Date.now() + 5000;\n    root._bokeh_failed_load = false;\n  }\n\n  function run_callbacks() {\n    try {\n      root._bokeh_onload_callbacks.forEach(function(callback) {\n        if (callback != null)\n          callback();\n      });\n    } finally {\n      delete root._bokeh_onload_callbacks;\n    }\n    console.debug(\"Bokeh: all callbacks have finished\");\n  }\n\n  function load_libs(css_urls, js_urls, js_modules, js_exports, callback) {\n    if (css_urls == null) css_urls = [];\n    if (js_urls == null) js_urls = [];\n    if (js_modules == null) js_modules = [];\n    if (js_exports == null) js_exports = {};\n\n    root._bokeh_onload_callbacks.push(callback);\n\n    if (root._bokeh_is_loading > 0) {\n      console.debug(\"Bokeh: BokehJS is being loaded, scheduling callback at\", now());\n      return null;\n    }\n    if (js_urls.length === 0 && js_modules.length === 0 && Object.keys(js_exports).length === 0) {\n      run_callbacks();\n      return null;\n    }\n    if (!reloading) {\n      console.debug(\"Bokeh: BokehJS not loaded, scheduling load and callback at\", now());\n    }\n\n    function on_load() {\n      root._bokeh_is_loading--;\n      if (root._bokeh_is_loading === 0) {\n        console.debug(\"Bokeh: all BokehJS libraries/stylesheets loaded\");\n        run_callbacks()\n      }\n    }\n    window._bokeh_on_load = on_load\n\n    function on_error() {\n      console.error(\"failed to load \" + url);\n    }\n\n    var skip = [];\n    if (window.requirejs) {\n      window.requirejs.config({'packages': {}, 'paths': {'jspanel': 'https://cdn.jsdelivr.net/npm/jspanel4@4.12.0/dist/jspanel', 'jspanel-modal': 'https://cdn.jsdelivr.net/npm/jspanel4@4.12.0/dist/extensions/modal/jspanel.modal', 'jspanel-tooltip': 'https://cdn.jsdelivr.net/npm/jspanel4@4.12.0/dist/extensions/tooltip/jspanel.tooltip', 'jspanel-hint': 'https://cdn.jsdelivr.net/npm/jspanel4@4.12.0/dist/extensions/hint/jspanel.hint', 'jspanel-layout': 'https://cdn.jsdelivr.net/npm/jspanel4@4.12.0/dist/extensions/layout/jspanel.layout', 'jspanel-contextmenu': 'https://cdn.jsdelivr.net/npm/jspanel4@4.12.0/dist/extensions/contextmenu/jspanel.contextmenu', 'jspanel-dock': 'https://cdn.jsdelivr.net/npm/jspanel4@4.12.0/dist/extensions/dock/jspanel.dock', 'gridstack': 'https://cdn.jsdelivr.net/npm/gridstack@7.2.3/dist/gridstack-all', 'notyf': 'https://cdn.jsdelivr.net/npm/notyf@3/notyf.min'}, 'shim': {'jspanel': {'exports': 'jsPanel'}, 'gridstack': {'exports': 'GridStack'}}});\n      require([\"jspanel\"], function(jsPanel) {\n\twindow.jsPanel = jsPanel\n\ton_load()\n      })\n      require([\"jspanel-modal\"], function() {\n\ton_load()\n      })\n      require([\"jspanel-tooltip\"], function() {\n\ton_load()\n      })\n      require([\"jspanel-hint\"], function() {\n\ton_load()\n      })\n      require([\"jspanel-layout\"], function() {\n\ton_load()\n      })\n      require([\"jspanel-contextmenu\"], function() {\n\ton_load()\n      })\n      require([\"jspanel-dock\"], function() {\n\ton_load()\n      })\n      require([\"gridstack\"], function(GridStack) {\n\twindow.GridStack = GridStack\n\ton_load()\n      })\n      require([\"notyf\"], function() {\n\ton_load()\n      })\n      root._bokeh_is_loading = css_urls.length + 9;\n    } else {\n      root._bokeh_is_loading = css_urls.length + js_urls.length + js_modules.length + Object.keys(js_exports).length;\n    }\n\n    var existing_stylesheets = []\n    var links = document.getElementsByTagName('link')\n    for (var i = 0; i < links.length; i++) {\n      var link = links[i]\n      if (link.href != null) {\n\texisting_stylesheets.push(link.href)\n      }\n    }\n    for (var i = 0; i < css_urls.length; i++) {\n      var url = css_urls[i];\n      if (existing_stylesheets.indexOf(url) !== -1) {\n\ton_load()\n\tcontinue;\n      }\n      const element = document.createElement(\"link\");\n      element.onload = on_load;\n      element.onerror = on_error;\n      element.rel = \"stylesheet\";\n      element.type = \"text/css\";\n      element.href = url;\n      console.debug(\"Bokeh: injecting link tag for BokehJS stylesheet: \", url);\n      document.body.appendChild(element);\n    }    if (((window['jsPanel'] !== undefined) && (!(window['jsPanel'] instanceof HTMLElement))) || window.requirejs) {\n      var urls = ['https://cdn.holoviz.org/panel/1.2.3/dist/bundled/floatpanel/jspanel4@4.12.0/dist/jspanel.js', 'https://cdn.holoviz.org/panel/1.2.3/dist/bundled/floatpanel/jspanel4@4.12.0/dist/extensions/modal/jspanel.modal.js', 'https://cdn.holoviz.org/panel/1.2.3/dist/bundled/floatpanel/jspanel4@4.12.0/dist/extensions/tooltip/jspanel.tooltip.js', 'https://cdn.holoviz.org/panel/1.2.3/dist/bundled/floatpanel/jspanel4@4.12.0/dist/extensions/hint/jspanel.hint.js', 'https://cdn.holoviz.org/panel/1.2.3/dist/bundled/floatpanel/jspanel4@4.12.0/dist/extensions/layout/jspanel.layout.js', 'https://cdn.holoviz.org/panel/1.2.3/dist/bundled/floatpanel/jspanel4@4.12.0/dist/extensions/contextmenu/jspanel.contextmenu.js', 'https://cdn.holoviz.org/panel/1.2.3/dist/bundled/floatpanel/jspanel4@4.12.0/dist/extensions/dock/jspanel.dock.js'];\n      for (var i = 0; i < urls.length; i++) {\n        skip.push(urls[i])\n      }\n    }    if (((window['GridStack'] !== undefined) && (!(window['GridStack'] instanceof HTMLElement))) || window.requirejs) {\n      var urls = ['https://cdn.holoviz.org/panel/1.2.3/dist/bundled/gridstack/gridstack@7.2.3/dist/gridstack-all.js'];\n      for (var i = 0; i < urls.length; i++) {\n        skip.push(urls[i])\n      }\n    }    if (((window['Notyf'] !== undefined) && (!(window['Notyf'] instanceof HTMLElement))) || window.requirejs) {\n      var urls = ['https://cdn.holoviz.org/panel/1.2.3/dist/bundled/notificationarea/notyf@3/notyf.min.js'];\n      for (var i = 0; i < urls.length; i++) {\n        skip.push(urls[i])\n      }\n    }    var existing_scripts = []\n    var scripts = document.getElementsByTagName('script')\n    for (var i = 0; i < scripts.length; i++) {\n      var script = scripts[i]\n      if (script.src != null) {\n\texisting_scripts.push(script.src)\n      }\n    }\n    for (var i = 0; i < js_urls.length; i++) {\n      var url = js_urls[i];\n      if (skip.indexOf(url) !== -1 || existing_scripts.indexOf(url) !== -1) {\n\tif (!window.requirejs) {\n\t  on_load();\n\t}\n\tcontinue;\n      }\n      var element = document.createElement('script');\n      element.onload = on_load;\n      element.onerror = on_error;\n      element.async = false;\n      element.src = url;\n      console.debug(\"Bokeh: injecting script tag for BokehJS library: \", url);\n      document.head.appendChild(element);\n    }\n    for (var i = 0; i < js_modules.length; i++) {\n      var url = js_modules[i];\n      if (skip.indexOf(url) !== -1 || existing_scripts.indexOf(url) !== -1) {\n\tif (!window.requirejs) {\n\t  on_load();\n\t}\n\tcontinue;\n      }\n      var element = document.createElement('script');\n      element.onload = on_load;\n      element.onerror = on_error;\n      element.async = false;\n      element.src = url;\n      element.type = \"module\";\n      console.debug(\"Bokeh: injecting script tag for BokehJS library: \", url);\n      document.head.appendChild(element);\n    }\n    for (const name in js_exports) {\n      var url = js_exports[name];\n      if (skip.indexOf(url) >= 0 || root[name] != null) {\n\tif (!window.requirejs) {\n\t  on_load();\n\t}\n\tcontinue;\n      }\n      var element = document.createElement('script');\n      element.onerror = on_error;\n      element.async = false;\n      element.type = \"module\";\n      console.debug(\"Bokeh: injecting script tag for BokehJS library: \", url);\n      element.textContent = `\n      import ${name} from \"${url}\"\n      window.${name} = ${name}\n      window._bokeh_on_load()\n      `\n      document.head.appendChild(element);\n    }\n    if (!js_urls.length && !js_modules.length) {\n      on_load()\n    }\n  };\n\n  function inject_raw_css(css) {\n    const element = document.createElement(\"style\");\n    element.appendChild(document.createTextNode(css));\n    document.body.appendChild(element);\n  }\n\n  var js_urls = [\"https://cdn.bokeh.org/bokeh/release/bokeh-3.1.1.min.js\", \"https://cdn.bokeh.org/bokeh/release/bokeh-gl-3.1.1.min.js\", \"https://cdn.bokeh.org/bokeh/release/bokeh-widgets-3.1.1.min.js\", \"https://cdn.bokeh.org/bokeh/release/bokeh-tables-3.1.1.min.js\", \"https://cdn.holoviz.org/panel/1.2.3/dist/panel.min.js\"];\n  var js_modules = [];\n  var js_exports = {};\n  var css_urls = [];\n  var inline_js = [    function(Bokeh) {\n      Bokeh.set_log_level(\"info\");\n    },\nfunction(Bokeh) {} // ensure no trailing comma for IE\n  ];\n\n  function run_inline_js() {\n    if ((root.Bokeh !== undefined) || (force === true)) {\n      for (var i = 0; i < inline_js.length; i++) {\n        inline_js[i].call(root, root.Bokeh);\n      }\n      // Cache old bokeh versions\n      if (Bokeh != undefined && !reloading) {\n\tvar NewBokeh = root.Bokeh;\n\tif (Bokeh.versions === undefined) {\n\t  Bokeh.versions = new Map();\n\t}\n\tif (NewBokeh.version !== Bokeh.version) {\n\t  Bokeh.versions.set(NewBokeh.version, NewBokeh)\n\t}\n\troot.Bokeh = Bokeh;\n      }} else if (Date.now() < root._bokeh_timeout) {\n      setTimeout(run_inline_js, 100);\n    } else if (!root._bokeh_failed_load) {\n      console.log(\"Bokeh: BokehJS failed to load within specified timeout.\");\n      root._bokeh_failed_load = true;\n    }\n    root._bokeh_is_initializing = false\n  }\n\n  function load_or_wait() {\n    // Implement a backoff loop that tries to ensure we do not load multiple\n    // versions of Bokeh and its dependencies at the same time.\n    // In recent versions we use the root._bokeh_is_initializing flag\n    // to determine whether there is an ongoing attempt to initialize\n    // bokeh, however for backward compatibility we also try to ensure\n    // that we do not start loading a newer (Panel>=1.0 and Bokeh>3) version\n    // before older versions are fully initialized.\n    if (root._bokeh_is_initializing && Date.now() > root._bokeh_timeout) {\n      root._bokeh_is_initializing = false;\n      root._bokeh_onload_callbacks = undefined;\n      console.log(\"Bokeh: BokehJS was loaded multiple times but one version failed to initialize.\");\n      load_or_wait();\n    } else if (root._bokeh_is_initializing || (typeof root._bokeh_is_initializing === \"undefined\" && root._bokeh_onload_callbacks !== undefined)) {\n      setTimeout(load_or_wait, 100);\n    } else {\n      Bokeh = root.Bokeh;\n      bokeh_loaded = Bokeh != null && (Bokeh.version === py_version || (Bokeh.versions !== undefined && Bokeh.versions.has(py_version)));\n      root._bokeh_is_initializing = true\n      root._bokeh_onload_callbacks = []\n      if (!reloading && (!bokeh_loaded || is_dev)) {\n\troot.Bokeh = undefined;\n      }\n      load_libs(css_urls, js_urls, js_modules, js_exports, function() {\n\tconsole.debug(\"Bokeh: BokehJS plotting callback run at\", now());\n\trun_inline_js();\n      });\n    }\n  }\n  // Give older versions of the autoload script a head-start to ensure\n  // they initialize before we start loading newer version.\n  setTimeout(load_or_wait, 100)\n}(window));",
      "application/vnd.holoviews_load.v0+json": ""
     },
     "metadata": {},
     "output_type": "display_data"
    },
    {
     "data": {
      "application/javascript": "\nif ((window.PyViz === undefined) || (window.PyViz instanceof HTMLElement)) {\n  window.PyViz = {comms: {}, comm_status:{}, kernels:{}, receivers: {}, plot_index: []}\n}\n\n\n    function JupyterCommManager() {\n    }\n\n    JupyterCommManager.prototype.register_target = function(plot_id, comm_id, msg_handler) {\n      if (window.comm_manager || ((window.Jupyter !== undefined) && (Jupyter.notebook.kernel != null))) {\n        var comm_manager = window.comm_manager || Jupyter.notebook.kernel.comm_manager;\n        comm_manager.register_target(comm_id, function(comm) {\n          comm.on_msg(msg_handler);\n        });\n      } else if ((plot_id in window.PyViz.kernels) && (window.PyViz.kernels[plot_id])) {\n        window.PyViz.kernels[plot_id].registerCommTarget(comm_id, function(comm) {\n          comm.onMsg = msg_handler;\n        });\n      } else if (typeof google != 'undefined' && google.colab.kernel != null) {\n        google.colab.kernel.comms.registerTarget(comm_id, (comm) => {\n          var messages = comm.messages[Symbol.asyncIterator]();\n          function processIteratorResult(result) {\n            var message = result.value;\n            console.log(message)\n            var content = {data: message.data, comm_id};\n            var buffers = []\n            for (var buffer of message.buffers || []) {\n              buffers.push(new DataView(buffer))\n            }\n            var metadata = message.metadata || {};\n            var msg = {content, buffers, metadata}\n            msg_handler(msg);\n            return messages.next().then(processIteratorResult);\n          }\n          return messages.next().then(processIteratorResult);\n        })\n      }\n    }\n\n    JupyterCommManager.prototype.get_client_comm = function(plot_id, comm_id, msg_handler) {\n      if (comm_id in window.PyViz.comms) {\n        return window.PyViz.comms[comm_id];\n      } else if (window.comm_manager || ((window.Jupyter !== undefined) && (Jupyter.notebook.kernel != null))) {\n        var comm_manager = window.comm_manager || Jupyter.notebook.kernel.comm_manager;\n        var comm = comm_manager.new_comm(comm_id, {}, {}, {}, comm_id);\n        if (msg_handler) {\n          comm.on_msg(msg_handler);\n        }\n      } else if ((plot_id in window.PyViz.kernels) && (window.PyViz.kernels[plot_id])) {\n        var comm = window.PyViz.kernels[plot_id].connectToComm(comm_id);\n        comm.open();\n        if (msg_handler) {\n          comm.onMsg = msg_handler;\n        }\n      } else if (typeof google != 'undefined' && google.colab.kernel != null) {\n        var comm_promise = google.colab.kernel.comms.open(comm_id)\n        comm_promise.then((comm) => {\n          window.PyViz.comms[comm_id] = comm;\n          if (msg_handler) {\n            var messages = comm.messages[Symbol.asyncIterator]();\n            function processIteratorResult(result) {\n              var message = result.value;\n              var content = {data: message.data};\n              var metadata = message.metadata || {comm_id};\n              var msg = {content, metadata}\n              msg_handler(msg);\n              return messages.next().then(processIteratorResult);\n            }\n            return messages.next().then(processIteratorResult);\n          }\n        }) \n        var sendClosure = (data, metadata, buffers, disposeOnDone) => {\n          return comm_promise.then((comm) => {\n            comm.send(data, metadata, buffers, disposeOnDone);\n          });\n        };\n        var comm = {\n          send: sendClosure\n        };\n      }\n      window.PyViz.comms[comm_id] = comm;\n      return comm;\n    }\n    window.PyViz.comm_manager = new JupyterCommManager();\n    \n\n\nvar JS_MIME_TYPE = 'application/javascript';\nvar HTML_MIME_TYPE = 'text/html';\nvar EXEC_MIME_TYPE = 'application/vnd.holoviews_exec.v0+json';\nvar CLASS_NAME = 'output';\n\n/**\n * Render data to the DOM node\n */\nfunction render(props, node) {\n  var div = document.createElement(\"div\");\n  var script = document.createElement(\"script\");\n  node.appendChild(div);\n  node.appendChild(script);\n}\n\n/**\n * Handle when a new output is added\n */\nfunction handle_add_output(event, handle) {\n  var output_area = handle.output_area;\n  var output = handle.output;\n  if ((output.data == undefined) || (!output.data.hasOwnProperty(EXEC_MIME_TYPE))) {\n    return\n  }\n  var id = output.metadata[EXEC_MIME_TYPE][\"id\"];\n  var toinsert = output_area.element.find(\".\" + CLASS_NAME.split(' ')[0]);\n  if (id !== undefined) {\n    var nchildren = toinsert.length;\n    var html_node = toinsert[nchildren-1].children[0];\n    html_node.innerHTML = output.data[HTML_MIME_TYPE];\n    var scripts = [];\n    var nodelist = html_node.querySelectorAll(\"script\");\n    for (var i in nodelist) {\n      if (nodelist.hasOwnProperty(i)) {\n        scripts.push(nodelist[i])\n      }\n    }\n\n    scripts.forEach( function (oldScript) {\n      var newScript = document.createElement(\"script\");\n      var attrs = [];\n      var nodemap = oldScript.attributes;\n      for (var j in nodemap) {\n        if (nodemap.hasOwnProperty(j)) {\n          attrs.push(nodemap[j])\n        }\n      }\n      attrs.forEach(function(attr) { newScript.setAttribute(attr.name, attr.value) });\n      newScript.appendChild(document.createTextNode(oldScript.innerHTML));\n      oldScript.parentNode.replaceChild(newScript, oldScript);\n    });\n    if (JS_MIME_TYPE in output.data) {\n      toinsert[nchildren-1].children[1].textContent = output.data[JS_MIME_TYPE];\n    }\n    output_area._hv_plot_id = id;\n    if ((window.Bokeh !== undefined) && (id in Bokeh.index)) {\n      window.PyViz.plot_index[id] = Bokeh.index[id];\n    } else {\n      window.PyViz.plot_index[id] = null;\n    }\n  } else if (output.metadata[EXEC_MIME_TYPE][\"server_id\"] !== undefined) {\n    var bk_div = document.createElement(\"div\");\n    bk_div.innerHTML = output.data[HTML_MIME_TYPE];\n    var script_attrs = bk_div.children[0].attributes;\n    for (var i = 0; i < script_attrs.length; i++) {\n      toinsert[toinsert.length - 1].childNodes[1].setAttribute(script_attrs[i].name, script_attrs[i].value);\n    }\n    // store reference to server id on output_area\n    output_area._bokeh_server_id = output.metadata[EXEC_MIME_TYPE][\"server_id\"];\n  }\n}\n\n/**\n * Handle when an output is cleared or removed\n */\nfunction handle_clear_output(event, handle) {\n  var id = handle.cell.output_area._hv_plot_id;\n  var server_id = handle.cell.output_area._bokeh_server_id;\n  if (((id === undefined) || !(id in PyViz.plot_index)) && (server_id !== undefined)) { return; }\n  var comm = window.PyViz.comm_manager.get_client_comm(\"hv-extension-comm\", \"hv-extension-comm\", function () {});\n  if (server_id !== null) {\n    comm.send({event_type: 'server_delete', 'id': server_id});\n    return;\n  } else if (comm !== null) {\n    comm.send({event_type: 'delete', 'id': id});\n  }\n  delete PyViz.plot_index[id];\n  if ((window.Bokeh !== undefined) & (id in window.Bokeh.index)) {\n    var doc = window.Bokeh.index[id].model.document\n    doc.clear();\n    const i = window.Bokeh.documents.indexOf(doc);\n    if (i > -1) {\n      window.Bokeh.documents.splice(i, 1);\n    }\n  }\n}\n\n/**\n * Handle kernel restart event\n */\nfunction handle_kernel_cleanup(event, handle) {\n  delete PyViz.comms[\"hv-extension-comm\"];\n  window.PyViz.plot_index = {}\n}\n\n/**\n * Handle update_display_data messages\n */\nfunction handle_update_output(event, handle) {\n  handle_clear_output(event, {cell: {output_area: handle.output_area}})\n  handle_add_output(event, handle)\n}\n\nfunction register_renderer(events, OutputArea) {\n  function append_mime(data, metadata, element) {\n    // create a DOM node to render to\n    var toinsert = this.create_output_subarea(\n    metadata,\n    CLASS_NAME,\n    EXEC_MIME_TYPE\n    );\n    this.keyboard_manager.register_events(toinsert);\n    // Render to node\n    var props = {data: data, metadata: metadata[EXEC_MIME_TYPE]};\n    render(props, toinsert[0]);\n    element.append(toinsert);\n    return toinsert\n  }\n\n  events.on('output_added.OutputArea', handle_add_output);\n  events.on('output_updated.OutputArea', handle_update_output);\n  events.on('clear_output.CodeCell', handle_clear_output);\n  events.on('delete.Cell', handle_clear_output);\n  events.on('kernel_ready.Kernel', handle_kernel_cleanup);\n\n  OutputArea.prototype.register_mime_type(EXEC_MIME_TYPE, append_mime, {\n    safe: true,\n    index: 0\n  });\n}\n\nif (window.Jupyter !== undefined) {\n  try {\n    var events = require('base/js/events');\n    var OutputArea = require('notebook/js/outputarea').OutputArea;\n    if (OutputArea.prototype.mime_types().indexOf(EXEC_MIME_TYPE) == -1) {\n      register_renderer(events, OutputArea);\n    }\n  } catch(err) {\n  }\n}\n",
      "application/vnd.holoviews_load.v0+json": ""
     },
     "metadata": {},
     "output_type": "display_data"
    },
    {
     "data": {
      "text/html": [
       "<style>*[data-root-id],\n",
       "*[data-root-id] > * {\n",
       "  box-sizing: border-box;\n",
       "  font-family: var(--jp-ui-font-family);\n",
       "  font-size: var(--jp-ui-font-size1);\n",
       "  color: var(--vscode-editor-foreground, var(--jp-ui-font-color1));\n",
       "}\n",
       "\n",
       "/* Override VSCode background color */\n",
       ".cell-output-ipywidget-background:has(\n",
       "    > .cell-output-ipywidget-background > .lm-Widget > *[data-root-id]\n",
       "  ),\n",
       ".cell-output-ipywidget-background:has(> .lm-Widget > *[data-root-id]) {\n",
       "  background-color: transparent !important;\n",
       "}\n",
       "</style>"
      ]
     },
     "metadata": {},
     "output_type": "display_data"
    },
    {
     "data": {
      "text/html": [
       "\n",
       "<div class=\"logo-block\">\n",
       "<img src='data:image/png;base64,iVBORw0KGgoAAAANSUhEUgAAAEAAAABACAYAAACqaXHeAAAABHNCSVQICAgIfAhkiAAAAAlwSFlz\n",
       "AAAB+wAAAfsBxc2miwAAABl0RVh0U29mdHdhcmUAd3d3Lmlua3NjYXBlLm9yZ5vuPBoAAA6zSURB\n",
       "VHic7ZtpeFRVmsf/5966taWqUlUJ2UioBBJiIBAwCZtog9IOgjqACsogKtqirT2ttt069nQ/zDzt\n",
       "tI4+CrJIREFaFgWhBXpUNhHZQoKBkIUASchWla1S+3ar7r1nPkDaCAnZKoQP/D7mnPOe9/xy76n3\n",
       "nFSAW9ziFoPFNED2LLK5wcyBDObkb8ZkxuaoSYlI6ZcOKq1eWFdedqNzGHQBk9RMEwFAASkk0Xw3\n",
       "ETacDNi2vtvc7L0ROdw0AjoSotQVkKSvHQz/wRO1lScGModBFbDMaNRN1A4tUBCS3lk7BWhQkgpD\n",
       "lG4852/+7DWr1R3uHAZVQDsbh6ZPN7CyxUrCzJMRouusj0ipRwD2uKm0Zn5d2dFwzX1TCGhnmdGo\n",
       "G62Nna+isiUqhkzuKrkQaJlPEv5mFl2fvGg2t/VnzkEV8F5ioioOEWkLG86fvbpthynjdhXYZziQ\n",
       "x1hC9J2NFyi8vCTt91Fh04KGip0AaG9zuCk2wQCVyoNU3Hjezee9bq92duzzTmxsRJoy+jEZZZYo\n",
       "GTKJ6SJngdJqAfRzpze0+jHreUtPc7gpBLQnIYK6BYp/uGhw9YK688eu7v95ysgshcg9qSLMo3JC\n",
       "4jqLKQFBgdKDPoQ+Pltb8dUyQLpeDjeVgI6EgLIQFT5tEl3rn2losHVsexbZ3EyT9wE1uGdkIPcy\n",
       "BGxn8QUq1QrA5nqW5i2tLqvrrM9NK6AdkVIvL9E9bZL/oyfMVd/jqvc8LylzRBKDJSzIExwhQzuL\n",
       "QYGQj4rHfFTc8mUdu3E7yoLtbTe9gI4EqVgVkug2i5+uXGo919ixbRog+3fTbQ8qJe4ZOYNfMoTI\n",
       "OoshUNosgO60AisX15aeI2PSIp5KiFLI9ubb1vV3Qb2ltwLakUCDAkWX7/nHKRmmGIl9VgYsUhJm\n",
       "2NXjKYADtM1ygne9QQDIXlk49FBstMKx66D1v4+XuQr7vqTe0VcBHQlRWiOCbmmSYe2SqtL6q5rJ\n",
       "zsTb7lKx3FKOYC4DoqyS/B5bvLPxvD9Qtf6saxYLQGJErmDOdOMr/zo96km1nElr8bmPOBwI9COv\n",
       "HnFPRIwmkSOv9kcAS4heRsidOkpeWBgZM+UBrTFAXNYL5Vf2ii9c1trNzpYdaoVil3WIc+wdk+gQ\n",
       "noie3ecCcxt9ITcLAPWt/laGEO/9U6PmzZkenTtsSMQ8uYywJVW+grCstAvCIaAdArAsIWkRDDs/\n",
       "KzLm2YcjY1Lv0UdW73HabE9n6V66cxSzfEmuJssTpKGVp+0vHq73FwL46eOjpMpbRAnNmJFrGJNu\n",
       "Ukf9Yrz+3rghiumCKNXXWPhLYcjxGsIpoCMsIRoFITkW8AuyM8jC1+/QLx4bozCEJIq38+1rtpR6\n",
       "V/yzb8eBlRb3fo5l783N0CWolAzJHaVNzkrTzlEp2bQ2q3TC5gn6wpnoQAmwSiGh2GitnTmVMc5O\n",
       "UyfKWUKCIsU7+fZDKwqdT6DDpvkzAX4/+AMFjk0tDp5GRXLpQ2MUmhgDp5gxQT8+Y7hyPsMi8uxF\n",
       "71H0oebujHALECjFKaW9Lm68n18wXp2kVzIcABytD5iXFzg+WVXkegpAsOOYziqo0OkK76GyquC3\n",
       "ltZAzMhhqlSNmmWTE5T6e3IN05ITFLM4GdN0vtZ3ob8Jh1NAKXFbm5PtLU/eqTSlGjkNAJjdgn/N\n",
       "aedXa0tdi7+t9G0FIF49rtMSEgAs1kDLkTPO7ebm4IUWeyh1bKomXqlgMG6kJmHcSM0clYLJ8XtR\n",
       "1GTnbV3F6I5wCGikAb402npp1h1s7LQUZZSMIfALFOuL3UUrfnS8+rez7v9qcold5tilgHbO1fjK\n",
       "9ubb17u9oshxzMiUBKXWqJNxd+fqb0tLVs4lILFnK71H0Ind7uiPgACVcFJlrb0tV6DzxqqTIhUM\n",
       "CwDf1/rrVhTa33/3pGPxJYdQ2l2cbgVcQSosdx8uqnDtbGjh9SlDVSMNWhlnilfqZk42Th2ZpLpf\n",
       "xrHec5e815zrr0dfBZSwzkZfqsv+1FS1KUknUwPARVvItfKUY+cn57yP7qv07UE3p8B2uhUwLk09\n",
       "e0SCOrK+hbdYHYLjRIl71wWzv9jpEoeOHhGRrJAzyEyNiJuUqX0g2sBN5kGK6y2Blp5M3lsB9Qh4\n",
       "y2Ja6x6+i0ucmKgwMATwhSjdUu49tKrQ/pvN5d53ml2CGwCmJipmKjgmyuaXzNeL2a0AkQ01Th5j\n",
       "2DktO3Jyk8f9vcOBQHV94OK+fPumJmvQHxJoWkaKWq9Vs+yUsbq0zGT1I4RgeH2b5wef7+c7bl8F\n",
       "eKgoHVVZa8ZPEORzR6sT1BzDUAD/d9F78e2Tzv99v8D+fLVTqAKAsbGamKey1Mt9Ann4eH3gTXTz\n",
       "idWtAJ8PQWOk7NzSeQn/OTHDuEikVF1R4z8BQCy+6D1aWRfY0tTGG2OM8rRoPaeIj5ZHzJxszElN\n",
       "VM8K8JS5WOfv8mzRnQAKoEhmt8gyPM4lU9SmBK1MCQBnW4KONT86v1hZ1PbwSXPw4JWussVjtH9Y\n",
       "NCoiL9UoH/6PSu8jFrfY2t36erQHXLIEakMi1SydmzB31h3GGXFDFNPaK8Rme9B79Ixrd0WN+1ij\n",
       "NRQ/doRmuFLBkHSTOm5GruG+pFjFdAmorG4IXH1Qua6ASniclfFtDYt+oUjKipPrCQB7QBQ2lrgP\n",
       "fFzm+9XWUtcqJ3/5vDLDpJ79XHZk3u8nGZ42qlj1+ydtbxysCezrydp6ugmipNJ7WBPB5tydY0jP\n",
       "HaVNzs3QzeE4ZpTbI+ZbnSFPbVOw9vsfnVvqWnirPyCNGD08IlqtYkh2hjZ5dErEQzoNm+6ykyOt\n",
       "Lt5/PQEuSRRKo22VkydK+vvS1XEKlhCJAnsqvcVvH7f/ZU2R67eXbMEGAMiIV5oWZWiWvz5Fv2xG\n",
       "sjqNJQRvn3Rs2lji/lNP19VjAQDgD7FHhujZB9OGqYxRkZxixgRDVlqS6uEOFaJUVu0rPFzctrnF\n",
       "JqijImVp8dEKVWyUXDk92zAuMZ6bFwpBU1HrOw6AdhQgUooChb0+ItMbWJitSo5Ws3IAOGEOtL53\n",
       "0vHZih9sC4vtofZ7Qu6523V/fmGcds1TY3V36pUsBwAbSlxnVh2xLfAD/IAIMDf7XYIkNmXfpp2l\n",
       "18rkAJAy9HKFaIr/qULkeQQKy9zf1JgDB2uaeFNGijo5QsUyacNUUTOnGO42xSnv4oOwpDi1zYkc\n",
       "efUc3I5Gk6PhyTuVKaOGyLUAYPGIoY9Pu/atL/L92+4q9wbflRJ2Trpm/jPjdBtfnqB/dIThcl8A\n",
       "KG7hbRuKnb8qsQsVvVlTrwQAQMUlf3kwJI24Z4JhPMtcfng5GcH49GsrxJpGvvHIaeem2ma+KSjQ\n",
       "lIwUdYyCY8j4dE1KzijNnIP2llF2wcXNnsoapw9XxsgYAl6k+KzUXbi2yP3KR2ecf6z3BFsBICdW\n",
       "nvnIaG3eHybqX7vbpEqUMT+9OL4Qpe8VON7dXuFd39v19FoAABRVePbGGuXTszO0P7tu6lghUonE\n",
       "llRdrhArLvmKdh9u29jcFiRRkfLUxBiFNiqSU9icoZQHo5mYBI1MBgBH6wMNb+U7Pnw337H4gi1Y\n",
       "ciWs+uks3Z9fztUvfzxTm9Ne8XXkvQLHNytOOZeiD4e0PgkAIAYCYknKUNUDSXEKzdWNpnil7r4p\n",
       "xqkjTarZMtk/K8TQ6Qve78qqvXurGwIJqcOUKfUWHsm8KGvxSP68YudXq4pcj39X49uOK2X142O0\n",
       "Tz5/u/7TVybqH0rSya6ZBwD21/gubbrgWdDgEOx9WUhfBaC2ibcEBYm7a7x+ukrBMNcEZggyR0TE\n",
       "T8zUPjikQ4VosQZbTpS4vqizBKvqmvjsqnpfzaZyx9JPiz1/bfGKdgD45XB1zoIMzYbfTdS/NClB\n",
       "Gct0USiY3YL/g0LHy/uq/Ef6uo5+n0R/vyhp17Klpge763f8rMu6YU/zrn2nml+2WtH+Z+5IAAFc\n",
       "2bUTdTDOSNa9+cQY7YLsOIXhevEkCvzph7a8laecz/Un/z4/Ae04XeL3UQb57IwU9ZDr9UuKVajv\n",
       "nxp1+1UVIo/LjztZkKH59fO3G/JemqCfmaCRqbqbd90ZZ8FfjtkfAyD0J/9+C2h1hDwsSxvGjNDc\n",
       "b4zk5NfrSwiQblLHzZhg+Jf4aPlUwpDqkQqa9nimbt1/TDH8OitGMaQnj+RJS6B1fbF7SY1TqO5v\n",
       "/v0WAADl1f7zokgS7s7VT2DZ7pegUjBM7mjtiDZbcN4j0YrHH0rXpCtY0qPX0cVL0rv5jv/ZXend\n",
       "0u/EESYBAFBU4T4Qa5TflZOhTe7pmKpaP8kCVUVw1+yhXfJWvn1P3hnXi33JsTN6PnP3hHZ8Z3/h\n",
       "aLHzmkNPuPj7Bc/F/Q38CwjTpSwQXgE4Vmwry9tpfq/ZFgqFMy4AVDtCvi8rvMvOmv0N4YwbVgEA\n",
       "sPM72/KVnzfspmH7HQGCRLG2yL1+z8XwvPcdCbsAANh+xPzstgMtxeGKt+6MK3/tacfvwhWvIwMi\n",
       "oKEBtm0H7W+UVfkc/Y1V0BhoPlDr/w1w/eu1vjIgAgDg22OtX6/eYfnEz/focrZTHAFR+PSs56/7\n",
       "q32nwpjazxgwAQCwcU/T62t3WL7r6/jVRa6/byp1rei+Z98ZUAEAhEPHPc8fKnTU9nbgtnOe8h0l\n",
       "9hcGIqmODLQAHCy2Xti6v/XNRivf43f4fFvIteu854+VHnR7q9tfBlwAAGz+pnndB9vM26UebAe8\n",
       "SLHujPOTPVW+rwY+sxskAAC2HrA8t2Vvc7ffP1r9o+vwR2dcr92InIAbKKC1FZ5tB1tf+/G8p8sv\n",
       "N/9Q5zd/XR34LYCwV5JdccMEAMDBk45DH243r/X4xGvqxFa/GNpS7n6rwOwNWwHVE26oAADYurf1\n",
       "zx/utOzt+DMKYM0p17YtZZ5VNzqfsB2HewG1WXE8PoZ7gOclbTIvynZf9JV+fqZtfgs/8F/Nu5rB\n",
       "EIBmJ+8QRMmpU7EzGRsf2FzuePqYRbzh/zE26EwdrT10f6r6o8HOYzCJB9Dpff8tbnGLG8L/A/WE\n",
       "roTBs2RqAAAAAElFTkSuQmCC'\n",
       "     style='height:25px; border-radius:12px; display: inline-block; float: left; vertical-align: middle'></img>\n",
       "\n",
       "\n",
       "  <img src='data:image/png;base64,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'\n",
       "       style='height:15px; border-radius:12px; display: inline-block; float: left'></img>\n",
       "  \n",
       "\n",
       "\n",
       "\n",
       "\n",
       "</div>\n"
      ]
     },
     "metadata": {},
     "output_type": "display_data"
    }
   ],
   "source": [
    "\n",
    "import holoviews as hv\n",
    "from holoviews import opts\n",
    "from holoviews.element.tiles import StamenTerrain\n",
    "hv.extension('bokeh')\n",
    "import datashader as ds\n",
    "from datashader import transfer_functions as tf\n",
    "from datashader.colors import Greys9\n",
    "import colorcet as cc\n",
    "\n",
    "\n",
    "from datashader.utils import export_image\n",
    "\n",
    "Greys9_r = list(reversed(Greys9))[:-2]\n",
    "\n",
    "from shapely.geometry import Point\n",
    "\n",
    "import imageio\n",
    "\n",
    "from PIL import Image\n",
    "from PIL import ImageFont\n",
    "from PIL import ImageDraw \n"
   ]
  },
  {
   "cell_type": "code",
   "execution_count": 5,
   "id": "84a62be2b8ec4050",
   "metadata": {
    "ExecuteTime": {
     "end_time": "2023-11-01T20:22:59.877626300Z",
     "start_time": "2023-11-01T20:22:59.580559300Z"
    },
    "collapsed": false
   },
   "outputs": [],
   "source": [
    "df = dd.read_parquet('../data/comed_day/2020_01_29.parquet')\n",
    "\n",
    "#df['date_time'] = '02/19/2020 ' + df.Time\n",
    "df['date_time'] = dd.to_datetime(df.date_time ,format='%m/%d/%Y %H%M')\n",
    "df['residential'] = 1\n",
    "df['residential'] = df.residential.where(df.service_name.str.contains('RESIDENTIAL'), 0)\n",
    "df['ZIP_CODE'] = df['zip5'].astype(int) \n",
    "\n",
    "#df = df.repartition(npartitions=20)"
   ]
  },
  {
   "cell_type": "code",
   "execution_count": 4,
   "id": "bdfb7a740fc46177",
   "metadata": {
    "ExecuteTime": {
     "end_time": "2023-10-31T22:23:37.241934700Z",
     "start_time": "2023-10-31T22:23:37.197929700Z"
    },
    "collapsed": false
   },
   "outputs": [],
   "source": [
    "df_accs = df.groupby(['n_acc', 'residential']).ZIP_CODE.first().reset_index()"
   ]
  },
  {
   "cell_type": "code",
   "execution_count": 5,
   "id": "e30edab6d19cbb54",
   "metadata": {
    "ExecuteTime": {
     "end_time": "2023-10-31T22:30:08.488526Z",
     "start_time": "2023-10-31T22:23:37.227932800Z"
    },
    "collapsed": false
   },
   "outputs": [],
   "source": [
    "df_land_z = gpd.read_file('../data/geo/landuse_zc.geojson')"
   ]
  },
  {
   "cell_type": "code",
   "execution_count": 6,
   "id": "19695ccd94dcab21",
   "metadata": {
    "ExecuteTime": {
     "end_time": "2023-10-31T22:30:08.513531400Z",
     "start_time": "2023-10-31T22:30:08.493531100Z"
    },
    "collapsed": false
   },
   "outputs": [],
   "source": [
    "df_land_z['zip5'] = df_land_z.zip5.astype(int)"
   ]
  },
  {
   "cell_type": "code",
   "execution_count": 7,
   "id": "9b31d2c3d0171f9e",
   "metadata": {
    "ExecuteTime": {
     "end_time": "2023-10-31T22:33:08.738854200Z",
     "start_time": "2023-10-31T22:30:08.511533200Z"
    },
    "collapsed": false
   },
   "outputs": [],
   "source": [
    "zipcodes = df.ZIP_CODE.unique().compute()"
   ]
  },
  {
   "cell_type": "code",
   "execution_count": 8,
   "id": "45a6ac062a81a5c4",
   "metadata": {
    "ExecuteTime": {
     "end_time": "2023-10-31T22:33:08.756858100Z",
     "start_time": "2023-10-31T22:33:08.743856Z"
    },
    "collapsed": false
   },
   "outputs": [],
   "source": [
    "df_points = dd.from_pandas(pd.DataFrame(), npartitions=2)"
   ]
  },
  {
   "cell_type": "code",
   "execution_count": 9,
   "id": "e655b6b53b4ec07b",
   "metadata": {
    "ExecuteTime": {
     "end_time": "2023-10-31T22:33:46.170736900Z",
     "start_time": "2023-10-31T22:33:08.761862600Z"
    },
    "collapsed": false
   },
   "outputs": [
    {
     "name": "stdout",
     "output_type": "stream",
     "text": [
      "1/485\n",
      "2/485\n",
      "3/485\n",
      "4/485\n",
      "5/485\n",
      "6/485\n",
      "7/485\n",
      "8/485\n",
      "9/485\n",
      "10/485\n",
      "11/485\n",
      "12/485\n",
      "13/485\n",
      "14/485\n",
      "15/485\n",
      "16/485\n",
      "17/485\n",
      "18/485\n",
      "19/485\n",
      "20/485\n",
      "21/485\n",
      "22/485\n",
      "23/485\n",
      "24/485\n",
      "25/485\n",
      "26/485\n",
      "27/485\n",
      "28/485\n",
      "29/485\n",
      "30/485\n",
      "31/485\n",
      "32/485\n",
      "33/485\n",
      "34/485\n",
      "35/485\n",
      "36/485\n",
      "37/485\n",
      "38/485\n",
      "39/485\n",
      "40/485\n",
      "41/485\n",
      "42/485\n",
      "43/485\n",
      "44/485\n",
      "45/485\n",
      "46/485\n",
      "47/485\n",
      "48/485\n",
      "49/485\n",
      "50/485\n",
      "51/485\n",
      "52/485\n",
      "53/485\n",
      "54/485\n",
      "55/485\n",
      "56/485\n",
      "57/485\n",
      "58/485\n",
      "59/485\n",
      "60/485\n",
      "61/485\n",
      "62/485\n",
      "63/485\n",
      "64/485\n",
      "65/485\n",
      "66/485\n",
      "67/485\n",
      "68/485\n",
      "69/485\n",
      "70/485\n",
      "71/485\n",
      "72/485\n",
      "73/485\n",
      "74/485\n",
      "75/485\n",
      "76/485\n",
      "77/485\n",
      "78/485\n",
      "79/485\n",
      "80/485\n",
      "81/485\n",
      "82/485\n",
      "83/485\n",
      "84/485\n",
      "85/485\n",
      "86/485\n",
      "87/485\n",
      "88/485\n",
      "89/485\n",
      "90/485\n",
      "91/485\n",
      "92/485\n",
      "93/485\n",
      "94/485\n",
      "95/485\n",
      "96/485\n",
      "97/485\n",
      "98/485\n",
      "99/485\n",
      "100/485\n",
      "101/485\n",
      "102/485\n",
      "103/485\n",
      "104/485\n",
      "105/485\n",
      "106/485\n",
      "107/485\n",
      "108/485\n",
      "109/485\n",
      "110/485\n",
      "111/485\n",
      "112/485\n",
      "113/485\n",
      "114/485\n",
      "115/485\n",
      "116/485\n",
      "117/485\n",
      "118/485\n",
      "119/485\n",
      "120/485\n",
      "121/485\n",
      "122/485\n",
      "123/485\n",
      "124/485\n",
      "125/485\n",
      "126/485\n",
      "127/485\n",
      "128/485\n",
      "129/485\n",
      "130/485\n",
      "131/485\n",
      "132/485\n",
      "133/485\n",
      "134/485\n",
      "135/485\n",
      "136/485\n",
      "137/485\n",
      "138/485\n",
      "139/485\n",
      "140/485\n",
      "141/485\n",
      "142/485\n",
      "143/485\n",
      "144/485\n",
      "145/485\n",
      "146/485\n",
      "147/485\n",
      "148/485\n",
      "149/485\n",
      "150/485\n",
      "151/485\n",
      "152/485\n",
      "153/485\n",
      "154/485\n",
      "155/485\n",
      "156/485\n",
      "157/485\n",
      "158/485\n",
      "159/485\n",
      "160/485\n",
      "161/485\n",
      "162/485\n",
      "163/485\n",
      "164/485\n",
      "165/485\n",
      "166/485\n",
      "167/485\n",
      "168/485\n",
      "169/485\n",
      "170/485\n",
      "171/485\n",
      "172/485\n",
      "173/485\n",
      "174/485\n",
      "175/485\n",
      "176/485\n",
      "177/485\n",
      "178/485\n",
      "179/485\n",
      "180/485\n",
      "181/485\n",
      "182/485\n",
      "183/485\n",
      "184/485\n",
      "185/485\n",
      "186/485\n",
      "187/485\n",
      "188/485\n",
      "189/485\n",
      "190/485\n",
      "191/485\n",
      "192/485\n",
      "193/485\n",
      "194/485\n",
      "195/485\n",
      "196/485\n",
      "197/485\n",
      "198/485\n",
      "199/485\n",
      "200/485\n",
      "201/485\n",
      "202/485\n",
      "203/485\n",
      "204/485\n",
      "205/485\n",
      "206/485\n",
      "207/485\n",
      "208/485\n",
      "209/485\n",
      "210/485\n",
      "211/485\n",
      "212/485\n",
      "213/485\n",
      "214/485\n",
      "215/485\n",
      "216/485\n",
      "217/485\n",
      "218/485\n",
      "219/485\n",
      "220/485\n",
      "221/485\n",
      "222/485\n",
      "223/485\n",
      "224/485\n",
      "225/485\n",
      "226/485\n",
      "227/485\n",
      "228/485\n",
      "229/485\n",
      "230/485\n",
      "231/485\n",
      "232/485\n",
      "233/485\n",
      "234/485\n",
      "235/485\n",
      "236/485\n",
      "237/485\n",
      "238/485\n",
      "239/485\n",
      "240/485\n",
      "241/485\n",
      "242/485\n",
      "243/485\n",
      "244/485\n",
      "245/485\n",
      "246/485\n",
      "247/485\n",
      "248/485\n",
      "249/485\n",
      "250/485\n",
      "251/485\n",
      "252/485\n",
      "253/485\n",
      "254/485\n",
      "255/485\n",
      "256/485\n",
      "257/485\n",
      "258/485\n",
      "259/485\n",
      "260/485\n",
      "261/485\n",
      "262/485\n",
      "263/485\n",
      "264/485\n",
      "265/485\n",
      "266/485\n",
      "267/485\n",
      "268/485\n",
      "269/485\n",
      "270/485\n",
      "271/485\n",
      "272/485\n",
      "273/485\n",
      "274/485\n",
      "275/485\n",
      "276/485\n",
      "277/485\n",
      "278/485\n",
      "279/485\n",
      "280/485\n",
      "281/485\n",
      "282/485\n",
      "283/485\n",
      "284/485\n",
      "285/485\n",
      "286/485\n",
      "287/485\n",
      "288/485\n",
      "289/485\n",
      "290/485\n",
      "291/485\n",
      "292/485\n",
      "293/485\n",
      "294/485\n",
      "295/485\n",
      "296/485\n",
      "297/485\n",
      "298/485\n",
      "299/485\n",
      "300/485\n",
      "301/485\n",
      "302/485\n",
      "303/485\n",
      "304/485\n",
      "305/485\n",
      "306/485\n",
      "307/485\n",
      "308/485\n",
      "309/485\n",
      "310/485\n",
      "311/485\n",
      "312/485\n",
      "313/485\n",
      "314/485\n",
      "315/485\n",
      "316/485\n",
      "317/485\n",
      "318/485\n",
      "319/485\n",
      "320/485\n",
      "321/485\n",
      "322/485\n",
      "323/485\n",
      "324/485\n",
      "325/485\n",
      "326/485\n",
      "327/485\n",
      "328/485\n",
      "329/485\n",
      "330/485\n",
      "331/485\n",
      "332/485\n",
      "333/485\n",
      "334/485\n",
      "335/485\n",
      "336/485\n",
      "337/485\n",
      "338/485\n",
      "339/485\n",
      "340/485\n",
      "341/485\n",
      "342/485\n",
      "343/485\n",
      "344/485\n",
      "345/485\n",
      "346/485\n",
      "347/485\n",
      "348/485\n",
      "349/485\n",
      "350/485\n",
      "351/485\n",
      "352/485\n",
      "353/485\n",
      "354/485\n",
      "355/485\n",
      "356/485\n",
      "357/485\n",
      "358/485\n",
      "359/485\n",
      "360/485\n",
      "361/485\n",
      "362/485\n",
      "363/485\n",
      "364/485\n",
      "365/485\n",
      "366/485\n",
      "367/485\n",
      "368/485\n",
      "369/485\n",
      "370/485\n",
      "371/485\n",
      "372/485\n",
      "373/485\n",
      "374/485\n",
      "375/485\n",
      "376/485\n",
      "377/485\n",
      "378/485\n",
      "379/485\n",
      "380/485\n",
      "381/485\n",
      "382/485\n",
      "383/485\n",
      "384/485\n",
      "385/485\n",
      "386/485\n",
      "387/485\n",
      "388/485\n",
      "389/485\n",
      "390/485\n",
      "391/485\n",
      "392/485\n",
      "393/485\n",
      "394/485\n",
      "395/485\n",
      "396/485\n",
      "397/485\n",
      "398/485\n",
      "399/485\n",
      "400/485\n",
      "401/485\n",
      "402/485\n",
      "403/485\n",
      "404/485\n",
      "405/485\n",
      "406/485\n",
      "407/485\n",
      "408/485\n",
      "409/485\n",
      "410/485\n",
      "411/485\n",
      "412/485\n",
      "413/485\n",
      "414/485\n",
      "415/485\n",
      "416/485\n",
      "417/485\n",
      "418/485\n",
      "419/485\n",
      "420/485\n",
      "421/485\n",
      "422/485\n",
      "423/485\n",
      "424/485\n",
      "425/485\n",
      "426/485\n",
      "427/485\n",
      "428/485\n",
      "429/485\n",
      "430/485\n",
      "431/485\n",
      "432/485\n",
      "433/485\n",
      "434/485\n",
      "435/485\n",
      "436/485\n",
      "437/485\n",
      "438/485\n",
      "439/485\n",
      "440/485\n",
      "441/485\n",
      "442/485\n",
      "443/485\n",
      "444/485\n",
      "445/485\n",
      "446/485\n",
      "447/485\n",
      "448/485\n",
      "449/485\n",
      "450/485\n",
      "451/485\n",
      "452/485\n",
      "453/485\n",
      "454/485\n",
      "455/485\n",
      "456/485\n",
      "457/485\n",
      "458/485\n",
      "459/485\n",
      "460/485\n",
      "461/485\n",
      "462/485\n",
      "463/485\n",
      "464/485\n",
      "465/485\n",
      "466/485\n",
      "467/485\n",
      "468/485\n",
      "469/485\n",
      "470/485\n",
      "471/485\n",
      "472/485\n",
      "473/485\n",
      "474/485\n",
      "475/485\n",
      "476/485\n",
      "477/485\n",
      "478/485\n",
      "479/485\n",
      "480/485\n",
      "481/485\n",
      "482/485\n",
      "483/485\n",
      "484/485\n",
      "485/485\n"
     ]
    }
   ],
   "source": [
    "i = 0\n",
    "N = len(zipcodes)\n",
    "for zipcode in zipcodes:\n",
    "    i += 1\n",
    "    print(f'{i}/{N}')\n",
    "    df_i = df[df.ZIP_CODE==zipcode].groupby(['n_acc', 'residential']).ZIP_CODE.first().reset_index()\n",
    "    df_assings = dd.merge(df_i, df_land_z[['id', 'zip5', 'residential']], \n",
    "                                                left_on=['ZIP_CODE', 'residential'], right_on=['zip5', 'residential'])\n",
    "    df_assings = df_assings.sample(frac=1).reset_index(drop=True)\n",
    "    df_assings = df_assings.groupby('n_acc').id.first().reset_index()\n",
    "    df_points = dd.concat([df_points, df_assings])\n",
    "    \n",
    "    "
   ]
  },
  {
   "cell_type": "code",
   "execution_count": 10,
   "id": "d658a8534db56cba",
   "metadata": {
    "ExecuteTime": {
     "end_time": "2023-10-31T22:33:46.212748200Z",
     "start_time": "2023-10-31T22:33:46.173741200Z"
    },
    "collapsed": false
   },
   "outputs": [],
   "source": [
    "df_points  = df_points.repartition(npartitions=1000)"
   ]
  },
  {
   "cell_type": "code",
   "execution_count": 14,
   "id": "b2d2fc93ade0c645",
   "metadata": {
    "ExecuteTime": {
     "end_time": "2023-10-31T22:44:54.512198900Z",
     "start_time": "2023-10-31T22:44:21.139829Z"
    },
    "collapsed": false
   },
   "outputs": [
    {
     "ename": "ArrowMemoryError",
     "evalue": "malloc of size 134217728 failed",
     "output_type": "error",
     "traceback": [
      "\u001b[1;31m---------------------------------------------------------------------------\u001b[0m",
      "\u001b[1;31mArrowMemoryError\u001b[0m                          Traceback (most recent call last)",
      "Cell \u001b[1;32mIn[14], line 1\u001b[0m\n\u001b[1;32m----> 1\u001b[0m \u001b[43mdf_points\u001b[49m\u001b[38;5;241;43m.\u001b[39;49m\u001b[43mshape\u001b[49m\u001b[43m[\u001b[49m\u001b[38;5;241;43m0\u001b[39;49m\u001b[43m]\u001b[49m\u001b[38;5;241;43m.\u001b[39;49m\u001b[43mcompute\u001b[49m\u001b[43m(\u001b[49m\u001b[43m)\u001b[49m\n",
      "File \u001b[1;32mJ:\\PhD\\Projects\\chicago-energy-cons\\env\\lib\\site-packages\\dask\\base.py:342\u001b[0m, in \u001b[0;36mDaskMethodsMixin.compute\u001b[1;34m(self, **kwargs)\u001b[0m\n\u001b[0;32m    318\u001b[0m \u001b[38;5;28;01mdef\u001b[39;00m \u001b[38;5;21mcompute\u001b[39m(\u001b[38;5;28mself\u001b[39m, \u001b[38;5;241m*\u001b[39m\u001b[38;5;241m*\u001b[39mkwargs):\n\u001b[0;32m    319\u001b[0m \u001b[38;5;250m    \u001b[39m\u001b[38;5;124;03m\"\"\"Compute this dask collection\u001b[39;00m\n\u001b[0;32m    320\u001b[0m \n\u001b[0;32m    321\u001b[0m \u001b[38;5;124;03m    This turns a lazy Dask collection into its in-memory equivalent.\u001b[39;00m\n\u001b[1;32m   (...)\u001b[0m\n\u001b[0;32m    340\u001b[0m \u001b[38;5;124;03m    dask.compute\u001b[39;00m\n\u001b[0;32m    341\u001b[0m \u001b[38;5;124;03m    \"\"\"\u001b[39;00m\n\u001b[1;32m--> 342\u001b[0m     (result,) \u001b[38;5;241m=\u001b[39m compute(\u001b[38;5;28mself\u001b[39m, traverse\u001b[38;5;241m=\u001b[39m\u001b[38;5;28;01mFalse\u001b[39;00m, \u001b[38;5;241m*\u001b[39m\u001b[38;5;241m*\u001b[39mkwargs)\n\u001b[0;32m    343\u001b[0m     \u001b[38;5;28;01mreturn\u001b[39;00m result\n",
      "File \u001b[1;32mJ:\\PhD\\Projects\\chicago-energy-cons\\env\\lib\\site-packages\\dask\\base.py:628\u001b[0m, in \u001b[0;36mcompute\u001b[1;34m(traverse, optimize_graph, scheduler, get, *args, **kwargs)\u001b[0m\n\u001b[0;32m    625\u001b[0m     postcomputes\u001b[38;5;241m.\u001b[39mappend(x\u001b[38;5;241m.\u001b[39m__dask_postcompute__())\n\u001b[0;32m    627\u001b[0m \u001b[38;5;28;01mwith\u001b[39;00m shorten_traceback():\n\u001b[1;32m--> 628\u001b[0m     results \u001b[38;5;241m=\u001b[39m schedule(dsk, keys, \u001b[38;5;241m*\u001b[39m\u001b[38;5;241m*\u001b[39mkwargs)\n\u001b[0;32m    630\u001b[0m \u001b[38;5;28;01mreturn\u001b[39;00m repack([f(r, \u001b[38;5;241m*\u001b[39ma) \u001b[38;5;28;01mfor\u001b[39;00m r, (f, a) \u001b[38;5;129;01min\u001b[39;00m \u001b[38;5;28mzip\u001b[39m(results, postcomputes)])\n",
      "File \u001b[1;32mJ:\\PhD\\Projects\\chicago-energy-cons\\env\\lib\\site-packages\\dask\\dataframe\\io\\parquet\\core.py:96\u001b[0m, in \u001b[0;36mParquetFunctionWrapper.__call__\u001b[1;34m(self, part)\u001b[0m\n\u001b[0;32m     93\u001b[0m \u001b[38;5;28;01mif\u001b[39;00m \u001b[38;5;129;01mnot\u001b[39;00m \u001b[38;5;28misinstance\u001b[39m(part, \u001b[38;5;28mlist\u001b[39m):\n\u001b[0;32m     94\u001b[0m     part \u001b[38;5;241m=\u001b[39m [part]\n\u001b[1;32m---> 96\u001b[0m \u001b[38;5;28;01mreturn\u001b[39;00m \u001b[43mread_parquet_part\u001b[49m\u001b[43m(\u001b[49m\n\u001b[0;32m     97\u001b[0m \u001b[43m    \u001b[49m\u001b[38;5;28;43mself\u001b[39;49m\u001b[38;5;241;43m.\u001b[39;49m\u001b[43mfs\u001b[49m\u001b[43m,\u001b[49m\n\u001b[0;32m     98\u001b[0m \u001b[43m    \u001b[49m\u001b[38;5;28;43mself\u001b[39;49m\u001b[38;5;241;43m.\u001b[39;49m\u001b[43mengine\u001b[49m\u001b[43m,\u001b[49m\n\u001b[0;32m     99\u001b[0m \u001b[43m    \u001b[49m\u001b[38;5;28;43mself\u001b[39;49m\u001b[38;5;241;43m.\u001b[39;49m\u001b[43mmeta\u001b[49m\u001b[43m,\u001b[49m\n\u001b[0;32m    100\u001b[0m \u001b[43m    \u001b[49m\u001b[43m[\u001b[49m\n\u001b[0;32m    101\u001b[0m \u001b[43m        \u001b[49m\u001b[38;5;66;43;03m# Temporary workaround for HLG serialization bug\u001b[39;49;00m\n\u001b[0;32m    102\u001b[0m \u001b[43m        \u001b[49m\u001b[38;5;66;43;03m# (see: https://github.com/dask/dask/issues/8581)\u001b[39;49;00m\n\u001b[0;32m    103\u001b[0m \u001b[43m        \u001b[49m\u001b[43m(\u001b[49m\u001b[43mp\u001b[49m\u001b[38;5;241;43m.\u001b[39;49m\u001b[43mdata\u001b[49m\u001b[43m[\u001b[49m\u001b[38;5;124;43m\"\u001b[39;49m\u001b[38;5;124;43mpiece\u001b[39;49m\u001b[38;5;124;43m\"\u001b[39;49m\u001b[43m]\u001b[49m\u001b[43m,\u001b[49m\u001b[43m \u001b[49m\u001b[43mp\u001b[49m\u001b[38;5;241;43m.\u001b[39;49m\u001b[43mdata\u001b[49m\u001b[38;5;241;43m.\u001b[39;49m\u001b[43mget\u001b[49m\u001b[43m(\u001b[49m\u001b[38;5;124;43m\"\u001b[39;49m\u001b[38;5;124;43mkwargs\u001b[39;49m\u001b[38;5;124;43m\"\u001b[39;49m\u001b[43m,\u001b[49m\u001b[43m \u001b[49m\u001b[43m{\u001b[49m\u001b[43m}\u001b[49m\u001b[43m)\u001b[49m\u001b[43m)\u001b[49m\n\u001b[0;32m    104\u001b[0m \u001b[43m        \u001b[49m\u001b[38;5;28;43;01mif\u001b[39;49;00m\u001b[43m \u001b[49m\u001b[38;5;28;43mhasattr\u001b[39;49m\u001b[43m(\u001b[49m\u001b[43mp\u001b[49m\u001b[43m,\u001b[49m\u001b[43m \u001b[49m\u001b[38;5;124;43m\"\u001b[39;49m\u001b[38;5;124;43mdata\u001b[39;49m\u001b[38;5;124;43m\"\u001b[39;49m\u001b[43m)\u001b[49m\n\u001b[0;32m    105\u001b[0m \u001b[43m        \u001b[49m\u001b[38;5;28;43;01melse\u001b[39;49;00m\u001b[43m \u001b[49m\u001b[43m(\u001b[49m\u001b[43mp\u001b[49m\u001b[43m[\u001b[49m\u001b[38;5;124;43m\"\u001b[39;49m\u001b[38;5;124;43mpiece\u001b[39;49m\u001b[38;5;124;43m\"\u001b[39;49m\u001b[43m]\u001b[49m\u001b[43m,\u001b[49m\u001b[43m \u001b[49m\u001b[43mp\u001b[49m\u001b[38;5;241;43m.\u001b[39;49m\u001b[43mget\u001b[49m\u001b[43m(\u001b[49m\u001b[38;5;124;43m\"\u001b[39;49m\u001b[38;5;124;43mkwargs\u001b[39;49m\u001b[38;5;124;43m\"\u001b[39;49m\u001b[43m,\u001b[49m\u001b[43m \u001b[49m\u001b[43m{\u001b[49m\u001b[43m}\u001b[49m\u001b[43m)\u001b[49m\u001b[43m)\u001b[49m\n\u001b[0;32m    106\u001b[0m \u001b[43m        \u001b[49m\u001b[38;5;28;43;01mfor\u001b[39;49;00m\u001b[43m \u001b[49m\u001b[43mp\u001b[49m\u001b[43m \u001b[49m\u001b[38;5;129;43;01min\u001b[39;49;00m\u001b[43m \u001b[49m\u001b[43mpart\u001b[49m\n\u001b[0;32m    107\u001b[0m \u001b[43m    \u001b[49m\u001b[43m]\u001b[49m\u001b[43m,\u001b[49m\n\u001b[0;32m    108\u001b[0m \u001b[43m    \u001b[49m\u001b[38;5;28;43mself\u001b[39;49m\u001b[38;5;241;43m.\u001b[39;49m\u001b[43mcolumns\u001b[49m\u001b[43m,\u001b[49m\n\u001b[0;32m    109\u001b[0m \u001b[43m    \u001b[49m\u001b[38;5;28;43mself\u001b[39;49m\u001b[38;5;241;43m.\u001b[39;49m\u001b[43mindex\u001b[49m\u001b[43m,\u001b[49m\n\u001b[0;32m    110\u001b[0m \u001b[43m    \u001b[49m\u001b[38;5;28;43mself\u001b[39;49m\u001b[38;5;241;43m.\u001b[39;49m\u001b[43mcommon_kwargs\u001b[49m\u001b[43m,\u001b[49m\n\u001b[0;32m    111\u001b[0m \u001b[43m\u001b[49m\u001b[43m)\u001b[49m\n",
      "File \u001b[1;32mJ:\\PhD\\Projects\\chicago-energy-cons\\env\\lib\\site-packages\\dask\\dataframe\\io\\parquet\\core.py:654\u001b[0m, in \u001b[0;36mread_parquet_part\u001b[1;34m(fs, engine, meta, part, columns, index, kwargs)\u001b[0m\n\u001b[0;32m    651\u001b[0m \u001b[38;5;28;01mif\u001b[39;00m \u001b[38;5;28mlen\u001b[39m(part) \u001b[38;5;241m==\u001b[39m \u001b[38;5;241m1\u001b[39m \u001b[38;5;129;01mor\u001b[39;00m part[\u001b[38;5;241m0\u001b[39m][\u001b[38;5;241m1\u001b[39m] \u001b[38;5;129;01mor\u001b[39;00m \u001b[38;5;129;01mnot\u001b[39;00m check_multi_support(engine):\n\u001b[0;32m    652\u001b[0m     \u001b[38;5;66;03m# Part kwargs expected\u001b[39;00m\n\u001b[0;32m    653\u001b[0m     func \u001b[38;5;241m=\u001b[39m engine\u001b[38;5;241m.\u001b[39mread_partition\n\u001b[1;32m--> 654\u001b[0m     dfs \u001b[38;5;241m=\u001b[39m [\n\u001b[0;32m    655\u001b[0m         func(\n\u001b[0;32m    656\u001b[0m             fs,\n\u001b[0;32m    657\u001b[0m             rg,\n\u001b[0;32m    658\u001b[0m             columns\u001b[38;5;241m.\u001b[39mcopy(),\n\u001b[0;32m    659\u001b[0m             index,\n\u001b[0;32m    660\u001b[0m             \u001b[38;5;241m*\u001b[39m\u001b[38;5;241m*\u001b[39mtoolz\u001b[38;5;241m.\u001b[39mmerge(kwargs, kw),\n\u001b[0;32m    661\u001b[0m         )\n\u001b[0;32m    662\u001b[0m         \u001b[38;5;28;01mfor\u001b[39;00m (rg, kw) \u001b[38;5;129;01min\u001b[39;00m part\n\u001b[0;32m    663\u001b[0m     ]\n\u001b[0;32m    664\u001b[0m     df \u001b[38;5;241m=\u001b[39m concat(dfs, axis\u001b[38;5;241m=\u001b[39m\u001b[38;5;241m0\u001b[39m) \u001b[38;5;28;01mif\u001b[39;00m \u001b[38;5;28mlen\u001b[39m(dfs) \u001b[38;5;241m>\u001b[39m \u001b[38;5;241m1\u001b[39m \u001b[38;5;28;01melse\u001b[39;00m dfs[\u001b[38;5;241m0\u001b[39m]\n\u001b[0;32m    665\u001b[0m \u001b[38;5;28;01melse\u001b[39;00m:\n\u001b[0;32m    666\u001b[0m     \u001b[38;5;66;03m# No part specific kwargs, let engine read\u001b[39;00m\n\u001b[0;32m    667\u001b[0m     \u001b[38;5;66;03m# list of parts at once\u001b[39;00m\n",
      "File \u001b[1;32mJ:\\PhD\\Projects\\chicago-energy-cons\\env\\lib\\site-packages\\dask\\dataframe\\io\\parquet\\core.py:655\u001b[0m, in \u001b[0;36m<listcomp>\u001b[1;34m(.0)\u001b[0m\n\u001b[0;32m    651\u001b[0m \u001b[38;5;28;01mif\u001b[39;00m \u001b[38;5;28mlen\u001b[39m(part) \u001b[38;5;241m==\u001b[39m \u001b[38;5;241m1\u001b[39m \u001b[38;5;129;01mor\u001b[39;00m part[\u001b[38;5;241m0\u001b[39m][\u001b[38;5;241m1\u001b[39m] \u001b[38;5;129;01mor\u001b[39;00m \u001b[38;5;129;01mnot\u001b[39;00m check_multi_support(engine):\n\u001b[0;32m    652\u001b[0m     \u001b[38;5;66;03m# Part kwargs expected\u001b[39;00m\n\u001b[0;32m    653\u001b[0m     func \u001b[38;5;241m=\u001b[39m engine\u001b[38;5;241m.\u001b[39mread_partition\n\u001b[0;32m    654\u001b[0m     dfs \u001b[38;5;241m=\u001b[39m [\n\u001b[1;32m--> 655\u001b[0m         func(\n\u001b[0;32m    656\u001b[0m             fs,\n\u001b[0;32m    657\u001b[0m             rg,\n\u001b[0;32m    658\u001b[0m             columns\u001b[38;5;241m.\u001b[39mcopy(),\n\u001b[0;32m    659\u001b[0m             index,\n\u001b[0;32m    660\u001b[0m             \u001b[38;5;241m*\u001b[39m\u001b[38;5;241m*\u001b[39mtoolz\u001b[38;5;241m.\u001b[39mmerge(kwargs, kw),\n\u001b[0;32m    661\u001b[0m         )\n\u001b[0;32m    662\u001b[0m         \u001b[38;5;28;01mfor\u001b[39;00m (rg, kw) \u001b[38;5;129;01min\u001b[39;00m part\n\u001b[0;32m    663\u001b[0m     ]\n\u001b[0;32m    664\u001b[0m     df \u001b[38;5;241m=\u001b[39m concat(dfs, axis\u001b[38;5;241m=\u001b[39m\u001b[38;5;241m0\u001b[39m) \u001b[38;5;28;01mif\u001b[39;00m \u001b[38;5;28mlen\u001b[39m(dfs) \u001b[38;5;241m>\u001b[39m \u001b[38;5;241m1\u001b[39m \u001b[38;5;28;01melse\u001b[39;00m dfs[\u001b[38;5;241m0\u001b[39m]\n\u001b[0;32m    665\u001b[0m \u001b[38;5;28;01melse\u001b[39;00m:\n\u001b[0;32m    666\u001b[0m     \u001b[38;5;66;03m# No part specific kwargs, let engine read\u001b[39;00m\n\u001b[0;32m    667\u001b[0m     \u001b[38;5;66;03m# list of parts at once\u001b[39;00m\n",
      "File \u001b[1;32mJ:\\PhD\\Projects\\chicago-energy-cons\\env\\lib\\site-packages\\dask\\dataframe\\io\\parquet\\arrow.py:627\u001b[0m, in \u001b[0;36mArrowDatasetEngine.read_partition\u001b[1;34m(cls, fs, pieces, columns, index, dtype_backend, categories, partitions, filters, schema, **kwargs)\u001b[0m\n\u001b[0;32m    624\u001b[0m     row_group \u001b[38;5;241m=\u001b[39m [row_group]\n\u001b[0;32m    626\u001b[0m \u001b[38;5;66;03m# Read in arrow table and convert to pandas\u001b[39;00m\n\u001b[1;32m--> 627\u001b[0m arrow_table \u001b[38;5;241m=\u001b[39m \u001b[38;5;28mcls\u001b[39m\u001b[38;5;241m.\u001b[39m_read_table(\n\u001b[0;32m    628\u001b[0m     path_or_frag,\n\u001b[0;32m    629\u001b[0m     fs,\n\u001b[0;32m    630\u001b[0m     row_group,\n\u001b[0;32m    631\u001b[0m     columns,\n\u001b[0;32m    632\u001b[0m     schema,\n\u001b[0;32m    633\u001b[0m     filters,\n\u001b[0;32m    634\u001b[0m     partitions,\n\u001b[0;32m    635\u001b[0m     partition_keys,\n\u001b[0;32m    636\u001b[0m     \u001b[38;5;241m*\u001b[39m\u001b[38;5;241m*\u001b[39mkwargs,\n\u001b[0;32m    637\u001b[0m )\n\u001b[0;32m    638\u001b[0m \u001b[38;5;28;01mif\u001b[39;00m multi_read:\n\u001b[0;32m    639\u001b[0m     tables\u001b[38;5;241m.\u001b[39mappend(arrow_table)\n",
      "File \u001b[1;32mJ:\\PhD\\Projects\\chicago-energy-cons\\env\\lib\\site-packages\\dask\\dataframe\\io\\parquet\\arrow.py:1760\u001b[0m, in \u001b[0;36mArrowDatasetEngine._read_table\u001b[1;34m(cls, path_or_frag, fs, row_groups, columns, schema, filters, partitions, partition_keys, **kwargs)\u001b[0m\n\u001b[0;32m   1753\u001b[0m     arrow_table \u001b[38;5;241m=\u001b[39m frag\u001b[38;5;241m.\u001b[39mto_table(\n\u001b[0;32m   1754\u001b[0m         use_threads\u001b[38;5;241m=\u001b[39m\u001b[38;5;28;01mFalse\u001b[39;00m,\n\u001b[0;32m   1755\u001b[0m         schema\u001b[38;5;241m=\u001b[39mschema,\n\u001b[0;32m   1756\u001b[0m         columns\u001b[38;5;241m=\u001b[39mcols,\n\u001b[0;32m   1757\u001b[0m         \u001b[38;5;28mfilter\u001b[39m\u001b[38;5;241m=\u001b[39m_filters_to_expression(filters) \u001b[38;5;28;01mif\u001b[39;00m filters \u001b[38;5;28;01melse\u001b[39;00m \u001b[38;5;28;01mNone\u001b[39;00m,\n\u001b[0;32m   1758\u001b[0m     )\n\u001b[0;32m   1759\u001b[0m \u001b[38;5;28;01melse\u001b[39;00m:\n\u001b[1;32m-> 1760\u001b[0m     arrow_table \u001b[38;5;241m=\u001b[39m _read_table_from_path(\n\u001b[0;32m   1761\u001b[0m         path_or_frag,\n\u001b[0;32m   1762\u001b[0m         fs,\n\u001b[0;32m   1763\u001b[0m         row_groups,\n\u001b[0;32m   1764\u001b[0m         columns,\n\u001b[0;32m   1765\u001b[0m         schema,\n\u001b[0;32m   1766\u001b[0m         filters,\n\u001b[0;32m   1767\u001b[0m         \u001b[38;5;241m*\u001b[39m\u001b[38;5;241m*\u001b[39mkwargs,\n\u001b[0;32m   1768\u001b[0m     )\n\u001b[0;32m   1770\u001b[0m \u001b[38;5;66;03m# For pyarrow.dataset api, if we did not read directly from\u001b[39;00m\n\u001b[0;32m   1771\u001b[0m \u001b[38;5;66;03m# fragments, we need to add the partitioned columns here.\u001b[39;00m\n\u001b[0;32m   1772\u001b[0m \u001b[38;5;28;01mif\u001b[39;00m partitions \u001b[38;5;129;01mand\u001b[39;00m \u001b[38;5;28misinstance\u001b[39m(partitions, \u001b[38;5;28mlist\u001b[39m):\n",
      "File \u001b[1;32mJ:\\PhD\\Projects\\chicago-energy-cons\\env\\lib\\site-packages\\dask\\dataframe\\io\\parquet\\arrow.py:254\u001b[0m, in \u001b[0;36m_read_table_from_path\u001b[1;34m(path, fs, row_groups, columns, schema, filters, **kwargs)\u001b[0m\n\u001b[0;32m    247\u001b[0m \u001b[38;5;28;01mwith\u001b[39;00m _open_input_files(\n\u001b[0;32m    248\u001b[0m     [path],\n\u001b[0;32m    249\u001b[0m     fs\u001b[38;5;241m=\u001b[39mfs,\n\u001b[0;32m    250\u001b[0m     precache_options\u001b[38;5;241m=\u001b[39mprecache_options,\n\u001b[0;32m    251\u001b[0m     \u001b[38;5;241m*\u001b[39m\u001b[38;5;241m*\u001b[39mopen_file_options,\n\u001b[0;32m    252\u001b[0m )[\u001b[38;5;241m0\u001b[39m] \u001b[38;5;28;01mas\u001b[39;00m fil:\n\u001b[0;32m    253\u001b[0m     \u001b[38;5;28;01mif\u001b[39;00m row_groups \u001b[38;5;241m==\u001b[39m [\u001b[38;5;28;01mNone\u001b[39;00m]:\n\u001b[1;32m--> 254\u001b[0m         \u001b[38;5;28;01mreturn\u001b[39;00m pq\u001b[38;5;241m.\u001b[39mParquetFile(fil, \u001b[38;5;241m*\u001b[39m\u001b[38;5;241m*\u001b[39mpre_buffer)\u001b[38;5;241m.\u001b[39mread(\n\u001b[0;32m    255\u001b[0m             columns\u001b[38;5;241m=\u001b[39mcolumns,\n\u001b[0;32m    256\u001b[0m             use_threads\u001b[38;5;241m=\u001b[39m\u001b[38;5;28;01mFalse\u001b[39;00m,\n\u001b[0;32m    257\u001b[0m             use_pandas_metadata\u001b[38;5;241m=\u001b[39m\u001b[38;5;28;01mTrue\u001b[39;00m,\n\u001b[0;32m    258\u001b[0m             \u001b[38;5;241m*\u001b[39m\u001b[38;5;241m*\u001b[39mread_kwargs,\n\u001b[0;32m    259\u001b[0m         )\n\u001b[0;32m    260\u001b[0m     \u001b[38;5;28;01melse\u001b[39;00m:\n\u001b[0;32m    261\u001b[0m         \u001b[38;5;28;01mreturn\u001b[39;00m pq\u001b[38;5;241m.\u001b[39mParquetFile(fil, \u001b[38;5;241m*\u001b[39m\u001b[38;5;241m*\u001b[39mpre_buffer)\u001b[38;5;241m.\u001b[39mread_row_groups(\n\u001b[0;32m    262\u001b[0m             row_groups,\n\u001b[0;32m    263\u001b[0m             columns\u001b[38;5;241m=\u001b[39mcolumns,\n\u001b[1;32m   (...)\u001b[0m\n\u001b[0;32m    266\u001b[0m             \u001b[38;5;241m*\u001b[39m\u001b[38;5;241m*\u001b[39mread_kwargs,\n\u001b[0;32m    267\u001b[0m         )\n",
      "File \u001b[1;32mJ:\\PhD\\Projects\\chicago-energy-cons\\env\\lib\\site-packages\\pyarrow\\parquet\\core.py:628\u001b[0m, in \u001b[0;36mParquetFile.read\u001b[1;34m(self, columns, use_threads, use_pandas_metadata)\u001b[0m\n\u001b[0;32m    586\u001b[0m \u001b[38;5;250m\u001b[39m\u001b[38;5;124;03m\"\"\"\u001b[39;00m\n\u001b[0;32m    587\u001b[0m \u001b[38;5;124;03mRead a Table from Parquet format.\u001b[39;00m\n\u001b[0;32m    588\u001b[0m \n\u001b[1;32m   (...)\u001b[0m\n\u001b[0;32m    624\u001b[0m \u001b[38;5;124;03manimal: [[\"Flamingo\",\"Parrot\",...,\"Brittle stars\",\"Centipede\"]]\u001b[39;00m\n\u001b[0;32m    625\u001b[0m \u001b[38;5;124;03m\"\"\"\u001b[39;00m\n\u001b[0;32m    626\u001b[0m column_indices \u001b[38;5;241m=\u001b[39m \u001b[38;5;28mself\u001b[39m\u001b[38;5;241m.\u001b[39m_get_column_indices(\n\u001b[0;32m    627\u001b[0m     columns, use_pandas_metadata\u001b[38;5;241m=\u001b[39muse_pandas_metadata)\n\u001b[1;32m--> 628\u001b[0m \u001b[38;5;28;01mreturn\u001b[39;00m \u001b[38;5;28;43mself\u001b[39;49m\u001b[38;5;241;43m.\u001b[39;49m\u001b[43mreader\u001b[49m\u001b[38;5;241;43m.\u001b[39;49m\u001b[43mread_all\u001b[49m\u001b[43m(\u001b[49m\u001b[43mcolumn_indices\u001b[49m\u001b[38;5;241;43m=\u001b[39;49m\u001b[43mcolumn_indices\u001b[49m\u001b[43m,\u001b[49m\n\u001b[0;32m    629\u001b[0m \u001b[43m                            \u001b[49m\u001b[43muse_threads\u001b[49m\u001b[38;5;241;43m=\u001b[39;49m\u001b[43muse_threads\u001b[49m\u001b[43m)\u001b[49m\n",
      "File \u001b[1;32mJ:\\PhD\\Projects\\chicago-energy-cons\\env\\lib\\site-packages\\pyarrow\\_parquet.pyx:1375\u001b[0m, in \u001b[0;36mpyarrow._parquet.ParquetReader.read_all\u001b[1;34m()\u001b[0m\n",
      "File \u001b[1;32mJ:\\PhD\\Projects\\chicago-energy-cons\\env\\lib\\site-packages\\pyarrow\\error.pxi:117\u001b[0m, in \u001b[0;36mpyarrow.lib.check_status\u001b[1;34m()\u001b[0m\n",
      "\u001b[1;31mArrowMemoryError\u001b[0m: malloc of size 134217728 failed"
     ]
    }
   ],
   "source": [
    "df_points.shape[0].compute()"
   ]
  },
  {
   "cell_type": "code",
   "execution_count": 11,
   "id": "5dc2fc10aa6a17f9",
   "metadata": {
    "ExecuteTime": {
     "end_time": "2023-10-31T22:43:33.982014700Z",
     "start_time": "2023-10-31T22:33:46.205751700Z"
    },
    "collapsed": false
   },
   "outputs": [
    {
     "name": "stderr",
     "output_type": "stream",
     "text": [
      "J:\\PhD\\Projects\\chicago-energy-cons\\env\\lib\\site-packages\\pyarrow\\pandas_compat.py:373: FutureWarning: is_sparse is deprecated and will be removed in a future version. Check `isinstance(dtype, pd.SparseDtype)` instead.\n",
      "  if _pandas_api.is_sparse(col):\n",
      "J:\\PhD\\Projects\\chicago-energy-cons\\env\\lib\\site-packages\\pyarrow\\pandas_compat.py:456: FutureWarning: is_sparse is deprecated and will be removed in a future version. Check `isinstance(dtype, pd.SparseDtype)` instead.\n",
      "  if _pandas_api.is_sparse(col):\n",
      "J:\\PhD\\Projects\\chicago-energy-cons\\env\\lib\\site-packages\\pyarrow\\pandas_compat.py:456: FutureWarning: is_sparse is deprecated and will be removed in a future version. Check `isinstance(dtype, pd.SparseDtype)` instead.\n",
      "  if _pandas_api.is_sparse(col):\n"
     ]
    },
    {
     "ename": "MemoryError",
     "evalue": "Unable to allocate 249. MiB for an array with shape (1, 65284435) and data type int32",
     "output_type": "error",
     "traceback": [
      "\u001b[1;31m---------------------------------------------------------------------------\u001b[0m",
      "\u001b[1;31mMemoryError\u001b[0m                               Traceback (most recent call last)",
      "Cell \u001b[1;32mIn[11], line 1\u001b[0m\n\u001b[1;32m----> 1\u001b[0m \u001b[43mdf_points\u001b[49m\u001b[38;5;241;43m.\u001b[39;49m\u001b[43mto_parquet\u001b[49m\u001b[43m(\u001b[49m\u001b[38;5;124;43m'\u001b[39;49m\u001b[38;5;124;43m../data/geo/points_accounts.parquet\u001b[39;49m\u001b[38;5;124;43m'\u001b[39;49m\u001b[43m)\u001b[49m\n",
      "File \u001b[1;32mJ:\\PhD\\Projects\\chicago-energy-cons\\env\\lib\\site-packages\\dask\\dataframe\\core.py:5564\u001b[0m, in \u001b[0;36mDataFrame.to_parquet\u001b[1;34m(self, path, *args, **kwargs)\u001b[0m\n\u001b[0;32m   5561\u001b[0m \u001b[38;5;250m\u001b[39m\u001b[38;5;124;03m\"\"\"See dd.to_parquet docstring for more information\"\"\"\u001b[39;00m\n\u001b[0;32m   5562\u001b[0m \u001b[38;5;28;01mfrom\u001b[39;00m \u001b[38;5;21;01mdask\u001b[39;00m\u001b[38;5;21;01m.\u001b[39;00m\u001b[38;5;21;01mdataframe\u001b[39;00m\u001b[38;5;21;01m.\u001b[39;00m\u001b[38;5;21;01mio\u001b[39;00m \u001b[38;5;28;01mimport\u001b[39;00m to_parquet\n\u001b[1;32m-> 5564\u001b[0m \u001b[38;5;28;01mreturn\u001b[39;00m to_parquet(\u001b[38;5;28mself\u001b[39m, path, \u001b[38;5;241m*\u001b[39margs, \u001b[38;5;241m*\u001b[39m\u001b[38;5;241m*\u001b[39mkwargs)\n",
      "File \u001b[1;32mJ:\\PhD\\Projects\\chicago-energy-cons\\env\\lib\\site-packages\\dask\\dataframe\\io\\parquet\\core.py:1057\u001b[0m, in \u001b[0;36mto_parquet\u001b[1;34m(df, path, engine, compression, write_index, append, overwrite, ignore_divisions, partition_on, storage_options, custom_metadata, write_metadata_file, compute, compute_kwargs, schema, name_function, filesystem, **kwargs)\u001b[0m\n\u001b[0;32m   1054\u001b[0m out \u001b[38;5;241m=\u001b[39m Scalar(graph, final_name, \u001b[38;5;124m\"\u001b[39m\u001b[38;5;124m\"\u001b[39m)\n\u001b[0;32m   1056\u001b[0m \u001b[38;5;28;01mif\u001b[39;00m compute:\n\u001b[1;32m-> 1057\u001b[0m     out \u001b[38;5;241m=\u001b[39m out\u001b[38;5;241m.\u001b[39mcompute(\u001b[38;5;241m*\u001b[39m\u001b[38;5;241m*\u001b[39mcompute_kwargs)\n\u001b[0;32m   1059\u001b[0m \u001b[38;5;66;03m# Invalidate the filesystem listing cache for the output path after write.\u001b[39;00m\n\u001b[0;32m   1060\u001b[0m \u001b[38;5;66;03m# We do this before returning, even if `compute=False`. This helps ensure\u001b[39;00m\n\u001b[0;32m   1061\u001b[0m \u001b[38;5;66;03m# that reading files that were just written succeeds.\u001b[39;00m\n\u001b[0;32m   1062\u001b[0m fs\u001b[38;5;241m.\u001b[39minvalidate_cache(path)\n",
      "File \u001b[1;32mJ:\\PhD\\Projects\\chicago-energy-cons\\env\\lib\\site-packages\\dask\\base.py:342\u001b[0m, in \u001b[0;36mDaskMethodsMixin.compute\u001b[1;34m(self, **kwargs)\u001b[0m\n\u001b[0;32m    318\u001b[0m \u001b[38;5;28;01mdef\u001b[39;00m \u001b[38;5;21mcompute\u001b[39m(\u001b[38;5;28mself\u001b[39m, \u001b[38;5;241m*\u001b[39m\u001b[38;5;241m*\u001b[39mkwargs):\n\u001b[0;32m    319\u001b[0m \u001b[38;5;250m    \u001b[39m\u001b[38;5;124;03m\"\"\"Compute this dask collection\u001b[39;00m\n\u001b[0;32m    320\u001b[0m \n\u001b[0;32m    321\u001b[0m \u001b[38;5;124;03m    This turns a lazy Dask collection into its in-memory equivalent.\u001b[39;00m\n\u001b[1;32m   (...)\u001b[0m\n\u001b[0;32m    340\u001b[0m \u001b[38;5;124;03m    dask.compute\u001b[39;00m\n\u001b[0;32m    341\u001b[0m \u001b[38;5;124;03m    \"\"\"\u001b[39;00m\n\u001b[1;32m--> 342\u001b[0m     (result,) \u001b[38;5;241m=\u001b[39m compute(\u001b[38;5;28mself\u001b[39m, traverse\u001b[38;5;241m=\u001b[39m\u001b[38;5;28;01mFalse\u001b[39;00m, \u001b[38;5;241m*\u001b[39m\u001b[38;5;241m*\u001b[39mkwargs)\n\u001b[0;32m    343\u001b[0m     \u001b[38;5;28;01mreturn\u001b[39;00m result\n",
      "File \u001b[1;32mJ:\\PhD\\Projects\\chicago-energy-cons\\env\\lib\\site-packages\\dask\\base.py:628\u001b[0m, in \u001b[0;36mcompute\u001b[1;34m(traverse, optimize_graph, scheduler, get, *args, **kwargs)\u001b[0m\n\u001b[0;32m    625\u001b[0m     postcomputes\u001b[38;5;241m.\u001b[39mappend(x\u001b[38;5;241m.\u001b[39m__dask_postcompute__())\n\u001b[0;32m    627\u001b[0m \u001b[38;5;28;01mwith\u001b[39;00m shorten_traceback():\n\u001b[1;32m--> 628\u001b[0m     results \u001b[38;5;241m=\u001b[39m schedule(dsk, keys, \u001b[38;5;241m*\u001b[39m\u001b[38;5;241m*\u001b[39mkwargs)\n\u001b[0;32m    630\u001b[0m \u001b[38;5;28;01mreturn\u001b[39;00m repack([f(r, \u001b[38;5;241m*\u001b[39ma) \u001b[38;5;28;01mfor\u001b[39;00m r, (f, a) \u001b[38;5;129;01min\u001b[39;00m \u001b[38;5;28mzip\u001b[39m(results, postcomputes)])\n",
      "File \u001b[1;32mJ:\\PhD\\Projects\\chicago-energy-cons\\env\\lib\\site-packages\\dask\\dataframe\\multi.py:289\u001b[0m, in \u001b[0;36mmerge_chunk\u001b[1;34m(lhs, result_meta, *args, **kwargs)\u001b[0m\n\u001b[0;32m    286\u001b[0m             \u001b[38;5;28;01melse\u001b[39;00m:\n\u001b[0;32m    287\u001b[0m                 rhs \u001b[38;5;241m=\u001b[39m rhs\u001b[38;5;241m.\u001b[39massign(\u001b[38;5;241m*\u001b[39m\u001b[38;5;241m*\u001b[39m{col: right\u001b[38;5;241m.\u001b[39mastype(dtype)})\n\u001b[1;32m--> 289\u001b[0m out \u001b[38;5;241m=\u001b[39m lhs\u001b[38;5;241m.\u001b[39mmerge(rhs, \u001b[38;5;241m*\u001b[39margs, \u001b[38;5;241m*\u001b[39m\u001b[38;5;241m*\u001b[39mkwargs)\n\u001b[0;32m    291\u001b[0m \u001b[38;5;66;03m# Workaround for pandas bug where if the left frame of a merge operation is\u001b[39;00m\n\u001b[0;32m    292\u001b[0m \u001b[38;5;66;03m# empty, the resulting dataframe can have columns in the wrong order.\u001b[39;00m\n\u001b[0;32m    293\u001b[0m \u001b[38;5;66;03m# https://github.com/pandas-dev/pandas/issues/9937\u001b[39;00m\n\u001b[0;32m    294\u001b[0m \u001b[38;5;28;01mif\u001b[39;00m \u001b[38;5;28mlen\u001b[39m(lhs) \u001b[38;5;241m==\u001b[39m \u001b[38;5;241m0\u001b[39m:\n",
      "File \u001b[1;32mJ:\\PhD\\Projects\\chicago-energy-cons\\env\\lib\\site-packages\\pandas\\core\\internals\\blocks.py:645\u001b[0m, in \u001b[0;36mBlock.copy\u001b[1;34m(self, deep)\u001b[0m\n\u001b[0;32m    643\u001b[0m refs: BlockValuesRefs \u001b[38;5;241m|\u001b[39m \u001b[38;5;28;01mNone\u001b[39;00m\n\u001b[0;32m    644\u001b[0m \u001b[38;5;28;01mif\u001b[39;00m deep:\n\u001b[1;32m--> 645\u001b[0m     values \u001b[38;5;241m=\u001b[39m \u001b[43mvalues\u001b[49m\u001b[38;5;241;43m.\u001b[39;49m\u001b[43mcopy\u001b[49m\u001b[43m(\u001b[49m\u001b[43m)\u001b[49m\n\u001b[0;32m    646\u001b[0m     refs \u001b[38;5;241m=\u001b[39m \u001b[38;5;28;01mNone\u001b[39;00m\n\u001b[0;32m    647\u001b[0m \u001b[38;5;28;01melse\u001b[39;00m:\n",
      "\u001b[1;31mMemoryError\u001b[0m: Unable to allocate 249. MiB for an array with shape (1, 65284435) and data type int32"
     ]
    }
   ],
   "source": [
    "df_points.to_parquet('../data/geo/points_accounts.parquet')"
   ]
  },
  {
   "cell_type": "code",
   "execution_count": 6,
   "id": "2eea35b91b515af5",
   "metadata": {
    "ExecuteTime": {
     "end_time": "2023-10-31T16:45:35.955957800Z",
     "start_time": "2023-10-31T16:45:34.123802800Z"
    },
    "collapsed": false
   },
   "outputs": [],
   "source": [
    "df_points = dd.read_parquet('../data/geo/points_accounts.parquet').compute()"
   ]
  },
  {
   "cell_type": "code",
   "execution_count": 7,
   "id": "7993820fba4207c9",
   "metadata": {
    "ExecuteTime": {
     "end_time": "2023-10-31T16:45:39.624268500Z",
     "start_time": "2023-10-31T16:45:35.958960400Z"
    },
    "collapsed": false
   },
   "outputs": [
    {
     "name": "stderr",
     "output_type": "stream",
     "text": [
      "C:\\Users\\Student\\AppData\\Local\\Temp\\ipykernel_19424\\1651927857.py:1: UserWarning: Geometry is in a geographic CRS. Results from 'centroid' are likely incorrect. Use 'GeoSeries.to_crs()' to re-project geometries to a projected CRS before this operation.\n",
      "\n",
      "  df_land_z['x'] = df_land_z.geometry.centroid.x\n",
      "C:\\Users\\Student\\AppData\\Local\\Temp\\ipykernel_19424\\1651927857.py:2: UserWarning: Geometry is in a geographic CRS. Results from 'centroid' are likely incorrect. Use 'GeoSeries.to_crs()' to re-project geometries to a projected CRS before this operation.\n",
      "\n",
      "  df_land_z['y'] = df_land_z.geometry.centroid.y\n"
     ]
    }
   ],
   "source": [
    "df_land_z['x'] = df_land_z.geometry.centroid.x\n",
    "df_land_z['y'] = df_land_z.geometry.centroid.y"
   ]
  },
  {
   "cell_type": "code",
   "execution_count": 15,
   "id": "d8cb41a43481ea55",
   "metadata": {
    "ExecuteTime": {
     "end_time": "2023-10-31T17:06:12.574699600Z",
     "start_time": "2023-10-31T17:05:54.698806900Z"
    },
    "collapsed": false
   },
   "outputs": [],
   "source": [
    "df_accs_points = pd.merge(df_points, df_land_z, on='id')[['ACCOUNT_IDENTIFIER', 'residential', 'x', 'y']]\n",
    "df_accs_points.to_csv('../data/geo/accounts_coordinates.csv')"
   ]
  },
  {
   "cell_type": "code",
   "execution_count": 4,
   "id": "aa3be214f30e15fb",
   "metadata": {
    "ExecuteTime": {
     "end_time": "2023-10-31T17:07:30.100791600Z",
     "start_time": "2023-10-31T17:07:27.872288200Z"
    },
    "collapsed": false
   },
   "outputs": [],
   "source": [
    "df_accs_points = pd.read_csv('../data/geo/accounts_coordinates.csv')"
   ]
  },
  {
   "cell_type": "code",
   "execution_count": null,
   "id": "77a9344510cb9350",
   "metadata": {
    "collapsed": false
   },
   "outputs": [],
   "source": [
    "def random_point(polygon):\n",
    "    minx, miny, maxx, maxy = polygon.bounds\n",
    "    while True:\n",
    "        point = Point(random.uniform(minx, maxx), random.uniform(miny, maxy))\n",
    "        if polygon.contains(point):\n",
    "            break\n",
    "    return point"
   ]
  },
  {
   "cell_type": "code",
   "execution_count": null,
   "id": "904387aaf6f8d0f5",
   "metadata": {
    "collapsed": false
   },
   "outputs": [],
   "source": [
    "acc_frac = 0.01\n",
    "gdf_zc = gpd.read_file('../data/geo/Chicago_ZC.geojson')\n",
    "gdf_zc['GEOID20'] = gdf_zc['GEOID20'].astype(int)\n",
    "\n",
    "df_data = pd.read_csv('../data/comed_month/comed_202001.csv')\n",
    "df_data['date_time'] = pd.to_datetime(df_data.date_time)\n",
    "df_data['residential'] = np.where(df_data.service_name.str.contains('RESIDENTIAL'), 1, 0)\n",
    "\n",
    "df_zips = df_data.groupby(['zip5', 'residential']).n_acc.mean().reset_index()\n",
    "df_zips = pd.merge(gdf_zc, df_zips, left_on='GEOID20', right_on='zip5')[['zip5', 'residential', 'n_acc', 'geometry']]\n",
    "df_zips['n_acc'] = (acc_frac * df_zips['n_acc']).astype(int) \n",
    "df_zips = df_zips.loc[df_zips.index.repeat(df_zips.n_acc)]\n",
    "\n",
    "df_zips['geometry'] = df_zips.geometry.apply(random_point)\n",
    "df_zips['x'] = df_zips['geometry'].x\n",
    "df_zips['y'] = df_zips['geometry'].y\n",
    "\n",
    "selected_date_str = '2020-01-31 00:00:00'\n",
    "selected_date = datetime.strptime(selected_date_str, '%Y-%m-%d %H:%M:%S')\n",
    "all_times = df_data[df_data.date_time.dt.day==selected_date.day].date_time.unique()\n",
    "\n",
    "df_max = df_data[df_data.date_time.dt.day==selected_date.day]\n",
    "df_max = df_max.groupby(['zip5', 'residential', 'date_time']).energy.sum().reset_index()\n",
    "df_max = df_max.groupby(['zip5', 'residential']).energy.max().reset_index().rename(columns={'energy': 'max_energy'})\n",
    "df = df_data"
   ]
  },
  {
   "cell_type": "code",
   "execution_count": 13,
   "id": "eefd3c34063d4dcb",
   "metadata": {
    "ExecuteTime": {
     "end_time": "2023-10-31T17:03:03.772173100Z",
     "start_time": "2023-10-31T17:01:09.059163600Z"
    },
    "collapsed": false
   },
   "outputs": [
    {
     "data": {
      "text/html": [
       "<div>\n",
       "<style scoped>\n",
       "    .dataframe tbody tr th:only-of-type {\n",
       "        vertical-align: middle;\n",
       "    }\n",
       "\n",
       "    .dataframe tbody tr th {\n",
       "        vertical-align: top;\n",
       "    }\n",
       "\n",
       "    .dataframe thead th {\n",
       "        text-align: right;\n",
       "    }\n",
       "</style>\n",
       "<table border=\"1\" class=\"dataframe\">\n",
       "  <thead>\n",
       "    <tr style=\"text-align: right;\">\n",
       "      <th></th>\n",
       "      <th>ZIP_CODE</th>\n",
       "      <th>ACCOUNT_IDENTIFIER</th>\n",
       "      <th>DELIVERY_SERVICE_NAME</th>\n",
       "      <th>Time</th>\n",
       "      <th>energy</th>\n",
       "      <th>date_time</th>\n",
       "      <th>residential</th>\n",
       "    </tr>\n",
       "  </thead>\n",
       "  <tbody>\n",
       "    <tr>\n",
       "      <th>0</th>\n",
       "      <td>60002</td>\n",
       "      <td>100165079286762</td>\n",
       "      <td>RESIDENTIAL SINGLE</td>\n",
       "      <td>0030</td>\n",
       "      <td>0.7000</td>\n",
       "      <td>2020-02-19 00:30:00</td>\n",
       "      <td>1</td>\n",
       "    </tr>\n",
       "    <tr>\n",
       "      <th>1</th>\n",
       "      <td>60002</td>\n",
       "      <td>1001612044853455</td>\n",
       "      <td>RESIDENTIAL SINGLE</td>\n",
       "      <td>0030</td>\n",
       "      <td>0.1950</td>\n",
       "      <td>2020-02-19 00:30:00</td>\n",
       "      <td>1</td>\n",
       "    </tr>\n",
       "    <tr>\n",
       "      <th>2</th>\n",
       "      <td>60002</td>\n",
       "      <td>1001618796973926</td>\n",
       "      <td>RESIDENTIAL SINGLE</td>\n",
       "      <td>0030</td>\n",
       "      <td>0.3575</td>\n",
       "      <td>2020-02-19 00:30:00</td>\n",
       "      <td>1</td>\n",
       "    </tr>\n",
       "    <tr>\n",
       "      <th>3</th>\n",
       "      <td>60002</td>\n",
       "      <td>1001621807998827</td>\n",
       "      <td>RESIDENTIAL SINGLE</td>\n",
       "      <td>0030</td>\n",
       "      <td>0.5550</td>\n",
       "      <td>2020-02-19 00:30:00</td>\n",
       "      <td>1</td>\n",
       "    </tr>\n",
       "    <tr>\n",
       "      <th>4</th>\n",
       "      <td>60002</td>\n",
       "      <td>1001625165455245</td>\n",
       "      <td>RESIDENTIAL SINGLE</td>\n",
       "      <td>0030</td>\n",
       "      <td>0.0475</td>\n",
       "      <td>2020-02-19 00:30:00</td>\n",
       "      <td>1</td>\n",
       "    </tr>\n",
       "  </tbody>\n",
       "</table>\n",
       "</div>"
      ],
      "text/plain": [
       "   ZIP_CODE  ACCOUNT_IDENTIFIER DELIVERY_SERVICE_NAME  Time  energy  \\\n",
       "0     60002     100165079286762    RESIDENTIAL SINGLE  0030  0.7000   \n",
       "1     60002    1001612044853455    RESIDENTIAL SINGLE  0030  0.1950   \n",
       "2     60002    1001618796973926    RESIDENTIAL SINGLE  0030  0.3575   \n",
       "3     60002    1001621807998827    RESIDENTIAL SINGLE  0030  0.5550   \n",
       "4     60002    1001625165455245    RESIDENTIAL SINGLE  0030  0.0475   \n",
       "\n",
       "            date_time  residential  \n",
       "0 2020-02-19 00:30:00            1  \n",
       "1 2020-02-19 00:30:00            1  \n",
       "2 2020-02-19 00:30:00            1  \n",
       "3 2020-02-19 00:30:00            1  \n",
       "4 2020-02-19 00:30:00            1  "
      ]
     },
     "execution_count": 13,
     "metadata": {},
     "output_type": "execute_result"
    }
   ],
   "source": [
    "df.head()"
   ]
  },
  {
   "cell_type": "code",
   "execution_count": 5,
   "id": "750098faed98b2d7",
   "metadata": {
    "ExecuteTime": {
     "end_time": "2023-10-31T17:10:44.730988400Z",
     "start_time": "2023-10-31T17:07:40.201406300Z"
    },
    "collapsed": false
   },
   "outputs": [],
   "source": [
    "all_times = df.date_time.unique().compute()"
   ]
  },
  {
   "cell_type": "code",
   "execution_count": 6,
   "id": "97ae800d737c2d8d",
   "metadata": {
    "ExecuteTime": {
     "end_time": "2023-10-31T17:24:05.631454700Z",
     "start_time": "2023-10-31T17:10:44.699979Z"
    },
    "collapsed": false
   },
   "outputs": [],
   "source": [
    "time = all_times[0]\n",
    "df_data = df[(df.date_time==time) & (df.residential==1)].sort_values('ZIP_CODE')[['ACCOUNT_IDENTIFIER', 'energy']].compute()\n",
    "df_data = pd.merge(df_data, df_accs_points, on='ACCOUNT_IDENTIFIER')\n"
   ]
  },
  {
   "cell_type": "code",
   "execution_count": null,
   "id": "523c3333e1dfaead",
   "metadata": {
    "ExecuteTime": {
     "start_time": "2023-10-31T16:37:46.891151400Z"
    },
    "collapsed": false
   },
   "outputs": [],
   "source": [
    "df_data"
   ]
  },
  {
   "cell_type": "code",
   "execution_count": 1,
   "id": "bc34b5b108929926",
   "metadata": {
    "ExecuteTime": {
     "end_time": "2023-10-31T18:31:53.309660200Z",
     "start_time": "2023-10-31T18:31:52.443463200Z"
    },
    "collapsed": false
   },
   "outputs": [
    {
     "ename": "NameError",
     "evalue": "name 'ds' is not defined",
     "output_type": "error",
     "traceback": [
      "\u001b[1;31m---------------------------------------------------------------------------\u001b[0m",
      "\u001b[1;31mNameError\u001b[0m                                 Traceback (most recent call last)",
      "Cell \u001b[1;32mIn[1], line 4\u001b[0m\n\u001b[0;32m      1\u001b[0m plot_width  \u001b[38;5;241m=\u001b[39m \u001b[38;5;28mint\u001b[39m(\u001b[38;5;241m700\u001b[39m)\n\u001b[0;32m      2\u001b[0m plot_height \u001b[38;5;241m=\u001b[39m \u001b[38;5;28mint\u001b[39m(plot_width\u001b[38;5;241m/\u001b[39m\u001b[38;5;241m/\u001b[39m\u001b[38;5;241m1.2\u001b[39m)\n\u001b[1;32m----> 4\u001b[0m cvs \u001b[38;5;241m=\u001b[39m \u001b[43mds\u001b[49m\u001b[38;5;241m.\u001b[39mCanvas(plot_width\u001b[38;5;241m=\u001b[39mplot_width, plot_height\u001b[38;5;241m=\u001b[39mplot_height)\n\u001b[0;32m      5\u001b[0m agg \u001b[38;5;241m=\u001b[39m cvs\u001b[38;5;241m.\u001b[39mpoints(df_data, \u001b[38;5;124m'\u001b[39m\u001b[38;5;124mx\u001b[39m\u001b[38;5;124m'\u001b[39m, \u001b[38;5;124m'\u001b[39m\u001b[38;5;124my\u001b[39m\u001b[38;5;124m'\u001b[39m, ds\u001b[38;5;241m.\u001b[39mmax(\u001b[38;5;124m'\u001b[39m\u001b[38;5;124menergy\u001b[39m\u001b[38;5;124m'\u001b[39m))\n\u001b[0;32m      6\u001b[0m img \u001b[38;5;241m=\u001b[39m tf\u001b[38;5;241m.\u001b[39mshade(agg, cmap\u001b[38;5;241m=\u001b[39mcc\u001b[38;5;241m.\u001b[39mCET_L4, how\u001b[38;5;241m=\u001b[39m\u001b[38;5;124m'\u001b[39m\u001b[38;5;124mlinear\u001b[39m\u001b[38;5;124m'\u001b[39m, span\u001b[38;5;241m=\u001b[39m[\u001b[38;5;241m0\u001b[39m,\u001b[38;5;241m1\u001b[39m])\n",
      "\u001b[1;31mNameError\u001b[0m: name 'ds' is not defined"
     ]
    }
   ],
   "source": [
    "plot_width  = int(700)\n",
    "plot_height = int(plot_width//1.2)\n",
    "\n",
    "cvs = ds.Canvas(plot_width=plot_width, plot_height=plot_height)\n",
    "agg = cvs.points(df_data, 'x', 'y', ds.max('energy'))\n",
    "img = tf.shade(agg, cmap=cc.CET_L4, how='linear', span=[0,1])\n",
    "img\n",
    "export_image(img=img, filename='test', fmt=\".png\", export_path='../outputs/')\n"
   ]
  },
  {
   "cell_type": "code",
   "execution_count": 84,
   "id": "1a5a2193cf8b4380",
   "metadata": {
    "collapsed": false
   },
   "outputs": [
    {
     "ename": "NameError",
     "evalue": "name 'all_times' is not defined",
     "output_type": "error",
     "traceback": [
      "\u001b[1;31m---------------------------------------------------------------------------\u001b[0m",
      "\u001b[1;31mNameError\u001b[0m                                 Traceback (most recent call last)",
      "\u001b[1;32mj:\\PhD\\Projects\\chicago-energy-cons_bad\\notebooks\\DataShader.ipynb Cell 24\u001b[0m line \u001b[0;36m1\n\u001b[1;32m----> <a href='vscode-notebook-cell:/j%3A/PhD/Projects/chicago-energy-cons_bad/notebooks/DataShader.ipynb#X32sZmlsZQ%3D%3D?line=0'>1</a>\u001b[0m \u001b[39mfor\u001b[39;00m time \u001b[39min\u001b[39;00m all_times:\n\u001b[0;32m      <a href='vscode-notebook-cell:/j%3A/PhD/Projects/chicago-energy-cons_bad/notebooks/DataShader.ipynb#X32sZmlsZQ%3D%3D?line=1'>2</a>\u001b[0m     selected_date \u001b[39m=\u001b[39m time\n\u001b[0;32m      <a href='vscode-notebook-cell:/j%3A/PhD/Projects/chicago-energy-cons_bad/notebooks/DataShader.ipynb#X32sZmlsZQ%3D%3D?line=2'>3</a>\u001b[0m     df_data \u001b[39m=\u001b[39m df\n",
      "\u001b[1;31mNameError\u001b[0m: name 'all_times' is not defined"
     ]
    }
   ],
   "source": [
    "for time in all_times:\n",
    "    selected_date = time\n",
    "    df_data = df\n",
    "    df_data = df_data[df_data.date_time==selected_date].sort_values('zip5')\n",
    "    df_data = df_data.groupby(['zip5', 'residential'])[['n_acc', 'energy']].sum().reset_index()\n",
    "    df_data = pd.merge(df_data, df_max, on=['zip5', 'residential'])\n",
    "    df_data['norm_energy'] = df_data.energy / df_data.max_energy\n",
    "    df_data['n_acc'] = (acc_frac * df_data['n_acc']).astype(int) \n",
    "    df_data['energy'] = df_data.energy / df_data.n_acc\n",
    "    #df_data = df_data.loc[df_data.index.repeat(df_data.n_acc)][['zip5', 'residential', 'energy', 'norm_energy']]\n",
    "    df_data  = pd.merge(df_zips, df_data, on=['zip5', 'residential'])[['zip5', 'residential', 'norm_energy', 'energy', 'x', 'y']] \n",
    "    \n",
    "    plot_width  = int(350)\n",
    "    plot_height = int(plot_width//1.2)\n",
    "    \n",
    "    cvs = ds.Canvas(plot_width=plot_width, plot_height=plot_height)\n",
    "    agg = cvs.points(df_data, 'x', 'y', ds.max('norm_energy'))\n",
    "    img = tf.shade(agg, cmap=cc.CET_L4, how='linear', span=[0,1])\n",
    "    export_image(img=img, filename=str(time).replace(':', ''), fmt=\".png\", export_path='../outputs/datashader/images')\n",
    "    \n",
    "filenames = os.listdir('../outputs/datashader/images')\n",
    "images = []\n",
    "for filename in filenames:\n",
    "    images.append(imageio.imread(f'../outputs/datashader/images/{filename}'))\n",
    "imageio.mimsave('../outputs/datashader/movie/movie.gif', images)"
   ]
  },
  {
   "cell_type": "code",
   "execution_count": 87,
   "id": "b252547965502b5d",
   "metadata": {
    "collapsed": false
   },
   "outputs": [
    {
     "name": "stderr",
     "output_type": "stream",
     "text": [
      "C:\\Users\\Student\\AppData\\Local\\Temp\\ipykernel_5364\\3464283461.py:4: DeprecationWarning: Starting with ImageIO v3 the behavior of this function will switch to that of iio.v3.imread. To keep the current behavior (and make this warning disappear) use `import imageio.v2 as imageio` or call `imageio.v2.imread` directly.\n",
      "  images.append(imageio.imread(f'outputs/datashader/images_overlay/{filename}'))\n"
     ]
    }
   ],
   "source": [
    "filenames = os.listdir('outputs/datashader/images_overlay')\n",
    "images = []\n",
    "for filename in filenames:\n",
    "    images.append(imageio.imread(f'outputs/datashader/images_overlay/{filename}'))\n",
    "imageio.mimsave('outputs/datashader/movie/movie_yellow.gif', images)"
   ]
  },
  {
   "cell_type": "code",
   "execution_count": 20,
   "metadata": {},
   "outputs": [],
   "source": [
    "filenames_b = os.listdir('outputs/datashader/images_yellow')\n",
    "filenames_b.sort()\n",
    "\n",
    "filenames_o = os.listdir('outputs/datashader/images_yellow')\n",
    "filenames_o.sort()"
   ]
  },
  {
   "cell_type": "code",
   "execution_count": 3,
   "metadata": {},
   "outputs": [],
   "source": []
  },
  {
   "cell_type": "code",
   "execution_count": 101,
   "metadata": {},
   "outputs": [],
   "source": [
    "images = []\n",
    "\n",
    "for i in range(0, len(filenames_b)):\n",
    "    background = Image.open(f\"outputs/datashader/images_yellow/{filenames_b[i]}\")\n",
    "    black = Image.new(\"RGBA\", background.size, \"BLACK\")\n",
    "    black.paste(background, (0, 0), background)  \n",
    "    overlay = Image.open(f\"outputs/datashader/images_com/{filenames_o[i]}\")\n",
    "    background = background.convert(\"RGBA\")\n",
    "    overlay = overlay.convert(\"RGBA\")\n",
    "\n",
    "    #new_img = Image.blend(black, background, 0.5)\n",
    "    new_img = Image.blend(black, overlay, 0.5)\n",
    "    draw = ImageDraw.Draw(new_img)\n",
    "    font = ImageFont.truetype(font='data/fonts/times.ttf', size=20)\n",
    "    displ_time = datetime.strptime((filenames_b[i]).replace('.png', ''), '%Y-%m-%d %H%M%S').strftime('%A %H:%M')\n",
    "    draw.text((0, 500),displ_time,(255,255,255), font=font)\n",
    "    images.append(new_img)\n",
    "    #new_img.save(f\"outputs/datashader/images_overlay/{filenames_o[i]}\",\"PNG\")\n",
    "\n"
   ]
  },
  {
   "cell_type": "code",
   "execution_count": 104,
   "metadata": {},
   "outputs": [],
   "source": [
    "images[0].save('outputs/datashader/movie/movie_yellow.gif',\n",
    "               save_all=True,\n",
    "               format='GIF',\n",
    "               append_images=images[1:],\n",
    "               duration=120,disposal=2,\n",
    "               loop=1000)"
   ]
  },
  {
   "cell_type": "code",
   "execution_count": null,
   "metadata": {},
   "outputs": [],
   "source": []
  }
 ],
 "metadata": {
  "kernelspec": {
   "display_name": "Python 3",
   "language": "python",
   "name": "python3"
  },
  "language_info": {
   "codemirror_mode": {
    "name": "ipython",
    "version": 3
   },
   "file_extension": ".py",
   "mimetype": "text/x-python",
   "name": "python",
   "nbconvert_exporter": "python",
   "pygments_lexer": "ipython3",
   "version": "3.8.18"
  }
 },
 "nbformat": 4,
 "nbformat_minor": 5
}
