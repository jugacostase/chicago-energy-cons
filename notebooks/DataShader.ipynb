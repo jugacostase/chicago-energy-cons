{
 "cells": [
  {
   "cell_type": "code",
   "execution_count": 1,
   "id": "85a8baa3103b5a3f",
   "metadata": {
    "collapsed": true,
    "ExecuteTime": {
     "end_time": "2023-11-17T22:59:34.175417Z",
     "start_time": "2023-11-17T22:59:33.459640Z"
    }
   },
   "outputs": [],
   "source": [
    "import os\n",
    "import re\n",
    "import random\n",
    "from datetime import datetime\n",
    "import numpy as np\n",
    "import pandas as pd\n",
    "import geopandas as gpd\n",
    "import dask.dataframe as dd"
   ]
  },
  {
   "cell_type": "code",
   "execution_count": 32,
   "outputs": [
    {
     "data": {
      "application/javascript": "(function(root) {\n  function now() {\n    return new Date();\n  }\n\n  var force = true;\n  var py_version = '3.3.0'.replace('rc', '-rc.').replace('.dev', '-dev.');\n  var is_dev = py_version.indexOf(\"+\") !== -1 || py_version.indexOf(\"-\") !== -1;\n  var reloading = false;\n  var Bokeh = root.Bokeh;\n  var bokeh_loaded = Bokeh != null && (Bokeh.version === py_version || (Bokeh.versions !== undefined && Bokeh.versions.has(py_version)));\n\n  if (typeof (root._bokeh_timeout) === \"undefined\" || force) {\n    root._bokeh_timeout = Date.now() + 5000;\n    root._bokeh_failed_load = false;\n  }\n\n  function run_callbacks() {\n    try {\n      root._bokeh_onload_callbacks.forEach(function(callback) {\n        if (callback != null)\n          callback();\n      });\n    } finally {\n      delete root._bokeh_onload_callbacks;\n    }\n    console.debug(\"Bokeh: all callbacks have finished\");\n  }\n\n  function load_libs(css_urls, js_urls, js_modules, js_exports, callback) {\n    if (css_urls == null) css_urls = [];\n    if (js_urls == null) js_urls = [];\n    if (js_modules == null) js_modules = [];\n    if (js_exports == null) js_exports = {};\n\n    root._bokeh_onload_callbacks.push(callback);\n\n    if (root._bokeh_is_loading > 0) {\n      console.debug(\"Bokeh: BokehJS is being loaded, scheduling callback at\", now());\n      return null;\n    }\n    if (js_urls.length === 0 && js_modules.length === 0 && Object.keys(js_exports).length === 0) {\n      run_callbacks();\n      return null;\n    }\n    if (!reloading) {\n      console.debug(\"Bokeh: BokehJS not loaded, scheduling load and callback at\", now());\n    }\n\n    function on_load() {\n      root._bokeh_is_loading--;\n      if (root._bokeh_is_loading === 0) {\n        console.debug(\"Bokeh: all BokehJS libraries/stylesheets loaded\");\n        run_callbacks()\n      }\n    }\n    window._bokeh_on_load = on_load\n\n    function on_error() {\n      console.error(\"failed to load \" + url);\n    }\n\n    var skip = [];\n    if (window.requirejs) {\n      window.requirejs.config({'packages': {}, 'paths': {'jspanel': 'https://cdn.jsdelivr.net/npm/jspanel4@4.12.0/dist/jspanel', 'jspanel-modal': 'https://cdn.jsdelivr.net/npm/jspanel4@4.12.0/dist/extensions/modal/jspanel.modal', 'jspanel-tooltip': 'https://cdn.jsdelivr.net/npm/jspanel4@4.12.0/dist/extensions/tooltip/jspanel.tooltip', 'jspanel-hint': 'https://cdn.jsdelivr.net/npm/jspanel4@4.12.0/dist/extensions/hint/jspanel.hint', 'jspanel-layout': 'https://cdn.jsdelivr.net/npm/jspanel4@4.12.0/dist/extensions/layout/jspanel.layout', 'jspanel-contextmenu': 'https://cdn.jsdelivr.net/npm/jspanel4@4.12.0/dist/extensions/contextmenu/jspanel.contextmenu', 'jspanel-dock': 'https://cdn.jsdelivr.net/npm/jspanel4@4.12.0/dist/extensions/dock/jspanel.dock', 'gridstack': 'https://cdn.jsdelivr.net/npm/gridstack@7.2.3/dist/gridstack-all', 'notyf': 'https://cdn.jsdelivr.net/npm/notyf@3/notyf.min'}, 'shim': {'jspanel': {'exports': 'jsPanel'}, 'gridstack': {'exports': 'GridStack'}}});\n      require([\"jspanel\"], function(jsPanel) {\n\twindow.jsPanel = jsPanel\n\ton_load()\n      })\n      require([\"jspanel-modal\"], function() {\n\ton_load()\n      })\n      require([\"jspanel-tooltip\"], function() {\n\ton_load()\n      })\n      require([\"jspanel-hint\"], function() {\n\ton_load()\n      })\n      require([\"jspanel-layout\"], function() {\n\ton_load()\n      })\n      require([\"jspanel-contextmenu\"], function() {\n\ton_load()\n      })\n      require([\"jspanel-dock\"], function() {\n\ton_load()\n      })\n      require([\"gridstack\"], function(GridStack) {\n\twindow.GridStack = GridStack\n\ton_load()\n      })\n      require([\"notyf\"], function() {\n\ton_load()\n      })\n      root._bokeh_is_loading = css_urls.length + 9;\n    } else {\n      root._bokeh_is_loading = css_urls.length + js_urls.length + js_modules.length + Object.keys(js_exports).length;\n    }\n\n    var existing_stylesheets = []\n    var links = document.getElementsByTagName('link')\n    for (var i = 0; i < links.length; i++) {\n      var link = links[i]\n      if (link.href != null) {\n\texisting_stylesheets.push(link.href)\n      }\n    }\n    for (var i = 0; i < css_urls.length; i++) {\n      var url = css_urls[i];\n      if (existing_stylesheets.indexOf(url) !== -1) {\n\ton_load()\n\tcontinue;\n      }\n      const element = document.createElement(\"link\");\n      element.onload = on_load;\n      element.onerror = on_error;\n      element.rel = \"stylesheet\";\n      element.type = \"text/css\";\n      element.href = url;\n      console.debug(\"Bokeh: injecting link tag for BokehJS stylesheet: \", url);\n      document.body.appendChild(element);\n    }    if (((window['jsPanel'] !== undefined) && (!(window['jsPanel'] instanceof HTMLElement))) || window.requirejs) {\n      var urls = ['https://cdn.holoviz.org/panel/1.3.0/dist/bundled/floatpanel/jspanel4@4.12.0/dist/jspanel.js', 'https://cdn.holoviz.org/panel/1.3.0/dist/bundled/floatpanel/jspanel4@4.12.0/dist/extensions/modal/jspanel.modal.js', 'https://cdn.holoviz.org/panel/1.3.0/dist/bundled/floatpanel/jspanel4@4.12.0/dist/extensions/tooltip/jspanel.tooltip.js', 'https://cdn.holoviz.org/panel/1.3.0/dist/bundled/floatpanel/jspanel4@4.12.0/dist/extensions/hint/jspanel.hint.js', 'https://cdn.holoviz.org/panel/1.3.0/dist/bundled/floatpanel/jspanel4@4.12.0/dist/extensions/layout/jspanel.layout.js', 'https://cdn.holoviz.org/panel/1.3.0/dist/bundled/floatpanel/jspanel4@4.12.0/dist/extensions/contextmenu/jspanel.contextmenu.js', 'https://cdn.holoviz.org/panel/1.3.0/dist/bundled/floatpanel/jspanel4@4.12.0/dist/extensions/dock/jspanel.dock.js'];\n      for (var i = 0; i < urls.length; i++) {\n        skip.push(urls[i])\n      }\n    }    if (((window['GridStack'] !== undefined) && (!(window['GridStack'] instanceof HTMLElement))) || window.requirejs) {\n      var urls = ['https://cdn.holoviz.org/panel/1.3.0/dist/bundled/gridstack/gridstack@7.2.3/dist/gridstack-all.js'];\n      for (var i = 0; i < urls.length; i++) {\n        skip.push(urls[i])\n      }\n    }    if (((window['Notyf'] !== undefined) && (!(window['Notyf'] instanceof HTMLElement))) || window.requirejs) {\n      var urls = ['https://cdn.holoviz.org/panel/1.3.0/dist/bundled/notificationarea/notyf@3/notyf.min.js'];\n      for (var i = 0; i < urls.length; i++) {\n        skip.push(urls[i])\n      }\n    }    var existing_scripts = []\n    var scripts = document.getElementsByTagName('script')\n    for (var i = 0; i < scripts.length; i++) {\n      var script = scripts[i]\n      if (script.src != null) {\n\texisting_scripts.push(script.src)\n      }\n    }\n    for (var i = 0; i < js_urls.length; i++) {\n      var url = js_urls[i];\n      if (skip.indexOf(url) !== -1 || existing_scripts.indexOf(url) !== -1) {\n\tif (!window.requirejs) {\n\t  on_load();\n\t}\n\tcontinue;\n      }\n      var element = document.createElement('script');\n      element.onload = on_load;\n      element.onerror = on_error;\n      element.async = false;\n      element.src = url;\n      console.debug(\"Bokeh: injecting script tag for BokehJS library: \", url);\n      document.head.appendChild(element);\n    }\n    for (var i = 0; i < js_modules.length; i++) {\n      var url = js_modules[i];\n      if (skip.indexOf(url) !== -1 || existing_scripts.indexOf(url) !== -1) {\n\tif (!window.requirejs) {\n\t  on_load();\n\t}\n\tcontinue;\n      }\n      var element = document.createElement('script');\n      element.onload = on_load;\n      element.onerror = on_error;\n      element.async = false;\n      element.src = url;\n      element.type = \"module\";\n      console.debug(\"Bokeh: injecting script tag for BokehJS library: \", url);\n      document.head.appendChild(element);\n    }\n    for (const name in js_exports) {\n      var url = js_exports[name];\n      if (skip.indexOf(url) >= 0 || root[name] != null) {\n\tif (!window.requirejs) {\n\t  on_load();\n\t}\n\tcontinue;\n      }\n      var element = document.createElement('script');\n      element.onerror = on_error;\n      element.async = false;\n      element.type = \"module\";\n      console.debug(\"Bokeh: injecting script tag for BokehJS library: \", url);\n      element.textContent = `\n      import ${name} from \"${url}\"\n      window.${name} = ${name}\n      window._bokeh_on_load()\n      `\n      document.head.appendChild(element);\n    }\n    if (!js_urls.length && !js_modules.length) {\n      on_load()\n    }\n  };\n\n  function inject_raw_css(css) {\n    const element = document.createElement(\"style\");\n    element.appendChild(document.createTextNode(css));\n    document.body.appendChild(element);\n  }\n\n  var js_urls = [\"https://cdn.bokeh.org/bokeh/release/bokeh-3.3.0.min.js\", \"https://cdn.bokeh.org/bokeh/release/bokeh-gl-3.3.0.min.js\", \"https://cdn.bokeh.org/bokeh/release/bokeh-widgets-3.3.0.min.js\", \"https://cdn.bokeh.org/bokeh/release/bokeh-tables-3.3.0.min.js\", \"https://cdn.holoviz.org/panel/1.3.0/dist/panel.min.js\"];\n  var js_modules = [];\n  var js_exports = {};\n  var css_urls = [];\n  var inline_js = [    function(Bokeh) {\n      Bokeh.set_log_level(\"info\");\n    },\nfunction(Bokeh) {} // ensure no trailing comma for IE\n  ];\n\n  function run_inline_js() {\n    if ((root.Bokeh !== undefined) || (force === true)) {\n      for (var i = 0; i < inline_js.length; i++) {\n        inline_js[i].call(root, root.Bokeh);\n      }\n      // Cache old bokeh versions\n      if (Bokeh != undefined && !reloading) {\n\tvar NewBokeh = root.Bokeh;\n\tif (Bokeh.versions === undefined) {\n\t  Bokeh.versions = new Map();\n\t}\n\tif (NewBokeh.version !== Bokeh.version) {\n\t  Bokeh.versions.set(NewBokeh.version, NewBokeh)\n\t}\n\troot.Bokeh = Bokeh;\n      }} else if (Date.now() < root._bokeh_timeout) {\n      setTimeout(run_inline_js, 100);\n    } else if (!root._bokeh_failed_load) {\n      console.log(\"Bokeh: BokehJS failed to load within specified timeout.\");\n      root._bokeh_failed_load = true;\n    }\n    root._bokeh_is_initializing = false\n  }\n\n  function load_or_wait() {\n    // Implement a backoff loop that tries to ensure we do not load multiple\n    // versions of Bokeh and its dependencies at the same time.\n    // In recent versions we use the root._bokeh_is_initializing flag\n    // to determine whether there is an ongoing attempt to initialize\n    // bokeh, however for backward compatibility we also try to ensure\n    // that we do not start loading a newer (Panel>=1.0 and Bokeh>3) version\n    // before older versions are fully initialized.\n    if (root._bokeh_is_initializing && Date.now() > root._bokeh_timeout) {\n      root._bokeh_is_initializing = false;\n      root._bokeh_onload_callbacks = undefined;\n      console.log(\"Bokeh: BokehJS was loaded multiple times but one version failed to initialize.\");\n      load_or_wait();\n    } else if (root._bokeh_is_initializing || (typeof root._bokeh_is_initializing === \"undefined\" && root._bokeh_onload_callbacks !== undefined)) {\n      setTimeout(load_or_wait, 100);\n    } else {\n      Bokeh = root.Bokeh;\n      bokeh_loaded = Bokeh != null && (Bokeh.version === py_version || (Bokeh.versions !== undefined && Bokeh.versions.has(py_version)));\n      root._bokeh_is_initializing = true\n      root._bokeh_onload_callbacks = []\n      if (!reloading && (!bokeh_loaded || is_dev)) {\n\troot.Bokeh = undefined;\n      }\n      load_libs(css_urls, js_urls, js_modules, js_exports, function() {\n\tconsole.debug(\"Bokeh: BokehJS plotting callback run at\", now());\n\trun_inline_js();\n      });\n    }\n  }\n  // Give older versions of the autoload script a head-start to ensure\n  // they initialize before we start loading newer version.\n  setTimeout(load_or_wait, 100)\n}(window));",
      "application/vnd.holoviews_load.v0+json": "(function(root) {\n  function now() {\n    return new Date();\n  }\n\n  var force = true;\n  var py_version = '3.3.0'.replace('rc', '-rc.').replace('.dev', '-dev.');\n  var is_dev = py_version.indexOf(\"+\") !== -1 || py_version.indexOf(\"-\") !== -1;\n  var reloading = false;\n  var Bokeh = root.Bokeh;\n  var bokeh_loaded = Bokeh != null && (Bokeh.version === py_version || (Bokeh.versions !== undefined && Bokeh.versions.has(py_version)));\n\n  if (typeof (root._bokeh_timeout) === \"undefined\" || force) {\n    root._bokeh_timeout = Date.now() + 5000;\n    root._bokeh_failed_load = false;\n  }\n\n  function run_callbacks() {\n    try {\n      root._bokeh_onload_callbacks.forEach(function(callback) {\n        if (callback != null)\n          callback();\n      });\n    } finally {\n      delete root._bokeh_onload_callbacks;\n    }\n    console.debug(\"Bokeh: all callbacks have finished\");\n  }\n\n  function load_libs(css_urls, js_urls, js_modules, js_exports, callback) {\n    if (css_urls == null) css_urls = [];\n    if (js_urls == null) js_urls = [];\n    if (js_modules == null) js_modules = [];\n    if (js_exports == null) js_exports = {};\n\n    root._bokeh_onload_callbacks.push(callback);\n\n    if (root._bokeh_is_loading > 0) {\n      console.debug(\"Bokeh: BokehJS is being loaded, scheduling callback at\", now());\n      return null;\n    }\n    if (js_urls.length === 0 && js_modules.length === 0 && Object.keys(js_exports).length === 0) {\n      run_callbacks();\n      return null;\n    }\n    if (!reloading) {\n      console.debug(\"Bokeh: BokehJS not loaded, scheduling load and callback at\", now());\n    }\n\n    function on_load() {\n      root._bokeh_is_loading--;\n      if (root._bokeh_is_loading === 0) {\n        console.debug(\"Bokeh: all BokehJS libraries/stylesheets loaded\");\n        run_callbacks()\n      }\n    }\n    window._bokeh_on_load = on_load\n\n    function on_error() {\n      console.error(\"failed to load \" + url);\n    }\n\n    var skip = [];\n    if (window.requirejs) {\n      window.requirejs.config({'packages': {}, 'paths': {'jspanel': 'https://cdn.jsdelivr.net/npm/jspanel4@4.12.0/dist/jspanel', 'jspanel-modal': 'https://cdn.jsdelivr.net/npm/jspanel4@4.12.0/dist/extensions/modal/jspanel.modal', 'jspanel-tooltip': 'https://cdn.jsdelivr.net/npm/jspanel4@4.12.0/dist/extensions/tooltip/jspanel.tooltip', 'jspanel-hint': 'https://cdn.jsdelivr.net/npm/jspanel4@4.12.0/dist/extensions/hint/jspanel.hint', 'jspanel-layout': 'https://cdn.jsdelivr.net/npm/jspanel4@4.12.0/dist/extensions/layout/jspanel.layout', 'jspanel-contextmenu': 'https://cdn.jsdelivr.net/npm/jspanel4@4.12.0/dist/extensions/contextmenu/jspanel.contextmenu', 'jspanel-dock': 'https://cdn.jsdelivr.net/npm/jspanel4@4.12.0/dist/extensions/dock/jspanel.dock', 'gridstack': 'https://cdn.jsdelivr.net/npm/gridstack@7.2.3/dist/gridstack-all', 'notyf': 'https://cdn.jsdelivr.net/npm/notyf@3/notyf.min'}, 'shim': {'jspanel': {'exports': 'jsPanel'}, 'gridstack': {'exports': 'GridStack'}}});\n      require([\"jspanel\"], function(jsPanel) {\n\twindow.jsPanel = jsPanel\n\ton_load()\n      })\n      require([\"jspanel-modal\"], function() {\n\ton_load()\n      })\n      require([\"jspanel-tooltip\"], function() {\n\ton_load()\n      })\n      require([\"jspanel-hint\"], function() {\n\ton_load()\n      })\n      require([\"jspanel-layout\"], function() {\n\ton_load()\n      })\n      require([\"jspanel-contextmenu\"], function() {\n\ton_load()\n      })\n      require([\"jspanel-dock\"], function() {\n\ton_load()\n      })\n      require([\"gridstack\"], function(GridStack) {\n\twindow.GridStack = GridStack\n\ton_load()\n      })\n      require([\"notyf\"], function() {\n\ton_load()\n      })\n      root._bokeh_is_loading = css_urls.length + 9;\n    } else {\n      root._bokeh_is_loading = css_urls.length + js_urls.length + js_modules.length + Object.keys(js_exports).length;\n    }\n\n    var existing_stylesheets = []\n    var links = document.getElementsByTagName('link')\n    for (var i = 0; i < links.length; i++) {\n      var link = links[i]\n      if (link.href != null) {\n\texisting_stylesheets.push(link.href)\n      }\n    }\n    for (var i = 0; i < css_urls.length; i++) {\n      var url = css_urls[i];\n      if (existing_stylesheets.indexOf(url) !== -1) {\n\ton_load()\n\tcontinue;\n      }\n      const element = document.createElement(\"link\");\n      element.onload = on_load;\n      element.onerror = on_error;\n      element.rel = \"stylesheet\";\n      element.type = \"text/css\";\n      element.href = url;\n      console.debug(\"Bokeh: injecting link tag for BokehJS stylesheet: \", url);\n      document.body.appendChild(element);\n    }    if (((window['jsPanel'] !== undefined) && (!(window['jsPanel'] instanceof HTMLElement))) || window.requirejs) {\n      var urls = ['https://cdn.holoviz.org/panel/1.3.0/dist/bundled/floatpanel/jspanel4@4.12.0/dist/jspanel.js', 'https://cdn.holoviz.org/panel/1.3.0/dist/bundled/floatpanel/jspanel4@4.12.0/dist/extensions/modal/jspanel.modal.js', 'https://cdn.holoviz.org/panel/1.3.0/dist/bundled/floatpanel/jspanel4@4.12.0/dist/extensions/tooltip/jspanel.tooltip.js', 'https://cdn.holoviz.org/panel/1.3.0/dist/bundled/floatpanel/jspanel4@4.12.0/dist/extensions/hint/jspanel.hint.js', 'https://cdn.holoviz.org/panel/1.3.0/dist/bundled/floatpanel/jspanel4@4.12.0/dist/extensions/layout/jspanel.layout.js', 'https://cdn.holoviz.org/panel/1.3.0/dist/bundled/floatpanel/jspanel4@4.12.0/dist/extensions/contextmenu/jspanel.contextmenu.js', 'https://cdn.holoviz.org/panel/1.3.0/dist/bundled/floatpanel/jspanel4@4.12.0/dist/extensions/dock/jspanel.dock.js'];\n      for (var i = 0; i < urls.length; i++) {\n        skip.push(urls[i])\n      }\n    }    if (((window['GridStack'] !== undefined) && (!(window['GridStack'] instanceof HTMLElement))) || window.requirejs) {\n      var urls = ['https://cdn.holoviz.org/panel/1.3.0/dist/bundled/gridstack/gridstack@7.2.3/dist/gridstack-all.js'];\n      for (var i = 0; i < urls.length; i++) {\n        skip.push(urls[i])\n      }\n    }    if (((window['Notyf'] !== undefined) && (!(window['Notyf'] instanceof HTMLElement))) || window.requirejs) {\n      var urls = ['https://cdn.holoviz.org/panel/1.3.0/dist/bundled/notificationarea/notyf@3/notyf.min.js'];\n      for (var i = 0; i < urls.length; i++) {\n        skip.push(urls[i])\n      }\n    }    var existing_scripts = []\n    var scripts = document.getElementsByTagName('script')\n    for (var i = 0; i < scripts.length; i++) {\n      var script = scripts[i]\n      if (script.src != null) {\n\texisting_scripts.push(script.src)\n      }\n    }\n    for (var i = 0; i < js_urls.length; i++) {\n      var url = js_urls[i];\n      if (skip.indexOf(url) !== -1 || existing_scripts.indexOf(url) !== -1) {\n\tif (!window.requirejs) {\n\t  on_load();\n\t}\n\tcontinue;\n      }\n      var element = document.createElement('script');\n      element.onload = on_load;\n      element.onerror = on_error;\n      element.async = false;\n      element.src = url;\n      console.debug(\"Bokeh: injecting script tag for BokehJS library: \", url);\n      document.head.appendChild(element);\n    }\n    for (var i = 0; i < js_modules.length; i++) {\n      var url = js_modules[i];\n      if (skip.indexOf(url) !== -1 || existing_scripts.indexOf(url) !== -1) {\n\tif (!window.requirejs) {\n\t  on_load();\n\t}\n\tcontinue;\n      }\n      var element = document.createElement('script');\n      element.onload = on_load;\n      element.onerror = on_error;\n      element.async = false;\n      element.src = url;\n      element.type = \"module\";\n      console.debug(\"Bokeh: injecting script tag for BokehJS library: \", url);\n      document.head.appendChild(element);\n    }\n    for (const name in js_exports) {\n      var url = js_exports[name];\n      if (skip.indexOf(url) >= 0 || root[name] != null) {\n\tif (!window.requirejs) {\n\t  on_load();\n\t}\n\tcontinue;\n      }\n      var element = document.createElement('script');\n      element.onerror = on_error;\n      element.async = false;\n      element.type = \"module\";\n      console.debug(\"Bokeh: injecting script tag for BokehJS library: \", url);\n      element.textContent = `\n      import ${name} from \"${url}\"\n      window.${name} = ${name}\n      window._bokeh_on_load()\n      `\n      document.head.appendChild(element);\n    }\n    if (!js_urls.length && !js_modules.length) {\n      on_load()\n    }\n  };\n\n  function inject_raw_css(css) {\n    const element = document.createElement(\"style\");\n    element.appendChild(document.createTextNode(css));\n    document.body.appendChild(element);\n  }\n\n  var js_urls = [\"https://cdn.bokeh.org/bokeh/release/bokeh-3.3.0.min.js\", \"https://cdn.bokeh.org/bokeh/release/bokeh-gl-3.3.0.min.js\", \"https://cdn.bokeh.org/bokeh/release/bokeh-widgets-3.3.0.min.js\", \"https://cdn.bokeh.org/bokeh/release/bokeh-tables-3.3.0.min.js\", \"https://cdn.holoviz.org/panel/1.3.0/dist/panel.min.js\"];\n  var js_modules = [];\n  var js_exports = {};\n  var css_urls = [];\n  var inline_js = [    function(Bokeh) {\n      Bokeh.set_log_level(\"info\");\n    },\nfunction(Bokeh) {} // ensure no trailing comma for IE\n  ];\n\n  function run_inline_js() {\n    if ((root.Bokeh !== undefined) || (force === true)) {\n      for (var i = 0; i < inline_js.length; i++) {\n        inline_js[i].call(root, root.Bokeh);\n      }\n      // Cache old bokeh versions\n      if (Bokeh != undefined && !reloading) {\n\tvar NewBokeh = root.Bokeh;\n\tif (Bokeh.versions === undefined) {\n\t  Bokeh.versions = new Map();\n\t}\n\tif (NewBokeh.version !== Bokeh.version) {\n\t  Bokeh.versions.set(NewBokeh.version, NewBokeh)\n\t}\n\troot.Bokeh = Bokeh;\n      }} else if (Date.now() < root._bokeh_timeout) {\n      setTimeout(run_inline_js, 100);\n    } else if (!root._bokeh_failed_load) {\n      console.log(\"Bokeh: BokehJS failed to load within specified timeout.\");\n      root._bokeh_failed_load = true;\n    }\n    root._bokeh_is_initializing = false\n  }\n\n  function load_or_wait() {\n    // Implement a backoff loop that tries to ensure we do not load multiple\n    // versions of Bokeh and its dependencies at the same time.\n    // In recent versions we use the root._bokeh_is_initializing flag\n    // to determine whether there is an ongoing attempt to initialize\n    // bokeh, however for backward compatibility we also try to ensure\n    // that we do not start loading a newer (Panel>=1.0 and Bokeh>3) version\n    // before older versions are fully initialized.\n    if (root._bokeh_is_initializing && Date.now() > root._bokeh_timeout) {\n      root._bokeh_is_initializing = false;\n      root._bokeh_onload_callbacks = undefined;\n      console.log(\"Bokeh: BokehJS was loaded multiple times but one version failed to initialize.\");\n      load_or_wait();\n    } else if (root._bokeh_is_initializing || (typeof root._bokeh_is_initializing === \"undefined\" && root._bokeh_onload_callbacks !== undefined)) {\n      setTimeout(load_or_wait, 100);\n    } else {\n      Bokeh = root.Bokeh;\n      bokeh_loaded = Bokeh != null && (Bokeh.version === py_version || (Bokeh.versions !== undefined && Bokeh.versions.has(py_version)));\n      root._bokeh_is_initializing = true\n      root._bokeh_onload_callbacks = []\n      if (!reloading && (!bokeh_loaded || is_dev)) {\n\troot.Bokeh = undefined;\n      }\n      load_libs(css_urls, js_urls, js_modules, js_exports, function() {\n\tconsole.debug(\"Bokeh: BokehJS plotting callback run at\", now());\n\trun_inline_js();\n      });\n    }\n  }\n  // Give older versions of the autoload script a head-start to ensure\n  // they initialize before we start loading newer version.\n  setTimeout(load_or_wait, 100)\n}(window));"
     },
     "metadata": {},
     "output_type": "display_data"
    },
    {
     "data": {
      "application/vnd.holoviews_load.v0+json": "\nif ((window.PyViz === undefined) || (window.PyViz instanceof HTMLElement)) {\n  window.PyViz = {comms: {}, comm_status:{}, kernels:{}, receivers: {}, plot_index: []}\n}\n\n\n    function JupyterCommManager() {\n    }\n\n    JupyterCommManager.prototype.register_target = function(plot_id, comm_id, msg_handler) {\n      if (window.comm_manager || ((window.Jupyter !== undefined) && (Jupyter.notebook.kernel != null))) {\n        var comm_manager = window.comm_manager || Jupyter.notebook.kernel.comm_manager;\n        comm_manager.register_target(comm_id, function(comm) {\n          comm.on_msg(msg_handler);\n        });\n      } else if ((plot_id in window.PyViz.kernels) && (window.PyViz.kernels[plot_id])) {\n        window.PyViz.kernels[plot_id].registerCommTarget(comm_id, function(comm) {\n          comm.onMsg = msg_handler;\n        });\n      } else if (typeof google != 'undefined' && google.colab.kernel != null) {\n        google.colab.kernel.comms.registerTarget(comm_id, (comm) => {\n          var messages = comm.messages[Symbol.asyncIterator]();\n          function processIteratorResult(result) {\n            var message = result.value;\n            console.log(message)\n            var content = {data: message.data, comm_id};\n            var buffers = []\n            for (var buffer of message.buffers || []) {\n              buffers.push(new DataView(buffer))\n            }\n            var metadata = message.metadata || {};\n            var msg = {content, buffers, metadata}\n            msg_handler(msg);\n            return messages.next().then(processIteratorResult);\n          }\n          return messages.next().then(processIteratorResult);\n        })\n      }\n    }\n\n    JupyterCommManager.prototype.get_client_comm = function(plot_id, comm_id, msg_handler) {\n      if (comm_id in window.PyViz.comms) {\n        return window.PyViz.comms[comm_id];\n      } else if (window.comm_manager || ((window.Jupyter !== undefined) && (Jupyter.notebook.kernel != null))) {\n        var comm_manager = window.comm_manager || Jupyter.notebook.kernel.comm_manager;\n        var comm = comm_manager.new_comm(comm_id, {}, {}, {}, comm_id);\n        if (msg_handler) {\n          comm.on_msg(msg_handler);\n        }\n      } else if ((plot_id in window.PyViz.kernels) && (window.PyViz.kernels[plot_id])) {\n        var comm = window.PyViz.kernels[plot_id].connectToComm(comm_id);\n        comm.open();\n        if (msg_handler) {\n          comm.onMsg = msg_handler;\n        }\n      } else if (typeof google != 'undefined' && google.colab.kernel != null) {\n        var comm_promise = google.colab.kernel.comms.open(comm_id)\n        comm_promise.then((comm) => {\n          window.PyViz.comms[comm_id] = comm;\n          if (msg_handler) {\n            var messages = comm.messages[Symbol.asyncIterator]();\n            function processIteratorResult(result) {\n              var message = result.value;\n              var content = {data: message.data};\n              var metadata = message.metadata || {comm_id};\n              var msg = {content, metadata}\n              msg_handler(msg);\n              return messages.next().then(processIteratorResult);\n            }\n            return messages.next().then(processIteratorResult);\n          }\n        }) \n        var sendClosure = (data, metadata, buffers, disposeOnDone) => {\n          return comm_promise.then((comm) => {\n            comm.send(data, metadata, buffers, disposeOnDone);\n          });\n        };\n        var comm = {\n          send: sendClosure\n        };\n      }\n      window.PyViz.comms[comm_id] = comm;\n      return comm;\n    }\n    window.PyViz.comm_manager = new JupyterCommManager();\n    \n\n\nvar JS_MIME_TYPE = 'application/javascript';\nvar HTML_MIME_TYPE = 'text/html';\nvar EXEC_MIME_TYPE = 'application/vnd.holoviews_exec.v0+json';\nvar CLASS_NAME = 'output';\n\n/**\n * Render data to the DOM node\n */\nfunction render(props, node) {\n  var div = document.createElement(\"div\");\n  var script = document.createElement(\"script\");\n  node.appendChild(div);\n  node.appendChild(script);\n}\n\n/**\n * Handle when a new output is added\n */\nfunction handle_add_output(event, handle) {\n  var output_area = handle.output_area;\n  var output = handle.output;\n  if ((output.data == undefined) || (!output.data.hasOwnProperty(EXEC_MIME_TYPE))) {\n    return\n  }\n  var id = output.metadata[EXEC_MIME_TYPE][\"id\"];\n  var toinsert = output_area.element.find(\".\" + CLASS_NAME.split(' ')[0]);\n  if (id !== undefined) {\n    var nchildren = toinsert.length;\n    var html_node = toinsert[nchildren-1].children[0];\n    html_node.innerHTML = output.data[HTML_MIME_TYPE];\n    var scripts = [];\n    var nodelist = html_node.querySelectorAll(\"script\");\n    for (var i in nodelist) {\n      if (nodelist.hasOwnProperty(i)) {\n        scripts.push(nodelist[i])\n      }\n    }\n\n    scripts.forEach( function (oldScript) {\n      var newScript = document.createElement(\"script\");\n      var attrs = [];\n      var nodemap = oldScript.attributes;\n      for (var j in nodemap) {\n        if (nodemap.hasOwnProperty(j)) {\n          attrs.push(nodemap[j])\n        }\n      }\n      attrs.forEach(function(attr) { newScript.setAttribute(attr.name, attr.value) });\n      newScript.appendChild(document.createTextNode(oldScript.innerHTML));\n      oldScript.parentNode.replaceChild(newScript, oldScript);\n    });\n    if (JS_MIME_TYPE in output.data) {\n      toinsert[nchildren-1].children[1].textContent = output.data[JS_MIME_TYPE];\n    }\n    output_area._hv_plot_id = id;\n    if ((window.Bokeh !== undefined) && (id in Bokeh.index)) {\n      window.PyViz.plot_index[id] = Bokeh.index[id];\n    } else {\n      window.PyViz.plot_index[id] = null;\n    }\n  } else if (output.metadata[EXEC_MIME_TYPE][\"server_id\"] !== undefined) {\n    var bk_div = document.createElement(\"div\");\n    bk_div.innerHTML = output.data[HTML_MIME_TYPE];\n    var script_attrs = bk_div.children[0].attributes;\n    for (var i = 0; i < script_attrs.length; i++) {\n      toinsert[toinsert.length - 1].childNodes[1].setAttribute(script_attrs[i].name, script_attrs[i].value);\n    }\n    // store reference to server id on output_area\n    output_area._bokeh_server_id = output.metadata[EXEC_MIME_TYPE][\"server_id\"];\n  }\n}\n\n/**\n * Handle when an output is cleared or removed\n */\nfunction handle_clear_output(event, handle) {\n  var id = handle.cell.output_area._hv_plot_id;\n  var server_id = handle.cell.output_area._bokeh_server_id;\n  if (((id === undefined) || !(id in PyViz.plot_index)) && (server_id !== undefined)) { return; }\n  var comm = window.PyViz.comm_manager.get_client_comm(\"hv-extension-comm\", \"hv-extension-comm\", function () {});\n  if (server_id !== null) {\n    comm.send({event_type: 'server_delete', 'id': server_id});\n    return;\n  } else if (comm !== null) {\n    comm.send({event_type: 'delete', 'id': id});\n  }\n  delete PyViz.plot_index[id];\n  if ((window.Bokeh !== undefined) & (id in window.Bokeh.index)) {\n    var doc = window.Bokeh.index[id].model.document\n    doc.clear();\n    const i = window.Bokeh.documents.indexOf(doc);\n    if (i > -1) {\n      window.Bokeh.documents.splice(i, 1);\n    }\n  }\n}\n\n/**\n * Handle kernel restart event\n */\nfunction handle_kernel_cleanup(event, handle) {\n  delete PyViz.comms[\"hv-extension-comm\"];\n  window.PyViz.plot_index = {}\n}\n\n/**\n * Handle update_display_data messages\n */\nfunction handle_update_output(event, handle) {\n  handle_clear_output(event, {cell: {output_area: handle.output_area}})\n  handle_add_output(event, handle)\n}\n\nfunction register_renderer(events, OutputArea) {\n  function append_mime(data, metadata, element) {\n    // create a DOM node to render to\n    var toinsert = this.create_output_subarea(\n    metadata,\n    CLASS_NAME,\n    EXEC_MIME_TYPE\n    );\n    this.keyboard_manager.register_events(toinsert);\n    // Render to node\n    var props = {data: data, metadata: metadata[EXEC_MIME_TYPE]};\n    render(props, toinsert[0]);\n    element.append(toinsert);\n    return toinsert\n  }\n\n  events.on('output_added.OutputArea', handle_add_output);\n  events.on('output_updated.OutputArea', handle_update_output);\n  events.on('clear_output.CodeCell', handle_clear_output);\n  events.on('delete.Cell', handle_clear_output);\n  events.on('kernel_ready.Kernel', handle_kernel_cleanup);\n\n  OutputArea.prototype.register_mime_type(EXEC_MIME_TYPE, append_mime, {\n    safe: true,\n    index: 0\n  });\n}\n\nif (window.Jupyter !== undefined) {\n  try {\n    var events = require('base/js/events');\n    var OutputArea = require('notebook/js/outputarea').OutputArea;\n    if (OutputArea.prototype.mime_types().indexOf(EXEC_MIME_TYPE) == -1) {\n      register_renderer(events, OutputArea);\n    }\n  } catch(err) {\n  }\n}\n",
      "application/javascript": "\nif ((window.PyViz === undefined) || (window.PyViz instanceof HTMLElement)) {\n  window.PyViz = {comms: {}, comm_status:{}, kernels:{}, receivers: {}, plot_index: []}\n}\n\n\n    function JupyterCommManager() {\n    }\n\n    JupyterCommManager.prototype.register_target = function(plot_id, comm_id, msg_handler) {\n      if (window.comm_manager || ((window.Jupyter !== undefined) && (Jupyter.notebook.kernel != null))) {\n        var comm_manager = window.comm_manager || Jupyter.notebook.kernel.comm_manager;\n        comm_manager.register_target(comm_id, function(comm) {\n          comm.on_msg(msg_handler);\n        });\n      } else if ((plot_id in window.PyViz.kernels) && (window.PyViz.kernels[plot_id])) {\n        window.PyViz.kernels[plot_id].registerCommTarget(comm_id, function(comm) {\n          comm.onMsg = msg_handler;\n        });\n      } else if (typeof google != 'undefined' && google.colab.kernel != null) {\n        google.colab.kernel.comms.registerTarget(comm_id, (comm) => {\n          var messages = comm.messages[Symbol.asyncIterator]();\n          function processIteratorResult(result) {\n            var message = result.value;\n            console.log(message)\n            var content = {data: message.data, comm_id};\n            var buffers = []\n            for (var buffer of message.buffers || []) {\n              buffers.push(new DataView(buffer))\n            }\n            var metadata = message.metadata || {};\n            var msg = {content, buffers, metadata}\n            msg_handler(msg);\n            return messages.next().then(processIteratorResult);\n          }\n          return messages.next().then(processIteratorResult);\n        })\n      }\n    }\n\n    JupyterCommManager.prototype.get_client_comm = function(plot_id, comm_id, msg_handler) {\n      if (comm_id in window.PyViz.comms) {\n        return window.PyViz.comms[comm_id];\n      } else if (window.comm_manager || ((window.Jupyter !== undefined) && (Jupyter.notebook.kernel != null))) {\n        var comm_manager = window.comm_manager || Jupyter.notebook.kernel.comm_manager;\n        var comm = comm_manager.new_comm(comm_id, {}, {}, {}, comm_id);\n        if (msg_handler) {\n          comm.on_msg(msg_handler);\n        }\n      } else if ((plot_id in window.PyViz.kernels) && (window.PyViz.kernels[plot_id])) {\n        var comm = window.PyViz.kernels[plot_id].connectToComm(comm_id);\n        comm.open();\n        if (msg_handler) {\n          comm.onMsg = msg_handler;\n        }\n      } else if (typeof google != 'undefined' && google.colab.kernel != null) {\n        var comm_promise = google.colab.kernel.comms.open(comm_id)\n        comm_promise.then((comm) => {\n          window.PyViz.comms[comm_id] = comm;\n          if (msg_handler) {\n            var messages = comm.messages[Symbol.asyncIterator]();\n            function processIteratorResult(result) {\n              var message = result.value;\n              var content = {data: message.data};\n              var metadata = message.metadata || {comm_id};\n              var msg = {content, metadata}\n              msg_handler(msg);\n              return messages.next().then(processIteratorResult);\n            }\n            return messages.next().then(processIteratorResult);\n          }\n        }) \n        var sendClosure = (data, metadata, buffers, disposeOnDone) => {\n          return comm_promise.then((comm) => {\n            comm.send(data, metadata, buffers, disposeOnDone);\n          });\n        };\n        var comm = {\n          send: sendClosure\n        };\n      }\n      window.PyViz.comms[comm_id] = comm;\n      return comm;\n    }\n    window.PyViz.comm_manager = new JupyterCommManager();\n    \n\n\nvar JS_MIME_TYPE = 'application/javascript';\nvar HTML_MIME_TYPE = 'text/html';\nvar EXEC_MIME_TYPE = 'application/vnd.holoviews_exec.v0+json';\nvar CLASS_NAME = 'output';\n\n/**\n * Render data to the DOM node\n */\nfunction render(props, node) {\n  var div = document.createElement(\"div\");\n  var script = document.createElement(\"script\");\n  node.appendChild(div);\n  node.appendChild(script);\n}\n\n/**\n * Handle when a new output is added\n */\nfunction handle_add_output(event, handle) {\n  var output_area = handle.output_area;\n  var output = handle.output;\n  if ((output.data == undefined) || (!output.data.hasOwnProperty(EXEC_MIME_TYPE))) {\n    return\n  }\n  var id = output.metadata[EXEC_MIME_TYPE][\"id\"];\n  var toinsert = output_area.element.find(\".\" + CLASS_NAME.split(' ')[0]);\n  if (id !== undefined) {\n    var nchildren = toinsert.length;\n    var html_node = toinsert[nchildren-1].children[0];\n    html_node.innerHTML = output.data[HTML_MIME_TYPE];\n    var scripts = [];\n    var nodelist = html_node.querySelectorAll(\"script\");\n    for (var i in nodelist) {\n      if (nodelist.hasOwnProperty(i)) {\n        scripts.push(nodelist[i])\n      }\n    }\n\n    scripts.forEach( function (oldScript) {\n      var newScript = document.createElement(\"script\");\n      var attrs = [];\n      var nodemap = oldScript.attributes;\n      for (var j in nodemap) {\n        if (nodemap.hasOwnProperty(j)) {\n          attrs.push(nodemap[j])\n        }\n      }\n      attrs.forEach(function(attr) { newScript.setAttribute(attr.name, attr.value) });\n      newScript.appendChild(document.createTextNode(oldScript.innerHTML));\n      oldScript.parentNode.replaceChild(newScript, oldScript);\n    });\n    if (JS_MIME_TYPE in output.data) {\n      toinsert[nchildren-1].children[1].textContent = output.data[JS_MIME_TYPE];\n    }\n    output_area._hv_plot_id = id;\n    if ((window.Bokeh !== undefined) && (id in Bokeh.index)) {\n      window.PyViz.plot_index[id] = Bokeh.index[id];\n    } else {\n      window.PyViz.plot_index[id] = null;\n    }\n  } else if (output.metadata[EXEC_MIME_TYPE][\"server_id\"] !== undefined) {\n    var bk_div = document.createElement(\"div\");\n    bk_div.innerHTML = output.data[HTML_MIME_TYPE];\n    var script_attrs = bk_div.children[0].attributes;\n    for (var i = 0; i < script_attrs.length; i++) {\n      toinsert[toinsert.length - 1].childNodes[1].setAttribute(script_attrs[i].name, script_attrs[i].value);\n    }\n    // store reference to server id on output_area\n    output_area._bokeh_server_id = output.metadata[EXEC_MIME_TYPE][\"server_id\"];\n  }\n}\n\n/**\n * Handle when an output is cleared or removed\n */\nfunction handle_clear_output(event, handle) {\n  var id = handle.cell.output_area._hv_plot_id;\n  var server_id = handle.cell.output_area._bokeh_server_id;\n  if (((id === undefined) || !(id in PyViz.plot_index)) && (server_id !== undefined)) { return; }\n  var comm = window.PyViz.comm_manager.get_client_comm(\"hv-extension-comm\", \"hv-extension-comm\", function () {});\n  if (server_id !== null) {\n    comm.send({event_type: 'server_delete', 'id': server_id});\n    return;\n  } else if (comm !== null) {\n    comm.send({event_type: 'delete', 'id': id});\n  }\n  delete PyViz.plot_index[id];\n  if ((window.Bokeh !== undefined) & (id in window.Bokeh.index)) {\n    var doc = window.Bokeh.index[id].model.document\n    doc.clear();\n    const i = window.Bokeh.documents.indexOf(doc);\n    if (i > -1) {\n      window.Bokeh.documents.splice(i, 1);\n    }\n  }\n}\n\n/**\n * Handle kernel restart event\n */\nfunction handle_kernel_cleanup(event, handle) {\n  delete PyViz.comms[\"hv-extension-comm\"];\n  window.PyViz.plot_index = {}\n}\n\n/**\n * Handle update_display_data messages\n */\nfunction handle_update_output(event, handle) {\n  handle_clear_output(event, {cell: {output_area: handle.output_area}})\n  handle_add_output(event, handle)\n}\n\nfunction register_renderer(events, OutputArea) {\n  function append_mime(data, metadata, element) {\n    // create a DOM node to render to\n    var toinsert = this.create_output_subarea(\n    metadata,\n    CLASS_NAME,\n    EXEC_MIME_TYPE\n    );\n    this.keyboard_manager.register_events(toinsert);\n    // Render to node\n    var props = {data: data, metadata: metadata[EXEC_MIME_TYPE]};\n    render(props, toinsert[0]);\n    element.append(toinsert);\n    return toinsert\n  }\n\n  events.on('output_added.OutputArea', handle_add_output);\n  events.on('output_updated.OutputArea', handle_update_output);\n  events.on('clear_output.CodeCell', handle_clear_output);\n  events.on('delete.Cell', handle_clear_output);\n  events.on('kernel_ready.Kernel', handle_kernel_cleanup);\n\n  OutputArea.prototype.register_mime_type(EXEC_MIME_TYPE, append_mime, {\n    safe: true,\n    index: 0\n  });\n}\n\nif (window.Jupyter !== undefined) {\n  try {\n    var events = require('base/js/events');\n    var OutputArea = require('notebook/js/outputarea').OutputArea;\n    if (OutputArea.prototype.mime_types().indexOf(EXEC_MIME_TYPE) == -1) {\n      register_renderer(events, OutputArea);\n    }\n  } catch(err) {\n  }\n}\n"
     },
     "metadata": {},
     "output_type": "display_data"
    },
    {
     "data": {
      "text/html": "<style>*[data-root-id],\n*[data-root-id] > * {\n  box-sizing: border-box;\n  font-family: var(--jp-ui-font-family);\n  font-size: var(--jp-ui-font-size1);\n  color: var(--vscode-editor-foreground, var(--jp-ui-font-color1));\n}\n\n/* Override VSCode background color */\n.cell-output-ipywidget-background:has(\n    > .cell-output-ipywidget-background > .lm-Widget > *[data-root-id]\n  ),\n.cell-output-ipywidget-background:has(> .lm-Widget > *[data-root-id]) {\n  background-color: transparent !important;\n}\n</style>"
     },
     "metadata": {},
     "output_type": "display_data"
    },
    {
     "data": {
      "text/html": "<div id='p1004'>\n  <div id=\"c0591ec2-535b-4ddf-9b41-0ee65dd059fb\" data-root-id=\"p1004\" style=\"display: contents;\"></div>\n</div>\n<script type=\"application/javascript\">(function(root) {\n  var docs_json = {\"659eb24f-4ee8-4087-ab31-b8d944ded56c\":{\"version\":\"3.3.0\",\"title\":\"Bokeh Application\",\"roots\":[{\"type\":\"object\",\"name\":\"panel.models.browser.BrowserInfo\",\"id\":\"p1004\"},{\"type\":\"object\",\"name\":\"panel.models.comm_manager.CommManager\",\"id\":\"p1005\",\"attributes\":{\"plot_id\":\"p1004\",\"comm_id\":\"c0d00b56fbb1400ba8a96b096bcc4270\",\"client_comm_id\":\"9d7f3d0d24604ba891a3eea62fee8f69\"}}],\"defs\":[{\"type\":\"model\",\"name\":\"ReactiveHTML1\"},{\"type\":\"model\",\"name\":\"FlexBox1\",\"properties\":[{\"name\":\"align_content\",\"kind\":\"Any\",\"default\":\"flex-start\"},{\"name\":\"align_items\",\"kind\":\"Any\",\"default\":\"flex-start\"},{\"name\":\"flex_direction\",\"kind\":\"Any\",\"default\":\"row\"},{\"name\":\"flex_wrap\",\"kind\":\"Any\",\"default\":\"wrap\"},{\"name\":\"justify_content\",\"kind\":\"Any\",\"default\":\"flex-start\"}]},{\"type\":\"model\",\"name\":\"FloatPanel1\",\"properties\":[{\"name\":\"config\",\"kind\":\"Any\",\"default\":{\"type\":\"map\"}},{\"name\":\"contained\",\"kind\":\"Any\",\"default\":true},{\"name\":\"position\",\"kind\":\"Any\",\"default\":\"right-top\"},{\"name\":\"offsetx\",\"kind\":\"Any\",\"default\":null},{\"name\":\"offsety\",\"kind\":\"Any\",\"default\":null},{\"name\":\"theme\",\"kind\":\"Any\",\"default\":\"primary\"},{\"name\":\"status\",\"kind\":\"Any\",\"default\":\"normalized\"}]},{\"type\":\"model\",\"name\":\"GridStack1\",\"properties\":[{\"name\":\"mode\",\"kind\":\"Any\",\"default\":\"warn\"},{\"name\":\"ncols\",\"kind\":\"Any\",\"default\":null},{\"name\":\"nrows\",\"kind\":\"Any\",\"default\":null},{\"name\":\"allow_resize\",\"kind\":\"Any\",\"default\":true},{\"name\":\"allow_drag\",\"kind\":\"Any\",\"default\":true},{\"name\":\"state\",\"kind\":\"Any\",\"default\":[]}]},{\"type\":\"model\",\"name\":\"drag1\",\"properties\":[{\"name\":\"slider_width\",\"kind\":\"Any\",\"default\":5},{\"name\":\"slider_color\",\"kind\":\"Any\",\"default\":\"black\"},{\"name\":\"value\",\"kind\":\"Any\",\"default\":50}]},{\"type\":\"model\",\"name\":\"click1\",\"properties\":[{\"name\":\"terminal_output\",\"kind\":\"Any\",\"default\":\"\"},{\"name\":\"debug_name\",\"kind\":\"Any\",\"default\":\"\"},{\"name\":\"clears\",\"kind\":\"Any\",\"default\":0}]},{\"type\":\"model\",\"name\":\"toggle_value1\",\"properties\":[{\"name\":\"active_icons\",\"kind\":\"Any\",\"default\":{\"type\":\"map\"}},{\"name\":\"options\",\"kind\":\"Any\",\"default\":{\"type\":\"map\",\"entries\":[[\"favorite\",\"heart\"]]}},{\"name\":\"value\",\"kind\":\"Any\",\"default\":[]},{\"name\":\"_reactions\",\"kind\":\"Any\",\"default\":[]},{\"name\":\"_base_url\",\"kind\":\"Any\",\"default\":\"https://tabler-icons.io/static/tabler-icons/icons/\"}]},{\"type\":\"model\",\"name\":\"copy_to_clipboard1\",\"properties\":[{\"name\":\"value\",\"kind\":\"Any\",\"default\":null},{\"name\":\"fill\",\"kind\":\"Any\",\"default\":\"none\"}]},{\"type\":\"model\",\"name\":\"FastWrapper1\",\"properties\":[{\"name\":\"object\",\"kind\":\"Any\",\"default\":null},{\"name\":\"style\",\"kind\":\"Any\",\"default\":null}]},{\"type\":\"model\",\"name\":\"NotificationAreaBase1\",\"properties\":[{\"name\":\"js_events\",\"kind\":\"Any\",\"default\":{\"type\":\"map\"}},{\"name\":\"position\",\"kind\":\"Any\",\"default\":\"bottom-right\"},{\"name\":\"_clear\",\"kind\":\"Any\",\"default\":0}]},{\"type\":\"model\",\"name\":\"NotificationArea1\",\"properties\":[{\"name\":\"js_events\",\"kind\":\"Any\",\"default\":{\"type\":\"map\"}},{\"name\":\"notifications\",\"kind\":\"Any\",\"default\":[]},{\"name\":\"position\",\"kind\":\"Any\",\"default\":\"bottom-right\"},{\"name\":\"_clear\",\"kind\":\"Any\",\"default\":0},{\"name\":\"types\",\"kind\":\"Any\",\"default\":[{\"type\":\"map\",\"entries\":[[\"type\",\"warning\"],[\"background\",\"#ffc107\"],[\"icon\",{\"type\":\"map\",\"entries\":[[\"className\",\"fas fa-exclamation-triangle\"],[\"tagName\",\"i\"],[\"color\",\"white\"]]}]]},{\"type\":\"map\",\"entries\":[[\"type\",\"info\"],[\"background\",\"#007bff\"],[\"icon\",{\"type\":\"map\",\"entries\":[[\"className\",\"fas fa-info-circle\"],[\"tagName\",\"i\"],[\"color\",\"white\"]]}]]}]}]},{\"type\":\"model\",\"name\":\"Notification\",\"properties\":[{\"name\":\"background\",\"kind\":\"Any\",\"default\":null},{\"name\":\"duration\",\"kind\":\"Any\",\"default\":3000},{\"name\":\"icon\",\"kind\":\"Any\",\"default\":null},{\"name\":\"message\",\"kind\":\"Any\",\"default\":\"\"},{\"name\":\"notification_type\",\"kind\":\"Any\",\"default\":null},{\"name\":\"_destroyed\",\"kind\":\"Any\",\"default\":false}]},{\"type\":\"model\",\"name\":\"TemplateActions1\",\"properties\":[{\"name\":\"open_modal\",\"kind\":\"Any\",\"default\":0},{\"name\":\"close_modal\",\"kind\":\"Any\",\"default\":0}]},{\"type\":\"model\",\"name\":\"BootstrapTemplateActions1\",\"properties\":[{\"name\":\"open_modal\",\"kind\":\"Any\",\"default\":0},{\"name\":\"close_modal\",\"kind\":\"Any\",\"default\":0}]},{\"type\":\"model\",\"name\":\"MaterialTemplateActions1\",\"properties\":[{\"name\":\"open_modal\",\"kind\":\"Any\",\"default\":0},{\"name\":\"close_modal\",\"kind\":\"Any\",\"default\":0}]}]}};\n  var render_items = [{\"docid\":\"659eb24f-4ee8-4087-ab31-b8d944ded56c\",\"roots\":{\"p1004\":\"c0591ec2-535b-4ddf-9b41-0ee65dd059fb\"},\"root_ids\":[\"p1004\"]}];\n  var docs = Object.values(docs_json)\n  if (!docs) {\n    return\n  }\n  const py_version = docs[0].version.replace('rc', '-rc.').replace('.dev', '-dev.')\n  const is_dev = py_version.indexOf(\"+\") !== -1 || py_version.indexOf(\"-\") !== -1\n  function embed_document(root) {\n    var Bokeh = get_bokeh(root)\n    Bokeh.embed.embed_items_notebook(docs_json, render_items);\n    for (const render_item of render_items) {\n      for (const root_id of render_item.root_ids) {\n\tconst id_el = document.getElementById(root_id)\n\tif (id_el.children.length && (id_el.children[0].className === 'bk-root')) {\n\t  const root_el = id_el.children[0]\n\t  root_el.id = root_el.id + '-rendered'\n\t}\n      }\n    }\n  }\n  function get_bokeh(root) {\n    if (root.Bokeh === undefined) {\n      return null\n    } else if (root.Bokeh.version !== py_version && !is_dev) {\n      if (root.Bokeh.versions === undefined || !root.Bokeh.versions.has(py_version)) {\n\treturn null\n      }\n      return root.Bokeh.versions.get(py_version);\n    } else if (root.Bokeh.version === py_version) {\n      return root.Bokeh\n    }\n    return null\n  }\n  function is_loaded(root) {\n    var Bokeh = get_bokeh(root)\n    return (Bokeh != null && Bokeh.Panel !== undefined)\n  }\n  if (is_loaded(root)) {\n    embed_document(root);\n  } else {\n    var attempts = 0;\n    var timer = setInterval(function(root) {\n      if (is_loaded(root)) {\n        clearInterval(timer);\n        embed_document(root);\n      } else if (document.readyState == \"complete\") {\n        attempts++;\n        if (attempts > 200) {\n          clearInterval(timer);\n\t  var Bokeh = get_bokeh(root)\n\t  if (Bokeh == null || Bokeh.Panel == null) {\n            console.warn(\"Panel: ERROR: Unable to run Panel code because Bokeh or Panel library is missing\");\n\t  } else {\n\t    console.warn(\"Panel: WARNING: Attempting to render but not all required libraries could be resolved.\")\n\t    embed_document(root)\n\t  }\n        }\n      }\n    }, 25, root)\n  }\n})(window);</script>",
      "application/vnd.holoviews_exec.v0+json": ""
     },
     "metadata": {
      "application/vnd.holoviews_exec.v0+json": {
       "id": "p1004"
      }
     },
     "output_type": "display_data"
    },
    {
     "data": {
      "text/html": "\n<div class=\"logo-block\">\n<img src='data:image/png;base64,iVBORw0KGgoAAAANSUhEUgAAAEAAAABACAYAAACqaXHeAAAABHNCSVQICAgIfAhkiAAAAAlwSFlz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\nroTBs2RqAAAAAElFTkSuQmCC'\n     style='height:25px; border-radius:12px; display: inline-block; float: left; vertical-align: middle'></img>\n\n\n  <img src='data:image/png;base64,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'\n       style='height:15px; border-radius:12px; display: inline-block; float: left'></img>\n  \n\n\n\n\n</div>\n"
     },
     "metadata": {},
     "output_type": "display_data"
    }
   ],
   "source": [
    "import holoviews as hv\n",
    "from holoviews import opts\n",
    "from holoviews.element.tiles import StamenTerrain\n",
    "hv.extension('bokeh')\n",
    "import datashader as ds\n",
    "from datashader import transfer_functions as tf\n",
    "from datashader.colors import Greys9\n",
    "import colorcet as cc\n",
    "\n",
    "\n",
    "from datashader.utils import export_image\n",
    "\n",
    "Greys9_r = list(reversed(Greys9))[:-2]\n",
    "\n",
    "import plotly.express as px\n",
    "\n",
    "import imageio.v3 as iio\n",
    "from PIL import Image\n",
    "from PIL import ImageFont\n",
    "from PIL import ImageDraw "
   ],
   "metadata": {
    "collapsed": false,
    "ExecuteTime": {
     "end_time": "2023-11-17T23:42:37.319078Z",
     "start_time": "2023-11-17T23:42:37.163035Z"
    }
   },
   "id": "initial_id"
  },
  {
   "cell_type": "code",
   "execution_count": 3,
   "outputs": [],
   "source": [
    "df = pd.read_feather('/Users/juan/Library/CloudStorage/Box-Box/ComEd Data/feather/202002_full.feather')\n",
    "df['INTERVAL_READING_DATE'] = pd.to_datetime(df['INTERVAL_READING_DATE'] ,format='%Y/%m/%d')\n",
    "df['ZIP_CODE'] = df['ZIP_CODE'].astype(int) \n",
    "df['residential'] = np.where(df.DELIVERY_SERVICE_NAME.str.contains('RESIDENTIAL'), 1, 0)"
   ],
   "metadata": {
    "collapsed": false,
    "ExecuteTime": {
     "end_time": "2023-11-17T22:59:47.567206Z",
     "start_time": "2023-11-17T22:59:39.538553Z"
    }
   },
   "id": "7726939b86719183"
  },
  {
   "cell_type": "code",
   "execution_count": 4,
   "outputs": [],
   "source": [
    "hour_cols = ['INTERVAL_HR0030_ENERGY_QTY', \n",
    "                    'INTERVAL_HR0100_ENERGY_QTY', 'INTERVAL_HR0130_ENERGY_QTY',\n",
    "                    'INTERVAL_HR0200_ENERGY_QTY', 'INTERVAL_HR0230_ENERGY_QTY',\n",
    "                    'INTERVAL_HR0300_ENERGY_QTY', 'INTERVAL_HR0330_ENERGY_QTY',\n",
    "                    'INTERVAL_HR0400_ENERGY_QTY', 'INTERVAL_HR0430_ENERGY_QTY',\n",
    "                    'INTERVAL_HR0500_ENERGY_QTY', 'INTERVAL_HR0530_ENERGY_QTY',\n",
    "                    'INTERVAL_HR0600_ENERGY_QTY', 'INTERVAL_HR0630_ENERGY_QTY',\n",
    "                    'INTERVAL_HR0700_ENERGY_QTY', 'INTERVAL_HR0730_ENERGY_QTY',\n",
    "                    'INTERVAL_HR0800_ENERGY_QTY', 'INTERVAL_HR0830_ENERGY_QTY',\n",
    "                    'INTERVAL_HR0900_ENERGY_QTY', 'INTERVAL_HR0930_ENERGY_QTY',\n",
    "                    'INTERVAL_HR1000_ENERGY_QTY', 'INTERVAL_HR1030_ENERGY_QTY',\n",
    "                    'INTERVAL_HR1100_ENERGY_QTY', 'INTERVAL_HR1130_ENERGY_QTY',\n",
    "                    'INTERVAL_HR1200_ENERGY_QTY', 'INTERVAL_HR1230_ENERGY_QTY',\n",
    "                    'INTERVAL_HR1300_ENERGY_QTY', 'INTERVAL_HR1330_ENERGY_QTY',\n",
    "                    'INTERVAL_HR1400_ENERGY_QTY', 'INTERVAL_HR1430_ENERGY_QTY',\n",
    "                    'INTERVAL_HR1500_ENERGY_QTY', 'INTERVAL_HR1530_ENERGY_QTY',\n",
    "                    'INTERVAL_HR1600_ENERGY_QTY', 'INTERVAL_HR1630_ENERGY_QTY',\n",
    "                    'INTERVAL_HR1700_ENERGY_QTY', 'INTERVAL_HR1730_ENERGY_QTY',\n",
    "                    'INTERVAL_HR1800_ENERGY_QTY', 'INTERVAL_HR1830_ENERGY_QTY',\n",
    "                    'INTERVAL_HR1900_ENERGY_QTY', 'INTERVAL_HR1930_ENERGY_QTY',\n",
    "                    'INTERVAL_HR2000_ENERGY_QTY', 'INTERVAL_HR2030_ENERGY_QTY',\n",
    "                    'INTERVAL_HR2100_ENERGY_QTY', 'INTERVAL_HR2130_ENERGY_QTY',\n",
    "                    'INTERVAL_HR2200_ENERGY_QTY', 'INTERVAL_HR2230_ENERGY_QTY',\n",
    "                    'INTERVAL_HR2300_ENERGY_QTY', 'INTERVAL_HR2330_ENERGY_QTY',\n",
    "                    'INTERVAL_HR0000_ENERGY_QTY']"
   ],
   "metadata": {
    "collapsed": false,
    "ExecuteTime": {
     "end_time": "2023-11-17T22:59:47.573375Z",
     "start_time": "2023-11-17T22:59:47.568560Z"
    }
   },
   "id": "14ddff53268e94a4"
  },
  {
   "cell_type": "code",
   "execution_count": 5,
   "outputs": [],
   "source": [
    "df_agg = df.groupby('INTERVAL_READING_DATE')[hour_cols].sum().reset_index()"
   ],
   "metadata": {
    "collapsed": false,
    "ExecuteTime": {
     "end_time": "2023-11-17T22:59:59.124493Z",
     "start_time": "2023-11-17T22:59:57.263883Z"
    }
   },
   "id": "7797b47c7e2e456f"
  },
  {
   "cell_type": "code",
   "execution_count": 6,
   "outputs": [],
   "source": [
    "df_agg = df_agg.melt(\n",
    "        id_vars=[\"INTERVAL_READING_DATE\"],\n",
    "        var_name=\"Time\",\n",
    "        value_name=\"energy\").sort_values([\"INTERVAL_READING_DATE\", 'Time']).reset_index()"
   ],
   "metadata": {
    "collapsed": false,
    "ExecuteTime": {
     "end_time": "2023-11-17T22:59:59.130581Z",
     "start_time": "2023-11-17T22:59:59.127719Z"
    }
   },
   "id": "bd14bb2c883bbcd2"
  },
  {
   "cell_type": "code",
   "execution_count": 7,
   "outputs": [],
   "source": [
    "zipcodes = df.ZIP_CODE.unique()\n",
    "df_land_z = gpd.read_file('../data/geo/landuse_zc.geojson')\n",
    "df_land_z['zip5'] = df_land_z.zip5.astype(int)"
   ],
   "metadata": {
    "collapsed": false,
    "ExecuteTime": {
     "end_time": "2023-11-14T04:56:43.110895Z",
     "start_time": "2023-11-14T04:55:39.591530Z"
    }
   },
   "id": "e688313ffa1ae453"
  },
  {
   "cell_type": "code",
   "execution_count": 26,
   "outputs": [
    {
     "name": "stdout",
     "output_type": "stream",
     "text": [
      "1/432\n",
      "2/432\n",
      "3/432\n",
      "4/432\n",
      "5/432\n",
      "6/432\n",
      "7/432\n",
      "8/432\n",
      "9/432\n",
      "10/432\n",
      "11/432\n",
      "12/432\n",
      "13/432\n",
      "14/432\n",
      "15/432\n",
      "16/432\n",
      "17/432\n",
      "18/432\n",
      "19/432\n",
      "20/432\n",
      "21/432\n",
      "22/432\n",
      "23/432\n",
      "24/432\n",
      "25/432\n",
      "26/432\n",
      "27/432\n",
      "28/432\n",
      "29/432\n",
      "30/432\n",
      "31/432\n",
      "32/432\n",
      "33/432\n",
      "34/432\n",
      "35/432\n",
      "36/432\n",
      "37/432\n",
      "38/432\n",
      "39/432\n",
      "40/432\n",
      "41/432\n",
      "42/432\n",
      "43/432\n",
      "44/432\n",
      "45/432\n",
      "46/432\n",
      "47/432\n",
      "48/432\n",
      "49/432\n",
      "50/432\n",
      "51/432\n",
      "52/432\n",
      "53/432\n",
      "54/432\n",
      "55/432\n",
      "56/432\n",
      "57/432\n",
      "58/432\n",
      "59/432\n",
      "60/432\n",
      "61/432\n",
      "62/432\n",
      "63/432\n",
      "64/432\n",
      "65/432\n",
      "66/432\n",
      "67/432\n",
      "68/432\n",
      "69/432\n",
      "70/432\n",
      "71/432\n",
      "72/432\n",
      "73/432\n",
      "74/432\n",
      "75/432\n",
      "76/432\n",
      "77/432\n",
      "78/432\n",
      "79/432\n",
      "80/432\n",
      "81/432\n",
      "82/432\n",
      "83/432\n",
      "84/432\n",
      "85/432\n",
      "86/432\n",
      "87/432\n",
      "88/432\n",
      "89/432\n",
      "90/432\n",
      "91/432\n",
      "92/432\n",
      "93/432\n",
      "94/432\n",
      "95/432\n",
      "96/432\n",
      "97/432\n",
      "98/432\n",
      "99/432\n",
      "100/432\n",
      "101/432\n",
      "102/432\n",
      "103/432\n",
      "104/432\n",
      "105/432\n",
      "106/432\n",
      "107/432\n",
      "108/432\n",
      "109/432\n",
      "110/432\n",
      "111/432\n",
      "112/432\n",
      "113/432\n",
      "114/432\n",
      "115/432\n",
      "116/432\n",
      "117/432\n",
      "118/432\n",
      "119/432\n",
      "120/432\n",
      "121/432\n",
      "122/432\n",
      "123/432\n",
      "124/432\n",
      "125/432\n",
      "126/432\n",
      "127/432\n",
      "128/432\n",
      "129/432\n",
      "130/432\n",
      "131/432\n",
      "132/432\n",
      "133/432\n",
      "134/432\n",
      "135/432\n",
      "136/432\n",
      "137/432\n",
      "138/432\n",
      "139/432\n",
      "140/432\n",
      "141/432\n",
      "142/432\n",
      "143/432\n",
      "144/432\n",
      "145/432\n",
      "146/432\n",
      "147/432\n",
      "148/432\n",
      "149/432\n",
      "150/432\n",
      "151/432\n",
      "152/432\n",
      "153/432\n",
      "154/432\n",
      "155/432\n",
      "156/432\n",
      "157/432\n",
      "158/432\n",
      "159/432\n",
      "160/432\n",
      "161/432\n",
      "162/432\n",
      "163/432\n",
      "164/432\n",
      "165/432\n",
      "166/432\n",
      "167/432\n",
      "168/432\n",
      "169/432\n",
      "170/432\n",
      "171/432\n",
      "172/432\n",
      "173/432\n",
      "174/432\n",
      "175/432\n",
      "176/432\n",
      "177/432\n",
      "178/432\n",
      "179/432\n",
      "180/432\n",
      "181/432\n",
      "182/432\n",
      "183/432\n",
      "184/432\n",
      "185/432\n",
      "186/432\n",
      "187/432\n",
      "188/432\n",
      "189/432\n",
      "190/432\n",
      "191/432\n",
      "192/432\n",
      "193/432\n",
      "194/432\n",
      "195/432\n",
      "196/432\n",
      "197/432\n",
      "198/432\n",
      "199/432\n",
      "200/432\n",
      "201/432\n",
      "202/432\n",
      "203/432\n",
      "204/432\n",
      "205/432\n",
      "206/432\n",
      "207/432\n",
      "208/432\n",
      "209/432\n",
      "210/432\n",
      "211/432\n",
      "212/432\n",
      "213/432\n",
      "214/432\n",
      "215/432\n",
      "216/432\n",
      "217/432\n",
      "218/432\n",
      "219/432\n",
      "220/432\n",
      "221/432\n",
      "222/432\n",
      "223/432\n",
      "224/432\n",
      "225/432\n",
      "226/432\n",
      "227/432\n",
      "228/432\n",
      "229/432\n",
      "230/432\n",
      "231/432\n",
      "232/432\n",
      "233/432\n",
      "234/432\n",
      "235/432\n",
      "236/432\n",
      "237/432\n",
      "238/432\n",
      "239/432\n",
      "240/432\n",
      "241/432\n",
      "242/432\n",
      "243/432\n",
      "244/432\n",
      "245/432\n",
      "246/432\n",
      "247/432\n",
      "248/432\n",
      "249/432\n",
      "250/432\n",
      "251/432\n",
      "252/432\n",
      "253/432\n",
      "254/432\n",
      "255/432\n",
      "256/432\n",
      "257/432\n",
      "258/432\n",
      "259/432\n",
      "260/432\n",
      "261/432\n",
      "262/432\n",
      "263/432\n",
      "264/432\n",
      "265/432\n",
      "266/432\n",
      "267/432\n",
      "268/432\n",
      "269/432\n",
      "270/432\n",
      "271/432\n",
      "272/432\n",
      "273/432\n",
      "274/432\n",
      "275/432\n",
      "276/432\n",
      "277/432\n",
      "278/432\n",
      "279/432\n",
      "280/432\n",
      "281/432\n",
      "282/432\n",
      "283/432\n",
      "284/432\n",
      "285/432\n",
      "286/432\n",
      "287/432\n",
      "288/432\n",
      "289/432\n",
      "290/432\n",
      "291/432\n",
      "292/432\n",
      "293/432\n",
      "294/432\n",
      "295/432\n",
      "296/432\n",
      "297/432\n",
      "298/432\n",
      "299/432\n",
      "300/432\n",
      "301/432\n",
      "302/432\n",
      "303/432\n",
      "304/432\n",
      "305/432\n",
      "306/432\n",
      "307/432\n",
      "308/432\n",
      "309/432\n",
      "310/432\n",
      "311/432\n",
      "312/432\n",
      "313/432\n",
      "314/432\n",
      "315/432\n",
      "316/432\n",
      "317/432\n",
      "318/432\n",
      "319/432\n",
      "320/432\n",
      "321/432\n",
      "322/432\n",
      "323/432\n",
      "324/432\n",
      "325/432\n",
      "326/432\n",
      "327/432\n",
      "328/432\n",
      "329/432\n",
      "330/432\n",
      "331/432\n",
      "332/432\n",
      "333/432\n",
      "334/432\n",
      "335/432\n",
      "336/432\n",
      "337/432\n",
      "338/432\n",
      "339/432\n",
      "340/432\n",
      "341/432\n",
      "342/432\n",
      "343/432\n",
      "344/432\n",
      "345/432\n",
      "346/432\n",
      "347/432\n",
      "348/432\n",
      "349/432\n",
      "350/432\n",
      "351/432\n",
      "352/432\n",
      "353/432\n",
      "354/432\n",
      "355/432\n",
      "356/432\n",
      "357/432\n",
      "358/432\n",
      "359/432\n",
      "360/432\n",
      "361/432\n",
      "362/432\n",
      "363/432\n",
      "364/432\n",
      "365/432\n",
      "366/432\n",
      "367/432\n",
      "368/432\n",
      "369/432\n",
      "370/432\n",
      "371/432\n",
      "372/432\n",
      "373/432\n",
      "374/432\n",
      "375/432\n",
      "376/432\n",
      "377/432\n",
      "378/432\n",
      "379/432\n",
      "380/432\n",
      "381/432\n",
      "382/432\n",
      "383/432\n",
      "384/432\n",
      "385/432\n",
      "386/432\n",
      "387/432\n",
      "388/432\n",
      "389/432\n",
      "390/432\n",
      "391/432\n",
      "392/432\n",
      "393/432\n",
      "394/432\n",
      "395/432\n",
      "396/432\n",
      "397/432\n",
      "398/432\n",
      "399/432\n",
      "400/432\n",
      "401/432\n",
      "402/432\n",
      "403/432\n",
      "404/432\n",
      "405/432\n",
      "406/432\n",
      "407/432\n",
      "408/432\n",
      "409/432\n",
      "410/432\n",
      "411/432\n",
      "412/432\n",
      "413/432\n",
      "414/432\n",
      "415/432\n",
      "416/432\n",
      "417/432\n",
      "418/432\n",
      "419/432\n",
      "420/432\n",
      "421/432\n",
      "422/432\n",
      "423/432\n",
      "424/432\n",
      "425/432\n",
      "426/432\n",
      "427/432\n",
      "428/432\n",
      "429/432\n",
      "430/432\n",
      "431/432\n",
      "432/432\n"
     ]
    }
   ],
   "source": [
    "i = 0\n",
    "N = len(zipcodes)\n",
    "df_points = pd.DataFrame()\n",
    "for zipcode in zipcodes:\n",
    "    i += 1\n",
    "    print(f'{i}/{N}')\n",
    "    df_i = df[df.ZIP_CODE==zipcode].groupby(['ACCOUNT_IDENTIFIER', 'residential']).ZIP_CODE.first().reset_index()\n",
    "    df_assings = pd.merge(df_i, df_land_z[['id', 'zip5', 'residential']], \n",
    "                                                left_on=['ZIP_CODE', 'residential'], right_on=['zip5', 'residential'])\n",
    "    df_assings = df_assings.sample(frac=1).reset_index(drop=True)\n",
    "    df_assings = df_assings.groupby('ACCOUNT_IDENTIFIER').id.first().reset_index()\n",
    "    df_points = pd.concat([df_points, df_assings])"
   ],
   "metadata": {
    "collapsed": false,
    "ExecuteTime": {
     "end_time": "2023-11-14T05:18:49.176152Z",
     "start_time": "2023-11-14T05:08:30.012475Z"
    }
   },
   "id": "61738d7abfa1730a"
  },
  {
   "cell_type": "code",
   "execution_count": 10,
   "outputs": [
    {
     "name": "stdout",
     "output_type": "stream",
     "text": [
      "1/485\n",
      "2/485\n",
      "3/485\n",
      "4/485\n",
      "5/485\n",
      "6/485\n",
      "7/485\n",
      "8/485\n",
      "9/485\n",
      "10/485\n",
      "11/485\n",
      "12/485\n",
      "13/485\n",
      "14/485\n",
      "15/485\n",
      "16/485\n",
      "17/485\n",
      "18/485\n",
      "19/485\n",
      "20/485\n",
      "21/485\n",
      "22/485\n",
      "23/485\n",
      "24/485\n",
      "25/485\n",
      "26/485\n",
      "27/485\n",
      "28/485\n",
      "29/485\n",
      "30/485\n",
      "31/485\n",
      "32/485\n",
      "33/485\n",
      "34/485\n",
      "35/485\n",
      "36/485\n",
      "37/485\n",
      "38/485\n",
      "39/485\n",
      "40/485\n",
      "41/485\n",
      "42/485\n",
      "43/485\n",
      "44/485\n",
      "45/485\n",
      "46/485\n",
      "47/485\n",
      "48/485\n",
      "49/485\n",
      "50/485\n",
      "51/485\n",
      "52/485\n",
      "53/485\n",
      "54/485\n",
      "55/485\n",
      "56/485\n",
      "57/485\n",
      "58/485\n",
      "59/485\n",
      "60/485\n",
      "61/485\n",
      "62/485\n",
      "63/485\n",
      "64/485\n",
      "65/485\n",
      "66/485\n",
      "67/485\n",
      "68/485\n",
      "69/485\n",
      "70/485\n",
      "71/485\n",
      "72/485\n",
      "73/485\n",
      "74/485\n",
      "75/485\n",
      "76/485\n",
      "77/485\n",
      "78/485\n",
      "79/485\n",
      "80/485\n",
      "81/485\n",
      "82/485\n",
      "83/485\n",
      "84/485\n",
      "85/485\n",
      "86/485\n",
      "87/485\n",
      "88/485\n",
      "89/485\n",
      "90/485\n",
      "91/485\n",
      "92/485\n",
      "93/485\n",
      "94/485\n",
      "95/485\n",
      "96/485\n",
      "97/485\n",
      "98/485\n",
      "99/485\n",
      "100/485\n",
      "101/485\n",
      "102/485\n",
      "103/485\n",
      "104/485\n",
      "105/485\n",
      "106/485\n",
      "107/485\n",
      "108/485\n",
      "109/485\n",
      "110/485\n",
      "111/485\n",
      "112/485\n",
      "113/485\n",
      "114/485\n",
      "115/485\n",
      "116/485\n",
      "117/485\n",
      "118/485\n",
      "119/485\n",
      "120/485\n",
      "121/485\n",
      "122/485\n",
      "123/485\n",
      "124/485\n",
      "125/485\n",
      "126/485\n",
      "127/485\n",
      "128/485\n",
      "129/485\n",
      "130/485\n",
      "131/485\n",
      "132/485\n",
      "133/485\n",
      "134/485\n",
      "135/485\n",
      "136/485\n",
      "137/485\n",
      "138/485\n",
      "139/485\n",
      "140/485\n",
      "141/485\n",
      "142/485\n",
      "143/485\n",
      "144/485\n",
      "145/485\n",
      "146/485\n",
      "147/485\n",
      "148/485\n",
      "149/485\n",
      "150/485\n",
      "151/485\n",
      "152/485\n",
      "153/485\n",
      "154/485\n",
      "155/485\n",
      "156/485\n",
      "157/485\n",
      "158/485\n",
      "159/485\n",
      "160/485\n",
      "161/485\n",
      "162/485\n",
      "163/485\n",
      "164/485\n",
      "165/485\n",
      "166/485\n",
      "167/485\n",
      "168/485\n",
      "169/485\n",
      "170/485\n",
      "171/485\n",
      "172/485\n",
      "173/485\n",
      "174/485\n",
      "175/485\n",
      "176/485\n",
      "177/485\n",
      "178/485\n",
      "179/485\n",
      "180/485\n",
      "181/485\n",
      "182/485\n",
      "183/485\n",
      "184/485\n",
      "185/485\n",
      "186/485\n",
      "187/485\n",
      "188/485\n",
      "189/485\n",
      "190/485\n",
      "191/485\n",
      "192/485\n",
      "193/485\n",
      "194/485\n",
      "195/485\n",
      "196/485\n",
      "197/485\n",
      "198/485\n",
      "199/485\n",
      "200/485\n",
      "201/485\n",
      "202/485\n",
      "203/485\n",
      "204/485\n",
      "205/485\n",
      "206/485\n",
      "207/485\n",
      "208/485\n",
      "209/485\n",
      "210/485\n",
      "211/485\n",
      "212/485\n",
      "213/485\n",
      "214/485\n",
      "215/485\n",
      "216/485\n",
      "217/485\n",
      "218/485\n",
      "219/485\n",
      "220/485\n",
      "221/485\n",
      "222/485\n",
      "223/485\n",
      "224/485\n",
      "225/485\n",
      "226/485\n",
      "227/485\n",
      "228/485\n",
      "229/485\n",
      "230/485\n",
      "231/485\n",
      "232/485\n",
      "233/485\n",
      "234/485\n",
      "235/485\n",
      "236/485\n",
      "237/485\n",
      "238/485\n",
      "239/485\n",
      "240/485\n",
      "241/485\n",
      "242/485\n",
      "243/485\n",
      "244/485\n",
      "245/485\n",
      "246/485\n",
      "247/485\n",
      "248/485\n",
      "249/485\n",
      "250/485\n",
      "251/485\n",
      "252/485\n",
      "253/485\n",
      "254/485\n",
      "255/485\n",
      "256/485\n",
      "257/485\n",
      "258/485\n",
      "259/485\n",
      "260/485\n",
      "261/485\n",
      "262/485\n",
      "263/485\n",
      "264/485\n",
      "265/485\n",
      "266/485\n",
      "267/485\n",
      "268/485\n",
      "269/485\n",
      "270/485\n",
      "271/485\n",
      "272/485\n",
      "273/485\n",
      "274/485\n",
      "275/485\n",
      "276/485\n",
      "277/485\n",
      "278/485\n",
      "279/485\n",
      "280/485\n",
      "281/485\n",
      "282/485\n",
      "283/485\n",
      "284/485\n",
      "285/485\n",
      "286/485\n",
      "287/485\n",
      "288/485\n",
      "289/485\n",
      "290/485\n",
      "291/485\n",
      "292/485\n",
      "293/485\n",
      "294/485\n",
      "295/485\n",
      "296/485\n",
      "297/485\n",
      "298/485\n",
      "299/485\n",
      "300/485\n",
      "301/485\n",
      "302/485\n",
      "303/485\n",
      "304/485\n",
      "305/485\n",
      "306/485\n",
      "307/485\n",
      "308/485\n",
      "309/485\n",
      "310/485\n",
      "311/485\n",
      "312/485\n",
      "313/485\n",
      "314/485\n",
      "315/485\n",
      "316/485\n",
      "317/485\n",
      "318/485\n",
      "319/485\n",
      "320/485\n",
      "321/485\n",
      "322/485\n",
      "323/485\n",
      "324/485\n",
      "325/485\n",
      "326/485\n",
      "327/485\n",
      "328/485\n",
      "329/485\n",
      "330/485\n",
      "331/485\n",
      "332/485\n",
      "333/485\n",
      "334/485\n",
      "335/485\n",
      "336/485\n",
      "337/485\n",
      "338/485\n",
      "339/485\n",
      "340/485\n",
      "341/485\n",
      "342/485\n",
      "343/485\n",
      "344/485\n",
      "345/485\n",
      "346/485\n",
      "347/485\n",
      "348/485\n",
      "349/485\n",
      "350/485\n",
      "351/485\n",
      "352/485\n",
      "353/485\n",
      "354/485\n",
      "355/485\n",
      "356/485\n",
      "357/485\n",
      "358/485\n",
      "359/485\n",
      "360/485\n",
      "361/485\n",
      "362/485\n",
      "363/485\n",
      "364/485\n",
      "365/485\n",
      "366/485\n",
      "367/485\n",
      "368/485\n",
      "369/485\n",
      "370/485\n",
      "371/485\n",
      "372/485\n",
      "373/485\n",
      "374/485\n",
      "375/485\n",
      "376/485\n",
      "377/485\n",
      "378/485\n",
      "379/485\n",
      "380/485\n",
      "381/485\n",
      "382/485\n",
      "383/485\n",
      "384/485\n",
      "385/485\n",
      "386/485\n",
      "387/485\n",
      "388/485\n",
      "389/485\n",
      "390/485\n",
      "391/485\n",
      "392/485\n",
      "393/485\n",
      "394/485\n",
      "395/485\n",
      "396/485\n",
      "397/485\n",
      "398/485\n",
      "399/485\n",
      "400/485\n",
      "401/485\n",
      "402/485\n",
      "403/485\n",
      "404/485\n",
      "405/485\n",
      "406/485\n",
      "407/485\n",
      "408/485\n",
      "409/485\n",
      "410/485\n",
      "411/485\n",
      "412/485\n",
      "413/485\n",
      "414/485\n",
      "415/485\n",
      "416/485\n",
      "417/485\n",
      "418/485\n",
      "419/485\n",
      "420/485\n",
      "421/485\n",
      "422/485\n",
      "423/485\n",
      "424/485\n",
      "425/485\n",
      "426/485\n",
      "427/485\n",
      "428/485\n",
      "429/485\n",
      "430/485\n",
      "431/485\n",
      "432/485\n",
      "433/485\n",
      "434/485\n",
      "435/485\n",
      "436/485\n",
      "437/485\n",
      "438/485\n",
      "439/485\n",
      "440/485\n",
      "441/485\n",
      "442/485\n",
      "443/485\n",
      "444/485\n",
      "445/485\n",
      "446/485\n",
      "447/485\n",
      "448/485\n",
      "449/485\n",
      "450/485\n",
      "451/485\n",
      "452/485\n",
      "453/485\n",
      "454/485\n",
      "455/485\n",
      "456/485\n",
      "457/485\n",
      "458/485\n",
      "459/485\n",
      "460/485\n",
      "461/485\n",
      "462/485\n",
      "463/485\n",
      "464/485\n",
      "465/485\n",
      "466/485\n",
      "467/485\n",
      "468/485\n",
      "469/485\n",
      "470/485\n",
      "471/485\n",
      "472/485\n",
      "473/485\n",
      "474/485\n",
      "475/485\n",
      "476/485\n",
      "477/485\n",
      "478/485\n",
      "479/485\n",
      "480/485\n",
      "481/485\n",
      "482/485\n",
      "483/485\n",
      "484/485\n",
      "485/485\n"
     ]
    }
   ],
   "source": [
    "df = dd.read_parquet('../data/comed_day/2020_01_29.parquet')\n",
    "\n",
    "#df['date_time'] = '02/19/2020 ' + df.Time\n",
    "df['date_time'] = dd.to_datetime(df.date_time ,format='%m/%d/%Y %H%M')\n",
    "df['residential'] = 1\n",
    "df['residential'] = df.residential.where(df.service_name.str.contains('RESIDENTIAL'), 0)\n",
    "\n",
    "df_points = dd.from_pandas(pd.DataFrame(), npartitions=2)\n",
    "i = 0\n",
    "N = len(zipcodes)\n",
    "for zipcode in zipcodes:\n",
    "    i += 1\n",
    "    print(f'{i}/{N}')\n",
    "    df_i = df[df.ZIP_CODE==zipcode].groupby(['n_acc', 'residential']).ZIP_CODE.first().reset_index()\n",
    "    df_assings = dd.merge(df_i, df_land_z[['id', 'zip5', 'residential']], \n",
    "                                                left_on=['ZIP_CODE', 'residential'], right_on=['zip5', 'residential'])\n",
    "    df_assings = df_assings.sample(frac=1).reset_index(drop=True)\n",
    "    df_assings = df_assings.groupby('n_acc').id.first().reset_index()\n",
    "    df_points = dd.concat([df_points, df_assings])\n",
    "    \n",
    "    "
   ],
   "metadata": {
    "collapsed": false,
    "ExecuteTime": {
     "end_time": "2023-11-01T04:06:54.684261Z",
     "start_time": "2023-11-01T04:06:42.979212Z"
    }
   },
   "id": "e655b6b53b4ec07b"
  },
  {
   "cell_type": "code",
   "execution_count": 30,
   "outputs": [],
   "source": [
    "df_points.to_feather('../data/geo/points_accounts.feather')"
   ],
   "metadata": {
    "collapsed": false,
    "ExecuteTime": {
     "end_time": "2023-11-14T05:20:22.331818Z",
     "start_time": "2023-11-14T05:20:20.156125Z"
    }
   },
   "id": "5dc2fc10aa6a17f9"
  },
  {
   "cell_type": "code",
   "execution_count": 260,
   "outputs": [],
   "source": [
    "df_points = pd.read_feather('../data/geo/points_accounts.feather')"
   ],
   "metadata": {
    "collapsed": false,
    "ExecuteTime": {
     "end_time": "2023-11-14T08:25:53.470588Z",
     "start_time": "2023-11-14T08:25:53.330081Z"
    }
   },
   "id": "2eea35b91b515af5"
  },
  {
   "cell_type": "code",
   "execution_count": 261,
   "outputs": [
    {
     "name": "stderr",
     "output_type": "stream",
     "text": [
      "/var/folders/dk/gqlhh1p50lq41knjj1bn1blc0000gn/T/ipykernel_64578/1651927857.py:1: UserWarning: Geometry is in a geographic CRS. Results from 'centroid' are likely incorrect. Use 'GeoSeries.to_crs()' to re-project geometries to a projected CRS before this operation.\n",
      "\n",
      "  df_land_z['x'] = df_land_z.geometry.centroid.x\n",
      "/var/folders/dk/gqlhh1p50lq41knjj1bn1blc0000gn/T/ipykernel_64578/1651927857.py:2: UserWarning: Geometry is in a geographic CRS. Results from 'centroid' are likely incorrect. Use 'GeoSeries.to_crs()' to re-project geometries to a projected CRS before this operation.\n",
      "\n",
      "  df_land_z['y'] = df_land_z.geometry.centroid.y\n"
     ]
    }
   ],
   "source": [
    "df_land_z['x'] = df_land_z.geometry.centroid.x\n",
    "df_land_z['y'] = df_land_z.geometry.centroid.y"
   ],
   "metadata": {
    "collapsed": false,
    "ExecuteTime": {
     "end_time": "2023-11-14T08:25:55.914589Z",
     "start_time": "2023-11-14T08:25:53.747936Z"
    }
   },
   "id": "7993820fba4207c9"
  },
  {
   "cell_type": "code",
   "execution_count": 34,
   "outputs": [],
   "source": [
    "df_accs_points = pd.merge(df_points, df_land_z, on='id')[['ACCOUNT_IDENTIFIER', 'residential', 'x', 'y']]\n",
    "df_accs_points.to_feather('../data/geo/accounts_coordinates.feather')"
   ],
   "metadata": {
    "collapsed": false,
    "ExecuteTime": {
     "end_time": "2023-11-14T05:21:44.325031Z",
     "start_time": "2023-11-14T05:21:43.778057Z"
    }
   },
   "id": "d8cb41a43481ea55"
  },
  {
   "cell_type": "code",
   "execution_count": 7,
   "outputs": [],
   "source": [
    "df_accs_points = pd.read_feather('../data/geo/accounts_coordinates.feather')"
   ],
   "metadata": {
    "collapsed": false,
    "ExecuteTime": {
     "end_time": "2023-11-17T23:00:59.655199Z",
     "start_time": "2023-11-17T23:00:59.613256Z"
    }
   },
   "id": "aa3be214f30e15fb"
  },
  {
   "cell_type": "code",
   "execution_count": 14,
   "outputs": [],
   "source": [
    "hour_cols = ['INTERVAL_HR0030_ENERGY_QTY', \n",
    "                    'INTERVAL_HR0100_ENERGY_QTY', 'INTERVAL_HR0130_ENERGY_QTY',\n",
    "                    'INTERVAL_HR0200_ENERGY_QTY', 'INTERVAL_HR0230_ENERGY_QTY',\n",
    "                    'INTERVAL_HR0300_ENERGY_QTY', 'INTERVAL_HR0330_ENERGY_QTY',\n",
    "                    'INTERVAL_HR0400_ENERGY_QTY', 'INTERVAL_HR0430_ENERGY_QTY',\n",
    "                    'INTERVAL_HR0500_ENERGY_QTY', 'INTERVAL_HR0530_ENERGY_QTY',\n",
    "                    'INTERVAL_HR0600_ENERGY_QTY', 'INTERVAL_HR0630_ENERGY_QTY',\n",
    "                    'INTERVAL_HR0700_ENERGY_QTY', 'INTERVAL_HR0730_ENERGY_QTY',\n",
    "                    'INTERVAL_HR0800_ENERGY_QTY', 'INTERVAL_HR0830_ENERGY_QTY',\n",
    "                    'INTERVAL_HR0900_ENERGY_QTY', 'INTERVAL_HR0930_ENERGY_QTY',\n",
    "                    'INTERVAL_HR1000_ENERGY_QTY', 'INTERVAL_HR1030_ENERGY_QTY',\n",
    "                    'INTERVAL_HR1100_ENERGY_QTY', 'INTERVAL_HR1130_ENERGY_QTY',\n",
    "                    'INTERVAL_HR1200_ENERGY_QTY', 'INTERVAL_HR1230_ENERGY_QTY',\n",
    "                    'INTERVAL_HR1300_ENERGY_QTY', 'INTERVAL_HR1330_ENERGY_QTY',\n",
    "                    'INTERVAL_HR1400_ENERGY_QTY', 'INTERVAL_HR1430_ENERGY_QTY',\n",
    "                    'INTERVAL_HR1500_ENERGY_QTY', 'INTERVAL_HR1530_ENERGY_QTY',\n",
    "                    'INTERVAL_HR1600_ENERGY_QTY', 'INTERVAL_HR1630_ENERGY_QTY',\n",
    "                    'INTERVAL_HR1700_ENERGY_QTY', 'INTERVAL_HR1730_ENERGY_QTY',\n",
    "                    'INTERVAL_HR1800_ENERGY_QTY', 'INTERVAL_HR1830_ENERGY_QTY',\n",
    "                    'INTERVAL_HR1900_ENERGY_QTY', 'INTERVAL_HR1930_ENERGY_QTY',\n",
    "                    'INTERVAL_HR2000_ENERGY_QTY', 'INTERVAL_HR2030_ENERGY_QTY',\n",
    "                    'INTERVAL_HR2100_ENERGY_QTY', 'INTERVAL_HR2130_ENERGY_QTY',\n",
    "                    'INTERVAL_HR2200_ENERGY_QTY', 'INTERVAL_HR2230_ENERGY_QTY',\n",
    "                    'INTERVAL_HR2300_ENERGY_QTY', 'INTERVAL_HR2330_ENERGY_QTY',\n",
    "                    'INTERVAL_HR0000_ENERGY_QTY']\n",
    "all_days = df.INTERVAL_READING_DATE.dt.day.unique()\n",
    "#df['MAX_ENERGY'] = df[hour_cols].max(axis=1)\n",
    "df_max = df.groupby('ACCOUNT_IDENTIFIER')[hour_cols].max().max(axis=1).reset_index()\n",
    "df_max = df_max.rename(columns={0: 'MAX_ENERGY'})\n",
    "df = pd.merge(df, df_max, on='ACCOUNT_IDENTIFIER')"
   ],
   "metadata": {
    "collapsed": false,
    "ExecuteTime": {
     "end_time": "2023-11-17T23:05:39.568243Z",
     "start_time": "2023-11-17T23:04:58.749940Z"
    }
   },
   "id": "99d3863edc414b40"
  },
  {
   "cell_type": "code",
   "execution_count": 17,
   "outputs": [],
   "source": [
    "max_range = 0.7\n",
    "min_range = 0.6\n",
    "\n",
    "plot_width  = int(1200)\n",
    "plot_height = int(plot_width//1.2)\n",
    "\n",
    "for day in all_days:\n",
    "    for hour_col in hour_cols:\n",
    "        #df_i = df[(df.INTERVAL_READING_DATE.dt.day==day) & (df.residential==1)].sort_values('ZIP_CODE').reset_index()\n",
    "        df_i = df[(df.INTERVAL_READING_DATE.dt.day==day)].sort_values('ZIP_CODE').reset_index()\n",
    "        date_str = datetime.strftime(df_i['INTERVAL_READING_DATE'][0].date(), '%m-%d-%Y')\n",
    "        time_str = re.search(r'INTERVAL_HR(.*?)_ENERGY_QTY', hour_col)[1]\n",
    "        df_i = df_i[['ACCOUNT_IDENTIFIER', hour_col, 'MAX_ENERGY']]\n",
    "        df_i['NORM_ENERGY'] = df_i[hour_col] / df_i['MAX_ENERGY'] \n",
    "        df_i = df_i[['ACCOUNT_IDENTIFIER', 'NORM_ENERGY']]\n",
    "        df_i = pd.merge(df_i, df_accs_points, on='ACCOUNT_IDENTIFIER')\n",
    "        \n",
    "        cvs = ds.Canvas(plot_width=plot_width, plot_height=plot_height)\n",
    "        agg = cvs.points(df_i, 'x', 'y', ds.mean('NORM_ENERGY'))\n",
    "        img = tf.shade(agg, cmap=cc.gray, how='log', span=[min_range ,max_range])\n",
    "        export_image(img=img, filename=f'{date_str}_{time_str}', fmt=\".png\", export_path='../outputs/datashader/images_gray/')"
   ],
   "metadata": {
    "collapsed": false,
    "ExecuteTime": {
     "end_time": "2023-11-17T23:22:24.334039Z",
     "start_time": "2023-11-17T23:06:34.773556Z"
    }
   },
   "id": "60aa387d9b104d54"
  },
  {
   "cell_type": "code",
   "execution_count": 266,
   "outputs": [],
   "source": [
    "max_range = 0.7\n",
    "min_range = 0.6\n",
    "\n",
    "plot_width  = int(1200)\n",
    "plot_height = int(plot_width//1.2)\n",
    "\n",
    "for day in all_days:\n",
    "    for hour_col in hour_cols:\n",
    "        df_i = df[(df.INTERVAL_READING_DATE.dt.day==day) & (df.residential==0)].sort_values('ZIP_CODE').reset_index()\n",
    "        date_str = datetime.strftime(df_i['INTERVAL_READING_DATE'][0].date(), '%m-%d-%Y')\n",
    "        time_str = re.search(r'INTERVAL_HR(.*?)_ENERGY_QTY', hour_col)[1]\n",
    "        df_i = df_i[['ACCOUNT_IDENTIFIER', hour_col, 'MAX_ENERGY']]\n",
    "        df_i['NORM_ENERGY'] = df_i[hour_col] / df_i['MAX_ENERGY'] \n",
    "        df_i = df_i[['ACCOUNT_IDENTIFIER', 'NORM_ENERGY']]\n",
    "        df_i = pd.merge(df_i, df_accs_points, on='ACCOUNT_IDENTIFIER')\n",
    "        \n",
    "        \n",
    "        cvs = ds.Canvas(plot_width=plot_width, plot_height=plot_height)\n",
    "        agg = cvs.points(df_i, 'x', 'y', ds.mean('NORM_ENERGY'))\n",
    "        img = tf.shade(agg, cmap=cc.kbc, how='log', span=[min_range ,max_range])\n",
    "        export_image(img=img, filename=f'{date_str}_{time_str}', fmt=\".png\", export_path='../outputs/datashader/images_comm/')"
   ],
   "metadata": {
    "collapsed": false,
    "ExecuteTime": {
     "end_time": "2023-11-14T15:35:23.575602Z",
     "start_time": "2023-11-14T11:11:04.197550Z"
    }
   },
   "id": "c257f766c802472b"
  },
  {
   "cell_type": "code",
   "execution_count": 18,
   "outputs": [],
   "source": [
    "from skimage import filters\n",
    "from skimage.color import rgb2gray  # only needed for incorrectly saved images\n",
    "from skimage.measure import regionprops, centroid\n",
    "from skimage.color import label2rgb"
   ],
   "metadata": {
    "collapsed": false,
    "ExecuteTime": {
     "end_time": "2023-11-17T23:25:13.543992Z",
     "start_time": "2023-11-17T23:25:13.373757Z"
    }
   },
   "id": "9c6c76a672ca0ebf"
  },
  {
   "cell_type": "code",
   "execution_count": 31,
   "outputs": [],
   "source": [
    "filenames = os.listdir('../outputs/datashader/images_gray')\n",
    "filenames = [i for i in filenames if '.png' in i]\n",
    "filenames.sort()\n",
    "\n",
    "\n",
    "images = []\n",
    "breath_x = []\n",
    "breath_y = []\n",
    "day_time = []\n",
    "traces = []\n",
    "\n",
    "for i in range(0, len(filenames)):\n",
    "    background = Image.open(f\"../outputs/datashader/images_gray/{filenames[i]}\")\n",
    "    black = Image.new(\"RGB\", background.size, \"BLACK\")\n",
    "    black.paste(background, (0, 0), background)  \n",
    "    #overlay = Image.open(f\"../outputs/datashader/images_comm/{filenames[i]}\")\n",
    "    #background = background.convert(\"RGB\")\n",
    "    #overlay = overlay.convert(\"RGB\")\n",
    "\n",
    "    #new_img = Image.blend(black, background, 0.5)\n",
    "    #new_img = Image.blend(black, overlay, 0.5)\n",
    "    new_img = black\n",
    "    \n",
    "    image = rgb2gray(new_img)\n",
    "    threshold_value = filters.threshold_otsu(image)\n",
    "    labeled_foreground = (image > threshold_value).astype(int)\n",
    "    properties = regionprops(labeled_foreground, image)\n",
    "    center_of_mass = properties[0].centroid\n",
    "    weighted_center_of_mass = properties[0].weighted_centroid\n",
    "    center_of_mass = centroid(image)\n",
    "\n",
    "    traces.append(center_of_mass)\n",
    "\n",
    "    draw = ImageDraw.Draw(new_img)\n",
    "    font = ImageFont.truetype(font='../env/lib/python3.9/site-packages/matplotlib/mpl-data/fonts/ttf/cmb10.ttf', size=30)\n",
    "    displ_time = datetime.strftime(datetime.strptime(filenames[i],'%m-%d-%Y_%H%M.png'), '%A, %H:%M')\n",
    "    draw.text((50, 900),displ_time,(255,255,255), font=font)\n",
    "    \n",
    "    if len(traces) > 12:\n",
    "        traces.pop(0)\n",
    "    \n",
    "    for trace in traces:\n",
    "        #draw.text((breath_x[i], breath_y[i]),'X',(255,8,0), font=font)\n",
    "        cm_x = trace[1]\n",
    "        cm_y = trace[0]\n",
    "        draw.ellipse(((cm_x-2, cm_y-2), (cm_x+2, cm_y+2)), fill=(0,164,250))\n",
    "    images.append(new_img)\n",
    "    \n",
    "    breath_x.append(center_of_mass[1])\n",
    "    breath_y.append(center_of_mass[0])\n",
    "    day_time.append(displ_time)\n",
    "    \n",
    "\n",
    "    new_img.save(f\"../outputs/datashader/images_overlay/CM_{filenames[i]}\",\"PNG\")\n",
    "    "
   ],
   "metadata": {
    "collapsed": false,
    "ExecuteTime": {
     "end_time": "2023-11-17T23:42:32.970191Z",
     "start_time": "2023-11-17T23:42:10.776674Z"
    }
   },
   "id": "35cb72a5abded9c0"
  },
  {
   "cell_type": "code",
   "execution_count": 39,
   "outputs": [],
   "source": [
    "df = pd.DataFrame({'long': breath_x, 'lat': breath_y, 'day_time': day_time})"
   ],
   "metadata": {
    "collapsed": false,
    "ExecuteTime": {
     "end_time": "2023-11-17T23:46:25.904121Z",
     "start_time": "2023-11-17T23:46:25.688147Z"
    }
   },
   "id": "711307d4aa7a0ea2"
  },
  {
   "cell_type": "code",
   "execution_count": 46,
   "outputs": [
    {
     "data": {
      "application/vnd.plotly.v1+json": {
       "data": [
        {
         "customdata": [
          [
           "Monday, 00:00"
          ],
          [
           "Monday, 00:30"
          ],
          [
           "Monday, 01:00"
          ],
          [
           "Monday, 01:30"
          ],
          [
           "Monday, 02:00"
          ],
          [
           "Monday, 02:30"
          ],
          [
           "Monday, 03:00"
          ],
          [
           "Monday, 03:30"
          ],
          [
           "Monday, 04:00"
          ],
          [
           "Monday, 04:30"
          ],
          [
           "Monday, 05:00"
          ],
          [
           "Monday, 05:30"
          ],
          [
           "Monday, 06:00"
          ],
          [
           "Monday, 06:30"
          ],
          [
           "Monday, 07:00"
          ],
          [
           "Monday, 07:30"
          ],
          [
           "Monday, 08:00"
          ],
          [
           "Monday, 08:30"
          ],
          [
           "Monday, 09:00"
          ],
          [
           "Monday, 09:30"
          ],
          [
           "Monday, 10:00"
          ],
          [
           "Monday, 10:30"
          ],
          [
           "Monday, 11:00"
          ],
          [
           "Monday, 11:30"
          ],
          [
           "Monday, 12:00"
          ],
          [
           "Monday, 12:30"
          ],
          [
           "Monday, 13:00"
          ],
          [
           "Monday, 13:30"
          ],
          [
           "Monday, 14:00"
          ],
          [
           "Monday, 14:30"
          ],
          [
           "Monday, 15:00"
          ],
          [
           "Monday, 15:30"
          ],
          [
           "Monday, 16:00"
          ],
          [
           "Monday, 16:30"
          ],
          [
           "Monday, 17:00"
          ],
          [
           "Monday, 17:30"
          ],
          [
           "Monday, 18:00"
          ],
          [
           "Monday, 18:30"
          ],
          [
           "Monday, 19:00"
          ],
          [
           "Monday, 19:30"
          ],
          [
           "Monday, 20:00"
          ],
          [
           "Monday, 20:30"
          ],
          [
           "Monday, 21:00"
          ],
          [
           "Monday, 21:30"
          ],
          [
           "Monday, 22:00"
          ],
          [
           "Monday, 22:30"
          ],
          [
           "Monday, 23:00"
          ],
          [
           "Monday, 23:30"
          ],
          [
           "Tuesday, 00:00"
          ],
          [
           "Tuesday, 00:30"
          ],
          [
           "Tuesday, 01:00"
          ],
          [
           "Tuesday, 01:30"
          ],
          [
           "Tuesday, 02:00"
          ],
          [
           "Tuesday, 02:30"
          ],
          [
           "Tuesday, 03:00"
          ],
          [
           "Tuesday, 03:30"
          ],
          [
           "Tuesday, 04:00"
          ],
          [
           "Tuesday, 04:30"
          ],
          [
           "Tuesday, 05:00"
          ],
          [
           "Tuesday, 05:30"
          ],
          [
           "Tuesday, 06:00"
          ],
          [
           "Tuesday, 06:30"
          ],
          [
           "Tuesday, 07:00"
          ],
          [
           "Tuesday, 07:30"
          ],
          [
           "Tuesday, 08:00"
          ],
          [
           "Tuesday, 08:30"
          ],
          [
           "Tuesday, 09:00"
          ],
          [
           "Tuesday, 09:30"
          ],
          [
           "Tuesday, 10:00"
          ],
          [
           "Tuesday, 10:30"
          ],
          [
           "Tuesday, 11:00"
          ],
          [
           "Tuesday, 11:30"
          ],
          [
           "Tuesday, 12:00"
          ],
          [
           "Tuesday, 12:30"
          ],
          [
           "Tuesday, 13:00"
          ],
          [
           "Tuesday, 13:30"
          ],
          [
           "Tuesday, 14:00"
          ],
          [
           "Tuesday, 14:30"
          ],
          [
           "Tuesday, 15:00"
          ],
          [
           "Tuesday, 15:30"
          ],
          [
           "Tuesday, 16:00"
          ],
          [
           "Tuesday, 16:30"
          ],
          [
           "Tuesday, 17:00"
          ],
          [
           "Tuesday, 17:30"
          ],
          [
           "Tuesday, 18:00"
          ],
          [
           "Tuesday, 18:30"
          ],
          [
           "Tuesday, 19:00"
          ],
          [
           "Tuesday, 19:30"
          ],
          [
           "Tuesday, 20:00"
          ],
          [
           "Tuesday, 20:30"
          ],
          [
           "Tuesday, 21:00"
          ],
          [
           "Tuesday, 21:30"
          ],
          [
           "Tuesday, 22:00"
          ],
          [
           "Tuesday, 22:30"
          ],
          [
           "Tuesday, 23:00"
          ],
          [
           "Tuesday, 23:30"
          ],
          [
           "Wednesday, 00:00"
          ],
          [
           "Wednesday, 00:30"
          ],
          [
           "Wednesday, 01:00"
          ],
          [
           "Wednesday, 01:30"
          ],
          [
           "Wednesday, 02:00"
          ],
          [
           "Wednesday, 02:30"
          ],
          [
           "Wednesday, 03:00"
          ],
          [
           "Wednesday, 03:30"
          ],
          [
           "Wednesday, 04:00"
          ],
          [
           "Wednesday, 04:30"
          ],
          [
           "Wednesday, 05:00"
          ],
          [
           "Wednesday, 05:30"
          ],
          [
           "Wednesday, 06:00"
          ],
          [
           "Wednesday, 06:30"
          ],
          [
           "Wednesday, 07:00"
          ],
          [
           "Wednesday, 07:30"
          ],
          [
           "Wednesday, 08:00"
          ],
          [
           "Wednesday, 08:30"
          ],
          [
           "Wednesday, 09:00"
          ],
          [
           "Wednesday, 09:30"
          ],
          [
           "Wednesday, 10:00"
          ],
          [
           "Wednesday, 10:30"
          ],
          [
           "Wednesday, 11:00"
          ],
          [
           "Wednesday, 11:30"
          ],
          [
           "Wednesday, 12:00"
          ],
          [
           "Wednesday, 12:30"
          ],
          [
           "Wednesday, 13:00"
          ],
          [
           "Wednesday, 13:30"
          ],
          [
           "Wednesday, 14:00"
          ],
          [
           "Wednesday, 14:30"
          ],
          [
           "Wednesday, 15:00"
          ],
          [
           "Wednesday, 15:30"
          ],
          [
           "Wednesday, 16:00"
          ],
          [
           "Wednesday, 16:30"
          ],
          [
           "Wednesday, 17:00"
          ],
          [
           "Wednesday, 17:30"
          ],
          [
           "Wednesday, 18:00"
          ],
          [
           "Wednesday, 18:30"
          ],
          [
           "Wednesday, 19:00"
          ],
          [
           "Wednesday, 19:30"
          ],
          [
           "Wednesday, 20:00"
          ],
          [
           "Wednesday, 20:30"
          ],
          [
           "Wednesday, 21:00"
          ],
          [
           "Wednesday, 21:30"
          ],
          [
           "Wednesday, 22:00"
          ],
          [
           "Wednesday, 22:30"
          ],
          [
           "Wednesday, 23:00"
          ],
          [
           "Wednesday, 23:30"
          ],
          [
           "Thursday, 00:00"
          ],
          [
           "Thursday, 00:30"
          ],
          [
           "Thursday, 01:00"
          ],
          [
           "Thursday, 01:30"
          ],
          [
           "Thursday, 02:00"
          ],
          [
           "Thursday, 02:30"
          ],
          [
           "Thursday, 03:00"
          ],
          [
           "Thursday, 03:30"
          ],
          [
           "Thursday, 04:00"
          ],
          [
           "Thursday, 04:30"
          ],
          [
           "Thursday, 05:00"
          ],
          [
           "Thursday, 05:30"
          ],
          [
           "Thursday, 06:00"
          ],
          [
           "Thursday, 06:30"
          ],
          [
           "Thursday, 07:00"
          ],
          [
           "Thursday, 07:30"
          ],
          [
           "Thursday, 08:00"
          ],
          [
           "Thursday, 08:30"
          ],
          [
           "Thursday, 09:00"
          ],
          [
           "Thursday, 09:30"
          ],
          [
           "Thursday, 10:00"
          ],
          [
           "Thursday, 10:30"
          ],
          [
           "Thursday, 11:00"
          ],
          [
           "Thursday, 11:30"
          ],
          [
           "Thursday, 12:00"
          ],
          [
           "Thursday, 12:30"
          ],
          [
           "Thursday, 13:00"
          ],
          [
           "Thursday, 13:30"
          ],
          [
           "Thursday, 14:00"
          ],
          [
           "Thursday, 14:30"
          ],
          [
           "Thursday, 15:00"
          ],
          [
           "Thursday, 15:30"
          ],
          [
           "Thursday, 16:00"
          ],
          [
           "Thursday, 16:30"
          ],
          [
           "Thursday, 17:00"
          ],
          [
           "Thursday, 17:30"
          ],
          [
           "Thursday, 18:00"
          ],
          [
           "Thursday, 18:30"
          ],
          [
           "Thursday, 19:00"
          ],
          [
           "Thursday, 19:30"
          ],
          [
           "Thursday, 20:00"
          ],
          [
           "Thursday, 20:30"
          ],
          [
           "Thursday, 21:00"
          ],
          [
           "Thursday, 21:30"
          ],
          [
           "Thursday, 22:00"
          ],
          [
           "Thursday, 22:30"
          ],
          [
           "Thursday, 23:00"
          ],
          [
           "Thursday, 23:30"
          ],
          [
           "Friday, 00:00"
          ],
          [
           "Friday, 00:30"
          ],
          [
           "Friday, 01:00"
          ],
          [
           "Friday, 01:30"
          ],
          [
           "Friday, 02:00"
          ],
          [
           "Friday, 02:30"
          ],
          [
           "Friday, 03:00"
          ],
          [
           "Friday, 03:30"
          ],
          [
           "Friday, 04:00"
          ],
          [
           "Friday, 04:30"
          ],
          [
           "Friday, 05:00"
          ],
          [
           "Friday, 05:30"
          ],
          [
           "Friday, 06:00"
          ],
          [
           "Friday, 06:30"
          ],
          [
           "Friday, 07:00"
          ],
          [
           "Friday, 07:30"
          ],
          [
           "Friday, 08:00"
          ],
          [
           "Friday, 08:30"
          ],
          [
           "Friday, 09:00"
          ],
          [
           "Friday, 09:30"
          ],
          [
           "Friday, 10:00"
          ],
          [
           "Friday, 10:30"
          ],
          [
           "Friday, 11:00"
          ],
          [
           "Friday, 11:30"
          ],
          [
           "Friday, 12:00"
          ],
          [
           "Friday, 12:30"
          ],
          [
           "Friday, 13:00"
          ],
          [
           "Friday, 13:30"
          ],
          [
           "Friday, 14:00"
          ],
          [
           "Friday, 14:30"
          ],
          [
           "Friday, 15:00"
          ],
          [
           "Friday, 15:30"
          ],
          [
           "Friday, 16:00"
          ],
          [
           "Friday, 16:30"
          ],
          [
           "Friday, 17:00"
          ],
          [
           "Friday, 17:30"
          ],
          [
           "Friday, 18:00"
          ],
          [
           "Friday, 18:30"
          ],
          [
           "Friday, 19:00"
          ],
          [
           "Friday, 19:30"
          ],
          [
           "Friday, 20:00"
          ],
          [
           "Friday, 20:30"
          ],
          [
           "Friday, 21:00"
          ],
          [
           "Friday, 21:30"
          ],
          [
           "Friday, 22:00"
          ],
          [
           "Friday, 22:30"
          ],
          [
           "Friday, 23:00"
          ],
          [
           "Friday, 23:30"
          ],
          [
           "Saturday, 00:00"
          ],
          [
           "Saturday, 00:30"
          ],
          [
           "Saturday, 01:00"
          ],
          [
           "Saturday, 01:30"
          ],
          [
           "Saturday, 02:00"
          ],
          [
           "Saturday, 02:30"
          ],
          [
           "Saturday, 03:00"
          ],
          [
           "Saturday, 03:30"
          ],
          [
           "Saturday, 04:00"
          ],
          [
           "Saturday, 04:30"
          ],
          [
           "Saturday, 05:00"
          ],
          [
           "Saturday, 05:30"
          ],
          [
           "Saturday, 06:00"
          ],
          [
           "Saturday, 06:30"
          ],
          [
           "Saturday, 07:00"
          ],
          [
           "Saturday, 07:30"
          ],
          [
           "Saturday, 08:00"
          ],
          [
           "Saturday, 08:30"
          ],
          [
           "Saturday, 09:00"
          ],
          [
           "Saturday, 09:30"
          ],
          [
           "Saturday, 10:00"
          ],
          [
           "Saturday, 10:30"
          ],
          [
           "Saturday, 11:00"
          ],
          [
           "Saturday, 11:30"
          ],
          [
           "Saturday, 12:00"
          ],
          [
           "Saturday, 12:30"
          ],
          [
           "Saturday, 13:00"
          ],
          [
           "Saturday, 13:30"
          ],
          [
           "Saturday, 14:00"
          ],
          [
           "Saturday, 14:30"
          ],
          [
           "Saturday, 15:00"
          ],
          [
           "Saturday, 15:30"
          ],
          [
           "Saturday, 16:00"
          ],
          [
           "Saturday, 16:30"
          ],
          [
           "Saturday, 17:00"
          ],
          [
           "Saturday, 17:30"
          ],
          [
           "Saturday, 18:00"
          ],
          [
           "Saturday, 18:30"
          ],
          [
           "Saturday, 19:00"
          ],
          [
           "Saturday, 19:30"
          ],
          [
           "Saturday, 20:00"
          ],
          [
           "Saturday, 20:30"
          ],
          [
           "Saturday, 21:00"
          ],
          [
           "Saturday, 21:30"
          ],
          [
           "Saturday, 22:00"
          ],
          [
           "Saturday, 22:30"
          ],
          [
           "Saturday, 23:00"
          ],
          [
           "Saturday, 23:30"
          ],
          [
           "Sunday, 00:00"
          ],
          [
           "Sunday, 00:30"
          ],
          [
           "Sunday, 01:00"
          ],
          [
           "Sunday, 01:30"
          ],
          [
           "Sunday, 02:00"
          ],
          [
           "Sunday, 02:30"
          ],
          [
           "Sunday, 03:00"
          ],
          [
           "Sunday, 03:30"
          ],
          [
           "Sunday, 04:00"
          ],
          [
           "Sunday, 04:30"
          ],
          [
           "Sunday, 05:00"
          ],
          [
           "Sunday, 05:30"
          ],
          [
           "Sunday, 06:00"
          ],
          [
           "Sunday, 06:30"
          ],
          [
           "Sunday, 07:00"
          ],
          [
           "Sunday, 07:30"
          ],
          [
           "Sunday, 08:00"
          ],
          [
           "Sunday, 08:30"
          ],
          [
           "Sunday, 09:00"
          ],
          [
           "Sunday, 09:30"
          ],
          [
           "Sunday, 10:00"
          ],
          [
           "Sunday, 10:30"
          ],
          [
           "Sunday, 11:00"
          ],
          [
           "Sunday, 11:30"
          ],
          [
           "Sunday, 12:00"
          ],
          [
           "Sunday, 12:30"
          ],
          [
           "Sunday, 13:00"
          ],
          [
           "Sunday, 13:30"
          ],
          [
           "Sunday, 14:00"
          ],
          [
           "Sunday, 14:30"
          ],
          [
           "Sunday, 15:00"
          ],
          [
           "Sunday, 15:30"
          ],
          [
           "Sunday, 16:00"
          ],
          [
           "Sunday, 16:30"
          ],
          [
           "Sunday, 17:00"
          ],
          [
           "Sunday, 17:30"
          ],
          [
           "Sunday, 18:00"
          ],
          [
           "Sunday, 18:30"
          ],
          [
           "Sunday, 19:00"
          ],
          [
           "Sunday, 19:30"
          ],
          [
           "Sunday, 20:00"
          ],
          [
           "Sunday, 20:30"
          ],
          [
           "Sunday, 21:00"
          ],
          [
           "Sunday, 21:30"
          ],
          [
           "Sunday, 22:00"
          ],
          [
           "Sunday, 22:30"
          ],
          [
           "Sunday, 23:00"
          ],
          [
           "Sunday, 23:30"
          ]
         ],
         "hovertemplate": "index=%{x}<br>long=%{y}<br>day_time=%{customdata[0]}<extra></extra>",
         "legendgroup": "",
         "line": {
          "color": "#6E00FF",
          "dash": "solid"
         },
         "marker": {
          "symbol": "circle"
         },
         "mode": "markers+lines",
         "name": "",
         "orientation": "v",
         "showlegend": false,
         "x": [
          0,
          1,
          2,
          3,
          4,
          5,
          6,
          7,
          8,
          9,
          10,
          11,
          12,
          13,
          14,
          15,
          16,
          17,
          18,
          19,
          20,
          21,
          22,
          23,
          24,
          25,
          26,
          27,
          28,
          29,
          30,
          31,
          32,
          33,
          34,
          35,
          36,
          37,
          38,
          39,
          40,
          41,
          42,
          43,
          44,
          45,
          46,
          47,
          48,
          49,
          50,
          51,
          52,
          53,
          54,
          55,
          56,
          57,
          58,
          59,
          60,
          61,
          62,
          63,
          64,
          65,
          66,
          67,
          68,
          69,
          70,
          71,
          72,
          73,
          74,
          75,
          76,
          77,
          78,
          79,
          80,
          81,
          82,
          83,
          84,
          85,
          86,
          87,
          88,
          89,
          90,
          91,
          92,
          93,
          94,
          95,
          96,
          97,
          98,
          99,
          100,
          101,
          102,
          103,
          104,
          105,
          106,
          107,
          108,
          109,
          110,
          111,
          112,
          113,
          114,
          115,
          116,
          117,
          118,
          119,
          120,
          121,
          122,
          123,
          124,
          125,
          126,
          127,
          128,
          129,
          130,
          131,
          132,
          133,
          134,
          135,
          136,
          137,
          138,
          139,
          140,
          141,
          142,
          143,
          144,
          145,
          146,
          147,
          148,
          149,
          150,
          151,
          152,
          153,
          154,
          155,
          156,
          157,
          158,
          159,
          160,
          161,
          162,
          163,
          164,
          165,
          166,
          167,
          168,
          169,
          170,
          171,
          172,
          173,
          174,
          175,
          176,
          177,
          178,
          179,
          180,
          181,
          182,
          183,
          184,
          185,
          186,
          187,
          188,
          189,
          190,
          191,
          192,
          193,
          194,
          195,
          196,
          197,
          198,
          199,
          200,
          201,
          202,
          203,
          204,
          205,
          206,
          207,
          208,
          209,
          210,
          211,
          212,
          213,
          214,
          215,
          216,
          217,
          218,
          219,
          220,
          221,
          222,
          223,
          224,
          225,
          226,
          227,
          228,
          229,
          230,
          231,
          232,
          233,
          234,
          235,
          236,
          237,
          238,
          239,
          240,
          241,
          242,
          243,
          244,
          245,
          246,
          247,
          248,
          249,
          250,
          251,
          252,
          253,
          254,
          255,
          256,
          257,
          258,
          259,
          260,
          261,
          262,
          263,
          264,
          265,
          266,
          267,
          268,
          269,
          270,
          271,
          272,
          273,
          274,
          275,
          276,
          277,
          278,
          279,
          280,
          281,
          282,
          283,
          284,
          285,
          286,
          287,
          288,
          289,
          290,
          291,
          292,
          293,
          294,
          295,
          296,
          297,
          298,
          299,
          300,
          301,
          302,
          303,
          304,
          305,
          306,
          307,
          308,
          309,
          310,
          311,
          312,
          313,
          314,
          315,
          316,
          317,
          318,
          319,
          320,
          321,
          322,
          323,
          324,
          325,
          326,
          327,
          328,
          329,
          330,
          331,
          332,
          333,
          334,
          335
         ],
         "xaxis": "x",
         "y": [
          748.6321269516742,
          736.036559249678,
          738.265628600743,
          741.1328036896924,
          741.7143340730213,
          737.4180887730877,
          739.2066325931995,
          735.8867674141442,
          737.2326817272373,
          733.7324427539869,
          732.8987111339954,
          727.3086590986496,
          726.0300058265937,
          721.4561258021744,
          714.4635834227984,
          718.8750820757073,
          724.1664041387908,
          732.2997763805228,
          739.1446480301657,
          744.810254122623,
          748.505297430055,
          751.8665266671964,
          756.4940637808061,
          758.2703076347179,
          760.0160849832414,
          761.8806938874175,
          762.7437342954441,
          764.2204305738719,
          763.5046204883437,
          763.8926881077816,
          762.4568544499568,
          762.3515404304688,
          762.991007427182,
          765.1269790191412,
          762.4232712513192,
          750.0898454410806,
          734.3405527374234,
          725.1865785887979,
          721.7682518217371,
          720.5078024790392,
          722.344784793734,
          721.2974181141471,
          723.8964470297329,
          728.0929062414008,
          733.6184636739642,
          736.0603172739465,
          743.8966501429557,
          745.1398277770805,
          743.980411552078,
          746.5205160105465,
          746.5768467279322,
          746.8460396356638,
          746.2655702326304,
          745.3190818635711,
          746.8179767065859,
          742.6326905554083,
          744.8552738366949,
          742.8167510864922,
          738.4837288924413,
          734.9115009215635,
          729.8937851097498,
          724.554204844277,
          721.9025328418056,
          726.0684596596408,
          730.3147463883796,
          734.5763436480728,
          738.4100171724915,
          743.7869865394805,
          745.9157083900728,
          748.9921381579704,
          754.8282863820397,
          756.6011914105492,
          756.58646338021,
          758.2441498102196,
          761.2536958256791,
          763.2913720584395,
          763.1198834267175,
          765.6244281638393,
          764.8047514777942,
          761.9897050500733,
          760.4268714024508,
          762.33378973485,
          759.8006579017588,
          749.2460730218935,
          738.0898700019081,
          730.0226496003153,
          728.5002072327659,
          725.77435306951,
          725.4924704329061,
          725.5218664500552,
          727.9588578963974,
          731.0875247326395,
          731.2278768296098,
          735.9136354479882,
          739.9913712971419,
          739.7439253709358,
          748.4322215619189,
          740.4954927270535,
          742.4545793108375,
          741.6321963541124,
          743.8583948881118,
          740.1963394029426,
          740.4481938865422,
          740.5399833484234,
          737.6383708752198,
          734.309733473289,
          731.5629616906286,
          729.0353681515479,
          724.5367435705048,
          720.7484716827512,
          719.6403994261603,
          721.3395689171076,
          724.7965548784271,
          731.8073331092462,
          738.9802585858886,
          743.0993032256594,
          747.5008417754432,
          748.4588419313501,
          750.2160948731516,
          752.7974438240544,
          753.887133341801,
          754.3538119561034,
          757.5138044731003,
          755.4852746536047,
          757.3529950340125,
          756.9603898661745,
          757.7902005714268,
          757.6036570751119,
          754.9810205574654,
          753.3356207638265,
          748.0925228795114,
          738.9800708852055,
          730.8613530573462,
          722.2043241479026,
          721.4529813800006,
          721.9757909772544,
          723.7300796360686,
          725.364192349752,
          727.4646357905198,
          730.9575384430743,
          736.6916225151352,
          739.8417057123254,
          741.6543202168988,
          746.1436418768202,
          737.3368039170339,
          746.3437982846128,
          746.1960852365513,
          745.930813440123,
          749.9060019113844,
          746.0849080036525,
          746.8074772563536,
          744.3111346371037,
          742.190280504393,
          739.6194889382174,
          738.524472533542,
          735.7689198241097,
          731.1725026525309,
          724.9774769144282,
          724.9658602216036,
          728.8676002884911,
          735.7149005107113,
          734.979325527172,
          737.6236780648583,
          745.6633450688362,
          751.2276773050709,
          755.0388077689363,
          758.2232038181585,
          759.0006874704342,
          763.6015271092857,
          765.2726850054232,
          767.8861016337336,
          767.599928318765,
          766.8961094305928,
          767.7759044771423,
          767.3081366866106,
          766.716144496051,
          770.0689628294465,
          771.0406567790155,
          769.9111463307989,
          762.0677311123292,
          741.719187855408,
          736.4688350821477,
          732.4503305606013,
          729.2464384407565,
          727.2029428733933,
          723.8136785920208,
          725.9431234630472,
          728.0550535459942,
          727.8530542536308,
          731.648741800636,
          738.6834821190479,
          739.2344903166426,
          749.0375093282137,
          736.753322452987,
          734.4696931667614,
          734.077408820017,
          733.9636236985938,
          731.8665237094136,
          731.5241701637899,
          730.3029886513658,
          729.0189914223321,
          729.4455969796915,
          725.7567162011867,
          722.7450510301849,
          719.0334640652495,
          710.45304364785,
          709.8903404407745,
          715.8650649523914,
          720.1683004223302,
          729.0064247512116,
          737.8127369713028,
          743.9654079355624,
          748.3062331470175,
          753.9406297324481,
          756.194847379647,
          758.5475726295913,
          761.261501762104,
          763.2292173259804,
          764.0778710542914,
          764.795298135156,
          766.6663319244938,
          766.1575596956311,
          765.9384759073627,
          767.3610078801045,
          770.6166439954816,
          768.517402360081,
          769.1777420323125,
          761.7009936049432,
          746.9015522725172,
          741.855235945683,
          739.4723323076868,
          738.2058853389813,
          737.4474871197928,
          736.2721972574823,
          738.0090802250209,
          737.9233095449086,
          737.3723978639312,
          741.8656429954182,
          743.3882624090743,
          748.2034351629903,
          745.6038532713796,
          749.1229431802227,
          752.7939881654238,
          748.987095857496,
          750.4814424079444,
          747.131025526396,
          749.1095914119413,
          748.545841132153,
          748.5444670922737,
          747.2125161383807,
          745.261151997791,
          742.6259935622684,
          743.236384816569,
          739.0501499406447,
          737.6723414658443,
          733.0452967195354,
          731.5175080454458,
          730.6279025903295,
          734.5976395335025,
          739.2238048601818,
          746.8050273068864,
          751.3754094699324,
          755.4480847831837,
          755.4273334959951,
          759.2578833095464,
          762.5428957700764,
          766.1383007947935,
          766.3326653638086,
          770.6432326626634,
          767.2752898495676,
          763.4649587658541,
          763.2517854287433,
          759.2715027163813,
          756.9478225369719,
          754.9031540837706,
          745.0937459502794,
          736.7419674438689,
          734.3960813773546,
          732.2000114700369,
          731.5795838253697,
          731.291047451603,
          732.1059261100526,
          729.578601822378,
          730.1162183450147,
          732.8452854734297,
          737.4094559506599,
          738.5750138550716,
          741.2599836957146,
          738.8574727567617,
          740.7798430775016,
          742.5607281853903,
          741.5831198796673,
          743.4053247641954,
          740.918505515274,
          746.0504437232535,
          745.51724331898,
          742.2318130345219,
          739.694834361887,
          742.6989632555394,
          738.2753891775127,
          739.1163318963935,
          735.9481013100822,
          732.5324906892743,
          726.9198571985793,
          723.006911666132,
          713.3019264372354,
          718.3737033852744,
          715.8492350155988,
          721.2229598771363,
          725.3326849865131,
          728.5677769434019,
          724.214315759635,
          725.0617922284708,
          727.4673962848674,
          732.387887283347,
          734.4448495333704,
          734.5276435617961,
          732.6929385226263,
          731.2290292836873,
          727.693250587622,
          728.2657386373048,
          725.9502158399359,
          726.2257147871777,
          719.0353098227811,
          708.9631458953813,
          706.3142177590602,
          706.6755384516043,
          710.3700020646437,
          715.1743501095388,
          720.9260144715847,
          724.7011908585081,
          730.5218350756337,
          730.7095583472968,
          737.5542839466518,
          738.8110172267865,
          740.0752546102528
         ],
         "yaxis": "y",
         "type": "scatter"
        }
       ],
       "layout": {
        "template": {
         "data": {
          "histogram2dcontour": [
           {
            "type": "histogram2dcontour",
            "colorbar": {
             "outlinewidth": 0,
             "ticks": ""
            },
            "colorscale": [
             [
              0.0,
              "#0d0887"
             ],
             [
              0.1111111111111111,
              "#46039f"
             ],
             [
              0.2222222222222222,
              "#7201a8"
             ],
             [
              0.3333333333333333,
              "#9c179e"
             ],
             [
              0.4444444444444444,
              "#bd3786"
             ],
             [
              0.5555555555555556,
              "#d8576b"
             ],
             [
              0.6666666666666666,
              "#ed7953"
             ],
             [
              0.7777777777777778,
              "#fb9f3a"
             ],
             [
              0.8888888888888888,
              "#fdca26"
             ],
             [
              1.0,
              "#f0f921"
             ]
            ]
           }
          ],
          "choropleth": [
           {
            "type": "choropleth",
            "colorbar": {
             "outlinewidth": 0,
             "ticks": ""
            }
           }
          ],
          "histogram2d": [
           {
            "type": "histogram2d",
            "colorbar": {
             "outlinewidth": 0,
             "ticks": ""
            },
            "colorscale": [
             [
              0.0,
              "#0d0887"
             ],
             [
              0.1111111111111111,
              "#46039f"
             ],
             [
              0.2222222222222222,
              "#7201a8"
             ],
             [
              0.3333333333333333,
              "#9c179e"
             ],
             [
              0.4444444444444444,
              "#bd3786"
             ],
             [
              0.5555555555555556,
              "#d8576b"
             ],
             [
              0.6666666666666666,
              "#ed7953"
             ],
             [
              0.7777777777777778,
              "#fb9f3a"
             ],
             [
              0.8888888888888888,
              "#fdca26"
             ],
             [
              1.0,
              "#f0f921"
             ]
            ]
           }
          ],
          "heatmap": [
           {
            "type": "heatmap",
            "colorbar": {
             "outlinewidth": 0,
             "ticks": ""
            },
            "colorscale": [
             [
              0.0,
              "#0d0887"
             ],
             [
              0.1111111111111111,
              "#46039f"
             ],
             [
              0.2222222222222222,
              "#7201a8"
             ],
             [
              0.3333333333333333,
              "#9c179e"
             ],
             [
              0.4444444444444444,
              "#bd3786"
             ],
             [
              0.5555555555555556,
              "#d8576b"
             ],
             [
              0.6666666666666666,
              "#ed7953"
             ],
             [
              0.7777777777777778,
              "#fb9f3a"
             ],
             [
              0.8888888888888888,
              "#fdca26"
             ],
             [
              1.0,
              "#f0f921"
             ]
            ]
           }
          ],
          "heatmapgl": [
           {
            "type": "heatmapgl",
            "colorbar": {
             "outlinewidth": 0,
             "ticks": ""
            },
            "colorscale": [
             [
              0.0,
              "#0d0887"
             ],
             [
              0.1111111111111111,
              "#46039f"
             ],
             [
              0.2222222222222222,
              "#7201a8"
             ],
             [
              0.3333333333333333,
              "#9c179e"
             ],
             [
              0.4444444444444444,
              "#bd3786"
             ],
             [
              0.5555555555555556,
              "#d8576b"
             ],
             [
              0.6666666666666666,
              "#ed7953"
             ],
             [
              0.7777777777777778,
              "#fb9f3a"
             ],
             [
              0.8888888888888888,
              "#fdca26"
             ],
             [
              1.0,
              "#f0f921"
             ]
            ]
           }
          ],
          "contourcarpet": [
           {
            "type": "contourcarpet",
            "colorbar": {
             "outlinewidth": 0,
             "ticks": ""
            }
           }
          ],
          "contour": [
           {
            "type": "contour",
            "colorbar": {
             "outlinewidth": 0,
             "ticks": ""
            },
            "colorscale": [
             [
              0.0,
              "#0d0887"
             ],
             [
              0.1111111111111111,
              "#46039f"
             ],
             [
              0.2222222222222222,
              "#7201a8"
             ],
             [
              0.3333333333333333,
              "#9c179e"
             ],
             [
              0.4444444444444444,
              "#bd3786"
             ],
             [
              0.5555555555555556,
              "#d8576b"
             ],
             [
              0.6666666666666666,
              "#ed7953"
             ],
             [
              0.7777777777777778,
              "#fb9f3a"
             ],
             [
              0.8888888888888888,
              "#fdca26"
             ],
             [
              1.0,
              "#f0f921"
             ]
            ]
           }
          ],
          "surface": [
           {
            "type": "surface",
            "colorbar": {
             "outlinewidth": 0,
             "ticks": ""
            },
            "colorscale": [
             [
              0.0,
              "#0d0887"
             ],
             [
              0.1111111111111111,
              "#46039f"
             ],
             [
              0.2222222222222222,
              "#7201a8"
             ],
             [
              0.3333333333333333,
              "#9c179e"
             ],
             [
              0.4444444444444444,
              "#bd3786"
             ],
             [
              0.5555555555555556,
              "#d8576b"
             ],
             [
              0.6666666666666666,
              "#ed7953"
             ],
             [
              0.7777777777777778,
              "#fb9f3a"
             ],
             [
              0.8888888888888888,
              "#fdca26"
             ],
             [
              1.0,
              "#f0f921"
             ]
            ]
           }
          ],
          "mesh3d": [
           {
            "type": "mesh3d",
            "colorbar": {
             "outlinewidth": 0,
             "ticks": ""
            }
           }
          ],
          "scatter": [
           {
            "fillpattern": {
             "fillmode": "overlay",
             "size": 10,
             "solidity": 0.2
            },
            "type": "scatter"
           }
          ],
          "parcoords": [
           {
            "type": "parcoords",
            "line": {
             "colorbar": {
              "outlinewidth": 0,
              "ticks": ""
             }
            }
           }
          ],
          "scatterpolargl": [
           {
            "type": "scatterpolargl",
            "marker": {
             "colorbar": {
              "outlinewidth": 0,
              "ticks": ""
             }
            }
           }
          ],
          "bar": [
           {
            "error_x": {
             "color": "#2a3f5f"
            },
            "error_y": {
             "color": "#2a3f5f"
            },
            "marker": {
             "line": {
              "color": "#E5ECF6",
              "width": 0.5
             },
             "pattern": {
              "fillmode": "overlay",
              "size": 10,
              "solidity": 0.2
             }
            },
            "type": "bar"
           }
          ],
          "scattergeo": [
           {
            "type": "scattergeo",
            "marker": {
             "colorbar": {
              "outlinewidth": 0,
              "ticks": ""
             }
            }
           }
          ],
          "scatterpolar": [
           {
            "type": "scatterpolar",
            "marker": {
             "colorbar": {
              "outlinewidth": 0,
              "ticks": ""
             }
            }
           }
          ],
          "histogram": [
           {
            "marker": {
             "pattern": {
              "fillmode": "overlay",
              "size": 10,
              "solidity": 0.2
             }
            },
            "type": "histogram"
           }
          ],
          "scattergl": [
           {
            "type": "scattergl",
            "marker": {
             "colorbar": {
              "outlinewidth": 0,
              "ticks": ""
             }
            }
           }
          ],
          "scatter3d": [
           {
            "type": "scatter3d",
            "line": {
             "colorbar": {
              "outlinewidth": 0,
              "ticks": ""
             }
            },
            "marker": {
             "colorbar": {
              "outlinewidth": 0,
              "ticks": ""
             }
            }
           }
          ],
          "scattermapbox": [
           {
            "type": "scattermapbox",
            "marker": {
             "colorbar": {
              "outlinewidth": 0,
              "ticks": ""
             }
            }
           }
          ],
          "scatterternary": [
           {
            "type": "scatterternary",
            "marker": {
             "colorbar": {
              "outlinewidth": 0,
              "ticks": ""
             }
            }
           }
          ],
          "scattercarpet": [
           {
            "type": "scattercarpet",
            "marker": {
             "colorbar": {
              "outlinewidth": 0,
              "ticks": ""
             }
            }
           }
          ],
          "carpet": [
           {
            "aaxis": {
             "endlinecolor": "#2a3f5f",
             "gridcolor": "white",
             "linecolor": "white",
             "minorgridcolor": "white",
             "startlinecolor": "#2a3f5f"
            },
            "baxis": {
             "endlinecolor": "#2a3f5f",
             "gridcolor": "white",
             "linecolor": "white",
             "minorgridcolor": "white",
             "startlinecolor": "#2a3f5f"
            },
            "type": "carpet"
           }
          ],
          "table": [
           {
            "cells": {
             "fill": {
              "color": "#EBF0F8"
             },
             "line": {
              "color": "white"
             }
            },
            "header": {
             "fill": {
              "color": "#C8D4E3"
             },
             "line": {
              "color": "white"
             }
            },
            "type": "table"
           }
          ],
          "barpolar": [
           {
            "marker": {
             "line": {
              "color": "#E5ECF6",
              "width": 0.5
             },
             "pattern": {
              "fillmode": "overlay",
              "size": 10,
              "solidity": 0.2
             }
            },
            "type": "barpolar"
           }
          ],
          "pie": [
           {
            "automargin": true,
            "type": "pie"
           }
          ]
         },
         "layout": {
          "autotypenumbers": "strict",
          "colorway": [
           "#636efa",
           "#EF553B",
           "#00cc96",
           "#ab63fa",
           "#FFA15A",
           "#19d3f3",
           "#FF6692",
           "#B6E880",
           "#FF97FF",
           "#FECB52"
          ],
          "font": {
           "color": "#2a3f5f"
          },
          "hovermode": "closest",
          "hoverlabel": {
           "align": "left"
          },
          "paper_bgcolor": "white",
          "plot_bgcolor": "#E5ECF6",
          "polar": {
           "bgcolor": "#E5ECF6",
           "angularaxis": {
            "gridcolor": "white",
            "linecolor": "white",
            "ticks": ""
           },
           "radialaxis": {
            "gridcolor": "white",
            "linecolor": "white",
            "ticks": ""
           }
          },
          "ternary": {
           "bgcolor": "#E5ECF6",
           "aaxis": {
            "gridcolor": "white",
            "linecolor": "white",
            "ticks": ""
           },
           "baxis": {
            "gridcolor": "white",
            "linecolor": "white",
            "ticks": ""
           },
           "caxis": {
            "gridcolor": "white",
            "linecolor": "white",
            "ticks": ""
           }
          },
          "coloraxis": {
           "colorbar": {
            "outlinewidth": 0,
            "ticks": ""
           }
          },
          "colorscale": {
           "sequential": [
            [
             0.0,
             "#0d0887"
            ],
            [
             0.1111111111111111,
             "#46039f"
            ],
            [
             0.2222222222222222,
             "#7201a8"
            ],
            [
             0.3333333333333333,
             "#9c179e"
            ],
            [
             0.4444444444444444,
             "#bd3786"
            ],
            [
             0.5555555555555556,
             "#d8576b"
            ],
            [
             0.6666666666666666,
             "#ed7953"
            ],
            [
             0.7777777777777778,
             "#fb9f3a"
            ],
            [
             0.8888888888888888,
             "#fdca26"
            ],
            [
             1.0,
             "#f0f921"
            ]
           ],
           "sequentialminus": [
            [
             0.0,
             "#0d0887"
            ],
            [
             0.1111111111111111,
             "#46039f"
            ],
            [
             0.2222222222222222,
             "#7201a8"
            ],
            [
             0.3333333333333333,
             "#9c179e"
            ],
            [
             0.4444444444444444,
             "#bd3786"
            ],
            [
             0.5555555555555556,
             "#d8576b"
            ],
            [
             0.6666666666666666,
             "#ed7953"
            ],
            [
             0.7777777777777778,
             "#fb9f3a"
            ],
            [
             0.8888888888888888,
             "#fdca26"
            ],
            [
             1.0,
             "#f0f921"
            ]
           ],
           "diverging": [
            [
             0,
             "#8e0152"
            ],
            [
             0.1,
             "#c51b7d"
            ],
            [
             0.2,
             "#de77ae"
            ],
            [
             0.3,
             "#f1b6da"
            ],
            [
             0.4,
             "#fde0ef"
            ],
            [
             0.5,
             "#f7f7f7"
            ],
            [
             0.6,
             "#e6f5d0"
            ],
            [
             0.7,
             "#b8e186"
            ],
            [
             0.8,
             "#7fbc41"
            ],
            [
             0.9,
             "#4d9221"
            ],
            [
             1,
             "#276419"
            ]
           ]
          },
          "xaxis": {
           "gridcolor": "white",
           "linecolor": "white",
           "ticks": "",
           "title": {
            "standoff": 15
           },
           "zerolinecolor": "white",
           "automargin": true,
           "zerolinewidth": 2
          },
          "yaxis": {
           "gridcolor": "white",
           "linecolor": "white",
           "ticks": "",
           "title": {
            "standoff": 15
           },
           "zerolinecolor": "white",
           "automargin": true,
           "zerolinewidth": 2
          },
          "scene": {
           "xaxis": {
            "backgroundcolor": "#E5ECF6",
            "gridcolor": "white",
            "linecolor": "white",
            "showbackground": true,
            "ticks": "",
            "zerolinecolor": "white",
            "gridwidth": 2
           },
           "yaxis": {
            "backgroundcolor": "#E5ECF6",
            "gridcolor": "white",
            "linecolor": "white",
            "showbackground": true,
            "ticks": "",
            "zerolinecolor": "white",
            "gridwidth": 2
           },
           "zaxis": {
            "backgroundcolor": "#E5ECF6",
            "gridcolor": "white",
            "linecolor": "white",
            "showbackground": true,
            "ticks": "",
            "zerolinecolor": "white",
            "gridwidth": 2
           }
          },
          "shapedefaults": {
           "line": {
            "color": "#2a3f5f"
           }
          },
          "annotationdefaults": {
           "arrowcolor": "#2a3f5f",
           "arrowhead": 0,
           "arrowwidth": 1
          },
          "geo": {
           "bgcolor": "white",
           "landcolor": "#E5ECF6",
           "subunitcolor": "white",
           "showland": true,
           "showlakes": true,
           "lakecolor": "white"
          },
          "title": {
           "x": 0.05
          },
          "mapbox": {
           "style": "light"
          }
         }
        },
        "xaxis": {
         "anchor": "y",
         "domain": [
          0.0,
          1.0
         ],
         "title": {
          "text": "index"
         }
        },
        "yaxis": {
         "anchor": "x",
         "domain": [
          0.0,
          1.0
         ],
         "title": {
          "text": "long"
         }
        },
        "legend": {
         "tracegroupgap": 0
        },
        "margin": {
         "t": 60
        }
       },
       "config": {
        "plotlyServerURL": "https://plot.ly"
       }
      },
      "text/html": "<div>                            <div id=\"aa5f268f-d6a7-42d2-a61b-cb673440df00\" class=\"plotly-graph-div\" style=\"height:525px; width:100%;\"></div>            <script type=\"text/javascript\">                require([\"plotly\"], function(Plotly) {                    window.PLOTLYENV=window.PLOTLYENV || {};                                    if (document.getElementById(\"aa5f268f-d6a7-42d2-a61b-cb673440df00\")) {                    Plotly.newPlot(                        \"aa5f268f-d6a7-42d2-a61b-cb673440df00\",                        [{\"customdata\":[[\"Monday, 00:00\"],[\"Monday, 00:30\"],[\"Monday, 01:00\"],[\"Monday, 01:30\"],[\"Monday, 02:00\"],[\"Monday, 02:30\"],[\"Monday, 03:00\"],[\"Monday, 03:30\"],[\"Monday, 04:00\"],[\"Monday, 04:30\"],[\"Monday, 05:00\"],[\"Monday, 05:30\"],[\"Monday, 06:00\"],[\"Monday, 06:30\"],[\"Monday, 07:00\"],[\"Monday, 07:30\"],[\"Monday, 08:00\"],[\"Monday, 08:30\"],[\"Monday, 09:00\"],[\"Monday, 09:30\"],[\"Monday, 10:00\"],[\"Monday, 10:30\"],[\"Monday, 11:00\"],[\"Monday, 11:30\"],[\"Monday, 12:00\"],[\"Monday, 12:30\"],[\"Monday, 13:00\"],[\"Monday, 13:30\"],[\"Monday, 14:00\"],[\"Monday, 14:30\"],[\"Monday, 15:00\"],[\"Monday, 15:30\"],[\"Monday, 16:00\"],[\"Monday, 16:30\"],[\"Monday, 17:00\"],[\"Monday, 17:30\"],[\"Monday, 18:00\"],[\"Monday, 18:30\"],[\"Monday, 19:00\"],[\"Monday, 19:30\"],[\"Monday, 20:00\"],[\"Monday, 20:30\"],[\"Monday, 21:00\"],[\"Monday, 21:30\"],[\"Monday, 22:00\"],[\"Monday, 22:30\"],[\"Monday, 23:00\"],[\"Monday, 23:30\"],[\"Tuesday, 00:00\"],[\"Tuesday, 00:30\"],[\"Tuesday, 01:00\"],[\"Tuesday, 01:30\"],[\"Tuesday, 02:00\"],[\"Tuesday, 02:30\"],[\"Tuesday, 03:00\"],[\"Tuesday, 03:30\"],[\"Tuesday, 04:00\"],[\"Tuesday, 04:30\"],[\"Tuesday, 05:00\"],[\"Tuesday, 05:30\"],[\"Tuesday, 06:00\"],[\"Tuesday, 06:30\"],[\"Tuesday, 07:00\"],[\"Tuesday, 07:30\"],[\"Tuesday, 08:00\"],[\"Tuesday, 08:30\"],[\"Tuesday, 09:00\"],[\"Tuesday, 09:30\"],[\"Tuesday, 10:00\"],[\"Tuesday, 10:30\"],[\"Tuesday, 11:00\"],[\"Tuesday, 11:30\"],[\"Tuesday, 12:00\"],[\"Tuesday, 12:30\"],[\"Tuesday, 13:00\"],[\"Tuesday, 13:30\"],[\"Tuesday, 14:00\"],[\"Tuesday, 14:30\"],[\"Tuesday, 15:00\"],[\"Tuesday, 15:30\"],[\"Tuesday, 16:00\"],[\"Tuesday, 16:30\"],[\"Tuesday, 17:00\"],[\"Tuesday, 17:30\"],[\"Tuesday, 18:00\"],[\"Tuesday, 18:30\"],[\"Tuesday, 19:00\"],[\"Tuesday, 19:30\"],[\"Tuesday, 20:00\"],[\"Tuesday, 20:30\"],[\"Tuesday, 21:00\"],[\"Tuesday, 21:30\"],[\"Tuesday, 22:00\"],[\"Tuesday, 22:30\"],[\"Tuesday, 23:00\"],[\"Tuesday, 23:30\"],[\"Wednesday, 00:00\"],[\"Wednesday, 00:30\"],[\"Wednesday, 01:00\"],[\"Wednesday, 01:30\"],[\"Wednesday, 02:00\"],[\"Wednesday, 02:30\"],[\"Wednesday, 03:00\"],[\"Wednesday, 03:30\"],[\"Wednesday, 04:00\"],[\"Wednesday, 04:30\"],[\"Wednesday, 05:00\"],[\"Wednesday, 05:30\"],[\"Wednesday, 06:00\"],[\"Wednesday, 06:30\"],[\"Wednesday, 07:00\"],[\"Wednesday, 07:30\"],[\"Wednesday, 08:00\"],[\"Wednesday, 08:30\"],[\"Wednesday, 09:00\"],[\"Wednesday, 09:30\"],[\"Wednesday, 10:00\"],[\"Wednesday, 10:30\"],[\"Wednesday, 11:00\"],[\"Wednesday, 11:30\"],[\"Wednesday, 12:00\"],[\"Wednesday, 12:30\"],[\"Wednesday, 13:00\"],[\"Wednesday, 13:30\"],[\"Wednesday, 14:00\"],[\"Wednesday, 14:30\"],[\"Wednesday, 15:00\"],[\"Wednesday, 15:30\"],[\"Wednesday, 16:00\"],[\"Wednesday, 16:30\"],[\"Wednesday, 17:00\"],[\"Wednesday, 17:30\"],[\"Wednesday, 18:00\"],[\"Wednesday, 18:30\"],[\"Wednesday, 19:00\"],[\"Wednesday, 19:30\"],[\"Wednesday, 20:00\"],[\"Wednesday, 20:30\"],[\"Wednesday, 21:00\"],[\"Wednesday, 21:30\"],[\"Wednesday, 22:00\"],[\"Wednesday, 22:30\"],[\"Wednesday, 23:00\"],[\"Wednesday, 23:30\"],[\"Thursday, 00:00\"],[\"Thursday, 00:30\"],[\"Thursday, 01:00\"],[\"Thursday, 01:30\"],[\"Thursday, 02:00\"],[\"Thursday, 02:30\"],[\"Thursday, 03:00\"],[\"Thursday, 03:30\"],[\"Thursday, 04:00\"],[\"Thursday, 04:30\"],[\"Thursday, 05:00\"],[\"Thursday, 05:30\"],[\"Thursday, 06:00\"],[\"Thursday, 06:30\"],[\"Thursday, 07:00\"],[\"Thursday, 07:30\"],[\"Thursday, 08:00\"],[\"Thursday, 08:30\"],[\"Thursday, 09:00\"],[\"Thursday, 09:30\"],[\"Thursday, 10:00\"],[\"Thursday, 10:30\"],[\"Thursday, 11:00\"],[\"Thursday, 11:30\"],[\"Thursday, 12:00\"],[\"Thursday, 12:30\"],[\"Thursday, 13:00\"],[\"Thursday, 13:30\"],[\"Thursday, 14:00\"],[\"Thursday, 14:30\"],[\"Thursday, 15:00\"],[\"Thursday, 15:30\"],[\"Thursday, 16:00\"],[\"Thursday, 16:30\"],[\"Thursday, 17:00\"],[\"Thursday, 17:30\"],[\"Thursday, 18:00\"],[\"Thursday, 18:30\"],[\"Thursday, 19:00\"],[\"Thursday, 19:30\"],[\"Thursday, 20:00\"],[\"Thursday, 20:30\"],[\"Thursday, 21:00\"],[\"Thursday, 21:30\"],[\"Thursday, 22:00\"],[\"Thursday, 22:30\"],[\"Thursday, 23:00\"],[\"Thursday, 23:30\"],[\"Friday, 00:00\"],[\"Friday, 00:30\"],[\"Friday, 01:00\"],[\"Friday, 01:30\"],[\"Friday, 02:00\"],[\"Friday, 02:30\"],[\"Friday, 03:00\"],[\"Friday, 03:30\"],[\"Friday, 04:00\"],[\"Friday, 04:30\"],[\"Friday, 05:00\"],[\"Friday, 05:30\"],[\"Friday, 06:00\"],[\"Friday, 06:30\"],[\"Friday, 07:00\"],[\"Friday, 07:30\"],[\"Friday, 08:00\"],[\"Friday, 08:30\"],[\"Friday, 09:00\"],[\"Friday, 09:30\"],[\"Friday, 10:00\"],[\"Friday, 10:30\"],[\"Friday, 11:00\"],[\"Friday, 11:30\"],[\"Friday, 12:00\"],[\"Friday, 12:30\"],[\"Friday, 13:00\"],[\"Friday, 13:30\"],[\"Friday, 14:00\"],[\"Friday, 14:30\"],[\"Friday, 15:00\"],[\"Friday, 15:30\"],[\"Friday, 16:00\"],[\"Friday, 16:30\"],[\"Friday, 17:00\"],[\"Friday, 17:30\"],[\"Friday, 18:00\"],[\"Friday, 18:30\"],[\"Friday, 19:00\"],[\"Friday, 19:30\"],[\"Friday, 20:00\"],[\"Friday, 20:30\"],[\"Friday, 21:00\"],[\"Friday, 21:30\"],[\"Friday, 22:00\"],[\"Friday, 22:30\"],[\"Friday, 23:00\"],[\"Friday, 23:30\"],[\"Saturday, 00:00\"],[\"Saturday, 00:30\"],[\"Saturday, 01:00\"],[\"Saturday, 01:30\"],[\"Saturday, 02:00\"],[\"Saturday, 02:30\"],[\"Saturday, 03:00\"],[\"Saturday, 03:30\"],[\"Saturday, 04:00\"],[\"Saturday, 04:30\"],[\"Saturday, 05:00\"],[\"Saturday, 05:30\"],[\"Saturday, 06:00\"],[\"Saturday, 06:30\"],[\"Saturday, 07:00\"],[\"Saturday, 07:30\"],[\"Saturday, 08:00\"],[\"Saturday, 08:30\"],[\"Saturday, 09:00\"],[\"Saturday, 09:30\"],[\"Saturday, 10:00\"],[\"Saturday, 10:30\"],[\"Saturday, 11:00\"],[\"Saturday, 11:30\"],[\"Saturday, 12:00\"],[\"Saturday, 12:30\"],[\"Saturday, 13:00\"],[\"Saturday, 13:30\"],[\"Saturday, 14:00\"],[\"Saturday, 14:30\"],[\"Saturday, 15:00\"],[\"Saturday, 15:30\"],[\"Saturday, 16:00\"],[\"Saturday, 16:30\"],[\"Saturday, 17:00\"],[\"Saturday, 17:30\"],[\"Saturday, 18:00\"],[\"Saturday, 18:30\"],[\"Saturday, 19:00\"],[\"Saturday, 19:30\"],[\"Saturday, 20:00\"],[\"Saturday, 20:30\"],[\"Saturday, 21:00\"],[\"Saturday, 21:30\"],[\"Saturday, 22:00\"],[\"Saturday, 22:30\"],[\"Saturday, 23:00\"],[\"Saturday, 23:30\"],[\"Sunday, 00:00\"],[\"Sunday, 00:30\"],[\"Sunday, 01:00\"],[\"Sunday, 01:30\"],[\"Sunday, 02:00\"],[\"Sunday, 02:30\"],[\"Sunday, 03:00\"],[\"Sunday, 03:30\"],[\"Sunday, 04:00\"],[\"Sunday, 04:30\"],[\"Sunday, 05:00\"],[\"Sunday, 05:30\"],[\"Sunday, 06:00\"],[\"Sunday, 06:30\"],[\"Sunday, 07:00\"],[\"Sunday, 07:30\"],[\"Sunday, 08:00\"],[\"Sunday, 08:30\"],[\"Sunday, 09:00\"],[\"Sunday, 09:30\"],[\"Sunday, 10:00\"],[\"Sunday, 10:30\"],[\"Sunday, 11:00\"],[\"Sunday, 11:30\"],[\"Sunday, 12:00\"],[\"Sunday, 12:30\"],[\"Sunday, 13:00\"],[\"Sunday, 13:30\"],[\"Sunday, 14:00\"],[\"Sunday, 14:30\"],[\"Sunday, 15:00\"],[\"Sunday, 15:30\"],[\"Sunday, 16:00\"],[\"Sunday, 16:30\"],[\"Sunday, 17:00\"],[\"Sunday, 17:30\"],[\"Sunday, 18:00\"],[\"Sunday, 18:30\"],[\"Sunday, 19:00\"],[\"Sunday, 19:30\"],[\"Sunday, 20:00\"],[\"Sunday, 20:30\"],[\"Sunday, 21:00\"],[\"Sunday, 21:30\"],[\"Sunday, 22:00\"],[\"Sunday, 22:30\"],[\"Sunday, 23:00\"],[\"Sunday, 23:30\"]],\"hovertemplate\":\"index=%{x}\\u003cbr\\u003elong=%{y}\\u003cbr\\u003eday_time=%{customdata[0]}\\u003cextra\\u003e\\u003c\\u002fextra\\u003e\",\"legendgroup\":\"\",\"line\":{\"color\":\"#6E00FF\",\"dash\":\"solid\"},\"marker\":{\"symbol\":\"circle\"},\"mode\":\"markers+lines\",\"name\":\"\",\"orientation\":\"v\",\"showlegend\":false,\"x\":[0,1,2,3,4,5,6,7,8,9,10,11,12,13,14,15,16,17,18,19,20,21,22,23,24,25,26,27,28,29,30,31,32,33,34,35,36,37,38,39,40,41,42,43,44,45,46,47,48,49,50,51,52,53,54,55,56,57,58,59,60,61,62,63,64,65,66,67,68,69,70,71,72,73,74,75,76,77,78,79,80,81,82,83,84,85,86,87,88,89,90,91,92,93,94,95,96,97,98,99,100,101,102,103,104,105,106,107,108,109,110,111,112,113,114,115,116,117,118,119,120,121,122,123,124,125,126,127,128,129,130,131,132,133,134,135,136,137,138,139,140,141,142,143,144,145,146,147,148,149,150,151,152,153,154,155,156,157,158,159,160,161,162,163,164,165,166,167,168,169,170,171,172,173,174,175,176,177,178,179,180,181,182,183,184,185,186,187,188,189,190,191,192,193,194,195,196,197,198,199,200,201,202,203,204,205,206,207,208,209,210,211,212,213,214,215,216,217,218,219,220,221,222,223,224,225,226,227,228,229,230,231,232,233,234,235,236,237,238,239,240,241,242,243,244,245,246,247,248,249,250,251,252,253,254,255,256,257,258,259,260,261,262,263,264,265,266,267,268,269,270,271,272,273,274,275,276,277,278,279,280,281,282,283,284,285,286,287,288,289,290,291,292,293,294,295,296,297,298,299,300,301,302,303,304,305,306,307,308,309,310,311,312,313,314,315,316,317,318,319,320,321,322,323,324,325,326,327,328,329,330,331,332,333,334,335],\"xaxis\":\"x\",\"y\":[748.6321269516742,736.036559249678,738.265628600743,741.1328036896924,741.7143340730213,737.4180887730877,739.2066325931995,735.8867674141442,737.2326817272373,733.7324427539869,732.8987111339954,727.3086590986496,726.0300058265937,721.4561258021744,714.4635834227984,718.8750820757073,724.1664041387908,732.2997763805228,739.1446480301657,744.810254122623,748.505297430055,751.8665266671964,756.4940637808061,758.2703076347179,760.0160849832414,761.8806938874175,762.7437342954441,764.2204305738719,763.5046204883437,763.8926881077816,762.4568544499568,762.3515404304688,762.991007427182,765.1269790191412,762.4232712513192,750.0898454410806,734.3405527374234,725.1865785887979,721.7682518217371,720.5078024790392,722.344784793734,721.2974181141471,723.8964470297329,728.0929062414008,733.6184636739642,736.0603172739465,743.8966501429557,745.1398277770805,743.980411552078,746.5205160105465,746.5768467279322,746.8460396356638,746.2655702326304,745.3190818635711,746.8179767065859,742.6326905554083,744.8552738366949,742.8167510864922,738.4837288924413,734.9115009215635,729.8937851097498,724.554204844277,721.9025328418056,726.0684596596408,730.3147463883796,734.5763436480728,738.4100171724915,743.7869865394805,745.9157083900728,748.9921381579704,754.8282863820397,756.6011914105492,756.58646338021,758.2441498102196,761.2536958256791,763.2913720584395,763.1198834267175,765.6244281638393,764.8047514777942,761.9897050500733,760.4268714024508,762.33378973485,759.8006579017588,749.2460730218935,738.0898700019081,730.0226496003153,728.5002072327659,725.77435306951,725.4924704329061,725.5218664500552,727.9588578963974,731.0875247326395,731.2278768296098,735.9136354479882,739.9913712971419,739.7439253709358,748.4322215619189,740.4954927270535,742.4545793108375,741.6321963541124,743.8583948881118,740.1963394029426,740.4481938865422,740.5399833484234,737.6383708752198,734.309733473289,731.5629616906286,729.0353681515479,724.5367435705048,720.7484716827512,719.6403994261603,721.3395689171076,724.7965548784271,731.8073331092462,738.9802585858886,743.0993032256594,747.5008417754432,748.4588419313501,750.2160948731516,752.7974438240544,753.887133341801,754.3538119561034,757.5138044731003,755.4852746536047,757.3529950340125,756.9603898661745,757.7902005714268,757.6036570751119,754.9810205574654,753.3356207638265,748.0925228795114,738.9800708852055,730.8613530573462,722.2043241479026,721.4529813800006,721.9757909772544,723.7300796360686,725.364192349752,727.4646357905198,730.9575384430743,736.6916225151352,739.8417057123254,741.6543202168988,746.1436418768202,737.3368039170339,746.3437982846128,746.1960852365513,745.930813440123,749.9060019113844,746.0849080036525,746.8074772563536,744.3111346371037,742.190280504393,739.6194889382174,738.524472533542,735.7689198241097,731.1725026525309,724.9774769144282,724.9658602216036,728.8676002884911,735.7149005107113,734.979325527172,737.6236780648583,745.6633450688362,751.2276773050709,755.0388077689363,758.2232038181585,759.0006874704342,763.6015271092857,765.2726850054232,767.8861016337336,767.599928318765,766.8961094305928,767.7759044771423,767.3081366866106,766.716144496051,770.0689628294465,771.0406567790155,769.9111463307989,762.0677311123292,741.719187855408,736.4688350821477,732.4503305606013,729.2464384407565,727.2029428733933,723.8136785920208,725.9431234630472,728.0550535459942,727.8530542536308,731.648741800636,738.6834821190479,739.2344903166426,749.0375093282137,736.753322452987,734.4696931667614,734.077408820017,733.9636236985938,731.8665237094136,731.5241701637899,730.3029886513658,729.0189914223321,729.4455969796915,725.7567162011867,722.7450510301849,719.0334640652495,710.45304364785,709.8903404407745,715.8650649523914,720.1683004223302,729.0064247512116,737.8127369713028,743.9654079355624,748.3062331470175,753.9406297324481,756.194847379647,758.5475726295913,761.261501762104,763.2292173259804,764.0778710542914,764.795298135156,766.6663319244938,766.1575596956311,765.9384759073627,767.3610078801045,770.6166439954816,768.517402360081,769.1777420323125,761.7009936049432,746.9015522725172,741.855235945683,739.4723323076868,738.2058853389813,737.4474871197928,736.2721972574823,738.0090802250209,737.9233095449086,737.3723978639312,741.8656429954182,743.3882624090743,748.2034351629903,745.6038532713796,749.1229431802227,752.7939881654238,748.987095857496,750.4814424079444,747.131025526396,749.1095914119413,748.545841132153,748.5444670922737,747.2125161383807,745.261151997791,742.6259935622684,743.236384816569,739.0501499406447,737.6723414658443,733.0452967195354,731.5175080454458,730.6279025903295,734.5976395335025,739.2238048601818,746.8050273068864,751.3754094699324,755.4480847831837,755.4273334959951,759.2578833095464,762.5428957700764,766.1383007947935,766.3326653638086,770.6432326626634,767.2752898495676,763.4649587658541,763.2517854287433,759.2715027163813,756.9478225369719,754.9031540837706,745.0937459502794,736.7419674438689,734.3960813773546,732.2000114700369,731.5795838253697,731.291047451603,732.1059261100526,729.578601822378,730.1162183450147,732.8452854734297,737.4094559506599,738.5750138550716,741.2599836957146,738.8574727567617,740.7798430775016,742.5607281853903,741.5831198796673,743.4053247641954,740.918505515274,746.0504437232535,745.51724331898,742.2318130345219,739.694834361887,742.6989632555394,738.2753891775127,739.1163318963935,735.9481013100822,732.5324906892743,726.9198571985793,723.006911666132,713.3019264372354,718.3737033852744,715.8492350155988,721.2229598771363,725.3326849865131,728.5677769434019,724.214315759635,725.0617922284708,727.4673962848674,732.387887283347,734.4448495333704,734.5276435617961,732.6929385226263,731.2290292836873,727.693250587622,728.2657386373048,725.9502158399359,726.2257147871777,719.0353098227811,708.9631458953813,706.3142177590602,706.6755384516043,710.3700020646437,715.1743501095388,720.9260144715847,724.7011908585081,730.5218350756337,730.7095583472968,737.5542839466518,738.8110172267865,740.0752546102528],\"yaxis\":\"y\",\"type\":\"scatter\"}],                        {\"template\":{\"data\":{\"histogram2dcontour\":[{\"type\":\"histogram2dcontour\",\"colorbar\":{\"outlinewidth\":0,\"ticks\":\"\"},\"colorscale\":[[0.0,\"#0d0887\"],[0.1111111111111111,\"#46039f\"],[0.2222222222222222,\"#7201a8\"],[0.3333333333333333,\"#9c179e\"],[0.4444444444444444,\"#bd3786\"],[0.5555555555555556,\"#d8576b\"],[0.6666666666666666,\"#ed7953\"],[0.7777777777777778,\"#fb9f3a\"],[0.8888888888888888,\"#fdca26\"],[1.0,\"#f0f921\"]]}],\"choropleth\":[{\"type\":\"choropleth\",\"colorbar\":{\"outlinewidth\":0,\"ticks\":\"\"}}],\"histogram2d\":[{\"type\":\"histogram2d\",\"colorbar\":{\"outlinewidth\":0,\"ticks\":\"\"},\"colorscale\":[[0.0,\"#0d0887\"],[0.1111111111111111,\"#46039f\"],[0.2222222222222222,\"#7201a8\"],[0.3333333333333333,\"#9c179e\"],[0.4444444444444444,\"#bd3786\"],[0.5555555555555556,\"#d8576b\"],[0.6666666666666666,\"#ed7953\"],[0.7777777777777778,\"#fb9f3a\"],[0.8888888888888888,\"#fdca26\"],[1.0,\"#f0f921\"]]}],\"heatmap\":[{\"type\":\"heatmap\",\"colorbar\":{\"outlinewidth\":0,\"ticks\":\"\"},\"colorscale\":[[0.0,\"#0d0887\"],[0.1111111111111111,\"#46039f\"],[0.2222222222222222,\"#7201a8\"],[0.3333333333333333,\"#9c179e\"],[0.4444444444444444,\"#bd3786\"],[0.5555555555555556,\"#d8576b\"],[0.6666666666666666,\"#ed7953\"],[0.7777777777777778,\"#fb9f3a\"],[0.8888888888888888,\"#fdca26\"],[1.0,\"#f0f921\"]]}],\"heatmapgl\":[{\"type\":\"heatmapgl\",\"colorbar\":{\"outlinewidth\":0,\"ticks\":\"\"},\"colorscale\":[[0.0,\"#0d0887\"],[0.1111111111111111,\"#46039f\"],[0.2222222222222222,\"#7201a8\"],[0.3333333333333333,\"#9c179e\"],[0.4444444444444444,\"#bd3786\"],[0.5555555555555556,\"#d8576b\"],[0.6666666666666666,\"#ed7953\"],[0.7777777777777778,\"#fb9f3a\"],[0.8888888888888888,\"#fdca26\"],[1.0,\"#f0f921\"]]}],\"contourcarpet\":[{\"type\":\"contourcarpet\",\"colorbar\":{\"outlinewidth\":0,\"ticks\":\"\"}}],\"contour\":[{\"type\":\"contour\",\"colorbar\":{\"outlinewidth\":0,\"ticks\":\"\"},\"colorscale\":[[0.0,\"#0d0887\"],[0.1111111111111111,\"#46039f\"],[0.2222222222222222,\"#7201a8\"],[0.3333333333333333,\"#9c179e\"],[0.4444444444444444,\"#bd3786\"],[0.5555555555555556,\"#d8576b\"],[0.6666666666666666,\"#ed7953\"],[0.7777777777777778,\"#fb9f3a\"],[0.8888888888888888,\"#fdca26\"],[1.0,\"#f0f921\"]]}],\"surface\":[{\"type\":\"surface\",\"colorbar\":{\"outlinewidth\":0,\"ticks\":\"\"},\"colorscale\":[[0.0,\"#0d0887\"],[0.1111111111111111,\"#46039f\"],[0.2222222222222222,\"#7201a8\"],[0.3333333333333333,\"#9c179e\"],[0.4444444444444444,\"#bd3786\"],[0.5555555555555556,\"#d8576b\"],[0.6666666666666666,\"#ed7953\"],[0.7777777777777778,\"#fb9f3a\"],[0.8888888888888888,\"#fdca26\"],[1.0,\"#f0f921\"]]}],\"mesh3d\":[{\"type\":\"mesh3d\",\"colorbar\":{\"outlinewidth\":0,\"ticks\":\"\"}}],\"scatter\":[{\"fillpattern\":{\"fillmode\":\"overlay\",\"size\":10,\"solidity\":0.2},\"type\":\"scatter\"}],\"parcoords\":[{\"type\":\"parcoords\",\"line\":{\"colorbar\":{\"outlinewidth\":0,\"ticks\":\"\"}}}],\"scatterpolargl\":[{\"type\":\"scatterpolargl\",\"marker\":{\"colorbar\":{\"outlinewidth\":0,\"ticks\":\"\"}}}],\"bar\":[{\"error_x\":{\"color\":\"#2a3f5f\"},\"error_y\":{\"color\":\"#2a3f5f\"},\"marker\":{\"line\":{\"color\":\"#E5ECF6\",\"width\":0.5},\"pattern\":{\"fillmode\":\"overlay\",\"size\":10,\"solidity\":0.2}},\"type\":\"bar\"}],\"scattergeo\":[{\"type\":\"scattergeo\",\"marker\":{\"colorbar\":{\"outlinewidth\":0,\"ticks\":\"\"}}}],\"scatterpolar\":[{\"type\":\"scatterpolar\",\"marker\":{\"colorbar\":{\"outlinewidth\":0,\"ticks\":\"\"}}}],\"histogram\":[{\"marker\":{\"pattern\":{\"fillmode\":\"overlay\",\"size\":10,\"solidity\":0.2}},\"type\":\"histogram\"}],\"scattergl\":[{\"type\":\"scattergl\",\"marker\":{\"colorbar\":{\"outlinewidth\":0,\"ticks\":\"\"}}}],\"scatter3d\":[{\"type\":\"scatter3d\",\"line\":{\"colorbar\":{\"outlinewidth\":0,\"ticks\":\"\"}},\"marker\":{\"colorbar\":{\"outlinewidth\":0,\"ticks\":\"\"}}}],\"scattermapbox\":[{\"type\":\"scattermapbox\",\"marker\":{\"colorbar\":{\"outlinewidth\":0,\"ticks\":\"\"}}}],\"scatterternary\":[{\"type\":\"scatterternary\",\"marker\":{\"colorbar\":{\"outlinewidth\":0,\"ticks\":\"\"}}}],\"scattercarpet\":[{\"type\":\"scattercarpet\",\"marker\":{\"colorbar\":{\"outlinewidth\":0,\"ticks\":\"\"}}}],\"carpet\":[{\"aaxis\":{\"endlinecolor\":\"#2a3f5f\",\"gridcolor\":\"white\",\"linecolor\":\"white\",\"minorgridcolor\":\"white\",\"startlinecolor\":\"#2a3f5f\"},\"baxis\":{\"endlinecolor\":\"#2a3f5f\",\"gridcolor\":\"white\",\"linecolor\":\"white\",\"minorgridcolor\":\"white\",\"startlinecolor\":\"#2a3f5f\"},\"type\":\"carpet\"}],\"table\":[{\"cells\":{\"fill\":{\"color\":\"#EBF0F8\"},\"line\":{\"color\":\"white\"}},\"header\":{\"fill\":{\"color\":\"#C8D4E3\"},\"line\":{\"color\":\"white\"}},\"type\":\"table\"}],\"barpolar\":[{\"marker\":{\"line\":{\"color\":\"#E5ECF6\",\"width\":0.5},\"pattern\":{\"fillmode\":\"overlay\",\"size\":10,\"solidity\":0.2}},\"type\":\"barpolar\"}],\"pie\":[{\"automargin\":true,\"type\":\"pie\"}]},\"layout\":{\"autotypenumbers\":\"strict\",\"colorway\":[\"#636efa\",\"#EF553B\",\"#00cc96\",\"#ab63fa\",\"#FFA15A\",\"#19d3f3\",\"#FF6692\",\"#B6E880\",\"#FF97FF\",\"#FECB52\"],\"font\":{\"color\":\"#2a3f5f\"},\"hovermode\":\"closest\",\"hoverlabel\":{\"align\":\"left\"},\"paper_bgcolor\":\"white\",\"plot_bgcolor\":\"#E5ECF6\",\"polar\":{\"bgcolor\":\"#E5ECF6\",\"angularaxis\":{\"gridcolor\":\"white\",\"linecolor\":\"white\",\"ticks\":\"\"},\"radialaxis\":{\"gridcolor\":\"white\",\"linecolor\":\"white\",\"ticks\":\"\"}},\"ternary\":{\"bgcolor\":\"#E5ECF6\",\"aaxis\":{\"gridcolor\":\"white\",\"linecolor\":\"white\",\"ticks\":\"\"},\"baxis\":{\"gridcolor\":\"white\",\"linecolor\":\"white\",\"ticks\":\"\"},\"caxis\":{\"gridcolor\":\"white\",\"linecolor\":\"white\",\"ticks\":\"\"}},\"coloraxis\":{\"colorbar\":{\"outlinewidth\":0,\"ticks\":\"\"}},\"colorscale\":{\"sequential\":[[0.0,\"#0d0887\"],[0.1111111111111111,\"#46039f\"],[0.2222222222222222,\"#7201a8\"],[0.3333333333333333,\"#9c179e\"],[0.4444444444444444,\"#bd3786\"],[0.5555555555555556,\"#d8576b\"],[0.6666666666666666,\"#ed7953\"],[0.7777777777777778,\"#fb9f3a\"],[0.8888888888888888,\"#fdca26\"],[1.0,\"#f0f921\"]],\"sequentialminus\":[[0.0,\"#0d0887\"],[0.1111111111111111,\"#46039f\"],[0.2222222222222222,\"#7201a8\"],[0.3333333333333333,\"#9c179e\"],[0.4444444444444444,\"#bd3786\"],[0.5555555555555556,\"#d8576b\"],[0.6666666666666666,\"#ed7953\"],[0.7777777777777778,\"#fb9f3a\"],[0.8888888888888888,\"#fdca26\"],[1.0,\"#f0f921\"]],\"diverging\":[[0,\"#8e0152\"],[0.1,\"#c51b7d\"],[0.2,\"#de77ae\"],[0.3,\"#f1b6da\"],[0.4,\"#fde0ef\"],[0.5,\"#f7f7f7\"],[0.6,\"#e6f5d0\"],[0.7,\"#b8e186\"],[0.8,\"#7fbc41\"],[0.9,\"#4d9221\"],[1,\"#276419\"]]},\"xaxis\":{\"gridcolor\":\"white\",\"linecolor\":\"white\",\"ticks\":\"\",\"title\":{\"standoff\":15},\"zerolinecolor\":\"white\",\"automargin\":true,\"zerolinewidth\":2},\"yaxis\":{\"gridcolor\":\"white\",\"linecolor\":\"white\",\"ticks\":\"\",\"title\":{\"standoff\":15},\"zerolinecolor\":\"white\",\"automargin\":true,\"zerolinewidth\":2},\"scene\":{\"xaxis\":{\"backgroundcolor\":\"#E5ECF6\",\"gridcolor\":\"white\",\"linecolor\":\"white\",\"showbackground\":true,\"ticks\":\"\",\"zerolinecolor\":\"white\",\"gridwidth\":2},\"yaxis\":{\"backgroundcolor\":\"#E5ECF6\",\"gridcolor\":\"white\",\"linecolor\":\"white\",\"showbackground\":true,\"ticks\":\"\",\"zerolinecolor\":\"white\",\"gridwidth\":2},\"zaxis\":{\"backgroundcolor\":\"#E5ECF6\",\"gridcolor\":\"white\",\"linecolor\":\"white\",\"showbackground\":true,\"ticks\":\"\",\"zerolinecolor\":\"white\",\"gridwidth\":2}},\"shapedefaults\":{\"line\":{\"color\":\"#2a3f5f\"}},\"annotationdefaults\":{\"arrowcolor\":\"#2a3f5f\",\"arrowhead\":0,\"arrowwidth\":1},\"geo\":{\"bgcolor\":\"white\",\"landcolor\":\"#E5ECF6\",\"subunitcolor\":\"white\",\"showland\":true,\"showlakes\":true,\"lakecolor\":\"white\"},\"title\":{\"x\":0.05},\"mapbox\":{\"style\":\"light\"}}},\"xaxis\":{\"anchor\":\"y\",\"domain\":[0.0,1.0],\"title\":{\"text\":\"index\"}},\"yaxis\":{\"anchor\":\"x\",\"domain\":[0.0,1.0],\"title\":{\"text\":\"long\"}},\"legend\":{\"tracegroupgap\":0},\"margin\":{\"t\":60}},                        {\"responsive\": true}                    ).then(function(){\n                            \nvar gd = document.getElementById('aa5f268f-d6a7-42d2-a61b-cb673440df00');\nvar x = new MutationObserver(function (mutations, observer) {{\n        var display = window.getComputedStyle(gd).display;\n        if (!display || display === 'none') {{\n            console.log([gd, 'removed!']);\n            Plotly.purge(gd);\n            observer.disconnect();\n        }}\n}});\n\n// Listen for the removal of the full notebook cells\nvar notebookContainer = gd.closest('#notebook-container');\nif (notebookContainer) {{\n    x.observe(notebookContainer, {childList: true});\n}}\n\n// Listen for the clearing of the current output cell\nvar outputEl = gd.closest('.output');\nif (outputEl) {{\n    x.observe(outputEl, {childList: true});\n}}\n\n                        })                };                });            </script>        </div>"
     },
     "metadata": {},
     "output_type": "display_data"
    }
   ],
   "source": [
    "fig = px.line(df, x=df.index, y=df.long, markers=True, hover_data='day_time')\n",
    "fig.update_traces(line_color='#6E00FF')\n",
    "fig.show()"
   ],
   "metadata": {
    "collapsed": false,
    "ExecuteTime": {
     "end_time": "2023-11-17T23:48:07.047642Z",
     "start_time": "2023-11-17T23:48:07.030133Z"
    }
   },
   "id": "873e342385935bf1"
  },
  {
   "cell_type": "code",
   "execution_count": 48,
   "outputs": [
    {
     "data": {
      "application/vnd.plotly.v1+json": {
       "data": [
        {
         "customdata": [
          [
           "Monday, 00:00"
          ],
          [
           "Monday, 00:30"
          ],
          [
           "Monday, 01:00"
          ],
          [
           "Monday, 01:30"
          ],
          [
           "Monday, 02:00"
          ],
          [
           "Monday, 02:30"
          ],
          [
           "Monday, 03:00"
          ],
          [
           "Monday, 03:30"
          ],
          [
           "Monday, 04:00"
          ],
          [
           "Monday, 04:30"
          ],
          [
           "Monday, 05:00"
          ],
          [
           "Monday, 05:30"
          ],
          [
           "Monday, 06:00"
          ],
          [
           "Monday, 06:30"
          ],
          [
           "Monday, 07:00"
          ],
          [
           "Monday, 07:30"
          ],
          [
           "Monday, 08:00"
          ],
          [
           "Monday, 08:30"
          ],
          [
           "Monday, 09:00"
          ],
          [
           "Monday, 09:30"
          ],
          [
           "Monday, 10:00"
          ],
          [
           "Monday, 10:30"
          ],
          [
           "Monday, 11:00"
          ],
          [
           "Monday, 11:30"
          ],
          [
           "Monday, 12:00"
          ],
          [
           "Monday, 12:30"
          ],
          [
           "Monday, 13:00"
          ],
          [
           "Monday, 13:30"
          ],
          [
           "Monday, 14:00"
          ],
          [
           "Monday, 14:30"
          ],
          [
           "Monday, 15:00"
          ],
          [
           "Monday, 15:30"
          ],
          [
           "Monday, 16:00"
          ],
          [
           "Monday, 16:30"
          ],
          [
           "Monday, 17:00"
          ],
          [
           "Monday, 17:30"
          ],
          [
           "Monday, 18:00"
          ],
          [
           "Monday, 18:30"
          ],
          [
           "Monday, 19:00"
          ],
          [
           "Monday, 19:30"
          ],
          [
           "Monday, 20:00"
          ],
          [
           "Monday, 20:30"
          ],
          [
           "Monday, 21:00"
          ],
          [
           "Monday, 21:30"
          ],
          [
           "Monday, 22:00"
          ],
          [
           "Monday, 22:30"
          ],
          [
           "Monday, 23:00"
          ],
          [
           "Monday, 23:30"
          ],
          [
           "Tuesday, 00:00"
          ],
          [
           "Tuesday, 00:30"
          ],
          [
           "Tuesday, 01:00"
          ],
          [
           "Tuesday, 01:30"
          ],
          [
           "Tuesday, 02:00"
          ],
          [
           "Tuesday, 02:30"
          ],
          [
           "Tuesday, 03:00"
          ],
          [
           "Tuesday, 03:30"
          ],
          [
           "Tuesday, 04:00"
          ],
          [
           "Tuesday, 04:30"
          ],
          [
           "Tuesday, 05:00"
          ],
          [
           "Tuesday, 05:30"
          ],
          [
           "Tuesday, 06:00"
          ],
          [
           "Tuesday, 06:30"
          ],
          [
           "Tuesday, 07:00"
          ],
          [
           "Tuesday, 07:30"
          ],
          [
           "Tuesday, 08:00"
          ],
          [
           "Tuesday, 08:30"
          ],
          [
           "Tuesday, 09:00"
          ],
          [
           "Tuesday, 09:30"
          ],
          [
           "Tuesday, 10:00"
          ],
          [
           "Tuesday, 10:30"
          ],
          [
           "Tuesday, 11:00"
          ],
          [
           "Tuesday, 11:30"
          ],
          [
           "Tuesday, 12:00"
          ],
          [
           "Tuesday, 12:30"
          ],
          [
           "Tuesday, 13:00"
          ],
          [
           "Tuesday, 13:30"
          ],
          [
           "Tuesday, 14:00"
          ],
          [
           "Tuesday, 14:30"
          ],
          [
           "Tuesday, 15:00"
          ],
          [
           "Tuesday, 15:30"
          ],
          [
           "Tuesday, 16:00"
          ],
          [
           "Tuesday, 16:30"
          ],
          [
           "Tuesday, 17:00"
          ],
          [
           "Tuesday, 17:30"
          ],
          [
           "Tuesday, 18:00"
          ],
          [
           "Tuesday, 18:30"
          ],
          [
           "Tuesday, 19:00"
          ],
          [
           "Tuesday, 19:30"
          ],
          [
           "Tuesday, 20:00"
          ],
          [
           "Tuesday, 20:30"
          ],
          [
           "Tuesday, 21:00"
          ],
          [
           "Tuesday, 21:30"
          ],
          [
           "Tuesday, 22:00"
          ],
          [
           "Tuesday, 22:30"
          ],
          [
           "Tuesday, 23:00"
          ],
          [
           "Tuesday, 23:30"
          ],
          [
           "Wednesday, 00:00"
          ],
          [
           "Wednesday, 00:30"
          ],
          [
           "Wednesday, 01:00"
          ],
          [
           "Wednesday, 01:30"
          ],
          [
           "Wednesday, 02:00"
          ],
          [
           "Wednesday, 02:30"
          ],
          [
           "Wednesday, 03:00"
          ],
          [
           "Wednesday, 03:30"
          ],
          [
           "Wednesday, 04:00"
          ],
          [
           "Wednesday, 04:30"
          ],
          [
           "Wednesday, 05:00"
          ],
          [
           "Wednesday, 05:30"
          ],
          [
           "Wednesday, 06:00"
          ],
          [
           "Wednesday, 06:30"
          ],
          [
           "Wednesday, 07:00"
          ],
          [
           "Wednesday, 07:30"
          ],
          [
           "Wednesday, 08:00"
          ],
          [
           "Wednesday, 08:30"
          ],
          [
           "Wednesday, 09:00"
          ],
          [
           "Wednesday, 09:30"
          ],
          [
           "Wednesday, 10:00"
          ],
          [
           "Wednesday, 10:30"
          ],
          [
           "Wednesday, 11:00"
          ],
          [
           "Wednesday, 11:30"
          ],
          [
           "Wednesday, 12:00"
          ],
          [
           "Wednesday, 12:30"
          ],
          [
           "Wednesday, 13:00"
          ],
          [
           "Wednesday, 13:30"
          ],
          [
           "Wednesday, 14:00"
          ],
          [
           "Wednesday, 14:30"
          ],
          [
           "Wednesday, 15:00"
          ],
          [
           "Wednesday, 15:30"
          ],
          [
           "Wednesday, 16:00"
          ],
          [
           "Wednesday, 16:30"
          ],
          [
           "Wednesday, 17:00"
          ],
          [
           "Wednesday, 17:30"
          ],
          [
           "Wednesday, 18:00"
          ],
          [
           "Wednesday, 18:30"
          ],
          [
           "Wednesday, 19:00"
          ],
          [
           "Wednesday, 19:30"
          ],
          [
           "Wednesday, 20:00"
          ],
          [
           "Wednesday, 20:30"
          ],
          [
           "Wednesday, 21:00"
          ],
          [
           "Wednesday, 21:30"
          ],
          [
           "Wednesday, 22:00"
          ],
          [
           "Wednesday, 22:30"
          ],
          [
           "Wednesday, 23:00"
          ],
          [
           "Wednesday, 23:30"
          ],
          [
           "Thursday, 00:00"
          ],
          [
           "Thursday, 00:30"
          ],
          [
           "Thursday, 01:00"
          ],
          [
           "Thursday, 01:30"
          ],
          [
           "Thursday, 02:00"
          ],
          [
           "Thursday, 02:30"
          ],
          [
           "Thursday, 03:00"
          ],
          [
           "Thursday, 03:30"
          ],
          [
           "Thursday, 04:00"
          ],
          [
           "Thursday, 04:30"
          ],
          [
           "Thursday, 05:00"
          ],
          [
           "Thursday, 05:30"
          ],
          [
           "Thursday, 06:00"
          ],
          [
           "Thursday, 06:30"
          ],
          [
           "Thursday, 07:00"
          ],
          [
           "Thursday, 07:30"
          ],
          [
           "Thursday, 08:00"
          ],
          [
           "Thursday, 08:30"
          ],
          [
           "Thursday, 09:00"
          ],
          [
           "Thursday, 09:30"
          ],
          [
           "Thursday, 10:00"
          ],
          [
           "Thursday, 10:30"
          ],
          [
           "Thursday, 11:00"
          ],
          [
           "Thursday, 11:30"
          ],
          [
           "Thursday, 12:00"
          ],
          [
           "Thursday, 12:30"
          ],
          [
           "Thursday, 13:00"
          ],
          [
           "Thursday, 13:30"
          ],
          [
           "Thursday, 14:00"
          ],
          [
           "Thursday, 14:30"
          ],
          [
           "Thursday, 15:00"
          ],
          [
           "Thursday, 15:30"
          ],
          [
           "Thursday, 16:00"
          ],
          [
           "Thursday, 16:30"
          ],
          [
           "Thursday, 17:00"
          ],
          [
           "Thursday, 17:30"
          ],
          [
           "Thursday, 18:00"
          ],
          [
           "Thursday, 18:30"
          ],
          [
           "Thursday, 19:00"
          ],
          [
           "Thursday, 19:30"
          ],
          [
           "Thursday, 20:00"
          ],
          [
           "Thursday, 20:30"
          ],
          [
           "Thursday, 21:00"
          ],
          [
           "Thursday, 21:30"
          ],
          [
           "Thursday, 22:00"
          ],
          [
           "Thursday, 22:30"
          ],
          [
           "Thursday, 23:00"
          ],
          [
           "Thursday, 23:30"
          ],
          [
           "Friday, 00:00"
          ],
          [
           "Friday, 00:30"
          ],
          [
           "Friday, 01:00"
          ],
          [
           "Friday, 01:30"
          ],
          [
           "Friday, 02:00"
          ],
          [
           "Friday, 02:30"
          ],
          [
           "Friday, 03:00"
          ],
          [
           "Friday, 03:30"
          ],
          [
           "Friday, 04:00"
          ],
          [
           "Friday, 04:30"
          ],
          [
           "Friday, 05:00"
          ],
          [
           "Friday, 05:30"
          ],
          [
           "Friday, 06:00"
          ],
          [
           "Friday, 06:30"
          ],
          [
           "Friday, 07:00"
          ],
          [
           "Friday, 07:30"
          ],
          [
           "Friday, 08:00"
          ],
          [
           "Friday, 08:30"
          ],
          [
           "Friday, 09:00"
          ],
          [
           "Friday, 09:30"
          ],
          [
           "Friday, 10:00"
          ],
          [
           "Friday, 10:30"
          ],
          [
           "Friday, 11:00"
          ],
          [
           "Friday, 11:30"
          ],
          [
           "Friday, 12:00"
          ],
          [
           "Friday, 12:30"
          ],
          [
           "Friday, 13:00"
          ],
          [
           "Friday, 13:30"
          ],
          [
           "Friday, 14:00"
          ],
          [
           "Friday, 14:30"
          ],
          [
           "Friday, 15:00"
          ],
          [
           "Friday, 15:30"
          ],
          [
           "Friday, 16:00"
          ],
          [
           "Friday, 16:30"
          ],
          [
           "Friday, 17:00"
          ],
          [
           "Friday, 17:30"
          ],
          [
           "Friday, 18:00"
          ],
          [
           "Friday, 18:30"
          ],
          [
           "Friday, 19:00"
          ],
          [
           "Friday, 19:30"
          ],
          [
           "Friday, 20:00"
          ],
          [
           "Friday, 20:30"
          ],
          [
           "Friday, 21:00"
          ],
          [
           "Friday, 21:30"
          ],
          [
           "Friday, 22:00"
          ],
          [
           "Friday, 22:30"
          ],
          [
           "Friday, 23:00"
          ],
          [
           "Friday, 23:30"
          ],
          [
           "Saturday, 00:00"
          ],
          [
           "Saturday, 00:30"
          ],
          [
           "Saturday, 01:00"
          ],
          [
           "Saturday, 01:30"
          ],
          [
           "Saturday, 02:00"
          ],
          [
           "Saturday, 02:30"
          ],
          [
           "Saturday, 03:00"
          ],
          [
           "Saturday, 03:30"
          ],
          [
           "Saturday, 04:00"
          ],
          [
           "Saturday, 04:30"
          ],
          [
           "Saturday, 05:00"
          ],
          [
           "Saturday, 05:30"
          ],
          [
           "Saturday, 06:00"
          ],
          [
           "Saturday, 06:30"
          ],
          [
           "Saturday, 07:00"
          ],
          [
           "Saturday, 07:30"
          ],
          [
           "Saturday, 08:00"
          ],
          [
           "Saturday, 08:30"
          ],
          [
           "Saturday, 09:00"
          ],
          [
           "Saturday, 09:30"
          ],
          [
           "Saturday, 10:00"
          ],
          [
           "Saturday, 10:30"
          ],
          [
           "Saturday, 11:00"
          ],
          [
           "Saturday, 11:30"
          ],
          [
           "Saturday, 12:00"
          ],
          [
           "Saturday, 12:30"
          ],
          [
           "Saturday, 13:00"
          ],
          [
           "Saturday, 13:30"
          ],
          [
           "Saturday, 14:00"
          ],
          [
           "Saturday, 14:30"
          ],
          [
           "Saturday, 15:00"
          ],
          [
           "Saturday, 15:30"
          ],
          [
           "Saturday, 16:00"
          ],
          [
           "Saturday, 16:30"
          ],
          [
           "Saturday, 17:00"
          ],
          [
           "Saturday, 17:30"
          ],
          [
           "Saturday, 18:00"
          ],
          [
           "Saturday, 18:30"
          ],
          [
           "Saturday, 19:00"
          ],
          [
           "Saturday, 19:30"
          ],
          [
           "Saturday, 20:00"
          ],
          [
           "Saturday, 20:30"
          ],
          [
           "Saturday, 21:00"
          ],
          [
           "Saturday, 21:30"
          ],
          [
           "Saturday, 22:00"
          ],
          [
           "Saturday, 22:30"
          ],
          [
           "Saturday, 23:00"
          ],
          [
           "Saturday, 23:30"
          ],
          [
           "Sunday, 00:00"
          ],
          [
           "Sunday, 00:30"
          ],
          [
           "Sunday, 01:00"
          ],
          [
           "Sunday, 01:30"
          ],
          [
           "Sunday, 02:00"
          ],
          [
           "Sunday, 02:30"
          ],
          [
           "Sunday, 03:00"
          ],
          [
           "Sunday, 03:30"
          ],
          [
           "Sunday, 04:00"
          ],
          [
           "Sunday, 04:30"
          ],
          [
           "Sunday, 05:00"
          ],
          [
           "Sunday, 05:30"
          ],
          [
           "Sunday, 06:00"
          ],
          [
           "Sunday, 06:30"
          ],
          [
           "Sunday, 07:00"
          ],
          [
           "Sunday, 07:30"
          ],
          [
           "Sunday, 08:00"
          ],
          [
           "Sunday, 08:30"
          ],
          [
           "Sunday, 09:00"
          ],
          [
           "Sunday, 09:30"
          ],
          [
           "Sunday, 10:00"
          ],
          [
           "Sunday, 10:30"
          ],
          [
           "Sunday, 11:00"
          ],
          [
           "Sunday, 11:30"
          ],
          [
           "Sunday, 12:00"
          ],
          [
           "Sunday, 12:30"
          ],
          [
           "Sunday, 13:00"
          ],
          [
           "Sunday, 13:30"
          ],
          [
           "Sunday, 14:00"
          ],
          [
           "Sunday, 14:30"
          ],
          [
           "Sunday, 15:00"
          ],
          [
           "Sunday, 15:30"
          ],
          [
           "Sunday, 16:00"
          ],
          [
           "Sunday, 16:30"
          ],
          [
           "Sunday, 17:00"
          ],
          [
           "Sunday, 17:30"
          ],
          [
           "Sunday, 18:00"
          ],
          [
           "Sunday, 18:30"
          ],
          [
           "Sunday, 19:00"
          ],
          [
           "Sunday, 19:30"
          ],
          [
           "Sunday, 20:00"
          ],
          [
           "Sunday, 20:30"
          ],
          [
           "Sunday, 21:00"
          ],
          [
           "Sunday, 21:30"
          ],
          [
           "Sunday, 22:00"
          ],
          [
           "Sunday, 22:30"
          ],
          [
           "Sunday, 23:00"
          ],
          [
           "Sunday, 23:30"
          ]
         ],
         "hovertemplate": "index=%{x}<br>lat=%{y}<br>day_time=%{customdata[0]}<extra></extra>",
         "legendgroup": "",
         "line": {
          "color": "#408050",
          "dash": "solid"
         },
         "marker": {
          "symbol": "circle"
         },
         "mode": "markers+lines",
         "name": "",
         "orientation": "v",
         "showlegend": false,
         "x": [
          0,
          1,
          2,
          3,
          4,
          5,
          6,
          7,
          8,
          9,
          10,
          11,
          12,
          13,
          14,
          15,
          16,
          17,
          18,
          19,
          20,
          21,
          22,
          23,
          24,
          25,
          26,
          27,
          28,
          29,
          30,
          31,
          32,
          33,
          34,
          35,
          36,
          37,
          38,
          39,
          40,
          41,
          42,
          43,
          44,
          45,
          46,
          47,
          48,
          49,
          50,
          51,
          52,
          53,
          54,
          55,
          56,
          57,
          58,
          59,
          60,
          61,
          62,
          63,
          64,
          65,
          66,
          67,
          68,
          69,
          70,
          71,
          72,
          73,
          74,
          75,
          76,
          77,
          78,
          79,
          80,
          81,
          82,
          83,
          84,
          85,
          86,
          87,
          88,
          89,
          90,
          91,
          92,
          93,
          94,
          95,
          96,
          97,
          98,
          99,
          100,
          101,
          102,
          103,
          104,
          105,
          106,
          107,
          108,
          109,
          110,
          111,
          112,
          113,
          114,
          115,
          116,
          117,
          118,
          119,
          120,
          121,
          122,
          123,
          124,
          125,
          126,
          127,
          128,
          129,
          130,
          131,
          132,
          133,
          134,
          135,
          136,
          137,
          138,
          139,
          140,
          141,
          142,
          143,
          144,
          145,
          146,
          147,
          148,
          149,
          150,
          151,
          152,
          153,
          154,
          155,
          156,
          157,
          158,
          159,
          160,
          161,
          162,
          163,
          164,
          165,
          166,
          167,
          168,
          169,
          170,
          171,
          172,
          173,
          174,
          175,
          176,
          177,
          178,
          179,
          180,
          181,
          182,
          183,
          184,
          185,
          186,
          187,
          188,
          189,
          190,
          191,
          192,
          193,
          194,
          195,
          196,
          197,
          198,
          199,
          200,
          201,
          202,
          203,
          204,
          205,
          206,
          207,
          208,
          209,
          210,
          211,
          212,
          213,
          214,
          215,
          216,
          217,
          218,
          219,
          220,
          221,
          222,
          223,
          224,
          225,
          226,
          227,
          228,
          229,
          230,
          231,
          232,
          233,
          234,
          235,
          236,
          237,
          238,
          239,
          240,
          241,
          242,
          243,
          244,
          245,
          246,
          247,
          248,
          249,
          250,
          251,
          252,
          253,
          254,
          255,
          256,
          257,
          258,
          259,
          260,
          261,
          262,
          263,
          264,
          265,
          266,
          267,
          268,
          269,
          270,
          271,
          272,
          273,
          274,
          275,
          276,
          277,
          278,
          279,
          280,
          281,
          282,
          283,
          284,
          285,
          286,
          287,
          288,
          289,
          290,
          291,
          292,
          293,
          294,
          295,
          296,
          297,
          298,
          299,
          300,
          301,
          302,
          303,
          304,
          305,
          306,
          307,
          308,
          309,
          310,
          311,
          312,
          313,
          314,
          315,
          316,
          317,
          318,
          319,
          320,
          321,
          322,
          323,
          324,
          325,
          326,
          327,
          328,
          329,
          330,
          331,
          332,
          333,
          334,
          335
         ],
         "xaxis": "x",
         "y": [
          484.7833015976501,
          485.57637672870004,
          485.78768285609175,
          487.2347755771201,
          487.8752294941978,
          485.5224364784482,
          484.4072674169468,
          484.7431381855319,
          481.7637578851842,
          482.53316621394055,
          482.1924061937512,
          478.38623758059435,
          477.7197178732042,
          479.4192165913553,
          469.82962762533833,
          469.5258223644649,
          468.41047968624207,
          462.727863445456,
          459.8457895112042,
          456.3829569558738,
          455.34825596133794,
          455.2402338029957,
          456.3301372691927,
          455.915261998576,
          455.9437751735314,
          457.13184776323305,
          458.61262457505717,
          458.9562015894101,
          459.9025417896938,
          458.7704139143207,
          460.302100077716,
          457.5442073857914,
          460.900635502007,
          462.90793334094803,
          462.6270479684776,
          466.1332307271318,
          468.18235443548156,
          467.7875640167749,
          470.2771337326009,
          473.0766230768994,
          475.1735314352525,
          475.5662626823081,
          477.5448990975486,
          481.36266391941507,
          483.0090674195165,
          485.39372734200293,
          485.98521409033646,
          484.36349513469344,
          486.902589495066,
          486.11029249365623,
          485.0181456225488,
          484.88693939014456,
          485.5221653525511,
          485.8556235555013,
          483.8030751611821,
          483.8442038647275,
          483.24474781316235,
          482.89082345155987,
          480.178352365699,
          480.64996461428257,
          476.6859579713467,
          474.33479983040377,
          471.8812605957432,
          470.65317570473957,
          470.990315718825,
          468.8789365187606,
          462.87931189746945,
          460.8623938127792,
          457.3344756566929,
          457.6219673227119,
          457.38810739390135,
          457.97761352501834,
          457.4404771862264,
          457.87077217029025,
          456.7817235354898,
          459.7037068875538,
          460.6341413083319,
          460.8777902017295,
          459.9531751560586,
          459.6265702133813,
          462.6076095042931,
          468.75860354547115,
          473.370016515852,
          473.23313555606865,
          472.8135068779282,
          474.26107980254505,
          475.7060473637877,
          477.4540873578722,
          478.33693152958597,
          479.81922500239904,
          481.311235573151,
          482.6537899886314,
          483.6099730399459,
          484.62085142570305,
          484.58038811246604,
          486.01185121346845,
          488.6444233855619,
          486.85158928071485,
          486.240361660487,
          486.183032889651,
          485.235015452941,
          481.28567535722635,
          482.93159679347013,
          479.29207206662977,
          478.77647685990365,
          477.12757371334493,
          477.6619153386366,
          476.50636692954504,
          475.087591528186,
          472.33146074871814,
          470.38922951235156,
          473.8079688488106,
          469.68524666785555,
          466.8524956554124,
          463.3151832249894,
          459.732043284676,
          457.75235319650903,
          456.58950014037447,
          456.25069591579864,
          455.14772439710725,
          453.8949650911687,
          455.78595099389065,
          457.32906141936047,
          458.5361243042229,
          460.1014621950734,
          459.85365777966445,
          462.36697754794335,
          462.38457499352853,
          462.7619068953408,
          462.04076181592046,
          461.58515842227996,
          464.9706888073873,
          470.60577415290686,
          471.9386361648082,
          475.60235308108025,
          478.0685456191077,
          481.7514629436527,
          482.16480604292593,
          483.0904418206016,
          485.39268802611036,
          484.79091004984207,
          486.0529523292438,
          487.36455983936395,
          488.09671291996335,
          482.72576971889765,
          487.88333704394773,
          490.04878798278816,
          488.14215513312814,
          487.22945829935105,
          488.0791451131798,
          487.10860784100026,
          486.85059987985284,
          486.1746332144485,
          486.8277228954713,
          483.64230409783124,
          482.49772552048097,
          481.0306285187869,
          479.0400518443853,
          474.9422249511423,
          475.58766886358717,
          471.8459115150174,
          464.5628885134373,
          460.15102076346415,
          456.7957112902568,
          458.98734402930444,
          458.9133010357472,
          458.44355891022855,
          458.5256241740404,
          458.43330002199633,
          459.7779587004109,
          461.61015817341263,
          461.4233010672892,
          461.8858230198624,
          463.56672789681323,
          465.17583092601035,
          465.8559389088998,
          466.3042884685955,
          468.16585742217865,
          471.6299009806315,
          474.91862293421127,
          473.0973152447762,
          476.8252260525693,
          477.9010600287722,
          480.1962267834205,
          481.16538360245784,
          479.97585390821837,
          480.6211975236588,
          480.86212709697963,
          481.7566052358374,
          482.84130232322144,
          484.11718606516183,
          484.4284295172737,
          492.9749358920803,
          481.2056572208667,
          481.0918208491559,
          482.14107682015924,
          482.45267487065956,
          480.26516032455726,
          478.67890692397776,
          478.3625809646177,
          478.35212224949095,
          477.663622941594,
          474.63983020356017,
          474.24950115791563,
          472.68963632308237,
          468.947848713456,
          467.0133375027117,
          462.99081618426334,
          462.48196710347844,
          459.5005875444,
          455.8815653869076,
          456.7376896722709,
          455.9337432697709,
          456.2692463345112,
          455.7311605646798,
          456.08010656622787,
          457.18755142585695,
          457.39516733134036,
          459.0814395887233,
          459.0392404451263,
          460.27285096870844,
          460.983970902995,
          461.03588645858616,
          461.5653137539697,
          461.9063322642668,
          464.13616594772077,
          465.03083510376194,
          468.65420764177003,
          471.49655369760234,
          472.89330855672006,
          475.6737939326865,
          477.92687925759657,
          477.4898131264851,
          478.2448148621656,
          480.94417797427474,
          483.91945074975627,
          484.75426644308936,
          489.00260035706145,
          489.23437195929125,
          489.78899735820715,
          491.0000247193456,
          490.1970683693056,
          490.5381866287414,
          490.33827419709627,
          492.7302698326646,
          490.6569967484202,
          488.8135140849424,
          490.2718150728594,
          490.3429358399036,
          487.53411700282334,
          486.57881447701124,
          487.3128260942106,
          488.10781826414654,
          485.4777771483847,
          482.5537045061883,
          481.4325976020969,
          480.38427318121364,
          477.1883509416487,
          476.9967239210947,
          475.1405944225444,
          475.9788613350456,
          475.8879812900118,
          474.99415800822004,
          475.38884540203793,
          476.10217611528145,
          476.89785526666384,
          478.61806212773746,
          479.3054257477846,
          483.1445882179647,
          482.9580429432436,
          484.0779792445241,
          484.3205367108113,
          481.8805913622358,
          482.2617518575658,
          482.5087569521224,
          480.0288066640708,
          480.5866430945038,
          480.9650969773778,
          481.1549270878654,
          482.6063490325547,
          482.8300251099365,
          482.1654665408017,
          481.8822290359218,
          483.51345289632985,
          484.68712913637245,
          488.2623988044244,
          490.82795490617764,
          489.0215612458261,
          477.4956715262966,
          491.8210985770545,
          491.5971138823797,
          490.5509755359752,
          489.2201776082347,
          490.3760926466594,
          491.38175879518667,
          491.92402838287524,
          490.34627661911566,
          489.19184745501065,
          489.97158069037334,
          488.25872394019655,
          488.3918085308317,
          486.12288285850303,
          482.63479227454303,
          477.7797748508601,
          478.408005238664,
          475.2178361177789,
          477.12353000557124,
          480.83239331796847,
          480.4075483978831,
          481.4258558866046,
          477.7643002851858,
          479.53202268646265,
          480.88763133320106,
          481.2799589388621,
          481.82391416884684,
          483.87253308187206,
          484.62701005342495,
          485.4460718406803,
          487.56558307633196,
          485.94030455454106,
          486.92232298979366,
          485.5370221384446,
          488.46151004392766,
          484.67507297757055,
          477.84705413680206,
          475.7100400209162,
          476.4987964926016,
          476.83343161587857,
          477.93356318218696,
          482.45620390344504,
          482.1285569239588,
          485.7608188471873,
          483.8205738032583,
          483.4608408803746,
          483.54229413874316,
          480.01566077716814
         ],
         "yaxis": "y",
         "type": "scatter"
        }
       ],
       "layout": {
        "template": {
         "data": {
          "histogram2dcontour": [
           {
            "type": "histogram2dcontour",
            "colorbar": {
             "outlinewidth": 0,
             "ticks": ""
            },
            "colorscale": [
             [
              0.0,
              "#0d0887"
             ],
             [
              0.1111111111111111,
              "#46039f"
             ],
             [
              0.2222222222222222,
              "#7201a8"
             ],
             [
              0.3333333333333333,
              "#9c179e"
             ],
             [
              0.4444444444444444,
              "#bd3786"
             ],
             [
              0.5555555555555556,
              "#d8576b"
             ],
             [
              0.6666666666666666,
              "#ed7953"
             ],
             [
              0.7777777777777778,
              "#fb9f3a"
             ],
             [
              0.8888888888888888,
              "#fdca26"
             ],
             [
              1.0,
              "#f0f921"
             ]
            ]
           }
          ],
          "choropleth": [
           {
            "type": "choropleth",
            "colorbar": {
             "outlinewidth": 0,
             "ticks": ""
            }
           }
          ],
          "histogram2d": [
           {
            "type": "histogram2d",
            "colorbar": {
             "outlinewidth": 0,
             "ticks": ""
            },
            "colorscale": [
             [
              0.0,
              "#0d0887"
             ],
             [
              0.1111111111111111,
              "#46039f"
             ],
             [
              0.2222222222222222,
              "#7201a8"
             ],
             [
              0.3333333333333333,
              "#9c179e"
             ],
             [
              0.4444444444444444,
              "#bd3786"
             ],
             [
              0.5555555555555556,
              "#d8576b"
             ],
             [
              0.6666666666666666,
              "#ed7953"
             ],
             [
              0.7777777777777778,
              "#fb9f3a"
             ],
             [
              0.8888888888888888,
              "#fdca26"
             ],
             [
              1.0,
              "#f0f921"
             ]
            ]
           }
          ],
          "heatmap": [
           {
            "type": "heatmap",
            "colorbar": {
             "outlinewidth": 0,
             "ticks": ""
            },
            "colorscale": [
             [
              0.0,
              "#0d0887"
             ],
             [
              0.1111111111111111,
              "#46039f"
             ],
             [
              0.2222222222222222,
              "#7201a8"
             ],
             [
              0.3333333333333333,
              "#9c179e"
             ],
             [
              0.4444444444444444,
              "#bd3786"
             ],
             [
              0.5555555555555556,
              "#d8576b"
             ],
             [
              0.6666666666666666,
              "#ed7953"
             ],
             [
              0.7777777777777778,
              "#fb9f3a"
             ],
             [
              0.8888888888888888,
              "#fdca26"
             ],
             [
              1.0,
              "#f0f921"
             ]
            ]
           }
          ],
          "heatmapgl": [
           {
            "type": "heatmapgl",
            "colorbar": {
             "outlinewidth": 0,
             "ticks": ""
            },
            "colorscale": [
             [
              0.0,
              "#0d0887"
             ],
             [
              0.1111111111111111,
              "#46039f"
             ],
             [
              0.2222222222222222,
              "#7201a8"
             ],
             [
              0.3333333333333333,
              "#9c179e"
             ],
             [
              0.4444444444444444,
              "#bd3786"
             ],
             [
              0.5555555555555556,
              "#d8576b"
             ],
             [
              0.6666666666666666,
              "#ed7953"
             ],
             [
              0.7777777777777778,
              "#fb9f3a"
             ],
             [
              0.8888888888888888,
              "#fdca26"
             ],
             [
              1.0,
              "#f0f921"
             ]
            ]
           }
          ],
          "contourcarpet": [
           {
            "type": "contourcarpet",
            "colorbar": {
             "outlinewidth": 0,
             "ticks": ""
            }
           }
          ],
          "contour": [
           {
            "type": "contour",
            "colorbar": {
             "outlinewidth": 0,
             "ticks": ""
            },
            "colorscale": [
             [
              0.0,
              "#0d0887"
             ],
             [
              0.1111111111111111,
              "#46039f"
             ],
             [
              0.2222222222222222,
              "#7201a8"
             ],
             [
              0.3333333333333333,
              "#9c179e"
             ],
             [
              0.4444444444444444,
              "#bd3786"
             ],
             [
              0.5555555555555556,
              "#d8576b"
             ],
             [
              0.6666666666666666,
              "#ed7953"
             ],
             [
              0.7777777777777778,
              "#fb9f3a"
             ],
             [
              0.8888888888888888,
              "#fdca26"
             ],
             [
              1.0,
              "#f0f921"
             ]
            ]
           }
          ],
          "surface": [
           {
            "type": "surface",
            "colorbar": {
             "outlinewidth": 0,
             "ticks": ""
            },
            "colorscale": [
             [
              0.0,
              "#0d0887"
             ],
             [
              0.1111111111111111,
              "#46039f"
             ],
             [
              0.2222222222222222,
              "#7201a8"
             ],
             [
              0.3333333333333333,
              "#9c179e"
             ],
             [
              0.4444444444444444,
              "#bd3786"
             ],
             [
              0.5555555555555556,
              "#d8576b"
             ],
             [
              0.6666666666666666,
              "#ed7953"
             ],
             [
              0.7777777777777778,
              "#fb9f3a"
             ],
             [
              0.8888888888888888,
              "#fdca26"
             ],
             [
              1.0,
              "#f0f921"
             ]
            ]
           }
          ],
          "mesh3d": [
           {
            "type": "mesh3d",
            "colorbar": {
             "outlinewidth": 0,
             "ticks": ""
            }
           }
          ],
          "scatter": [
           {
            "fillpattern": {
             "fillmode": "overlay",
             "size": 10,
             "solidity": 0.2
            },
            "type": "scatter"
           }
          ],
          "parcoords": [
           {
            "type": "parcoords",
            "line": {
             "colorbar": {
              "outlinewidth": 0,
              "ticks": ""
             }
            }
           }
          ],
          "scatterpolargl": [
           {
            "type": "scatterpolargl",
            "marker": {
             "colorbar": {
              "outlinewidth": 0,
              "ticks": ""
             }
            }
           }
          ],
          "bar": [
           {
            "error_x": {
             "color": "#2a3f5f"
            },
            "error_y": {
             "color": "#2a3f5f"
            },
            "marker": {
             "line": {
              "color": "#E5ECF6",
              "width": 0.5
             },
             "pattern": {
              "fillmode": "overlay",
              "size": 10,
              "solidity": 0.2
             }
            },
            "type": "bar"
           }
          ],
          "scattergeo": [
           {
            "type": "scattergeo",
            "marker": {
             "colorbar": {
              "outlinewidth": 0,
              "ticks": ""
             }
            }
           }
          ],
          "scatterpolar": [
           {
            "type": "scatterpolar",
            "marker": {
             "colorbar": {
              "outlinewidth": 0,
              "ticks": ""
             }
            }
           }
          ],
          "histogram": [
           {
            "marker": {
             "pattern": {
              "fillmode": "overlay",
              "size": 10,
              "solidity": 0.2
             }
            },
            "type": "histogram"
           }
          ],
          "scattergl": [
           {
            "type": "scattergl",
            "marker": {
             "colorbar": {
              "outlinewidth": 0,
              "ticks": ""
             }
            }
           }
          ],
          "scatter3d": [
           {
            "type": "scatter3d",
            "line": {
             "colorbar": {
              "outlinewidth": 0,
              "ticks": ""
             }
            },
            "marker": {
             "colorbar": {
              "outlinewidth": 0,
              "ticks": ""
             }
            }
           }
          ],
          "scattermapbox": [
           {
            "type": "scattermapbox",
            "marker": {
             "colorbar": {
              "outlinewidth": 0,
              "ticks": ""
             }
            }
           }
          ],
          "scatterternary": [
           {
            "type": "scatterternary",
            "marker": {
             "colorbar": {
              "outlinewidth": 0,
              "ticks": ""
             }
            }
           }
          ],
          "scattercarpet": [
           {
            "type": "scattercarpet",
            "marker": {
             "colorbar": {
              "outlinewidth": 0,
              "ticks": ""
             }
            }
           }
          ],
          "carpet": [
           {
            "aaxis": {
             "endlinecolor": "#2a3f5f",
             "gridcolor": "white",
             "linecolor": "white",
             "minorgridcolor": "white",
             "startlinecolor": "#2a3f5f"
            },
            "baxis": {
             "endlinecolor": "#2a3f5f",
             "gridcolor": "white",
             "linecolor": "white",
             "minorgridcolor": "white",
             "startlinecolor": "#2a3f5f"
            },
            "type": "carpet"
           }
          ],
          "table": [
           {
            "cells": {
             "fill": {
              "color": "#EBF0F8"
             },
             "line": {
              "color": "white"
             }
            },
            "header": {
             "fill": {
              "color": "#C8D4E3"
             },
             "line": {
              "color": "white"
             }
            },
            "type": "table"
           }
          ],
          "barpolar": [
           {
            "marker": {
             "line": {
              "color": "#E5ECF6",
              "width": 0.5
             },
             "pattern": {
              "fillmode": "overlay",
              "size": 10,
              "solidity": 0.2
             }
            },
            "type": "barpolar"
           }
          ],
          "pie": [
           {
            "automargin": true,
            "type": "pie"
           }
          ]
         },
         "layout": {
          "autotypenumbers": "strict",
          "colorway": [
           "#636efa",
           "#EF553B",
           "#00cc96",
           "#ab63fa",
           "#FFA15A",
           "#19d3f3",
           "#FF6692",
           "#B6E880",
           "#FF97FF",
           "#FECB52"
          ],
          "font": {
           "color": "#2a3f5f"
          },
          "hovermode": "closest",
          "hoverlabel": {
           "align": "left"
          },
          "paper_bgcolor": "white",
          "plot_bgcolor": "#E5ECF6",
          "polar": {
           "bgcolor": "#E5ECF6",
           "angularaxis": {
            "gridcolor": "white",
            "linecolor": "white",
            "ticks": ""
           },
           "radialaxis": {
            "gridcolor": "white",
            "linecolor": "white",
            "ticks": ""
           }
          },
          "ternary": {
           "bgcolor": "#E5ECF6",
           "aaxis": {
            "gridcolor": "white",
            "linecolor": "white",
            "ticks": ""
           },
           "baxis": {
            "gridcolor": "white",
            "linecolor": "white",
            "ticks": ""
           },
           "caxis": {
            "gridcolor": "white",
            "linecolor": "white",
            "ticks": ""
           }
          },
          "coloraxis": {
           "colorbar": {
            "outlinewidth": 0,
            "ticks": ""
           }
          },
          "colorscale": {
           "sequential": [
            [
             0.0,
             "#0d0887"
            ],
            [
             0.1111111111111111,
             "#46039f"
            ],
            [
             0.2222222222222222,
             "#7201a8"
            ],
            [
             0.3333333333333333,
             "#9c179e"
            ],
            [
             0.4444444444444444,
             "#bd3786"
            ],
            [
             0.5555555555555556,
             "#d8576b"
            ],
            [
             0.6666666666666666,
             "#ed7953"
            ],
            [
             0.7777777777777778,
             "#fb9f3a"
            ],
            [
             0.8888888888888888,
             "#fdca26"
            ],
            [
             1.0,
             "#f0f921"
            ]
           ],
           "sequentialminus": [
            [
             0.0,
             "#0d0887"
            ],
            [
             0.1111111111111111,
             "#46039f"
            ],
            [
             0.2222222222222222,
             "#7201a8"
            ],
            [
             0.3333333333333333,
             "#9c179e"
            ],
            [
             0.4444444444444444,
             "#bd3786"
            ],
            [
             0.5555555555555556,
             "#d8576b"
            ],
            [
             0.6666666666666666,
             "#ed7953"
            ],
            [
             0.7777777777777778,
             "#fb9f3a"
            ],
            [
             0.8888888888888888,
             "#fdca26"
            ],
            [
             1.0,
             "#f0f921"
            ]
           ],
           "diverging": [
            [
             0,
             "#8e0152"
            ],
            [
             0.1,
             "#c51b7d"
            ],
            [
             0.2,
             "#de77ae"
            ],
            [
             0.3,
             "#f1b6da"
            ],
            [
             0.4,
             "#fde0ef"
            ],
            [
             0.5,
             "#f7f7f7"
            ],
            [
             0.6,
             "#e6f5d0"
            ],
            [
             0.7,
             "#b8e186"
            ],
            [
             0.8,
             "#7fbc41"
            ],
            [
             0.9,
             "#4d9221"
            ],
            [
             1,
             "#276419"
            ]
           ]
          },
          "xaxis": {
           "gridcolor": "white",
           "linecolor": "white",
           "ticks": "",
           "title": {
            "standoff": 15
           },
           "zerolinecolor": "white",
           "automargin": true,
           "zerolinewidth": 2
          },
          "yaxis": {
           "gridcolor": "white",
           "linecolor": "white",
           "ticks": "",
           "title": {
            "standoff": 15
           },
           "zerolinecolor": "white",
           "automargin": true,
           "zerolinewidth": 2
          },
          "scene": {
           "xaxis": {
            "backgroundcolor": "#E5ECF6",
            "gridcolor": "white",
            "linecolor": "white",
            "showbackground": true,
            "ticks": "",
            "zerolinecolor": "white",
            "gridwidth": 2
           },
           "yaxis": {
            "backgroundcolor": "#E5ECF6",
            "gridcolor": "white",
            "linecolor": "white",
            "showbackground": true,
            "ticks": "",
            "zerolinecolor": "white",
            "gridwidth": 2
           },
           "zaxis": {
            "backgroundcolor": "#E5ECF6",
            "gridcolor": "white",
            "linecolor": "white",
            "showbackground": true,
            "ticks": "",
            "zerolinecolor": "white",
            "gridwidth": 2
           }
          },
          "shapedefaults": {
           "line": {
            "color": "#2a3f5f"
           }
          },
          "annotationdefaults": {
           "arrowcolor": "#2a3f5f",
           "arrowhead": 0,
           "arrowwidth": 1
          },
          "geo": {
           "bgcolor": "white",
           "landcolor": "#E5ECF6",
           "subunitcolor": "white",
           "showland": true,
           "showlakes": true,
           "lakecolor": "white"
          },
          "title": {
           "x": 0.05
          },
          "mapbox": {
           "style": "light"
          }
         }
        },
        "xaxis": {
         "anchor": "y",
         "domain": [
          0.0,
          1.0
         ],
         "title": {
          "text": "index"
         }
        },
        "yaxis": {
         "anchor": "x",
         "domain": [
          0.0,
          1.0
         ],
         "title": {
          "text": "lat"
         }
        },
        "legend": {
         "tracegroupgap": 0
        },
        "margin": {
         "t": 60
        }
       },
       "config": {
        "plotlyServerURL": "https://plot.ly"
       }
      },
      "text/html": "<div>                            <div id=\"b92a4059-5d2b-40dd-a2cd-a3045f145ac0\" class=\"plotly-graph-div\" style=\"height:525px; width:100%;\"></div>            <script type=\"text/javascript\">                require([\"plotly\"], function(Plotly) {                    window.PLOTLYENV=window.PLOTLYENV || {};                                    if (document.getElementById(\"b92a4059-5d2b-40dd-a2cd-a3045f145ac0\")) {                    Plotly.newPlot(                        \"b92a4059-5d2b-40dd-a2cd-a3045f145ac0\",                        [{\"customdata\":[[\"Monday, 00:00\"],[\"Monday, 00:30\"],[\"Monday, 01:00\"],[\"Monday, 01:30\"],[\"Monday, 02:00\"],[\"Monday, 02:30\"],[\"Monday, 03:00\"],[\"Monday, 03:30\"],[\"Monday, 04:00\"],[\"Monday, 04:30\"],[\"Monday, 05:00\"],[\"Monday, 05:30\"],[\"Monday, 06:00\"],[\"Monday, 06:30\"],[\"Monday, 07:00\"],[\"Monday, 07:30\"],[\"Monday, 08:00\"],[\"Monday, 08:30\"],[\"Monday, 09:00\"],[\"Monday, 09:30\"],[\"Monday, 10:00\"],[\"Monday, 10:30\"],[\"Monday, 11:00\"],[\"Monday, 11:30\"],[\"Monday, 12:00\"],[\"Monday, 12:30\"],[\"Monday, 13:00\"],[\"Monday, 13:30\"],[\"Monday, 14:00\"],[\"Monday, 14:30\"],[\"Monday, 15:00\"],[\"Monday, 15:30\"],[\"Monday, 16:00\"],[\"Monday, 16:30\"],[\"Monday, 17:00\"],[\"Monday, 17:30\"],[\"Monday, 18:00\"],[\"Monday, 18:30\"],[\"Monday, 19:00\"],[\"Monday, 19:30\"],[\"Monday, 20:00\"],[\"Monday, 20:30\"],[\"Monday, 21:00\"],[\"Monday, 21:30\"],[\"Monday, 22:00\"],[\"Monday, 22:30\"],[\"Monday, 23:00\"],[\"Monday, 23:30\"],[\"Tuesday, 00:00\"],[\"Tuesday, 00:30\"],[\"Tuesday, 01:00\"],[\"Tuesday, 01:30\"],[\"Tuesday, 02:00\"],[\"Tuesday, 02:30\"],[\"Tuesday, 03:00\"],[\"Tuesday, 03:30\"],[\"Tuesday, 04:00\"],[\"Tuesday, 04:30\"],[\"Tuesday, 05:00\"],[\"Tuesday, 05:30\"],[\"Tuesday, 06:00\"],[\"Tuesday, 06:30\"],[\"Tuesday, 07:00\"],[\"Tuesday, 07:30\"],[\"Tuesday, 08:00\"],[\"Tuesday, 08:30\"],[\"Tuesday, 09:00\"],[\"Tuesday, 09:30\"],[\"Tuesday, 10:00\"],[\"Tuesday, 10:30\"],[\"Tuesday, 11:00\"],[\"Tuesday, 11:30\"],[\"Tuesday, 12:00\"],[\"Tuesday, 12:30\"],[\"Tuesday, 13:00\"],[\"Tuesday, 13:30\"],[\"Tuesday, 14:00\"],[\"Tuesday, 14:30\"],[\"Tuesday, 15:00\"],[\"Tuesday, 15:30\"],[\"Tuesday, 16:00\"],[\"Tuesday, 16:30\"],[\"Tuesday, 17:00\"],[\"Tuesday, 17:30\"],[\"Tuesday, 18:00\"],[\"Tuesday, 18:30\"],[\"Tuesday, 19:00\"],[\"Tuesday, 19:30\"],[\"Tuesday, 20:00\"],[\"Tuesday, 20:30\"],[\"Tuesday, 21:00\"],[\"Tuesday, 21:30\"],[\"Tuesday, 22:00\"],[\"Tuesday, 22:30\"],[\"Tuesday, 23:00\"],[\"Tuesday, 23:30\"],[\"Wednesday, 00:00\"],[\"Wednesday, 00:30\"],[\"Wednesday, 01:00\"],[\"Wednesday, 01:30\"],[\"Wednesday, 02:00\"],[\"Wednesday, 02:30\"],[\"Wednesday, 03:00\"],[\"Wednesday, 03:30\"],[\"Wednesday, 04:00\"],[\"Wednesday, 04:30\"],[\"Wednesday, 05:00\"],[\"Wednesday, 05:30\"],[\"Wednesday, 06:00\"],[\"Wednesday, 06:30\"],[\"Wednesday, 07:00\"],[\"Wednesday, 07:30\"],[\"Wednesday, 08:00\"],[\"Wednesday, 08:30\"],[\"Wednesday, 09:00\"],[\"Wednesday, 09:30\"],[\"Wednesday, 10:00\"],[\"Wednesday, 10:30\"],[\"Wednesday, 11:00\"],[\"Wednesday, 11:30\"],[\"Wednesday, 12:00\"],[\"Wednesday, 12:30\"],[\"Wednesday, 13:00\"],[\"Wednesday, 13:30\"],[\"Wednesday, 14:00\"],[\"Wednesday, 14:30\"],[\"Wednesday, 15:00\"],[\"Wednesday, 15:30\"],[\"Wednesday, 16:00\"],[\"Wednesday, 16:30\"],[\"Wednesday, 17:00\"],[\"Wednesday, 17:30\"],[\"Wednesday, 18:00\"],[\"Wednesday, 18:30\"],[\"Wednesday, 19:00\"],[\"Wednesday, 19:30\"],[\"Wednesday, 20:00\"],[\"Wednesday, 20:30\"],[\"Wednesday, 21:00\"],[\"Wednesday, 21:30\"],[\"Wednesday, 22:00\"],[\"Wednesday, 22:30\"],[\"Wednesday, 23:00\"],[\"Wednesday, 23:30\"],[\"Thursday, 00:00\"],[\"Thursday, 00:30\"],[\"Thursday, 01:00\"],[\"Thursday, 01:30\"],[\"Thursday, 02:00\"],[\"Thursday, 02:30\"],[\"Thursday, 03:00\"],[\"Thursday, 03:30\"],[\"Thursday, 04:00\"],[\"Thursday, 04:30\"],[\"Thursday, 05:00\"],[\"Thursday, 05:30\"],[\"Thursday, 06:00\"],[\"Thursday, 06:30\"],[\"Thursday, 07:00\"],[\"Thursday, 07:30\"],[\"Thursday, 08:00\"],[\"Thursday, 08:30\"],[\"Thursday, 09:00\"],[\"Thursday, 09:30\"],[\"Thursday, 10:00\"],[\"Thursday, 10:30\"],[\"Thursday, 11:00\"],[\"Thursday, 11:30\"],[\"Thursday, 12:00\"],[\"Thursday, 12:30\"],[\"Thursday, 13:00\"],[\"Thursday, 13:30\"],[\"Thursday, 14:00\"],[\"Thursday, 14:30\"],[\"Thursday, 15:00\"],[\"Thursday, 15:30\"],[\"Thursday, 16:00\"],[\"Thursday, 16:30\"],[\"Thursday, 17:00\"],[\"Thursday, 17:30\"],[\"Thursday, 18:00\"],[\"Thursday, 18:30\"],[\"Thursday, 19:00\"],[\"Thursday, 19:30\"],[\"Thursday, 20:00\"],[\"Thursday, 20:30\"],[\"Thursday, 21:00\"],[\"Thursday, 21:30\"],[\"Thursday, 22:00\"],[\"Thursday, 22:30\"],[\"Thursday, 23:00\"],[\"Thursday, 23:30\"],[\"Friday, 00:00\"],[\"Friday, 00:30\"],[\"Friday, 01:00\"],[\"Friday, 01:30\"],[\"Friday, 02:00\"],[\"Friday, 02:30\"],[\"Friday, 03:00\"],[\"Friday, 03:30\"],[\"Friday, 04:00\"],[\"Friday, 04:30\"],[\"Friday, 05:00\"],[\"Friday, 05:30\"],[\"Friday, 06:00\"],[\"Friday, 06:30\"],[\"Friday, 07:00\"],[\"Friday, 07:30\"],[\"Friday, 08:00\"],[\"Friday, 08:30\"],[\"Friday, 09:00\"],[\"Friday, 09:30\"],[\"Friday, 10:00\"],[\"Friday, 10:30\"],[\"Friday, 11:00\"],[\"Friday, 11:30\"],[\"Friday, 12:00\"],[\"Friday, 12:30\"],[\"Friday, 13:00\"],[\"Friday, 13:30\"],[\"Friday, 14:00\"],[\"Friday, 14:30\"],[\"Friday, 15:00\"],[\"Friday, 15:30\"],[\"Friday, 16:00\"],[\"Friday, 16:30\"],[\"Friday, 17:00\"],[\"Friday, 17:30\"],[\"Friday, 18:00\"],[\"Friday, 18:30\"],[\"Friday, 19:00\"],[\"Friday, 19:30\"],[\"Friday, 20:00\"],[\"Friday, 20:30\"],[\"Friday, 21:00\"],[\"Friday, 21:30\"],[\"Friday, 22:00\"],[\"Friday, 22:30\"],[\"Friday, 23:00\"],[\"Friday, 23:30\"],[\"Saturday, 00:00\"],[\"Saturday, 00:30\"],[\"Saturday, 01:00\"],[\"Saturday, 01:30\"],[\"Saturday, 02:00\"],[\"Saturday, 02:30\"],[\"Saturday, 03:00\"],[\"Saturday, 03:30\"],[\"Saturday, 04:00\"],[\"Saturday, 04:30\"],[\"Saturday, 05:00\"],[\"Saturday, 05:30\"],[\"Saturday, 06:00\"],[\"Saturday, 06:30\"],[\"Saturday, 07:00\"],[\"Saturday, 07:30\"],[\"Saturday, 08:00\"],[\"Saturday, 08:30\"],[\"Saturday, 09:00\"],[\"Saturday, 09:30\"],[\"Saturday, 10:00\"],[\"Saturday, 10:30\"],[\"Saturday, 11:00\"],[\"Saturday, 11:30\"],[\"Saturday, 12:00\"],[\"Saturday, 12:30\"],[\"Saturday, 13:00\"],[\"Saturday, 13:30\"],[\"Saturday, 14:00\"],[\"Saturday, 14:30\"],[\"Saturday, 15:00\"],[\"Saturday, 15:30\"],[\"Saturday, 16:00\"],[\"Saturday, 16:30\"],[\"Saturday, 17:00\"],[\"Saturday, 17:30\"],[\"Saturday, 18:00\"],[\"Saturday, 18:30\"],[\"Saturday, 19:00\"],[\"Saturday, 19:30\"],[\"Saturday, 20:00\"],[\"Saturday, 20:30\"],[\"Saturday, 21:00\"],[\"Saturday, 21:30\"],[\"Saturday, 22:00\"],[\"Saturday, 22:30\"],[\"Saturday, 23:00\"],[\"Saturday, 23:30\"],[\"Sunday, 00:00\"],[\"Sunday, 00:30\"],[\"Sunday, 01:00\"],[\"Sunday, 01:30\"],[\"Sunday, 02:00\"],[\"Sunday, 02:30\"],[\"Sunday, 03:00\"],[\"Sunday, 03:30\"],[\"Sunday, 04:00\"],[\"Sunday, 04:30\"],[\"Sunday, 05:00\"],[\"Sunday, 05:30\"],[\"Sunday, 06:00\"],[\"Sunday, 06:30\"],[\"Sunday, 07:00\"],[\"Sunday, 07:30\"],[\"Sunday, 08:00\"],[\"Sunday, 08:30\"],[\"Sunday, 09:00\"],[\"Sunday, 09:30\"],[\"Sunday, 10:00\"],[\"Sunday, 10:30\"],[\"Sunday, 11:00\"],[\"Sunday, 11:30\"],[\"Sunday, 12:00\"],[\"Sunday, 12:30\"],[\"Sunday, 13:00\"],[\"Sunday, 13:30\"],[\"Sunday, 14:00\"],[\"Sunday, 14:30\"],[\"Sunday, 15:00\"],[\"Sunday, 15:30\"],[\"Sunday, 16:00\"],[\"Sunday, 16:30\"],[\"Sunday, 17:00\"],[\"Sunday, 17:30\"],[\"Sunday, 18:00\"],[\"Sunday, 18:30\"],[\"Sunday, 19:00\"],[\"Sunday, 19:30\"],[\"Sunday, 20:00\"],[\"Sunday, 20:30\"],[\"Sunday, 21:00\"],[\"Sunday, 21:30\"],[\"Sunday, 22:00\"],[\"Sunday, 22:30\"],[\"Sunday, 23:00\"],[\"Sunday, 23:30\"]],\"hovertemplate\":\"index=%{x}\\u003cbr\\u003elat=%{y}\\u003cbr\\u003eday_time=%{customdata[0]}\\u003cextra\\u003e\\u003c\\u002fextra\\u003e\",\"legendgroup\":\"\",\"line\":{\"color\":\"#408050\",\"dash\":\"solid\"},\"marker\":{\"symbol\":\"circle\"},\"mode\":\"markers+lines\",\"name\":\"\",\"orientation\":\"v\",\"showlegend\":false,\"x\":[0,1,2,3,4,5,6,7,8,9,10,11,12,13,14,15,16,17,18,19,20,21,22,23,24,25,26,27,28,29,30,31,32,33,34,35,36,37,38,39,40,41,42,43,44,45,46,47,48,49,50,51,52,53,54,55,56,57,58,59,60,61,62,63,64,65,66,67,68,69,70,71,72,73,74,75,76,77,78,79,80,81,82,83,84,85,86,87,88,89,90,91,92,93,94,95,96,97,98,99,100,101,102,103,104,105,106,107,108,109,110,111,112,113,114,115,116,117,118,119,120,121,122,123,124,125,126,127,128,129,130,131,132,133,134,135,136,137,138,139,140,141,142,143,144,145,146,147,148,149,150,151,152,153,154,155,156,157,158,159,160,161,162,163,164,165,166,167,168,169,170,171,172,173,174,175,176,177,178,179,180,181,182,183,184,185,186,187,188,189,190,191,192,193,194,195,196,197,198,199,200,201,202,203,204,205,206,207,208,209,210,211,212,213,214,215,216,217,218,219,220,221,222,223,224,225,226,227,228,229,230,231,232,233,234,235,236,237,238,239,240,241,242,243,244,245,246,247,248,249,250,251,252,253,254,255,256,257,258,259,260,261,262,263,264,265,266,267,268,269,270,271,272,273,274,275,276,277,278,279,280,281,282,283,284,285,286,287,288,289,290,291,292,293,294,295,296,297,298,299,300,301,302,303,304,305,306,307,308,309,310,311,312,313,314,315,316,317,318,319,320,321,322,323,324,325,326,327,328,329,330,331,332,333,334,335],\"xaxis\":\"x\",\"y\":[484.7833015976501,485.57637672870004,485.78768285609175,487.2347755771201,487.8752294941978,485.5224364784482,484.4072674169468,484.7431381855319,481.7637578851842,482.53316621394055,482.1924061937512,478.38623758059435,477.7197178732042,479.4192165913553,469.82962762533833,469.5258223644649,468.41047968624207,462.727863445456,459.8457895112042,456.3829569558738,455.34825596133794,455.2402338029957,456.3301372691927,455.915261998576,455.9437751735314,457.13184776323305,458.61262457505717,458.9562015894101,459.9025417896938,458.7704139143207,460.302100077716,457.5442073857914,460.900635502007,462.90793334094803,462.6270479684776,466.1332307271318,468.18235443548156,467.7875640167749,470.2771337326009,473.0766230768994,475.1735314352525,475.5662626823081,477.5448990975486,481.36266391941507,483.0090674195165,485.39372734200293,485.98521409033646,484.36349513469344,486.902589495066,486.11029249365623,485.0181456225488,484.88693939014456,485.5221653525511,485.8556235555013,483.8030751611821,483.8442038647275,483.24474781316235,482.89082345155987,480.178352365699,480.64996461428257,476.6859579713467,474.33479983040377,471.8812605957432,470.65317570473957,470.990315718825,468.8789365187606,462.87931189746945,460.8623938127792,457.3344756566929,457.6219673227119,457.38810739390135,457.97761352501834,457.4404771862264,457.87077217029025,456.7817235354898,459.7037068875538,460.6341413083319,460.8777902017295,459.9531751560586,459.6265702133813,462.6076095042931,468.75860354547115,473.370016515852,473.23313555606865,472.8135068779282,474.26107980254505,475.7060473637877,477.4540873578722,478.33693152958597,479.81922500239904,481.311235573151,482.6537899886314,483.6099730399459,484.62085142570305,484.58038811246604,486.01185121346845,488.6444233855619,486.85158928071485,486.240361660487,486.183032889651,485.235015452941,481.28567535722635,482.93159679347013,479.29207206662977,478.77647685990365,477.12757371334493,477.6619153386366,476.50636692954504,475.087591528186,472.33146074871814,470.38922951235156,473.8079688488106,469.68524666785555,466.8524956554124,463.3151832249894,459.732043284676,457.75235319650903,456.58950014037447,456.25069591579864,455.14772439710725,453.8949650911687,455.78595099389065,457.32906141936047,458.5361243042229,460.1014621950734,459.85365777966445,462.36697754794335,462.38457499352853,462.7619068953408,462.04076181592046,461.58515842227996,464.9706888073873,470.60577415290686,471.9386361648082,475.60235308108025,478.0685456191077,481.7514629436527,482.16480604292593,483.0904418206016,485.39268802611036,484.79091004984207,486.0529523292438,487.36455983936395,488.09671291996335,482.72576971889765,487.88333704394773,490.04878798278816,488.14215513312814,487.22945829935105,488.0791451131798,487.10860784100026,486.85059987985284,486.1746332144485,486.8277228954713,483.64230409783124,482.49772552048097,481.0306285187869,479.0400518443853,474.9422249511423,475.58766886358717,471.8459115150174,464.5628885134373,460.15102076346415,456.7957112902568,458.98734402930444,458.9133010357472,458.44355891022855,458.5256241740404,458.43330002199633,459.7779587004109,461.61015817341263,461.4233010672892,461.8858230198624,463.56672789681323,465.17583092601035,465.8559389088998,466.3042884685955,468.16585742217865,471.6299009806315,474.91862293421127,473.0973152447762,476.8252260525693,477.9010600287722,480.1962267834205,481.16538360245784,479.97585390821837,480.6211975236588,480.86212709697963,481.7566052358374,482.84130232322144,484.11718606516183,484.4284295172737,492.9749358920803,481.2056572208667,481.0918208491559,482.14107682015924,482.45267487065956,480.26516032455726,478.67890692397776,478.3625809646177,478.35212224949095,477.663622941594,474.63983020356017,474.24950115791563,472.68963632308237,468.947848713456,467.0133375027117,462.99081618426334,462.48196710347844,459.5005875444,455.8815653869076,456.7376896722709,455.9337432697709,456.2692463345112,455.7311605646798,456.08010656622787,457.18755142585695,457.39516733134036,459.0814395887233,459.0392404451263,460.27285096870844,460.983970902995,461.03588645858616,461.5653137539697,461.9063322642668,464.13616594772077,465.03083510376194,468.65420764177003,471.49655369760234,472.89330855672006,475.6737939326865,477.92687925759657,477.4898131264851,478.2448148621656,480.94417797427474,483.91945074975627,484.75426644308936,489.00260035706145,489.23437195929125,489.78899735820715,491.0000247193456,490.1970683693056,490.5381866287414,490.33827419709627,492.7302698326646,490.6569967484202,488.8135140849424,490.2718150728594,490.3429358399036,487.53411700282334,486.57881447701124,487.3128260942106,488.10781826414654,485.4777771483847,482.5537045061883,481.4325976020969,480.38427318121364,477.1883509416487,476.9967239210947,475.1405944225444,475.9788613350456,475.8879812900118,474.99415800822004,475.38884540203793,476.10217611528145,476.89785526666384,478.61806212773746,479.3054257477846,483.1445882179647,482.9580429432436,484.0779792445241,484.3205367108113,481.8805913622358,482.2617518575658,482.5087569521224,480.0288066640708,480.5866430945038,480.9650969773778,481.1549270878654,482.6063490325547,482.8300251099365,482.1654665408017,481.8822290359218,483.51345289632985,484.68712913637245,488.2623988044244,490.82795490617764,489.0215612458261,477.4956715262966,491.8210985770545,491.5971138823797,490.5509755359752,489.2201776082347,490.3760926466594,491.38175879518667,491.92402838287524,490.34627661911566,489.19184745501065,489.97158069037334,488.25872394019655,488.3918085308317,486.12288285850303,482.63479227454303,477.7797748508601,478.408005238664,475.2178361177789,477.12353000557124,480.83239331796847,480.4075483978831,481.4258558866046,477.7643002851858,479.53202268646265,480.88763133320106,481.2799589388621,481.82391416884684,483.87253308187206,484.62701005342495,485.4460718406803,487.56558307633196,485.94030455454106,486.92232298979366,485.5370221384446,488.46151004392766,484.67507297757055,477.84705413680206,475.7100400209162,476.4987964926016,476.83343161587857,477.93356318218696,482.45620390344504,482.1285569239588,485.7608188471873,483.8205738032583,483.4608408803746,483.54229413874316,480.01566077716814],\"yaxis\":\"y\",\"type\":\"scatter\"}],                        {\"template\":{\"data\":{\"histogram2dcontour\":[{\"type\":\"histogram2dcontour\",\"colorbar\":{\"outlinewidth\":0,\"ticks\":\"\"},\"colorscale\":[[0.0,\"#0d0887\"],[0.1111111111111111,\"#46039f\"],[0.2222222222222222,\"#7201a8\"],[0.3333333333333333,\"#9c179e\"],[0.4444444444444444,\"#bd3786\"],[0.5555555555555556,\"#d8576b\"],[0.6666666666666666,\"#ed7953\"],[0.7777777777777778,\"#fb9f3a\"],[0.8888888888888888,\"#fdca26\"],[1.0,\"#f0f921\"]]}],\"choropleth\":[{\"type\":\"choropleth\",\"colorbar\":{\"outlinewidth\":0,\"ticks\":\"\"}}],\"histogram2d\":[{\"type\":\"histogram2d\",\"colorbar\":{\"outlinewidth\":0,\"ticks\":\"\"},\"colorscale\":[[0.0,\"#0d0887\"],[0.1111111111111111,\"#46039f\"],[0.2222222222222222,\"#7201a8\"],[0.3333333333333333,\"#9c179e\"],[0.4444444444444444,\"#bd3786\"],[0.5555555555555556,\"#d8576b\"],[0.6666666666666666,\"#ed7953\"],[0.7777777777777778,\"#fb9f3a\"],[0.8888888888888888,\"#fdca26\"],[1.0,\"#f0f921\"]]}],\"heatmap\":[{\"type\":\"heatmap\",\"colorbar\":{\"outlinewidth\":0,\"ticks\":\"\"},\"colorscale\":[[0.0,\"#0d0887\"],[0.1111111111111111,\"#46039f\"],[0.2222222222222222,\"#7201a8\"],[0.3333333333333333,\"#9c179e\"],[0.4444444444444444,\"#bd3786\"],[0.5555555555555556,\"#d8576b\"],[0.6666666666666666,\"#ed7953\"],[0.7777777777777778,\"#fb9f3a\"],[0.8888888888888888,\"#fdca26\"],[1.0,\"#f0f921\"]]}],\"heatmapgl\":[{\"type\":\"heatmapgl\",\"colorbar\":{\"outlinewidth\":0,\"ticks\":\"\"},\"colorscale\":[[0.0,\"#0d0887\"],[0.1111111111111111,\"#46039f\"],[0.2222222222222222,\"#7201a8\"],[0.3333333333333333,\"#9c179e\"],[0.4444444444444444,\"#bd3786\"],[0.5555555555555556,\"#d8576b\"],[0.6666666666666666,\"#ed7953\"],[0.7777777777777778,\"#fb9f3a\"],[0.8888888888888888,\"#fdca26\"],[1.0,\"#f0f921\"]]}],\"contourcarpet\":[{\"type\":\"contourcarpet\",\"colorbar\":{\"outlinewidth\":0,\"ticks\":\"\"}}],\"contour\":[{\"type\":\"contour\",\"colorbar\":{\"outlinewidth\":0,\"ticks\":\"\"},\"colorscale\":[[0.0,\"#0d0887\"],[0.1111111111111111,\"#46039f\"],[0.2222222222222222,\"#7201a8\"],[0.3333333333333333,\"#9c179e\"],[0.4444444444444444,\"#bd3786\"],[0.5555555555555556,\"#d8576b\"],[0.6666666666666666,\"#ed7953\"],[0.7777777777777778,\"#fb9f3a\"],[0.8888888888888888,\"#fdca26\"],[1.0,\"#f0f921\"]]}],\"surface\":[{\"type\":\"surface\",\"colorbar\":{\"outlinewidth\":0,\"ticks\":\"\"},\"colorscale\":[[0.0,\"#0d0887\"],[0.1111111111111111,\"#46039f\"],[0.2222222222222222,\"#7201a8\"],[0.3333333333333333,\"#9c179e\"],[0.4444444444444444,\"#bd3786\"],[0.5555555555555556,\"#d8576b\"],[0.6666666666666666,\"#ed7953\"],[0.7777777777777778,\"#fb9f3a\"],[0.8888888888888888,\"#fdca26\"],[1.0,\"#f0f921\"]]}],\"mesh3d\":[{\"type\":\"mesh3d\",\"colorbar\":{\"outlinewidth\":0,\"ticks\":\"\"}}],\"scatter\":[{\"fillpattern\":{\"fillmode\":\"overlay\",\"size\":10,\"solidity\":0.2},\"type\":\"scatter\"}],\"parcoords\":[{\"type\":\"parcoords\",\"line\":{\"colorbar\":{\"outlinewidth\":0,\"ticks\":\"\"}}}],\"scatterpolargl\":[{\"type\":\"scatterpolargl\",\"marker\":{\"colorbar\":{\"outlinewidth\":0,\"ticks\":\"\"}}}],\"bar\":[{\"error_x\":{\"color\":\"#2a3f5f\"},\"error_y\":{\"color\":\"#2a3f5f\"},\"marker\":{\"line\":{\"color\":\"#E5ECF6\",\"width\":0.5},\"pattern\":{\"fillmode\":\"overlay\",\"size\":10,\"solidity\":0.2}},\"type\":\"bar\"}],\"scattergeo\":[{\"type\":\"scattergeo\",\"marker\":{\"colorbar\":{\"outlinewidth\":0,\"ticks\":\"\"}}}],\"scatterpolar\":[{\"type\":\"scatterpolar\",\"marker\":{\"colorbar\":{\"outlinewidth\":0,\"ticks\":\"\"}}}],\"histogram\":[{\"marker\":{\"pattern\":{\"fillmode\":\"overlay\",\"size\":10,\"solidity\":0.2}},\"type\":\"histogram\"}],\"scattergl\":[{\"type\":\"scattergl\",\"marker\":{\"colorbar\":{\"outlinewidth\":0,\"ticks\":\"\"}}}],\"scatter3d\":[{\"type\":\"scatter3d\",\"line\":{\"colorbar\":{\"outlinewidth\":0,\"ticks\":\"\"}},\"marker\":{\"colorbar\":{\"outlinewidth\":0,\"ticks\":\"\"}}}],\"scattermapbox\":[{\"type\":\"scattermapbox\",\"marker\":{\"colorbar\":{\"outlinewidth\":0,\"ticks\":\"\"}}}],\"scatterternary\":[{\"type\":\"scatterternary\",\"marker\":{\"colorbar\":{\"outlinewidth\":0,\"ticks\":\"\"}}}],\"scattercarpet\":[{\"type\":\"scattercarpet\",\"marker\":{\"colorbar\":{\"outlinewidth\":0,\"ticks\":\"\"}}}],\"carpet\":[{\"aaxis\":{\"endlinecolor\":\"#2a3f5f\",\"gridcolor\":\"white\",\"linecolor\":\"white\",\"minorgridcolor\":\"white\",\"startlinecolor\":\"#2a3f5f\"},\"baxis\":{\"endlinecolor\":\"#2a3f5f\",\"gridcolor\":\"white\",\"linecolor\":\"white\",\"minorgridcolor\":\"white\",\"startlinecolor\":\"#2a3f5f\"},\"type\":\"carpet\"}],\"table\":[{\"cells\":{\"fill\":{\"color\":\"#EBF0F8\"},\"line\":{\"color\":\"white\"}},\"header\":{\"fill\":{\"color\":\"#C8D4E3\"},\"line\":{\"color\":\"white\"}},\"type\":\"table\"}],\"barpolar\":[{\"marker\":{\"line\":{\"color\":\"#E5ECF6\",\"width\":0.5},\"pattern\":{\"fillmode\":\"overlay\",\"size\":10,\"solidity\":0.2}},\"type\":\"barpolar\"}],\"pie\":[{\"automargin\":true,\"type\":\"pie\"}]},\"layout\":{\"autotypenumbers\":\"strict\",\"colorway\":[\"#636efa\",\"#EF553B\",\"#00cc96\",\"#ab63fa\",\"#FFA15A\",\"#19d3f3\",\"#FF6692\",\"#B6E880\",\"#FF97FF\",\"#FECB52\"],\"font\":{\"color\":\"#2a3f5f\"},\"hovermode\":\"closest\",\"hoverlabel\":{\"align\":\"left\"},\"paper_bgcolor\":\"white\",\"plot_bgcolor\":\"#E5ECF6\",\"polar\":{\"bgcolor\":\"#E5ECF6\",\"angularaxis\":{\"gridcolor\":\"white\",\"linecolor\":\"white\",\"ticks\":\"\"},\"radialaxis\":{\"gridcolor\":\"white\",\"linecolor\":\"white\",\"ticks\":\"\"}},\"ternary\":{\"bgcolor\":\"#E5ECF6\",\"aaxis\":{\"gridcolor\":\"white\",\"linecolor\":\"white\",\"ticks\":\"\"},\"baxis\":{\"gridcolor\":\"white\",\"linecolor\":\"white\",\"ticks\":\"\"},\"caxis\":{\"gridcolor\":\"white\",\"linecolor\":\"white\",\"ticks\":\"\"}},\"coloraxis\":{\"colorbar\":{\"outlinewidth\":0,\"ticks\":\"\"}},\"colorscale\":{\"sequential\":[[0.0,\"#0d0887\"],[0.1111111111111111,\"#46039f\"],[0.2222222222222222,\"#7201a8\"],[0.3333333333333333,\"#9c179e\"],[0.4444444444444444,\"#bd3786\"],[0.5555555555555556,\"#d8576b\"],[0.6666666666666666,\"#ed7953\"],[0.7777777777777778,\"#fb9f3a\"],[0.8888888888888888,\"#fdca26\"],[1.0,\"#f0f921\"]],\"sequentialminus\":[[0.0,\"#0d0887\"],[0.1111111111111111,\"#46039f\"],[0.2222222222222222,\"#7201a8\"],[0.3333333333333333,\"#9c179e\"],[0.4444444444444444,\"#bd3786\"],[0.5555555555555556,\"#d8576b\"],[0.6666666666666666,\"#ed7953\"],[0.7777777777777778,\"#fb9f3a\"],[0.8888888888888888,\"#fdca26\"],[1.0,\"#f0f921\"]],\"diverging\":[[0,\"#8e0152\"],[0.1,\"#c51b7d\"],[0.2,\"#de77ae\"],[0.3,\"#f1b6da\"],[0.4,\"#fde0ef\"],[0.5,\"#f7f7f7\"],[0.6,\"#e6f5d0\"],[0.7,\"#b8e186\"],[0.8,\"#7fbc41\"],[0.9,\"#4d9221\"],[1,\"#276419\"]]},\"xaxis\":{\"gridcolor\":\"white\",\"linecolor\":\"white\",\"ticks\":\"\",\"title\":{\"standoff\":15},\"zerolinecolor\":\"white\",\"automargin\":true,\"zerolinewidth\":2},\"yaxis\":{\"gridcolor\":\"white\",\"linecolor\":\"white\",\"ticks\":\"\",\"title\":{\"standoff\":15},\"zerolinecolor\":\"white\",\"automargin\":true,\"zerolinewidth\":2},\"scene\":{\"xaxis\":{\"backgroundcolor\":\"#E5ECF6\",\"gridcolor\":\"white\",\"linecolor\":\"white\",\"showbackground\":true,\"ticks\":\"\",\"zerolinecolor\":\"white\",\"gridwidth\":2},\"yaxis\":{\"backgroundcolor\":\"#E5ECF6\",\"gridcolor\":\"white\",\"linecolor\":\"white\",\"showbackground\":true,\"ticks\":\"\",\"zerolinecolor\":\"white\",\"gridwidth\":2},\"zaxis\":{\"backgroundcolor\":\"#E5ECF6\",\"gridcolor\":\"white\",\"linecolor\":\"white\",\"showbackground\":true,\"ticks\":\"\",\"zerolinecolor\":\"white\",\"gridwidth\":2}},\"shapedefaults\":{\"line\":{\"color\":\"#2a3f5f\"}},\"annotationdefaults\":{\"arrowcolor\":\"#2a3f5f\",\"arrowhead\":0,\"arrowwidth\":1},\"geo\":{\"bgcolor\":\"white\",\"landcolor\":\"#E5ECF6\",\"subunitcolor\":\"white\",\"showland\":true,\"showlakes\":true,\"lakecolor\":\"white\"},\"title\":{\"x\":0.05},\"mapbox\":{\"style\":\"light\"}}},\"xaxis\":{\"anchor\":\"y\",\"domain\":[0.0,1.0],\"title\":{\"text\":\"index\"}},\"yaxis\":{\"anchor\":\"x\",\"domain\":[0.0,1.0],\"title\":{\"text\":\"lat\"}},\"legend\":{\"tracegroupgap\":0},\"margin\":{\"t\":60}},                        {\"responsive\": true}                    ).then(function(){\n                            \nvar gd = document.getElementById('b92a4059-5d2b-40dd-a2cd-a3045f145ac0');\nvar x = new MutationObserver(function (mutations, observer) {{\n        var display = window.getComputedStyle(gd).display;\n        if (!display || display === 'none') {{\n            console.log([gd, 'removed!']);\n            Plotly.purge(gd);\n            observer.disconnect();\n        }}\n}});\n\n// Listen for the removal of the full notebook cells\nvar notebookContainer = gd.closest('#notebook-container');\nif (notebookContainer) {{\n    x.observe(notebookContainer, {childList: true});\n}}\n\n// Listen for the clearing of the current output cell\nvar outputEl = gd.closest('.output');\nif (outputEl) {{\n    x.observe(outputEl, {childList: true});\n}}\n\n                        })                };                });            </script>        </div>"
     },
     "metadata": {},
     "output_type": "display_data"
    }
   ],
   "source": [
    "fig = px.line(df, x=df.index, y=df.lat, markers=True, hover_data='day_time')\n",
    "fig.update_traces(line_color='#408050')\n",
    "fig.show()"
   ],
   "metadata": {
    "collapsed": false,
    "ExecuteTime": {
     "end_time": "2023-11-17T23:48:47.859187Z",
     "start_time": "2023-11-17T23:48:47.843053Z"
    }
   },
   "id": "59275d67a011db8a"
  },
  {
   "cell_type": "code",
   "execution_count": 35,
   "outputs": [
    {
     "data": {
      "application/vnd.plotly.v1+json": {
       "data": [
        {
         "customdata": [
          [
           "INTERVAL_HR0000_ENERGY_QTY"
          ],
          [
           "INTERVAL_HR0030_ENERGY_QTY"
          ],
          [
           "INTERVAL_HR0100_ENERGY_QTY"
          ],
          [
           "INTERVAL_HR0130_ENERGY_QTY"
          ],
          [
           "INTERVAL_HR0200_ENERGY_QTY"
          ],
          [
           "INTERVAL_HR0230_ENERGY_QTY"
          ],
          [
           "INTERVAL_HR0300_ENERGY_QTY"
          ],
          [
           "INTERVAL_HR0330_ENERGY_QTY"
          ],
          [
           "INTERVAL_HR0400_ENERGY_QTY"
          ],
          [
           "INTERVAL_HR0430_ENERGY_QTY"
          ],
          [
           "INTERVAL_HR0500_ENERGY_QTY"
          ],
          [
           "INTERVAL_HR0530_ENERGY_QTY"
          ],
          [
           "INTERVAL_HR0600_ENERGY_QTY"
          ],
          [
           "INTERVAL_HR0630_ENERGY_QTY"
          ],
          [
           "INTERVAL_HR0700_ENERGY_QTY"
          ],
          [
           "INTERVAL_HR0730_ENERGY_QTY"
          ],
          [
           "INTERVAL_HR0800_ENERGY_QTY"
          ],
          [
           "INTERVAL_HR0830_ENERGY_QTY"
          ],
          [
           "INTERVAL_HR0900_ENERGY_QTY"
          ],
          [
           "INTERVAL_HR0930_ENERGY_QTY"
          ],
          [
           "INTERVAL_HR1000_ENERGY_QTY"
          ],
          [
           "INTERVAL_HR1030_ENERGY_QTY"
          ],
          [
           "INTERVAL_HR1100_ENERGY_QTY"
          ],
          [
           "INTERVAL_HR1130_ENERGY_QTY"
          ],
          [
           "INTERVAL_HR1200_ENERGY_QTY"
          ],
          [
           "INTERVAL_HR1230_ENERGY_QTY"
          ],
          [
           "INTERVAL_HR1300_ENERGY_QTY"
          ],
          [
           "INTERVAL_HR1330_ENERGY_QTY"
          ],
          [
           "INTERVAL_HR1400_ENERGY_QTY"
          ],
          [
           "INTERVAL_HR1430_ENERGY_QTY"
          ],
          [
           "INTERVAL_HR1500_ENERGY_QTY"
          ],
          [
           "INTERVAL_HR1530_ENERGY_QTY"
          ],
          [
           "INTERVAL_HR1600_ENERGY_QTY"
          ],
          [
           "INTERVAL_HR1630_ENERGY_QTY"
          ],
          [
           "INTERVAL_HR1700_ENERGY_QTY"
          ],
          [
           "INTERVAL_HR1730_ENERGY_QTY"
          ],
          [
           "INTERVAL_HR1800_ENERGY_QTY"
          ],
          [
           "INTERVAL_HR1830_ENERGY_QTY"
          ],
          [
           "INTERVAL_HR1900_ENERGY_QTY"
          ],
          [
           "INTERVAL_HR1930_ENERGY_QTY"
          ],
          [
           "INTERVAL_HR2000_ENERGY_QTY"
          ],
          [
           "INTERVAL_HR2030_ENERGY_QTY"
          ],
          [
           "INTERVAL_HR2100_ENERGY_QTY"
          ],
          [
           "INTERVAL_HR2130_ENERGY_QTY"
          ],
          [
           "INTERVAL_HR2200_ENERGY_QTY"
          ],
          [
           "INTERVAL_HR2230_ENERGY_QTY"
          ],
          [
           "INTERVAL_HR2300_ENERGY_QTY"
          ],
          [
           "INTERVAL_HR2330_ENERGY_QTY"
          ],
          [
           "INTERVAL_HR0000_ENERGY_QTY"
          ],
          [
           "INTERVAL_HR0030_ENERGY_QTY"
          ],
          [
           "INTERVAL_HR0100_ENERGY_QTY"
          ],
          [
           "INTERVAL_HR0130_ENERGY_QTY"
          ],
          [
           "INTERVAL_HR0200_ENERGY_QTY"
          ],
          [
           "INTERVAL_HR0230_ENERGY_QTY"
          ],
          [
           "INTERVAL_HR0300_ENERGY_QTY"
          ],
          [
           "INTERVAL_HR0330_ENERGY_QTY"
          ],
          [
           "INTERVAL_HR0400_ENERGY_QTY"
          ],
          [
           "INTERVAL_HR0430_ENERGY_QTY"
          ],
          [
           "INTERVAL_HR0500_ENERGY_QTY"
          ],
          [
           "INTERVAL_HR0530_ENERGY_QTY"
          ],
          [
           "INTERVAL_HR0600_ENERGY_QTY"
          ],
          [
           "INTERVAL_HR0630_ENERGY_QTY"
          ],
          [
           "INTERVAL_HR0700_ENERGY_QTY"
          ],
          [
           "INTERVAL_HR0730_ENERGY_QTY"
          ],
          [
           "INTERVAL_HR0800_ENERGY_QTY"
          ],
          [
           "INTERVAL_HR0830_ENERGY_QTY"
          ],
          [
           "INTERVAL_HR0900_ENERGY_QTY"
          ],
          [
           "INTERVAL_HR0930_ENERGY_QTY"
          ],
          [
           "INTERVAL_HR1000_ENERGY_QTY"
          ],
          [
           "INTERVAL_HR1030_ENERGY_QTY"
          ],
          [
           "INTERVAL_HR1100_ENERGY_QTY"
          ],
          [
           "INTERVAL_HR1130_ENERGY_QTY"
          ],
          [
           "INTERVAL_HR1200_ENERGY_QTY"
          ],
          [
           "INTERVAL_HR1230_ENERGY_QTY"
          ],
          [
           "INTERVAL_HR1300_ENERGY_QTY"
          ],
          [
           "INTERVAL_HR1330_ENERGY_QTY"
          ],
          [
           "INTERVAL_HR1400_ENERGY_QTY"
          ],
          [
           "INTERVAL_HR1430_ENERGY_QTY"
          ],
          [
           "INTERVAL_HR1500_ENERGY_QTY"
          ],
          [
           "INTERVAL_HR1530_ENERGY_QTY"
          ],
          [
           "INTERVAL_HR1600_ENERGY_QTY"
          ],
          [
           "INTERVAL_HR1630_ENERGY_QTY"
          ],
          [
           "INTERVAL_HR1700_ENERGY_QTY"
          ],
          [
           "INTERVAL_HR1730_ENERGY_QTY"
          ],
          [
           "INTERVAL_HR1800_ENERGY_QTY"
          ],
          [
           "INTERVAL_HR1830_ENERGY_QTY"
          ],
          [
           "INTERVAL_HR1900_ENERGY_QTY"
          ],
          [
           "INTERVAL_HR1930_ENERGY_QTY"
          ],
          [
           "INTERVAL_HR2000_ENERGY_QTY"
          ],
          [
           "INTERVAL_HR2030_ENERGY_QTY"
          ],
          [
           "INTERVAL_HR2100_ENERGY_QTY"
          ],
          [
           "INTERVAL_HR2130_ENERGY_QTY"
          ],
          [
           "INTERVAL_HR2200_ENERGY_QTY"
          ],
          [
           "INTERVAL_HR2230_ENERGY_QTY"
          ],
          [
           "INTERVAL_HR2300_ENERGY_QTY"
          ],
          [
           "INTERVAL_HR2330_ENERGY_QTY"
          ],
          [
           "INTERVAL_HR0000_ENERGY_QTY"
          ],
          [
           "INTERVAL_HR0030_ENERGY_QTY"
          ],
          [
           "INTERVAL_HR0100_ENERGY_QTY"
          ],
          [
           "INTERVAL_HR0130_ENERGY_QTY"
          ],
          [
           "INTERVAL_HR0200_ENERGY_QTY"
          ],
          [
           "INTERVAL_HR0230_ENERGY_QTY"
          ],
          [
           "INTERVAL_HR0300_ENERGY_QTY"
          ],
          [
           "INTERVAL_HR0330_ENERGY_QTY"
          ],
          [
           "INTERVAL_HR0400_ENERGY_QTY"
          ],
          [
           "INTERVAL_HR0430_ENERGY_QTY"
          ],
          [
           "INTERVAL_HR0500_ENERGY_QTY"
          ],
          [
           "INTERVAL_HR0530_ENERGY_QTY"
          ],
          [
           "INTERVAL_HR0600_ENERGY_QTY"
          ],
          [
           "INTERVAL_HR0630_ENERGY_QTY"
          ],
          [
           "INTERVAL_HR0700_ENERGY_QTY"
          ],
          [
           "INTERVAL_HR0730_ENERGY_QTY"
          ],
          [
           "INTERVAL_HR0800_ENERGY_QTY"
          ],
          [
           "INTERVAL_HR0830_ENERGY_QTY"
          ],
          [
           "INTERVAL_HR0900_ENERGY_QTY"
          ],
          [
           "INTERVAL_HR0930_ENERGY_QTY"
          ],
          [
           "INTERVAL_HR1000_ENERGY_QTY"
          ],
          [
           "INTERVAL_HR1030_ENERGY_QTY"
          ],
          [
           "INTERVAL_HR1100_ENERGY_QTY"
          ],
          [
           "INTERVAL_HR1130_ENERGY_QTY"
          ],
          [
           "INTERVAL_HR1200_ENERGY_QTY"
          ],
          [
           "INTERVAL_HR1230_ENERGY_QTY"
          ],
          [
           "INTERVAL_HR1300_ENERGY_QTY"
          ],
          [
           "INTERVAL_HR1330_ENERGY_QTY"
          ],
          [
           "INTERVAL_HR1400_ENERGY_QTY"
          ],
          [
           "INTERVAL_HR1430_ENERGY_QTY"
          ],
          [
           "INTERVAL_HR1500_ENERGY_QTY"
          ],
          [
           "INTERVAL_HR1530_ENERGY_QTY"
          ],
          [
           "INTERVAL_HR1600_ENERGY_QTY"
          ],
          [
           "INTERVAL_HR1630_ENERGY_QTY"
          ],
          [
           "INTERVAL_HR1700_ENERGY_QTY"
          ],
          [
           "INTERVAL_HR1730_ENERGY_QTY"
          ],
          [
           "INTERVAL_HR1800_ENERGY_QTY"
          ],
          [
           "INTERVAL_HR1830_ENERGY_QTY"
          ],
          [
           "INTERVAL_HR1900_ENERGY_QTY"
          ],
          [
           "INTERVAL_HR1930_ENERGY_QTY"
          ],
          [
           "INTERVAL_HR2000_ENERGY_QTY"
          ],
          [
           "INTERVAL_HR2030_ENERGY_QTY"
          ],
          [
           "INTERVAL_HR2100_ENERGY_QTY"
          ],
          [
           "INTERVAL_HR2130_ENERGY_QTY"
          ],
          [
           "INTERVAL_HR2200_ENERGY_QTY"
          ],
          [
           "INTERVAL_HR2230_ENERGY_QTY"
          ],
          [
           "INTERVAL_HR2300_ENERGY_QTY"
          ],
          [
           "INTERVAL_HR2330_ENERGY_QTY"
          ],
          [
           "INTERVAL_HR0000_ENERGY_QTY"
          ],
          [
           "INTERVAL_HR0030_ENERGY_QTY"
          ],
          [
           "INTERVAL_HR0100_ENERGY_QTY"
          ],
          [
           "INTERVAL_HR0130_ENERGY_QTY"
          ],
          [
           "INTERVAL_HR0200_ENERGY_QTY"
          ],
          [
           "INTERVAL_HR0230_ENERGY_QTY"
          ],
          [
           "INTERVAL_HR0300_ENERGY_QTY"
          ],
          [
           "INTERVAL_HR0330_ENERGY_QTY"
          ],
          [
           "INTERVAL_HR0400_ENERGY_QTY"
          ],
          [
           "INTERVAL_HR0430_ENERGY_QTY"
          ],
          [
           "INTERVAL_HR0500_ENERGY_QTY"
          ],
          [
           "INTERVAL_HR0530_ENERGY_QTY"
          ],
          [
           "INTERVAL_HR0600_ENERGY_QTY"
          ],
          [
           "INTERVAL_HR0630_ENERGY_QTY"
          ],
          [
           "INTERVAL_HR0700_ENERGY_QTY"
          ],
          [
           "INTERVAL_HR0730_ENERGY_QTY"
          ],
          [
           "INTERVAL_HR0800_ENERGY_QTY"
          ],
          [
           "INTERVAL_HR0830_ENERGY_QTY"
          ],
          [
           "INTERVAL_HR0900_ENERGY_QTY"
          ],
          [
           "INTERVAL_HR0930_ENERGY_QTY"
          ],
          [
           "INTERVAL_HR1000_ENERGY_QTY"
          ],
          [
           "INTERVAL_HR1030_ENERGY_QTY"
          ],
          [
           "INTERVAL_HR1100_ENERGY_QTY"
          ],
          [
           "INTERVAL_HR1130_ENERGY_QTY"
          ],
          [
           "INTERVAL_HR1200_ENERGY_QTY"
          ],
          [
           "INTERVAL_HR1230_ENERGY_QTY"
          ],
          [
           "INTERVAL_HR1300_ENERGY_QTY"
          ],
          [
           "INTERVAL_HR1330_ENERGY_QTY"
          ],
          [
           "INTERVAL_HR1400_ENERGY_QTY"
          ],
          [
           "INTERVAL_HR1430_ENERGY_QTY"
          ],
          [
           "INTERVAL_HR1500_ENERGY_QTY"
          ],
          [
           "INTERVAL_HR1530_ENERGY_QTY"
          ],
          [
           "INTERVAL_HR1600_ENERGY_QTY"
          ],
          [
           "INTERVAL_HR1630_ENERGY_QTY"
          ],
          [
           "INTERVAL_HR1700_ENERGY_QTY"
          ],
          [
           "INTERVAL_HR1730_ENERGY_QTY"
          ],
          [
           "INTERVAL_HR1800_ENERGY_QTY"
          ],
          [
           "INTERVAL_HR1830_ENERGY_QTY"
          ],
          [
           "INTERVAL_HR1900_ENERGY_QTY"
          ],
          [
           "INTERVAL_HR1930_ENERGY_QTY"
          ],
          [
           "INTERVAL_HR2000_ENERGY_QTY"
          ],
          [
           "INTERVAL_HR2030_ENERGY_QTY"
          ],
          [
           "INTERVAL_HR2100_ENERGY_QTY"
          ],
          [
           "INTERVAL_HR2130_ENERGY_QTY"
          ],
          [
           "INTERVAL_HR2200_ENERGY_QTY"
          ],
          [
           "INTERVAL_HR2230_ENERGY_QTY"
          ],
          [
           "INTERVAL_HR2300_ENERGY_QTY"
          ],
          [
           "INTERVAL_HR2330_ENERGY_QTY"
          ],
          [
           "INTERVAL_HR0000_ENERGY_QTY"
          ],
          [
           "INTERVAL_HR0030_ENERGY_QTY"
          ],
          [
           "INTERVAL_HR0100_ENERGY_QTY"
          ],
          [
           "INTERVAL_HR0130_ENERGY_QTY"
          ],
          [
           "INTERVAL_HR0200_ENERGY_QTY"
          ],
          [
           "INTERVAL_HR0230_ENERGY_QTY"
          ],
          [
           "INTERVAL_HR0300_ENERGY_QTY"
          ],
          [
           "INTERVAL_HR0330_ENERGY_QTY"
          ],
          [
           "INTERVAL_HR0400_ENERGY_QTY"
          ],
          [
           "INTERVAL_HR0430_ENERGY_QTY"
          ],
          [
           "INTERVAL_HR0500_ENERGY_QTY"
          ],
          [
           "INTERVAL_HR0530_ENERGY_QTY"
          ],
          [
           "INTERVAL_HR0600_ENERGY_QTY"
          ],
          [
           "INTERVAL_HR0630_ENERGY_QTY"
          ],
          [
           "INTERVAL_HR0700_ENERGY_QTY"
          ],
          [
           "INTERVAL_HR0730_ENERGY_QTY"
          ],
          [
           "INTERVAL_HR0800_ENERGY_QTY"
          ],
          [
           "INTERVAL_HR0830_ENERGY_QTY"
          ],
          [
           "INTERVAL_HR0900_ENERGY_QTY"
          ],
          [
           "INTERVAL_HR0930_ENERGY_QTY"
          ],
          [
           "INTERVAL_HR1000_ENERGY_QTY"
          ],
          [
           "INTERVAL_HR1030_ENERGY_QTY"
          ],
          [
           "INTERVAL_HR1100_ENERGY_QTY"
          ],
          [
           "INTERVAL_HR1130_ENERGY_QTY"
          ],
          [
           "INTERVAL_HR1200_ENERGY_QTY"
          ],
          [
           "INTERVAL_HR1230_ENERGY_QTY"
          ],
          [
           "INTERVAL_HR1300_ENERGY_QTY"
          ],
          [
           "INTERVAL_HR1330_ENERGY_QTY"
          ],
          [
           "INTERVAL_HR1400_ENERGY_QTY"
          ],
          [
           "INTERVAL_HR1430_ENERGY_QTY"
          ],
          [
           "INTERVAL_HR1500_ENERGY_QTY"
          ],
          [
           "INTERVAL_HR1530_ENERGY_QTY"
          ],
          [
           "INTERVAL_HR1600_ENERGY_QTY"
          ],
          [
           "INTERVAL_HR1630_ENERGY_QTY"
          ],
          [
           "INTERVAL_HR1700_ENERGY_QTY"
          ],
          [
           "INTERVAL_HR1730_ENERGY_QTY"
          ],
          [
           "INTERVAL_HR1800_ENERGY_QTY"
          ],
          [
           "INTERVAL_HR1830_ENERGY_QTY"
          ],
          [
           "INTERVAL_HR1900_ENERGY_QTY"
          ],
          [
           "INTERVAL_HR1930_ENERGY_QTY"
          ],
          [
           "INTERVAL_HR2000_ENERGY_QTY"
          ],
          [
           "INTERVAL_HR2030_ENERGY_QTY"
          ],
          [
           "INTERVAL_HR2100_ENERGY_QTY"
          ],
          [
           "INTERVAL_HR2130_ENERGY_QTY"
          ],
          [
           "INTERVAL_HR2200_ENERGY_QTY"
          ],
          [
           "INTERVAL_HR2230_ENERGY_QTY"
          ],
          [
           "INTERVAL_HR2300_ENERGY_QTY"
          ],
          [
           "INTERVAL_HR2330_ENERGY_QTY"
          ],
          [
           "INTERVAL_HR0000_ENERGY_QTY"
          ],
          [
           "INTERVAL_HR0030_ENERGY_QTY"
          ],
          [
           "INTERVAL_HR0100_ENERGY_QTY"
          ],
          [
           "INTERVAL_HR0130_ENERGY_QTY"
          ],
          [
           "INTERVAL_HR0200_ENERGY_QTY"
          ],
          [
           "INTERVAL_HR0230_ENERGY_QTY"
          ],
          [
           "INTERVAL_HR0300_ENERGY_QTY"
          ],
          [
           "INTERVAL_HR0330_ENERGY_QTY"
          ],
          [
           "INTERVAL_HR0400_ENERGY_QTY"
          ],
          [
           "INTERVAL_HR0430_ENERGY_QTY"
          ],
          [
           "INTERVAL_HR0500_ENERGY_QTY"
          ],
          [
           "INTERVAL_HR0530_ENERGY_QTY"
          ],
          [
           "INTERVAL_HR0600_ENERGY_QTY"
          ],
          [
           "INTERVAL_HR0630_ENERGY_QTY"
          ],
          [
           "INTERVAL_HR0700_ENERGY_QTY"
          ],
          [
           "INTERVAL_HR0730_ENERGY_QTY"
          ],
          [
           "INTERVAL_HR0800_ENERGY_QTY"
          ],
          [
           "INTERVAL_HR0830_ENERGY_QTY"
          ],
          [
           "INTERVAL_HR0900_ENERGY_QTY"
          ],
          [
           "INTERVAL_HR0930_ENERGY_QTY"
          ],
          [
           "INTERVAL_HR1000_ENERGY_QTY"
          ],
          [
           "INTERVAL_HR1030_ENERGY_QTY"
          ],
          [
           "INTERVAL_HR1100_ENERGY_QTY"
          ],
          [
           "INTERVAL_HR1130_ENERGY_QTY"
          ],
          [
           "INTERVAL_HR1200_ENERGY_QTY"
          ],
          [
           "INTERVAL_HR1230_ENERGY_QTY"
          ],
          [
           "INTERVAL_HR1300_ENERGY_QTY"
          ],
          [
           "INTERVAL_HR1330_ENERGY_QTY"
          ],
          [
           "INTERVAL_HR1400_ENERGY_QTY"
          ],
          [
           "INTERVAL_HR1430_ENERGY_QTY"
          ],
          [
           "INTERVAL_HR1500_ENERGY_QTY"
          ],
          [
           "INTERVAL_HR1530_ENERGY_QTY"
          ],
          [
           "INTERVAL_HR1600_ENERGY_QTY"
          ],
          [
           "INTERVAL_HR1630_ENERGY_QTY"
          ],
          [
           "INTERVAL_HR1700_ENERGY_QTY"
          ],
          [
           "INTERVAL_HR1730_ENERGY_QTY"
          ],
          [
           "INTERVAL_HR1800_ENERGY_QTY"
          ],
          [
           "INTERVAL_HR1830_ENERGY_QTY"
          ],
          [
           "INTERVAL_HR1900_ENERGY_QTY"
          ],
          [
           "INTERVAL_HR1930_ENERGY_QTY"
          ],
          [
           "INTERVAL_HR2000_ENERGY_QTY"
          ],
          [
           "INTERVAL_HR2030_ENERGY_QTY"
          ],
          [
           "INTERVAL_HR2100_ENERGY_QTY"
          ],
          [
           "INTERVAL_HR2130_ENERGY_QTY"
          ],
          [
           "INTERVAL_HR2200_ENERGY_QTY"
          ],
          [
           "INTERVAL_HR2230_ENERGY_QTY"
          ],
          [
           "INTERVAL_HR2300_ENERGY_QTY"
          ],
          [
           "INTERVAL_HR2330_ENERGY_QTY"
          ],
          [
           "INTERVAL_HR0000_ENERGY_QTY"
          ],
          [
           "INTERVAL_HR0030_ENERGY_QTY"
          ],
          [
           "INTERVAL_HR0100_ENERGY_QTY"
          ],
          [
           "INTERVAL_HR0130_ENERGY_QTY"
          ],
          [
           "INTERVAL_HR0200_ENERGY_QTY"
          ],
          [
           "INTERVAL_HR0230_ENERGY_QTY"
          ],
          [
           "INTERVAL_HR0300_ENERGY_QTY"
          ],
          [
           "INTERVAL_HR0330_ENERGY_QTY"
          ],
          [
           "INTERVAL_HR0400_ENERGY_QTY"
          ],
          [
           "INTERVAL_HR0430_ENERGY_QTY"
          ],
          [
           "INTERVAL_HR0500_ENERGY_QTY"
          ],
          [
           "INTERVAL_HR0530_ENERGY_QTY"
          ],
          [
           "INTERVAL_HR0600_ENERGY_QTY"
          ],
          [
           "INTERVAL_HR0630_ENERGY_QTY"
          ],
          [
           "INTERVAL_HR0700_ENERGY_QTY"
          ],
          [
           "INTERVAL_HR0730_ENERGY_QTY"
          ],
          [
           "INTERVAL_HR0800_ENERGY_QTY"
          ],
          [
           "INTERVAL_HR0830_ENERGY_QTY"
          ],
          [
           "INTERVAL_HR0900_ENERGY_QTY"
          ],
          [
           "INTERVAL_HR0930_ENERGY_QTY"
          ],
          [
           "INTERVAL_HR1000_ENERGY_QTY"
          ],
          [
           "INTERVAL_HR1030_ENERGY_QTY"
          ],
          [
           "INTERVAL_HR1100_ENERGY_QTY"
          ],
          [
           "INTERVAL_HR1130_ENERGY_QTY"
          ],
          [
           "INTERVAL_HR1200_ENERGY_QTY"
          ],
          [
           "INTERVAL_HR1230_ENERGY_QTY"
          ],
          [
           "INTERVAL_HR1300_ENERGY_QTY"
          ],
          [
           "INTERVAL_HR1330_ENERGY_QTY"
          ],
          [
           "INTERVAL_HR1400_ENERGY_QTY"
          ],
          [
           "INTERVAL_HR1430_ENERGY_QTY"
          ],
          [
           "INTERVAL_HR1500_ENERGY_QTY"
          ],
          [
           "INTERVAL_HR1530_ENERGY_QTY"
          ],
          [
           "INTERVAL_HR1600_ENERGY_QTY"
          ],
          [
           "INTERVAL_HR1630_ENERGY_QTY"
          ],
          [
           "INTERVAL_HR1700_ENERGY_QTY"
          ],
          [
           "INTERVAL_HR1730_ENERGY_QTY"
          ],
          [
           "INTERVAL_HR1800_ENERGY_QTY"
          ],
          [
           "INTERVAL_HR1830_ENERGY_QTY"
          ],
          [
           "INTERVAL_HR1900_ENERGY_QTY"
          ],
          [
           "INTERVAL_HR1930_ENERGY_QTY"
          ],
          [
           "INTERVAL_HR2000_ENERGY_QTY"
          ],
          [
           "INTERVAL_HR2030_ENERGY_QTY"
          ],
          [
           "INTERVAL_HR2100_ENERGY_QTY"
          ],
          [
           "INTERVAL_HR2130_ENERGY_QTY"
          ],
          [
           "INTERVAL_HR2200_ENERGY_QTY"
          ],
          [
           "INTERVAL_HR2230_ENERGY_QTY"
          ],
          [
           "INTERVAL_HR2300_ENERGY_QTY"
          ],
          [
           "INTERVAL_HR2330_ENERGY_QTY"
          ]
         ],
         "hovertemplate": "x=%{x}<br>energy=%{y}<br>Time=%{customdata[0]}<extra></extra>",
         "legendgroup": "",
         "line": {
          "color": "#636efa",
          "dash": "solid"
         },
         "marker": {
          "symbol": "circle"
         },
         "mode": "markers+lines",
         "name": "",
         "orientation": "v",
         "showlegend": false,
         "x": [
          0,
          1,
          2,
          3,
          4,
          5,
          6,
          7,
          8,
          9,
          10,
          11,
          12,
          13,
          14,
          15,
          16,
          17,
          18,
          19,
          20,
          21,
          22,
          23,
          24,
          25,
          26,
          27,
          28,
          29,
          30,
          31,
          32,
          33,
          34,
          35,
          36,
          37,
          38,
          39,
          40,
          41,
          42,
          43,
          44,
          45,
          46,
          47,
          48,
          49,
          50,
          51,
          52,
          53,
          54,
          55,
          56,
          57,
          58,
          59,
          60,
          61,
          62,
          63,
          64,
          65,
          66,
          67,
          68,
          69,
          70,
          71,
          72,
          73,
          74,
          75,
          76,
          77,
          78,
          79,
          80,
          81,
          82,
          83,
          84,
          85,
          86,
          87,
          88,
          89,
          90,
          91,
          92,
          93,
          94,
          95,
          96,
          97,
          98,
          99,
          100,
          101,
          102,
          103,
          104,
          105,
          106,
          107,
          108,
          109,
          110,
          111,
          112,
          113,
          114,
          115,
          116,
          117,
          118,
          119,
          120,
          121,
          122,
          123,
          124,
          125,
          126,
          127,
          128,
          129,
          130,
          131,
          132,
          133,
          134,
          135,
          136,
          137,
          138,
          139,
          140,
          141,
          142,
          143,
          144,
          145,
          146,
          147,
          148,
          149,
          150,
          151,
          152,
          153,
          154,
          155,
          156,
          157,
          158,
          159,
          160,
          161,
          162,
          163,
          164,
          165,
          166,
          167,
          168,
          169,
          170,
          171,
          172,
          173,
          174,
          175,
          176,
          177,
          178,
          179,
          180,
          181,
          182,
          183,
          184,
          185,
          186,
          187,
          188,
          189,
          190,
          191,
          192,
          193,
          194,
          195,
          196,
          197,
          198,
          199,
          200,
          201,
          202,
          203,
          204,
          205,
          206,
          207,
          208,
          209,
          210,
          211,
          212,
          213,
          214,
          215,
          216,
          217,
          218,
          219,
          220,
          221,
          222,
          223,
          224,
          225,
          226,
          227,
          228,
          229,
          230,
          231,
          232,
          233,
          234,
          235,
          236,
          237,
          238,
          239,
          240,
          241,
          242,
          243,
          244,
          245,
          246,
          247,
          248,
          249,
          250,
          251,
          252,
          253,
          254,
          255,
          256,
          257,
          258,
          259,
          260,
          261,
          262,
          263,
          264,
          265,
          266,
          267,
          268,
          269,
          270,
          271,
          272,
          273,
          274,
          275,
          276,
          277,
          278,
          279,
          280,
          281,
          282,
          283,
          284,
          285,
          286,
          287,
          288,
          289,
          290,
          291,
          292,
          293,
          294,
          295,
          296,
          297,
          298,
          299,
          300,
          301,
          302,
          303,
          304,
          305,
          306,
          307,
          308,
          309,
          310,
          311,
          312,
          313,
          314,
          315,
          316,
          317,
          318,
          319,
          320,
          321,
          322,
          323,
          324,
          325,
          326,
          327,
          328,
          329,
          330,
          331,
          332,
          333,
          334,
          335
         ],
         "xaxis": "x",
         "y": [
          2564850.589073,
          2393039.964208,
          2357741.800103,
          2331957.013737,
          2314151.394331,
          2307512.715501,
          2304422.871696,
          2319188.869297,
          2340315.694895,
          2394440.347575,
          2457359.574388,
          2586952.360824,
          2725035.318366,
          2930434.022034,
          3089541.179594,
          3184218.180661,
          3196882.545154,
          3196263.913738,
          3172556.892131,
          3164044.948943,
          3145928.965337,
          3140500.967955,
          3125771.356565,
          3113614.930613,
          3102294.053808,
          3082083.867193,
          3079646.948996,
          3076573.256409,
          3062692.738789,
          3045927.215866,
          3034363.927664,
          3036202.402613,
          3056528.042112,
          3117335.297551,
          3194596.86745,
          3315872.933288,
          3397302.772387,
          3381619.724196,
          3366312.279035,
          3336792.265672,
          3313554.783557,
          3262752.30269,
          3208755.870989,
          3114195.945669,
          3006299.397562,
          2873189.379133,
          2757340.989133,
          2647685.273264,
          2764409.755621,
          2496969.909631,
          2451951.986531,
          2415813.64967,
          2387952.66657,
          2373416.73182,
          2369656.089116,
          2382164.643642,
          2398246.354232,
          2453079.886412,
          2515937.555447,
          2642520.532415,
          2779573.937818,
          2987372.146275,
          3141216.274374,
          3254484.081114,
          3285116.802718,
          3314539.757234,
          3332284.208046,
          3358265.996004,
          3381425.306512,
          3401817.489293,
          3404679.2746,
          3396327.101346,
          3389092.224451,
          3375903.358576,
          3357662.364471,
          3344100.474201,
          3350207.050506,
          3350851.604083,
          3350717.089886,
          3366471.274669,
          3405663.133271,
          3465033.842505,
          3533179.916507,
          3626758.481483,
          3674734.176984,
          3642578.314704,
          3620141.526705,
          3585432.677127,
          3558281.333127,
          3499599.533743,
          3435641.652923,
          3339270.211558,
          3236530.462551,
          3095214.30282,
          2963678.453617,
          2847285.422454,
          2816812.196987,
          2691705.898473,
          2642119.696263,
          2605541.502222,
          2581319.549719,
          2568252.881617,
          2562746.470814,
          2570121.023425,
          2586276.433021,
          2632914.874232,
          2688432.445333,
          2813191.072964,
          2951859.620359,
          3154701.848945,
          3299261.027237,
          3402412.004296,
          3423628.339191,
          3443731.873911,
          3452250.538606,
          3454090.823913,
          3445983.873258,
          3445110.26815,
          3447226.627849,
          3460111.885574,
          3464390.235582,
          3459296.254453,
          3467403.586254,
          3479553.013535,
          3490504.529928,
          3492280.825012,
          3496874.498612,
          3506198.853445,
          3520808.226044,
          3565418.605124,
          3623626.442127,
          3707918.366076,
          3749283.610078,
          3717964.242579,
          3697399.555984,
          3654567.237289,
          3614750.582625,
          3556690.337949,
          3492973.208561,
          3398595.219094,
          3287389.721092,
          3146748.507656,
          3022411.292562,
          2907244.916582,
          2807241.569818,
          2741840.826916,
          2693569.10292,
          2654583.239917,
          2624469.631113,
          2609461.94094,
          2598738.744846,
          2598822.705507,
          2618804.464216,
          2687782.153508,
          2746034.43694,
          2861086.446428,
          2982533.583467,
          3182076.160151,
          3323038.521226,
          3408065.954841,
          3428351.270447,
          3453094.400651,
          3470119.569555,
          3487236.12606,
          3488495.726067,
          3501370.642951,
          3509938.735145,
          3515795.505039,
          3494366.106944,
          3467067.887523,
          3463380.877927,
          3467817.31968,
          3466464.806682,
          3451126.200164,
          3436048.665667,
          3443262.134882,
          3460307.991371,
          3498872.169694,
          3544455.194799,
          3627147.547207,
          3700764.144708,
          3669879.446832,
          3643742.960743,
          3609081.844419,
          3576294.61059,
          3524637.716036,
          3465599.311942,
          3365902.506232,
          3262880.223836,
          3124458.248062,
          2998399.759049,
          2890314.124915,
          2749682.345655,
          2732264.742532,
          2681245.539342,
          2647997.443932,
          2625834.742232,
          2613733.402791,
          2612105.305898,
          2619733.07768,
          2635313.109185,
          2688413.815954,
          2753870.526973,
          2871859.600945,
          2990295.22315,
          3195007.329014,
          3340022.191308,
          3418326.84851,
          3433491.840414,
          3449099.06149,
          3429853.739394,
          3409417.246402,
          3381315.302806,
          3358868.563975,
          3334560.099079,
          3310638.830087,
          3285488.692291,
          3257614.987188,
          3243403.647238,
          3233031.405077,
          3217077.345068,
          3195399.401827,
          3181122.811926,
          3192431.369076,
          3212043.930374,
          3256310.456416,
          3321843.230314,
          3414886.367682,
          3492372.05568,
          3456459.592284,
          3431343.117517,
          3393278.209123,
          3366978.792836,
          3323628.528354,
          3279506.397857,
          3212108.25873,
          3135843.982533,
          3032011.012294,
          2929804.41159,
          2827930.826041,
          2753260.098334,
          2675682.848196,
          2623306.015504,
          2581820.448822,
          2548769.878721,
          2521967.512046,
          2508754.888352,
          2501057.963109,
          2499829.382024,
          2516402.285437,
          2536799.695469,
          2589881.689292,
          2641371.642871,
          2736483.928508,
          2807850.384991,
          2888390.368398,
          2943963.089513,
          3014042.765103,
          3042978.34711,
          3067692.290557,
          3055055.444965,
          3044799.378879,
          3028114.76545,
          3007476.970484,
          2988458.429836,
          2969012.002547,
          2967924.526839,
          2949176.101134,
          2947835.592743,
          2942952.862683,
          2948606.016189,
          2967130.207245,
          2999511.754649,
          3040939.015972,
          3101120.741302,
          3185344.656986,
          3246431.925065,
          3248805.717919,
          3236601.828908,
          3215252.440644,
          3194523.96946,
          3168661.632146,
          3136305.685847,
          3085720.480809,
          3031986.930101,
          2955677.060834,
          2885469.524819,
          2814535.844644,
          2616494.445834,
          2691443.042658,
          2651171.898159,
          2619452.908154,
          2591296.888154,
          2571503.540705,
          2561637.852208,
          2552798.986412,
          2550594.823412,
          2554037.147219,
          2562884.410218,
          2597639.899429,
          2628040.463025,
          2680190.686073,
          2729275.348168,
          2780358.381378,
          2828856.787278,
          2895374.283895,
          2945349.947203,
          2987969.741957,
          3034679.554766,
          3072633.144624,
          3093097.65991,
          3102835.954625,
          3109188.545922,
          3131879.005281,
          3140506.151381,
          3147542.807077,
          3141219.703087,
          3135087.916045,
          3136046.061347,
          3146124.838628,
          3169234.853235,
          3212806.514064,
          3271641.736551,
          3335350.037255,
          3377443.140872,
          3366185.731846,
          3336825.976449,
          3297029.963136,
          3254863.983445,
          3204168.798257,
          3147735.657331,
          3072800.807882,
          2982984.562286,
          2875001.155527,
          2779133.569833,
          2685275.656946
         ],
         "yaxis": "y",
         "type": "scatter"
        }
       ],
       "layout": {
        "template": {
         "data": {
          "histogram2dcontour": [
           {
            "type": "histogram2dcontour",
            "colorbar": {
             "outlinewidth": 0,
             "ticks": ""
            },
            "colorscale": [
             [
              0.0,
              "#0d0887"
             ],
             [
              0.1111111111111111,
              "#46039f"
             ],
             [
              0.2222222222222222,
              "#7201a8"
             ],
             [
              0.3333333333333333,
              "#9c179e"
             ],
             [
              0.4444444444444444,
              "#bd3786"
             ],
             [
              0.5555555555555556,
              "#d8576b"
             ],
             [
              0.6666666666666666,
              "#ed7953"
             ],
             [
              0.7777777777777778,
              "#fb9f3a"
             ],
             [
              0.8888888888888888,
              "#fdca26"
             ],
             [
              1.0,
              "#f0f921"
             ]
            ]
           }
          ],
          "choropleth": [
           {
            "type": "choropleth",
            "colorbar": {
             "outlinewidth": 0,
             "ticks": ""
            }
           }
          ],
          "histogram2d": [
           {
            "type": "histogram2d",
            "colorbar": {
             "outlinewidth": 0,
             "ticks": ""
            },
            "colorscale": [
             [
              0.0,
              "#0d0887"
             ],
             [
              0.1111111111111111,
              "#46039f"
             ],
             [
              0.2222222222222222,
              "#7201a8"
             ],
             [
              0.3333333333333333,
              "#9c179e"
             ],
             [
              0.4444444444444444,
              "#bd3786"
             ],
             [
              0.5555555555555556,
              "#d8576b"
             ],
             [
              0.6666666666666666,
              "#ed7953"
             ],
             [
              0.7777777777777778,
              "#fb9f3a"
             ],
             [
              0.8888888888888888,
              "#fdca26"
             ],
             [
              1.0,
              "#f0f921"
             ]
            ]
           }
          ],
          "heatmap": [
           {
            "type": "heatmap",
            "colorbar": {
             "outlinewidth": 0,
             "ticks": ""
            },
            "colorscale": [
             [
              0.0,
              "#0d0887"
             ],
             [
              0.1111111111111111,
              "#46039f"
             ],
             [
              0.2222222222222222,
              "#7201a8"
             ],
             [
              0.3333333333333333,
              "#9c179e"
             ],
             [
              0.4444444444444444,
              "#bd3786"
             ],
             [
              0.5555555555555556,
              "#d8576b"
             ],
             [
              0.6666666666666666,
              "#ed7953"
             ],
             [
              0.7777777777777778,
              "#fb9f3a"
             ],
             [
              0.8888888888888888,
              "#fdca26"
             ],
             [
              1.0,
              "#f0f921"
             ]
            ]
           }
          ],
          "heatmapgl": [
           {
            "type": "heatmapgl",
            "colorbar": {
             "outlinewidth": 0,
             "ticks": ""
            },
            "colorscale": [
             [
              0.0,
              "#0d0887"
             ],
             [
              0.1111111111111111,
              "#46039f"
             ],
             [
              0.2222222222222222,
              "#7201a8"
             ],
             [
              0.3333333333333333,
              "#9c179e"
             ],
             [
              0.4444444444444444,
              "#bd3786"
             ],
             [
              0.5555555555555556,
              "#d8576b"
             ],
             [
              0.6666666666666666,
              "#ed7953"
             ],
             [
              0.7777777777777778,
              "#fb9f3a"
             ],
             [
              0.8888888888888888,
              "#fdca26"
             ],
             [
              1.0,
              "#f0f921"
             ]
            ]
           }
          ],
          "contourcarpet": [
           {
            "type": "contourcarpet",
            "colorbar": {
             "outlinewidth": 0,
             "ticks": ""
            }
           }
          ],
          "contour": [
           {
            "type": "contour",
            "colorbar": {
             "outlinewidth": 0,
             "ticks": ""
            },
            "colorscale": [
             [
              0.0,
              "#0d0887"
             ],
             [
              0.1111111111111111,
              "#46039f"
             ],
             [
              0.2222222222222222,
              "#7201a8"
             ],
             [
              0.3333333333333333,
              "#9c179e"
             ],
             [
              0.4444444444444444,
              "#bd3786"
             ],
             [
              0.5555555555555556,
              "#d8576b"
             ],
             [
              0.6666666666666666,
              "#ed7953"
             ],
             [
              0.7777777777777778,
              "#fb9f3a"
             ],
             [
              0.8888888888888888,
              "#fdca26"
             ],
             [
              1.0,
              "#f0f921"
             ]
            ]
           }
          ],
          "surface": [
           {
            "type": "surface",
            "colorbar": {
             "outlinewidth": 0,
             "ticks": ""
            },
            "colorscale": [
             [
              0.0,
              "#0d0887"
             ],
             [
              0.1111111111111111,
              "#46039f"
             ],
             [
              0.2222222222222222,
              "#7201a8"
             ],
             [
              0.3333333333333333,
              "#9c179e"
             ],
             [
              0.4444444444444444,
              "#bd3786"
             ],
             [
              0.5555555555555556,
              "#d8576b"
             ],
             [
              0.6666666666666666,
              "#ed7953"
             ],
             [
              0.7777777777777778,
              "#fb9f3a"
             ],
             [
              0.8888888888888888,
              "#fdca26"
             ],
             [
              1.0,
              "#f0f921"
             ]
            ]
           }
          ],
          "mesh3d": [
           {
            "type": "mesh3d",
            "colorbar": {
             "outlinewidth": 0,
             "ticks": ""
            }
           }
          ],
          "scatter": [
           {
            "fillpattern": {
             "fillmode": "overlay",
             "size": 10,
             "solidity": 0.2
            },
            "type": "scatter"
           }
          ],
          "parcoords": [
           {
            "type": "parcoords",
            "line": {
             "colorbar": {
              "outlinewidth": 0,
              "ticks": ""
             }
            }
           }
          ],
          "scatterpolargl": [
           {
            "type": "scatterpolargl",
            "marker": {
             "colorbar": {
              "outlinewidth": 0,
              "ticks": ""
             }
            }
           }
          ],
          "bar": [
           {
            "error_x": {
             "color": "#2a3f5f"
            },
            "error_y": {
             "color": "#2a3f5f"
            },
            "marker": {
             "line": {
              "color": "#E5ECF6",
              "width": 0.5
             },
             "pattern": {
              "fillmode": "overlay",
              "size": 10,
              "solidity": 0.2
             }
            },
            "type": "bar"
           }
          ],
          "scattergeo": [
           {
            "type": "scattergeo",
            "marker": {
             "colorbar": {
              "outlinewidth": 0,
              "ticks": ""
             }
            }
           }
          ],
          "scatterpolar": [
           {
            "type": "scatterpolar",
            "marker": {
             "colorbar": {
              "outlinewidth": 0,
              "ticks": ""
             }
            }
           }
          ],
          "histogram": [
           {
            "marker": {
             "pattern": {
              "fillmode": "overlay",
              "size": 10,
              "solidity": 0.2
             }
            },
            "type": "histogram"
           }
          ],
          "scattergl": [
           {
            "type": "scattergl",
            "marker": {
             "colorbar": {
              "outlinewidth": 0,
              "ticks": ""
             }
            }
           }
          ],
          "scatter3d": [
           {
            "type": "scatter3d",
            "line": {
             "colorbar": {
              "outlinewidth": 0,
              "ticks": ""
             }
            },
            "marker": {
             "colorbar": {
              "outlinewidth": 0,
              "ticks": ""
             }
            }
           }
          ],
          "scattermapbox": [
           {
            "type": "scattermapbox",
            "marker": {
             "colorbar": {
              "outlinewidth": 0,
              "ticks": ""
             }
            }
           }
          ],
          "scatterternary": [
           {
            "type": "scatterternary",
            "marker": {
             "colorbar": {
              "outlinewidth": 0,
              "ticks": ""
             }
            }
           }
          ],
          "scattercarpet": [
           {
            "type": "scattercarpet",
            "marker": {
             "colorbar": {
              "outlinewidth": 0,
              "ticks": ""
             }
            }
           }
          ],
          "carpet": [
           {
            "aaxis": {
             "endlinecolor": "#2a3f5f",
             "gridcolor": "white",
             "linecolor": "white",
             "minorgridcolor": "white",
             "startlinecolor": "#2a3f5f"
            },
            "baxis": {
             "endlinecolor": "#2a3f5f",
             "gridcolor": "white",
             "linecolor": "white",
             "minorgridcolor": "white",
             "startlinecolor": "#2a3f5f"
            },
            "type": "carpet"
           }
          ],
          "table": [
           {
            "cells": {
             "fill": {
              "color": "#EBF0F8"
             },
             "line": {
              "color": "white"
             }
            },
            "header": {
             "fill": {
              "color": "#C8D4E3"
             },
             "line": {
              "color": "white"
             }
            },
            "type": "table"
           }
          ],
          "barpolar": [
           {
            "marker": {
             "line": {
              "color": "#E5ECF6",
              "width": 0.5
             },
             "pattern": {
              "fillmode": "overlay",
              "size": 10,
              "solidity": 0.2
             }
            },
            "type": "barpolar"
           }
          ],
          "pie": [
           {
            "automargin": true,
            "type": "pie"
           }
          ]
         },
         "layout": {
          "autotypenumbers": "strict",
          "colorway": [
           "#636efa",
           "#EF553B",
           "#00cc96",
           "#ab63fa",
           "#FFA15A",
           "#19d3f3",
           "#FF6692",
           "#B6E880",
           "#FF97FF",
           "#FECB52"
          ],
          "font": {
           "color": "#2a3f5f"
          },
          "hovermode": "closest",
          "hoverlabel": {
           "align": "left"
          },
          "paper_bgcolor": "white",
          "plot_bgcolor": "#E5ECF6",
          "polar": {
           "bgcolor": "#E5ECF6",
           "angularaxis": {
            "gridcolor": "white",
            "linecolor": "white",
            "ticks": ""
           },
           "radialaxis": {
            "gridcolor": "white",
            "linecolor": "white",
            "ticks": ""
           }
          },
          "ternary": {
           "bgcolor": "#E5ECF6",
           "aaxis": {
            "gridcolor": "white",
            "linecolor": "white",
            "ticks": ""
           },
           "baxis": {
            "gridcolor": "white",
            "linecolor": "white",
            "ticks": ""
           },
           "caxis": {
            "gridcolor": "white",
            "linecolor": "white",
            "ticks": ""
           }
          },
          "coloraxis": {
           "colorbar": {
            "outlinewidth": 0,
            "ticks": ""
           }
          },
          "colorscale": {
           "sequential": [
            [
             0.0,
             "#0d0887"
            ],
            [
             0.1111111111111111,
             "#46039f"
            ],
            [
             0.2222222222222222,
             "#7201a8"
            ],
            [
             0.3333333333333333,
             "#9c179e"
            ],
            [
             0.4444444444444444,
             "#bd3786"
            ],
            [
             0.5555555555555556,
             "#d8576b"
            ],
            [
             0.6666666666666666,
             "#ed7953"
            ],
            [
             0.7777777777777778,
             "#fb9f3a"
            ],
            [
             0.8888888888888888,
             "#fdca26"
            ],
            [
             1.0,
             "#f0f921"
            ]
           ],
           "sequentialminus": [
            [
             0.0,
             "#0d0887"
            ],
            [
             0.1111111111111111,
             "#46039f"
            ],
            [
             0.2222222222222222,
             "#7201a8"
            ],
            [
             0.3333333333333333,
             "#9c179e"
            ],
            [
             0.4444444444444444,
             "#bd3786"
            ],
            [
             0.5555555555555556,
             "#d8576b"
            ],
            [
             0.6666666666666666,
             "#ed7953"
            ],
            [
             0.7777777777777778,
             "#fb9f3a"
            ],
            [
             0.8888888888888888,
             "#fdca26"
            ],
            [
             1.0,
             "#f0f921"
            ]
           ],
           "diverging": [
            [
             0,
             "#8e0152"
            ],
            [
             0.1,
             "#c51b7d"
            ],
            [
             0.2,
             "#de77ae"
            ],
            [
             0.3,
             "#f1b6da"
            ],
            [
             0.4,
             "#fde0ef"
            ],
            [
             0.5,
             "#f7f7f7"
            ],
            [
             0.6,
             "#e6f5d0"
            ],
            [
             0.7,
             "#b8e186"
            ],
            [
             0.8,
             "#7fbc41"
            ],
            [
             0.9,
             "#4d9221"
            ],
            [
             1,
             "#276419"
            ]
           ]
          },
          "xaxis": {
           "gridcolor": "white",
           "linecolor": "white",
           "ticks": "",
           "title": {
            "standoff": 15
           },
           "zerolinecolor": "white",
           "automargin": true,
           "zerolinewidth": 2
          },
          "yaxis": {
           "gridcolor": "white",
           "linecolor": "white",
           "ticks": "",
           "title": {
            "standoff": 15
           },
           "zerolinecolor": "white",
           "automargin": true,
           "zerolinewidth": 2
          },
          "scene": {
           "xaxis": {
            "backgroundcolor": "#E5ECF6",
            "gridcolor": "white",
            "linecolor": "white",
            "showbackground": true,
            "ticks": "",
            "zerolinecolor": "white",
            "gridwidth": 2
           },
           "yaxis": {
            "backgroundcolor": "#E5ECF6",
            "gridcolor": "white",
            "linecolor": "white",
            "showbackground": true,
            "ticks": "",
            "zerolinecolor": "white",
            "gridwidth": 2
           },
           "zaxis": {
            "backgroundcolor": "#E5ECF6",
            "gridcolor": "white",
            "linecolor": "white",
            "showbackground": true,
            "ticks": "",
            "zerolinecolor": "white",
            "gridwidth": 2
           }
          },
          "shapedefaults": {
           "line": {
            "color": "#2a3f5f"
           }
          },
          "annotationdefaults": {
           "arrowcolor": "#2a3f5f",
           "arrowhead": 0,
           "arrowwidth": 1
          },
          "geo": {
           "bgcolor": "white",
           "landcolor": "#E5ECF6",
           "subunitcolor": "white",
           "showland": true,
           "showlakes": true,
           "lakecolor": "white"
          },
          "title": {
           "x": 0.05
          },
          "mapbox": {
           "style": "light"
          }
         }
        },
        "xaxis": {
         "anchor": "y",
         "domain": [
          0.0,
          1.0
         ],
         "title": {
          "text": "x"
         }
        },
        "yaxis": {
         "anchor": "x",
         "domain": [
          0.0,
          1.0
         ],
         "title": {
          "text": "energy"
         }
        },
        "legend": {
         "tracegroupgap": 0
        },
        "margin": {
         "t": 60
        }
       },
       "config": {
        "plotlyServerURL": "https://plot.ly"
       }
      },
      "text/html": "<div>                            <div id=\"d6ccdfe2-6f77-427b-989f-1abd2390b106\" class=\"plotly-graph-div\" style=\"height:525px; width:100%;\"></div>            <script type=\"text/javascript\">                require([\"plotly\"], function(Plotly) {                    window.PLOTLYENV=window.PLOTLYENV || {};                                    if (document.getElementById(\"d6ccdfe2-6f77-427b-989f-1abd2390b106\")) {                    Plotly.newPlot(                        \"d6ccdfe2-6f77-427b-989f-1abd2390b106\",                        [{\"customdata\":[[\"INTERVAL_HR0000_ENERGY_QTY\"],[\"INTERVAL_HR0030_ENERGY_QTY\"],[\"INTERVAL_HR0100_ENERGY_QTY\"],[\"INTERVAL_HR0130_ENERGY_QTY\"],[\"INTERVAL_HR0200_ENERGY_QTY\"],[\"INTERVAL_HR0230_ENERGY_QTY\"],[\"INTERVAL_HR0300_ENERGY_QTY\"],[\"INTERVAL_HR0330_ENERGY_QTY\"],[\"INTERVAL_HR0400_ENERGY_QTY\"],[\"INTERVAL_HR0430_ENERGY_QTY\"],[\"INTERVAL_HR0500_ENERGY_QTY\"],[\"INTERVAL_HR0530_ENERGY_QTY\"],[\"INTERVAL_HR0600_ENERGY_QTY\"],[\"INTERVAL_HR0630_ENERGY_QTY\"],[\"INTERVAL_HR0700_ENERGY_QTY\"],[\"INTERVAL_HR0730_ENERGY_QTY\"],[\"INTERVAL_HR0800_ENERGY_QTY\"],[\"INTERVAL_HR0830_ENERGY_QTY\"],[\"INTERVAL_HR0900_ENERGY_QTY\"],[\"INTERVAL_HR0930_ENERGY_QTY\"],[\"INTERVAL_HR1000_ENERGY_QTY\"],[\"INTERVAL_HR1030_ENERGY_QTY\"],[\"INTERVAL_HR1100_ENERGY_QTY\"],[\"INTERVAL_HR1130_ENERGY_QTY\"],[\"INTERVAL_HR1200_ENERGY_QTY\"],[\"INTERVAL_HR1230_ENERGY_QTY\"],[\"INTERVAL_HR1300_ENERGY_QTY\"],[\"INTERVAL_HR1330_ENERGY_QTY\"],[\"INTERVAL_HR1400_ENERGY_QTY\"],[\"INTERVAL_HR1430_ENERGY_QTY\"],[\"INTERVAL_HR1500_ENERGY_QTY\"],[\"INTERVAL_HR1530_ENERGY_QTY\"],[\"INTERVAL_HR1600_ENERGY_QTY\"],[\"INTERVAL_HR1630_ENERGY_QTY\"],[\"INTERVAL_HR1700_ENERGY_QTY\"],[\"INTERVAL_HR1730_ENERGY_QTY\"],[\"INTERVAL_HR1800_ENERGY_QTY\"],[\"INTERVAL_HR1830_ENERGY_QTY\"],[\"INTERVAL_HR1900_ENERGY_QTY\"],[\"INTERVAL_HR1930_ENERGY_QTY\"],[\"INTERVAL_HR2000_ENERGY_QTY\"],[\"INTERVAL_HR2030_ENERGY_QTY\"],[\"INTERVAL_HR2100_ENERGY_QTY\"],[\"INTERVAL_HR2130_ENERGY_QTY\"],[\"INTERVAL_HR2200_ENERGY_QTY\"],[\"INTERVAL_HR2230_ENERGY_QTY\"],[\"INTERVAL_HR2300_ENERGY_QTY\"],[\"INTERVAL_HR2330_ENERGY_QTY\"],[\"INTERVAL_HR0000_ENERGY_QTY\"],[\"INTERVAL_HR0030_ENERGY_QTY\"],[\"INTERVAL_HR0100_ENERGY_QTY\"],[\"INTERVAL_HR0130_ENERGY_QTY\"],[\"INTERVAL_HR0200_ENERGY_QTY\"],[\"INTERVAL_HR0230_ENERGY_QTY\"],[\"INTERVAL_HR0300_ENERGY_QTY\"],[\"INTERVAL_HR0330_ENERGY_QTY\"],[\"INTERVAL_HR0400_ENERGY_QTY\"],[\"INTERVAL_HR0430_ENERGY_QTY\"],[\"INTERVAL_HR0500_ENERGY_QTY\"],[\"INTERVAL_HR0530_ENERGY_QTY\"],[\"INTERVAL_HR0600_ENERGY_QTY\"],[\"INTERVAL_HR0630_ENERGY_QTY\"],[\"INTERVAL_HR0700_ENERGY_QTY\"],[\"INTERVAL_HR0730_ENERGY_QTY\"],[\"INTERVAL_HR0800_ENERGY_QTY\"],[\"INTERVAL_HR0830_ENERGY_QTY\"],[\"INTERVAL_HR0900_ENERGY_QTY\"],[\"INTERVAL_HR0930_ENERGY_QTY\"],[\"INTERVAL_HR1000_ENERGY_QTY\"],[\"INTERVAL_HR1030_ENERGY_QTY\"],[\"INTERVAL_HR1100_ENERGY_QTY\"],[\"INTERVAL_HR1130_ENERGY_QTY\"],[\"INTERVAL_HR1200_ENERGY_QTY\"],[\"INTERVAL_HR1230_ENERGY_QTY\"],[\"INTERVAL_HR1300_ENERGY_QTY\"],[\"INTERVAL_HR1330_ENERGY_QTY\"],[\"INTERVAL_HR1400_ENERGY_QTY\"],[\"INTERVAL_HR1430_ENERGY_QTY\"],[\"INTERVAL_HR1500_ENERGY_QTY\"],[\"INTERVAL_HR1530_ENERGY_QTY\"],[\"INTERVAL_HR1600_ENERGY_QTY\"],[\"INTERVAL_HR1630_ENERGY_QTY\"],[\"INTERVAL_HR1700_ENERGY_QTY\"],[\"INTERVAL_HR1730_ENERGY_QTY\"],[\"INTERVAL_HR1800_ENERGY_QTY\"],[\"INTERVAL_HR1830_ENERGY_QTY\"],[\"INTERVAL_HR1900_ENERGY_QTY\"],[\"INTERVAL_HR1930_ENERGY_QTY\"],[\"INTERVAL_HR2000_ENERGY_QTY\"],[\"INTERVAL_HR2030_ENERGY_QTY\"],[\"INTERVAL_HR2100_ENERGY_QTY\"],[\"INTERVAL_HR2130_ENERGY_QTY\"],[\"INTERVAL_HR2200_ENERGY_QTY\"],[\"INTERVAL_HR2230_ENERGY_QTY\"],[\"INTERVAL_HR2300_ENERGY_QTY\"],[\"INTERVAL_HR2330_ENERGY_QTY\"],[\"INTERVAL_HR0000_ENERGY_QTY\"],[\"INTERVAL_HR0030_ENERGY_QTY\"],[\"INTERVAL_HR0100_ENERGY_QTY\"],[\"INTERVAL_HR0130_ENERGY_QTY\"],[\"INTERVAL_HR0200_ENERGY_QTY\"],[\"INTERVAL_HR0230_ENERGY_QTY\"],[\"INTERVAL_HR0300_ENERGY_QTY\"],[\"INTERVAL_HR0330_ENERGY_QTY\"],[\"INTERVAL_HR0400_ENERGY_QTY\"],[\"INTERVAL_HR0430_ENERGY_QTY\"],[\"INTERVAL_HR0500_ENERGY_QTY\"],[\"INTERVAL_HR0530_ENERGY_QTY\"],[\"INTERVAL_HR0600_ENERGY_QTY\"],[\"INTERVAL_HR0630_ENERGY_QTY\"],[\"INTERVAL_HR0700_ENERGY_QTY\"],[\"INTERVAL_HR0730_ENERGY_QTY\"],[\"INTERVAL_HR0800_ENERGY_QTY\"],[\"INTERVAL_HR0830_ENERGY_QTY\"],[\"INTERVAL_HR0900_ENERGY_QTY\"],[\"INTERVAL_HR0930_ENERGY_QTY\"],[\"INTERVAL_HR1000_ENERGY_QTY\"],[\"INTERVAL_HR1030_ENERGY_QTY\"],[\"INTERVAL_HR1100_ENERGY_QTY\"],[\"INTERVAL_HR1130_ENERGY_QTY\"],[\"INTERVAL_HR1200_ENERGY_QTY\"],[\"INTERVAL_HR1230_ENERGY_QTY\"],[\"INTERVAL_HR1300_ENERGY_QTY\"],[\"INTERVAL_HR1330_ENERGY_QTY\"],[\"INTERVAL_HR1400_ENERGY_QTY\"],[\"INTERVAL_HR1430_ENERGY_QTY\"],[\"INTERVAL_HR1500_ENERGY_QTY\"],[\"INTERVAL_HR1530_ENERGY_QTY\"],[\"INTERVAL_HR1600_ENERGY_QTY\"],[\"INTERVAL_HR1630_ENERGY_QTY\"],[\"INTERVAL_HR1700_ENERGY_QTY\"],[\"INTERVAL_HR1730_ENERGY_QTY\"],[\"INTERVAL_HR1800_ENERGY_QTY\"],[\"INTERVAL_HR1830_ENERGY_QTY\"],[\"INTERVAL_HR1900_ENERGY_QTY\"],[\"INTERVAL_HR1930_ENERGY_QTY\"],[\"INTERVAL_HR2000_ENERGY_QTY\"],[\"INTERVAL_HR2030_ENERGY_QTY\"],[\"INTERVAL_HR2100_ENERGY_QTY\"],[\"INTERVAL_HR2130_ENERGY_QTY\"],[\"INTERVAL_HR2200_ENERGY_QTY\"],[\"INTERVAL_HR2230_ENERGY_QTY\"],[\"INTERVAL_HR2300_ENERGY_QTY\"],[\"INTERVAL_HR2330_ENERGY_QTY\"],[\"INTERVAL_HR0000_ENERGY_QTY\"],[\"INTERVAL_HR0030_ENERGY_QTY\"],[\"INTERVAL_HR0100_ENERGY_QTY\"],[\"INTERVAL_HR0130_ENERGY_QTY\"],[\"INTERVAL_HR0200_ENERGY_QTY\"],[\"INTERVAL_HR0230_ENERGY_QTY\"],[\"INTERVAL_HR0300_ENERGY_QTY\"],[\"INTERVAL_HR0330_ENERGY_QTY\"],[\"INTERVAL_HR0400_ENERGY_QTY\"],[\"INTERVAL_HR0430_ENERGY_QTY\"],[\"INTERVAL_HR0500_ENERGY_QTY\"],[\"INTERVAL_HR0530_ENERGY_QTY\"],[\"INTERVAL_HR0600_ENERGY_QTY\"],[\"INTERVAL_HR0630_ENERGY_QTY\"],[\"INTERVAL_HR0700_ENERGY_QTY\"],[\"INTERVAL_HR0730_ENERGY_QTY\"],[\"INTERVAL_HR0800_ENERGY_QTY\"],[\"INTERVAL_HR0830_ENERGY_QTY\"],[\"INTERVAL_HR0900_ENERGY_QTY\"],[\"INTERVAL_HR0930_ENERGY_QTY\"],[\"INTERVAL_HR1000_ENERGY_QTY\"],[\"INTERVAL_HR1030_ENERGY_QTY\"],[\"INTERVAL_HR1100_ENERGY_QTY\"],[\"INTERVAL_HR1130_ENERGY_QTY\"],[\"INTERVAL_HR1200_ENERGY_QTY\"],[\"INTERVAL_HR1230_ENERGY_QTY\"],[\"INTERVAL_HR1300_ENERGY_QTY\"],[\"INTERVAL_HR1330_ENERGY_QTY\"],[\"INTERVAL_HR1400_ENERGY_QTY\"],[\"INTERVAL_HR1430_ENERGY_QTY\"],[\"INTERVAL_HR1500_ENERGY_QTY\"],[\"INTERVAL_HR1530_ENERGY_QTY\"],[\"INTERVAL_HR1600_ENERGY_QTY\"],[\"INTERVAL_HR1630_ENERGY_QTY\"],[\"INTERVAL_HR1700_ENERGY_QTY\"],[\"INTERVAL_HR1730_ENERGY_QTY\"],[\"INTERVAL_HR1800_ENERGY_QTY\"],[\"INTERVAL_HR1830_ENERGY_QTY\"],[\"INTERVAL_HR1900_ENERGY_QTY\"],[\"INTERVAL_HR1930_ENERGY_QTY\"],[\"INTERVAL_HR2000_ENERGY_QTY\"],[\"INTERVAL_HR2030_ENERGY_QTY\"],[\"INTERVAL_HR2100_ENERGY_QTY\"],[\"INTERVAL_HR2130_ENERGY_QTY\"],[\"INTERVAL_HR2200_ENERGY_QTY\"],[\"INTERVAL_HR2230_ENERGY_QTY\"],[\"INTERVAL_HR2300_ENERGY_QTY\"],[\"INTERVAL_HR2330_ENERGY_QTY\"],[\"INTERVAL_HR0000_ENERGY_QTY\"],[\"INTERVAL_HR0030_ENERGY_QTY\"],[\"INTERVAL_HR0100_ENERGY_QTY\"],[\"INTERVAL_HR0130_ENERGY_QTY\"],[\"INTERVAL_HR0200_ENERGY_QTY\"],[\"INTERVAL_HR0230_ENERGY_QTY\"],[\"INTERVAL_HR0300_ENERGY_QTY\"],[\"INTERVAL_HR0330_ENERGY_QTY\"],[\"INTERVAL_HR0400_ENERGY_QTY\"],[\"INTERVAL_HR0430_ENERGY_QTY\"],[\"INTERVAL_HR0500_ENERGY_QTY\"],[\"INTERVAL_HR0530_ENERGY_QTY\"],[\"INTERVAL_HR0600_ENERGY_QTY\"],[\"INTERVAL_HR0630_ENERGY_QTY\"],[\"INTERVAL_HR0700_ENERGY_QTY\"],[\"INTERVAL_HR0730_ENERGY_QTY\"],[\"INTERVAL_HR0800_ENERGY_QTY\"],[\"INTERVAL_HR0830_ENERGY_QTY\"],[\"INTERVAL_HR0900_ENERGY_QTY\"],[\"INTERVAL_HR0930_ENERGY_QTY\"],[\"INTERVAL_HR1000_ENERGY_QTY\"],[\"INTERVAL_HR1030_ENERGY_QTY\"],[\"INTERVAL_HR1100_ENERGY_QTY\"],[\"INTERVAL_HR1130_ENERGY_QTY\"],[\"INTERVAL_HR1200_ENERGY_QTY\"],[\"INTERVAL_HR1230_ENERGY_QTY\"],[\"INTERVAL_HR1300_ENERGY_QTY\"],[\"INTERVAL_HR1330_ENERGY_QTY\"],[\"INTERVAL_HR1400_ENERGY_QTY\"],[\"INTERVAL_HR1430_ENERGY_QTY\"],[\"INTERVAL_HR1500_ENERGY_QTY\"],[\"INTERVAL_HR1530_ENERGY_QTY\"],[\"INTERVAL_HR1600_ENERGY_QTY\"],[\"INTERVAL_HR1630_ENERGY_QTY\"],[\"INTERVAL_HR1700_ENERGY_QTY\"],[\"INTERVAL_HR1730_ENERGY_QTY\"],[\"INTERVAL_HR1800_ENERGY_QTY\"],[\"INTERVAL_HR1830_ENERGY_QTY\"],[\"INTERVAL_HR1900_ENERGY_QTY\"],[\"INTERVAL_HR1930_ENERGY_QTY\"],[\"INTERVAL_HR2000_ENERGY_QTY\"],[\"INTERVAL_HR2030_ENERGY_QTY\"],[\"INTERVAL_HR2100_ENERGY_QTY\"],[\"INTERVAL_HR2130_ENERGY_QTY\"],[\"INTERVAL_HR2200_ENERGY_QTY\"],[\"INTERVAL_HR2230_ENERGY_QTY\"],[\"INTERVAL_HR2300_ENERGY_QTY\"],[\"INTERVAL_HR2330_ENERGY_QTY\"],[\"INTERVAL_HR0000_ENERGY_QTY\"],[\"INTERVAL_HR0030_ENERGY_QTY\"],[\"INTERVAL_HR0100_ENERGY_QTY\"],[\"INTERVAL_HR0130_ENERGY_QTY\"],[\"INTERVAL_HR0200_ENERGY_QTY\"],[\"INTERVAL_HR0230_ENERGY_QTY\"],[\"INTERVAL_HR0300_ENERGY_QTY\"],[\"INTERVAL_HR0330_ENERGY_QTY\"],[\"INTERVAL_HR0400_ENERGY_QTY\"],[\"INTERVAL_HR0430_ENERGY_QTY\"],[\"INTERVAL_HR0500_ENERGY_QTY\"],[\"INTERVAL_HR0530_ENERGY_QTY\"],[\"INTERVAL_HR0600_ENERGY_QTY\"],[\"INTERVAL_HR0630_ENERGY_QTY\"],[\"INTERVAL_HR0700_ENERGY_QTY\"],[\"INTERVAL_HR0730_ENERGY_QTY\"],[\"INTERVAL_HR0800_ENERGY_QTY\"],[\"INTERVAL_HR0830_ENERGY_QTY\"],[\"INTERVAL_HR0900_ENERGY_QTY\"],[\"INTERVAL_HR0930_ENERGY_QTY\"],[\"INTERVAL_HR1000_ENERGY_QTY\"],[\"INTERVAL_HR1030_ENERGY_QTY\"],[\"INTERVAL_HR1100_ENERGY_QTY\"],[\"INTERVAL_HR1130_ENERGY_QTY\"],[\"INTERVAL_HR1200_ENERGY_QTY\"],[\"INTERVAL_HR1230_ENERGY_QTY\"],[\"INTERVAL_HR1300_ENERGY_QTY\"],[\"INTERVAL_HR1330_ENERGY_QTY\"],[\"INTERVAL_HR1400_ENERGY_QTY\"],[\"INTERVAL_HR1430_ENERGY_QTY\"],[\"INTERVAL_HR1500_ENERGY_QTY\"],[\"INTERVAL_HR1530_ENERGY_QTY\"],[\"INTERVAL_HR1600_ENERGY_QTY\"],[\"INTERVAL_HR1630_ENERGY_QTY\"],[\"INTERVAL_HR1700_ENERGY_QTY\"],[\"INTERVAL_HR1730_ENERGY_QTY\"],[\"INTERVAL_HR1800_ENERGY_QTY\"],[\"INTERVAL_HR1830_ENERGY_QTY\"],[\"INTERVAL_HR1900_ENERGY_QTY\"],[\"INTERVAL_HR1930_ENERGY_QTY\"],[\"INTERVAL_HR2000_ENERGY_QTY\"],[\"INTERVAL_HR2030_ENERGY_QTY\"],[\"INTERVAL_HR2100_ENERGY_QTY\"],[\"INTERVAL_HR2130_ENERGY_QTY\"],[\"INTERVAL_HR2200_ENERGY_QTY\"],[\"INTERVAL_HR2230_ENERGY_QTY\"],[\"INTERVAL_HR2300_ENERGY_QTY\"],[\"INTERVAL_HR2330_ENERGY_QTY\"],[\"INTERVAL_HR0000_ENERGY_QTY\"],[\"INTERVAL_HR0030_ENERGY_QTY\"],[\"INTERVAL_HR0100_ENERGY_QTY\"],[\"INTERVAL_HR0130_ENERGY_QTY\"],[\"INTERVAL_HR0200_ENERGY_QTY\"],[\"INTERVAL_HR0230_ENERGY_QTY\"],[\"INTERVAL_HR0300_ENERGY_QTY\"],[\"INTERVAL_HR0330_ENERGY_QTY\"],[\"INTERVAL_HR0400_ENERGY_QTY\"],[\"INTERVAL_HR0430_ENERGY_QTY\"],[\"INTERVAL_HR0500_ENERGY_QTY\"],[\"INTERVAL_HR0530_ENERGY_QTY\"],[\"INTERVAL_HR0600_ENERGY_QTY\"],[\"INTERVAL_HR0630_ENERGY_QTY\"],[\"INTERVAL_HR0700_ENERGY_QTY\"],[\"INTERVAL_HR0730_ENERGY_QTY\"],[\"INTERVAL_HR0800_ENERGY_QTY\"],[\"INTERVAL_HR0830_ENERGY_QTY\"],[\"INTERVAL_HR0900_ENERGY_QTY\"],[\"INTERVAL_HR0930_ENERGY_QTY\"],[\"INTERVAL_HR1000_ENERGY_QTY\"],[\"INTERVAL_HR1030_ENERGY_QTY\"],[\"INTERVAL_HR1100_ENERGY_QTY\"],[\"INTERVAL_HR1130_ENERGY_QTY\"],[\"INTERVAL_HR1200_ENERGY_QTY\"],[\"INTERVAL_HR1230_ENERGY_QTY\"],[\"INTERVAL_HR1300_ENERGY_QTY\"],[\"INTERVAL_HR1330_ENERGY_QTY\"],[\"INTERVAL_HR1400_ENERGY_QTY\"],[\"INTERVAL_HR1430_ENERGY_QTY\"],[\"INTERVAL_HR1500_ENERGY_QTY\"],[\"INTERVAL_HR1530_ENERGY_QTY\"],[\"INTERVAL_HR1600_ENERGY_QTY\"],[\"INTERVAL_HR1630_ENERGY_QTY\"],[\"INTERVAL_HR1700_ENERGY_QTY\"],[\"INTERVAL_HR1730_ENERGY_QTY\"],[\"INTERVAL_HR1800_ENERGY_QTY\"],[\"INTERVAL_HR1830_ENERGY_QTY\"],[\"INTERVAL_HR1900_ENERGY_QTY\"],[\"INTERVAL_HR1930_ENERGY_QTY\"],[\"INTERVAL_HR2000_ENERGY_QTY\"],[\"INTERVAL_HR2030_ENERGY_QTY\"],[\"INTERVAL_HR2100_ENERGY_QTY\"],[\"INTERVAL_HR2130_ENERGY_QTY\"],[\"INTERVAL_HR2200_ENERGY_QTY\"],[\"INTERVAL_HR2230_ENERGY_QTY\"],[\"INTERVAL_HR2300_ENERGY_QTY\"],[\"INTERVAL_HR2330_ENERGY_QTY\"]],\"hovertemplate\":\"x=%{x}\\u003cbr\\u003eenergy=%{y}\\u003cbr\\u003eTime=%{customdata[0]}\\u003cextra\\u003e\\u003c\\u002fextra\\u003e\",\"legendgroup\":\"\",\"line\":{\"color\":\"#636efa\",\"dash\":\"solid\"},\"marker\":{\"symbol\":\"circle\"},\"mode\":\"markers+lines\",\"name\":\"\",\"orientation\":\"v\",\"showlegend\":false,\"x\":[0,1,2,3,4,5,6,7,8,9,10,11,12,13,14,15,16,17,18,19,20,21,22,23,24,25,26,27,28,29,30,31,32,33,34,35,36,37,38,39,40,41,42,43,44,45,46,47,48,49,50,51,52,53,54,55,56,57,58,59,60,61,62,63,64,65,66,67,68,69,70,71,72,73,74,75,76,77,78,79,80,81,82,83,84,85,86,87,88,89,90,91,92,93,94,95,96,97,98,99,100,101,102,103,104,105,106,107,108,109,110,111,112,113,114,115,116,117,118,119,120,121,122,123,124,125,126,127,128,129,130,131,132,133,134,135,136,137,138,139,140,141,142,143,144,145,146,147,148,149,150,151,152,153,154,155,156,157,158,159,160,161,162,163,164,165,166,167,168,169,170,171,172,173,174,175,176,177,178,179,180,181,182,183,184,185,186,187,188,189,190,191,192,193,194,195,196,197,198,199,200,201,202,203,204,205,206,207,208,209,210,211,212,213,214,215,216,217,218,219,220,221,222,223,224,225,226,227,228,229,230,231,232,233,234,235,236,237,238,239,240,241,242,243,244,245,246,247,248,249,250,251,252,253,254,255,256,257,258,259,260,261,262,263,264,265,266,267,268,269,270,271,272,273,274,275,276,277,278,279,280,281,282,283,284,285,286,287,288,289,290,291,292,293,294,295,296,297,298,299,300,301,302,303,304,305,306,307,308,309,310,311,312,313,314,315,316,317,318,319,320,321,322,323,324,325,326,327,328,329,330,331,332,333,334,335],\"xaxis\":\"x\",\"y\":[2564850.589073,2393039.964208,2357741.800103,2331957.013737,2314151.394331,2307512.715501,2304422.871696,2319188.869297,2340315.694895,2394440.347575,2457359.574388,2586952.360824,2725035.318366,2930434.022034,3089541.179594,3184218.180661,3196882.545154,3196263.913738,3172556.892131,3164044.948943,3145928.965337,3140500.967955,3125771.356565,3113614.930613,3102294.053808,3082083.867193,3079646.948996,3076573.256409,3062692.738789,3045927.215866,3034363.927664,3036202.402613,3056528.042112,3117335.297551,3194596.86745,3315872.933288,3397302.772387,3381619.724196,3366312.279035,3336792.265672,3313554.783557,3262752.30269,3208755.870989,3114195.945669,3006299.397562,2873189.379133,2757340.989133,2647685.273264,2764409.755621,2496969.909631,2451951.986531,2415813.64967,2387952.66657,2373416.73182,2369656.089116,2382164.643642,2398246.354232,2453079.886412,2515937.555447,2642520.532415,2779573.937818,2987372.146275,3141216.274374,3254484.081114,3285116.802718,3314539.757234,3332284.208046,3358265.996004,3381425.306512,3401817.489293,3404679.2746,3396327.101346,3389092.224451,3375903.358576,3357662.364471,3344100.474201,3350207.050506,3350851.604083,3350717.089886,3366471.274669,3405663.133271,3465033.842505,3533179.916507,3626758.481483,3674734.176984,3642578.314704,3620141.526705,3585432.677127,3558281.333127,3499599.533743,3435641.652923,3339270.211558,3236530.462551,3095214.30282,2963678.453617,2847285.422454,2816812.196987,2691705.898473,2642119.696263,2605541.502222,2581319.549719,2568252.881617,2562746.470814,2570121.023425,2586276.433021,2632914.874232,2688432.445333,2813191.072964,2951859.620359,3154701.848945,3299261.027237,3402412.004296,3423628.339191,3443731.873911,3452250.538606,3454090.823913,3445983.873258,3445110.26815,3447226.627849,3460111.885574,3464390.235582,3459296.254453,3467403.586254,3479553.013535,3490504.529928,3492280.825012,3496874.498612,3506198.853445,3520808.226044,3565418.605124,3623626.442127,3707918.366076,3749283.610078,3717964.242579,3697399.555984,3654567.237289,3614750.582625,3556690.337949,3492973.208561,3398595.219094,3287389.721092,3146748.507656,3022411.292562,2907244.916582,2807241.569818,2741840.826916,2693569.10292,2654583.239917,2624469.631113,2609461.94094,2598738.744846,2598822.705507,2618804.464216,2687782.153508,2746034.43694,2861086.446428,2982533.583467,3182076.160151,3323038.521226,3408065.954841,3428351.270447,3453094.400651,3470119.569555,3487236.12606,3488495.726067,3501370.642951,3509938.735145,3515795.505039,3494366.106944,3467067.887523,3463380.877927,3467817.31968,3466464.806682,3451126.200164,3436048.665667,3443262.134882,3460307.991371,3498872.169694,3544455.194799,3627147.547207,3700764.144708,3669879.446832,3643742.960743,3609081.844419,3576294.61059,3524637.716036,3465599.311942,3365902.506232,3262880.223836,3124458.248062,2998399.759049,2890314.124915,2749682.345655,2732264.742532,2681245.539342,2647997.443932,2625834.742232,2613733.402791,2612105.305898,2619733.07768,2635313.109185,2688413.815954,2753870.526973,2871859.600945,2990295.22315,3195007.329014,3340022.191308,3418326.84851,3433491.840414,3449099.06149,3429853.739394,3409417.246402,3381315.302806,3358868.563975,3334560.099079,3310638.830087,3285488.692291,3257614.987188,3243403.647238,3233031.405077,3217077.345068,3195399.401827,3181122.811926,3192431.369076,3212043.930374,3256310.456416,3321843.230314,3414886.367682,3492372.05568,3456459.592284,3431343.117517,3393278.209123,3366978.792836,3323628.528354,3279506.397857,3212108.25873,3135843.982533,3032011.012294,2929804.41159,2827930.826041,2753260.098334,2675682.848196,2623306.015504,2581820.448822,2548769.878721,2521967.512046,2508754.888352,2501057.963109,2499829.382024,2516402.285437,2536799.695469,2589881.689292,2641371.642871,2736483.928508,2807850.384991,2888390.368398,2943963.089513,3014042.765103,3042978.34711,3067692.290557,3055055.444965,3044799.378879,3028114.76545,3007476.970484,2988458.429836,2969012.002547,2967924.526839,2949176.101134,2947835.592743,2942952.862683,2948606.016189,2967130.207245,2999511.754649,3040939.015972,3101120.741302,3185344.656986,3246431.925065,3248805.717919,3236601.828908,3215252.440644,3194523.96946,3168661.632146,3136305.685847,3085720.480809,3031986.930101,2955677.060834,2885469.524819,2814535.844644,2616494.445834,2691443.042658,2651171.898159,2619452.908154,2591296.888154,2571503.540705,2561637.852208,2552798.986412,2550594.823412,2554037.147219,2562884.410218,2597639.899429,2628040.463025,2680190.686073,2729275.348168,2780358.381378,2828856.787278,2895374.283895,2945349.947203,2987969.741957,3034679.554766,3072633.144624,3093097.65991,3102835.954625,3109188.545922,3131879.005281,3140506.151381,3147542.807077,3141219.703087,3135087.916045,3136046.061347,3146124.838628,3169234.853235,3212806.514064,3271641.736551,3335350.037255,3377443.140872,3366185.731846,3336825.976449,3297029.963136,3254863.983445,3204168.798257,3147735.657331,3072800.807882,2982984.562286,2875001.155527,2779133.569833,2685275.656946],\"yaxis\":\"y\",\"type\":\"scatter\"}],                        {\"template\":{\"data\":{\"histogram2dcontour\":[{\"type\":\"histogram2dcontour\",\"colorbar\":{\"outlinewidth\":0,\"ticks\":\"\"},\"colorscale\":[[0.0,\"#0d0887\"],[0.1111111111111111,\"#46039f\"],[0.2222222222222222,\"#7201a8\"],[0.3333333333333333,\"#9c179e\"],[0.4444444444444444,\"#bd3786\"],[0.5555555555555556,\"#d8576b\"],[0.6666666666666666,\"#ed7953\"],[0.7777777777777778,\"#fb9f3a\"],[0.8888888888888888,\"#fdca26\"],[1.0,\"#f0f921\"]]}],\"choropleth\":[{\"type\":\"choropleth\",\"colorbar\":{\"outlinewidth\":0,\"ticks\":\"\"}}],\"histogram2d\":[{\"type\":\"histogram2d\",\"colorbar\":{\"outlinewidth\":0,\"ticks\":\"\"},\"colorscale\":[[0.0,\"#0d0887\"],[0.1111111111111111,\"#46039f\"],[0.2222222222222222,\"#7201a8\"],[0.3333333333333333,\"#9c179e\"],[0.4444444444444444,\"#bd3786\"],[0.5555555555555556,\"#d8576b\"],[0.6666666666666666,\"#ed7953\"],[0.7777777777777778,\"#fb9f3a\"],[0.8888888888888888,\"#fdca26\"],[1.0,\"#f0f921\"]]}],\"heatmap\":[{\"type\":\"heatmap\",\"colorbar\":{\"outlinewidth\":0,\"ticks\":\"\"},\"colorscale\":[[0.0,\"#0d0887\"],[0.1111111111111111,\"#46039f\"],[0.2222222222222222,\"#7201a8\"],[0.3333333333333333,\"#9c179e\"],[0.4444444444444444,\"#bd3786\"],[0.5555555555555556,\"#d8576b\"],[0.6666666666666666,\"#ed7953\"],[0.7777777777777778,\"#fb9f3a\"],[0.8888888888888888,\"#fdca26\"],[1.0,\"#f0f921\"]]}],\"heatmapgl\":[{\"type\":\"heatmapgl\",\"colorbar\":{\"outlinewidth\":0,\"ticks\":\"\"},\"colorscale\":[[0.0,\"#0d0887\"],[0.1111111111111111,\"#46039f\"],[0.2222222222222222,\"#7201a8\"],[0.3333333333333333,\"#9c179e\"],[0.4444444444444444,\"#bd3786\"],[0.5555555555555556,\"#d8576b\"],[0.6666666666666666,\"#ed7953\"],[0.7777777777777778,\"#fb9f3a\"],[0.8888888888888888,\"#fdca26\"],[1.0,\"#f0f921\"]]}],\"contourcarpet\":[{\"type\":\"contourcarpet\",\"colorbar\":{\"outlinewidth\":0,\"ticks\":\"\"}}],\"contour\":[{\"type\":\"contour\",\"colorbar\":{\"outlinewidth\":0,\"ticks\":\"\"},\"colorscale\":[[0.0,\"#0d0887\"],[0.1111111111111111,\"#46039f\"],[0.2222222222222222,\"#7201a8\"],[0.3333333333333333,\"#9c179e\"],[0.4444444444444444,\"#bd3786\"],[0.5555555555555556,\"#d8576b\"],[0.6666666666666666,\"#ed7953\"],[0.7777777777777778,\"#fb9f3a\"],[0.8888888888888888,\"#fdca26\"],[1.0,\"#f0f921\"]]}],\"surface\":[{\"type\":\"surface\",\"colorbar\":{\"outlinewidth\":0,\"ticks\":\"\"},\"colorscale\":[[0.0,\"#0d0887\"],[0.1111111111111111,\"#46039f\"],[0.2222222222222222,\"#7201a8\"],[0.3333333333333333,\"#9c179e\"],[0.4444444444444444,\"#bd3786\"],[0.5555555555555556,\"#d8576b\"],[0.6666666666666666,\"#ed7953\"],[0.7777777777777778,\"#fb9f3a\"],[0.8888888888888888,\"#fdca26\"],[1.0,\"#f0f921\"]]}],\"mesh3d\":[{\"type\":\"mesh3d\",\"colorbar\":{\"outlinewidth\":0,\"ticks\":\"\"}}],\"scatter\":[{\"fillpattern\":{\"fillmode\":\"overlay\",\"size\":10,\"solidity\":0.2},\"type\":\"scatter\"}],\"parcoords\":[{\"type\":\"parcoords\",\"line\":{\"colorbar\":{\"outlinewidth\":0,\"ticks\":\"\"}}}],\"scatterpolargl\":[{\"type\":\"scatterpolargl\",\"marker\":{\"colorbar\":{\"outlinewidth\":0,\"ticks\":\"\"}}}],\"bar\":[{\"error_x\":{\"color\":\"#2a3f5f\"},\"error_y\":{\"color\":\"#2a3f5f\"},\"marker\":{\"line\":{\"color\":\"#E5ECF6\",\"width\":0.5},\"pattern\":{\"fillmode\":\"overlay\",\"size\":10,\"solidity\":0.2}},\"type\":\"bar\"}],\"scattergeo\":[{\"type\":\"scattergeo\",\"marker\":{\"colorbar\":{\"outlinewidth\":0,\"ticks\":\"\"}}}],\"scatterpolar\":[{\"type\":\"scatterpolar\",\"marker\":{\"colorbar\":{\"outlinewidth\":0,\"ticks\":\"\"}}}],\"histogram\":[{\"marker\":{\"pattern\":{\"fillmode\":\"overlay\",\"size\":10,\"solidity\":0.2}},\"type\":\"histogram\"}],\"scattergl\":[{\"type\":\"scattergl\",\"marker\":{\"colorbar\":{\"outlinewidth\":0,\"ticks\":\"\"}}}],\"scatter3d\":[{\"type\":\"scatter3d\",\"line\":{\"colorbar\":{\"outlinewidth\":0,\"ticks\":\"\"}},\"marker\":{\"colorbar\":{\"outlinewidth\":0,\"ticks\":\"\"}}}],\"scattermapbox\":[{\"type\":\"scattermapbox\",\"marker\":{\"colorbar\":{\"outlinewidth\":0,\"ticks\":\"\"}}}],\"scatterternary\":[{\"type\":\"scatterternary\",\"marker\":{\"colorbar\":{\"outlinewidth\":0,\"ticks\":\"\"}}}],\"scattercarpet\":[{\"type\":\"scattercarpet\",\"marker\":{\"colorbar\":{\"outlinewidth\":0,\"ticks\":\"\"}}}],\"carpet\":[{\"aaxis\":{\"endlinecolor\":\"#2a3f5f\",\"gridcolor\":\"white\",\"linecolor\":\"white\",\"minorgridcolor\":\"white\",\"startlinecolor\":\"#2a3f5f\"},\"baxis\":{\"endlinecolor\":\"#2a3f5f\",\"gridcolor\":\"white\",\"linecolor\":\"white\",\"minorgridcolor\":\"white\",\"startlinecolor\":\"#2a3f5f\"},\"type\":\"carpet\"}],\"table\":[{\"cells\":{\"fill\":{\"color\":\"#EBF0F8\"},\"line\":{\"color\":\"white\"}},\"header\":{\"fill\":{\"color\":\"#C8D4E3\"},\"line\":{\"color\":\"white\"}},\"type\":\"table\"}],\"barpolar\":[{\"marker\":{\"line\":{\"color\":\"#E5ECF6\",\"width\":0.5},\"pattern\":{\"fillmode\":\"overlay\",\"size\":10,\"solidity\":0.2}},\"type\":\"barpolar\"}],\"pie\":[{\"automargin\":true,\"type\":\"pie\"}]},\"layout\":{\"autotypenumbers\":\"strict\",\"colorway\":[\"#636efa\",\"#EF553B\",\"#00cc96\",\"#ab63fa\",\"#FFA15A\",\"#19d3f3\",\"#FF6692\",\"#B6E880\",\"#FF97FF\",\"#FECB52\"],\"font\":{\"color\":\"#2a3f5f\"},\"hovermode\":\"closest\",\"hoverlabel\":{\"align\":\"left\"},\"paper_bgcolor\":\"white\",\"plot_bgcolor\":\"#E5ECF6\",\"polar\":{\"bgcolor\":\"#E5ECF6\",\"angularaxis\":{\"gridcolor\":\"white\",\"linecolor\":\"white\",\"ticks\":\"\"},\"radialaxis\":{\"gridcolor\":\"white\",\"linecolor\":\"white\",\"ticks\":\"\"}},\"ternary\":{\"bgcolor\":\"#E5ECF6\",\"aaxis\":{\"gridcolor\":\"white\",\"linecolor\":\"white\",\"ticks\":\"\"},\"baxis\":{\"gridcolor\":\"white\",\"linecolor\":\"white\",\"ticks\":\"\"},\"caxis\":{\"gridcolor\":\"white\",\"linecolor\":\"white\",\"ticks\":\"\"}},\"coloraxis\":{\"colorbar\":{\"outlinewidth\":0,\"ticks\":\"\"}},\"colorscale\":{\"sequential\":[[0.0,\"#0d0887\"],[0.1111111111111111,\"#46039f\"],[0.2222222222222222,\"#7201a8\"],[0.3333333333333333,\"#9c179e\"],[0.4444444444444444,\"#bd3786\"],[0.5555555555555556,\"#d8576b\"],[0.6666666666666666,\"#ed7953\"],[0.7777777777777778,\"#fb9f3a\"],[0.8888888888888888,\"#fdca26\"],[1.0,\"#f0f921\"]],\"sequentialminus\":[[0.0,\"#0d0887\"],[0.1111111111111111,\"#46039f\"],[0.2222222222222222,\"#7201a8\"],[0.3333333333333333,\"#9c179e\"],[0.4444444444444444,\"#bd3786\"],[0.5555555555555556,\"#d8576b\"],[0.6666666666666666,\"#ed7953\"],[0.7777777777777778,\"#fb9f3a\"],[0.8888888888888888,\"#fdca26\"],[1.0,\"#f0f921\"]],\"diverging\":[[0,\"#8e0152\"],[0.1,\"#c51b7d\"],[0.2,\"#de77ae\"],[0.3,\"#f1b6da\"],[0.4,\"#fde0ef\"],[0.5,\"#f7f7f7\"],[0.6,\"#e6f5d0\"],[0.7,\"#b8e186\"],[0.8,\"#7fbc41\"],[0.9,\"#4d9221\"],[1,\"#276419\"]]},\"xaxis\":{\"gridcolor\":\"white\",\"linecolor\":\"white\",\"ticks\":\"\",\"title\":{\"standoff\":15},\"zerolinecolor\":\"white\",\"automargin\":true,\"zerolinewidth\":2},\"yaxis\":{\"gridcolor\":\"white\",\"linecolor\":\"white\",\"ticks\":\"\",\"title\":{\"standoff\":15},\"zerolinecolor\":\"white\",\"automargin\":true,\"zerolinewidth\":2},\"scene\":{\"xaxis\":{\"backgroundcolor\":\"#E5ECF6\",\"gridcolor\":\"white\",\"linecolor\":\"white\",\"showbackground\":true,\"ticks\":\"\",\"zerolinecolor\":\"white\",\"gridwidth\":2},\"yaxis\":{\"backgroundcolor\":\"#E5ECF6\",\"gridcolor\":\"white\",\"linecolor\":\"white\",\"showbackground\":true,\"ticks\":\"\",\"zerolinecolor\":\"white\",\"gridwidth\":2},\"zaxis\":{\"backgroundcolor\":\"#E5ECF6\",\"gridcolor\":\"white\",\"linecolor\":\"white\",\"showbackground\":true,\"ticks\":\"\",\"zerolinecolor\":\"white\",\"gridwidth\":2}},\"shapedefaults\":{\"line\":{\"color\":\"#2a3f5f\"}},\"annotationdefaults\":{\"arrowcolor\":\"#2a3f5f\",\"arrowhead\":0,\"arrowwidth\":1},\"geo\":{\"bgcolor\":\"white\",\"landcolor\":\"#E5ECF6\",\"subunitcolor\":\"white\",\"showland\":true,\"showlakes\":true,\"lakecolor\":\"white\"},\"title\":{\"x\":0.05},\"mapbox\":{\"style\":\"light\"}}},\"xaxis\":{\"anchor\":\"y\",\"domain\":[0.0,1.0],\"title\":{\"text\":\"x\"}},\"yaxis\":{\"anchor\":\"x\",\"domain\":[0.0,1.0],\"title\":{\"text\":\"energy\"}},\"legend\":{\"tracegroupgap\":0},\"margin\":{\"t\":60}},                        {\"responsive\": true}                    ).then(function(){\n                            \nvar gd = document.getElementById('d6ccdfe2-6f77-427b-989f-1abd2390b106');\nvar x = new MutationObserver(function (mutations, observer) {{\n        var display = window.getComputedStyle(gd).display;\n        if (!display || display === 'none') {{\n            console.log([gd, 'removed!']);\n            Plotly.purge(gd);\n            observer.disconnect();\n        }}\n}});\n\n// Listen for the removal of the full notebook cells\nvar notebookContainer = gd.closest('#notebook-container');\nif (notebookContainer) {{\n    x.observe(notebookContainer, {childList: true});\n}}\n\n// Listen for the clearing of the current output cell\nvar outputEl = gd.closest('.output');\nif (outputEl) {{\n    x.observe(outputEl, {childList: true});\n}}\n\n                        })                };                });            </script>        </div>"
     },
     "metadata": {},
     "output_type": "display_data"
    }
   ],
   "source": [
    "fig = px.line(df_agg.reset_index(), x=df_agg.index, y='energy', markers=True, hover_data='Time')\n",
    "fig.show()"
   ],
   "metadata": {
    "collapsed": false,
    "ExecuteTime": {
     "start_time": "2023-11-17T23:43:54.759484Z"
    }
   },
   "id": "96fc5c73ef756e67"
  },
  {
   "cell_type": "code",
   "execution_count": 17,
   "outputs": [
    {
     "name": "stderr",
     "output_type": "stream",
     "text": [
      "/var/folders/dk/gqlhh1p50lq41knjj1bn1blc0000gn/T/ipykernel_48969/2287843072.py:1: DeprecationWarning: Starting with ImageIO v3 the behavior of this function will switch to that of iio.v3.imread. To keep the current behavior (and make this warning disappear) use `import imageio.v2 as imageio` or call `imageio.v2.imread` directly.\n",
      "  image = imageio.imread(\"../outputs/datashader/images_overlay/02-09-2020_2100.png\")[:,:,:3]\n",
      "/var/folders/dk/gqlhh1p50lq41knjj1bn1blc0000gn/T/ipykernel_48969/2287843072.py:2: UserWarning: threshold_otsu is expected to work correctly only for grayscale images; image shape (1000, 1200, 3) looks like that of an RGB image.\n",
      "  threshold_value = filters.threshold_otsu(image)\n"
     ]
    },
    {
     "ename": "AttributeError",
     "evalue": "'numpy.ndarray' object has no attribute 'save'",
     "output_type": "error",
     "traceback": [
      "\u001B[0;31m---------------------------------------------------------------------------\u001B[0m",
      "\u001B[0;31mAttributeError\u001B[0m                            Traceback (most recent call last)",
      "Cell \u001B[0;32mIn[17], line 8\u001B[0m\n\u001B[1;32m      6\u001B[0m weighted_center_of_mass \u001B[38;5;241m=\u001B[39m properties[\u001B[38;5;241m0\u001B[39m]\u001B[38;5;241m.\u001B[39mweighted_centroid\n\u001B[1;32m      7\u001B[0m colorized \u001B[38;5;241m=\u001B[39m label2rgb(labeled_foreground, image, colors\u001B[38;5;241m=\u001B[39m[\u001B[38;5;124m'\u001B[39m\u001B[38;5;124mblack\u001B[39m\u001B[38;5;124m'\u001B[39m, \u001B[38;5;124m'\u001B[39m\u001B[38;5;124mred\u001B[39m\u001B[38;5;124m'\u001B[39m], alpha\u001B[38;5;241m=\u001B[39m\u001B[38;5;241m0.1\u001B[39m)\n\u001B[0;32m----> 8\u001B[0m \u001B[43mcolorized\u001B[49m\u001B[38;5;241;43m.\u001B[39;49m\u001B[43msave\u001B[49m(\u001B[38;5;124mf\u001B[39m\u001B[38;5;124m\"\u001B[39m\u001B[38;5;124m../outputs/datashader/test\u001B[39m\u001B[38;5;124m\"\u001B[39m,\u001B[38;5;124m\"\u001B[39m\u001B[38;5;124mPNG\u001B[39m\u001B[38;5;124m\"\u001B[39m)\n",
      "\u001B[0;31mAttributeError\u001B[0m: 'numpy.ndarray' object has no attribute 'save'"
     ]
    }
   ],
   "source": [
    "image = imageio.imread(\"../outputs/datashader/images_overlay/02-09-2020_2100.png\")[:,:,:3]\n",
    "threshold_value = filters.threshold_otsu(image)\n",
    "labeled_foreground = (image > threshold_value).astype(int)\n",
    "properties = regionprops(labeled_foreground, image)\n",
    "center_of_mass = properties[0].centroid\n",
    "weighted_center_of_mass = properties[0].weighted_centroid\n",
    "colorized = label2rgb(labeled_foreground, image, colors=['black', 'red'], alpha=0.1)\n",
    "colorized.save(f\"../outputs/datashader/test\",\"jpeg\")"
   ],
   "metadata": {
    "collapsed": false,
    "ExecuteTime": {
     "end_time": "2023-11-17T05:20:53.027988Z",
     "start_time": "2023-11-17T05:20:52.729580Z"
    }
   },
   "id": "57cb7246689d664c"
  },
  {
   "cell_type": "code",
   "execution_count": null,
   "outputs": [],
   "source": [
    "new_img"
   ],
   "metadata": {
    "collapsed": false
   },
   "id": "1eb08bee582560ae"
  },
  {
   "cell_type": "code",
   "execution_count": 49,
   "outputs": [],
   "source": [
    "images[0].save('../outputs/datashader/movies/Chicago_Jan_2020_week_CM.gif',\n",
    "               save_all=True,\n",
    "               format='GIF',\n",
    "               append_images=images[1:],\n",
    "               duration=120,disposal=2,\n",
    "               loop=1000)"
   ],
   "metadata": {
    "collapsed": false,
    "ExecuteTime": {
     "end_time": "2023-11-17T23:51:06.001428Z",
     "start_time": "2023-11-17T23:50:53.539811Z"
    }
   },
   "id": "6deedbbfb8477ebf"
  },
  {
   "cell_type": "code",
   "execution_count": null,
   "outputs": [],
   "source": [],
   "metadata": {
    "collapsed": false
   },
   "id": "3d618e4ce259db96"
  },
  {
   "cell_type": "code",
   "execution_count": null,
   "outputs": [],
   "source": [],
   "metadata": {
    "collapsed": false
   },
   "id": "f90ddad3ecfa0c3c"
  }
 ],
 "metadata": {
  "kernelspec": {
   "display_name": "Python 3",
   "language": "python",
   "name": "python3"
  },
  "language_info": {
   "codemirror_mode": {
    "name": "ipython",
    "version": 2
   },
   "file_extension": ".py",
   "mimetype": "text/x-python",
   "name": "python",
   "nbconvert_exporter": "python",
   "pygments_lexer": "ipython2",
   "version": "2.7.6"
  }
 },
 "nbformat": 4,
 "nbformat_minor": 5
}
