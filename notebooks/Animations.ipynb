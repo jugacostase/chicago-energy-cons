{
 "cells": [
  {
   "cell_type": "code",
   "execution_count": 1,
   "metadata": {
    "ExecuteTime": {
     "end_time": "2023-10-27T20:02:53.892639600Z",
     "start_time": "2023-10-27T20:02:52.343054600Z"
    }
   },
   "outputs": [],
   "source": [
    "import datetime\n",
    "\n",
    "import pandas as pd\n",
    "import geopandas as gpd\n",
    "\n",
    "import plotly.express as px\n",
    "\n",
    "px.set_mapbox_access_token(\"pk.eyJ1IjoiamdhY29zdGFzIiwiYSI6ImNsYWJwd3g1ZDAwaGUzb3Q0ZG04NDNndGgifQ.brk6kVA6biVSH0ovZ1dreA\")"
   ]
  },
  {
   "cell_type": "code",
   "execution_count": 3,
   "metadata": {
    "ExecuteTime": {
     "end_time": "2023-10-27T20:03:18.169561800Z",
     "start_time": "2023-10-27T20:03:07.590593700Z"
    }
   },
   "outputs": [],
   "source": [
    "df_data = pd.read_csv('../data/comed_month/comed_202001.csv')\n",
    "df_data['date_time'] = pd.to_datetime(df_data.date_time)\n",
    "df_data = df_data[df_data.service_name.str.contains('RESIDENTIAL')]\n",
    "df_data = df_data.groupby(['zip5', 'date_time']).energy.sum().reset_index()\n",
    "\n",
    "day = 31\n",
    "df_data = df_data[(df_data.date_time.dt.day==day)].copy()\n",
    "\n",
    "gdf_zc = gpd.read_file('../data/geo/Chicago_ZC.geojson')\n",
    "gdf_zc['GEOID20'] = gdf_zc['GEOID20'].astype(int)\n",
    "\n",
    "gdf_data = pd.merge(gdf_zc, df_data, left_on='GEOID20', right_on='zip5')\n"
   ]
  },
  {
   "cell_type": "code",
   "execution_count": 4,
   "metadata": {
    "ExecuteTime": {
     "end_time": "2023-10-27T20:03:20.691572Z",
     "start_time": "2023-10-27T20:03:20.630556100Z"
    }
   },
   "outputs": [],
   "source": [
    "hour = 19\n",
    "minute = 0\n",
    "\n",
    "#gdf_plot = gdf_data[(gdf_data.date_time.dt.hour==hour) & (gdf_data.date_time.dt.minute==minute)].copy().set_index('GEOID20')\n",
    "gdf_plot = gdf_data.copy().sort_values('date_time')#.set_index('GEOID20')\n",
    "#gdf_plot = gdf_data[(gdf_data.date_time.dt.hour>=12) & (gdf_data.date_time.dt.hour<=20)].copy().sort_values('date_time')\n",
    "\n",
    "gdf_plot['time'] = gdf_plot['date_time'].dt.time\n",
    "\n",
    "df_max_en = gdf_plot.groupby('zip5').energy.max().reset_index().rename(columns={'energy': 'max_energy'})\n",
    "\n",
    "gdf_plot = pd.merge(gdf_plot, df_max_en, on='zip5')\n",
    "\n",
    "gdf_plot['energy_norm'] = gdf_plot.energy / gdf_plot.max_energy"
   ]
  },
  {
   "cell_type": "code",
   "execution_count": 5,
   "metadata": {
    "ExecuteTime": {
     "end_time": "2023-10-27T20:07:09.604267200Z",
     "start_time": "2023-10-27T20:03:20.958679900Z"
    }
   },
   "outputs": [],
   "source": [
    "fig = px.choropleth_mapbox(gdf_plot,\n",
    "                   geojson=gdf_zc,\n",
    "                   featureidkey='properties.GEOID20',\n",
    "                   color=\"energy_norm\",\n",
    "                   locations='GEOID20',\n",
    "                   width=1000,\n",
    "                   height=700,\n",
    "                   center={'lat':41.6, 'lon':-88.99},\n",
    "                   zoom=6,\n",
    "                   range_color=(0, 1),\n",
    "                   mapbox_style='carto-positron',\n",
    "                   animation_frame='time',\n",
    "                   opacity=0.65,\n",
    "                   )\n",
    "fig.update_geos(fitbounds=\"locations\", visible=False)\n",
    "#fig.show()\n",
    "fig.write_html('20180131_animation.html')"
   ]
  },
  {
   "cell_type": "code",
   "execution_count": null,
   "metadata": {},
   "outputs": [],
   "source": [
    "gdf_places = gpd.read_file('data/census_places/tl_2019_17_place.shp')"
   ]
  },
  {
   "cell_type": "code",
   "execution_count": null,
   "metadata": {},
   "outputs": [],
   "source": [
    "gdf_zc.shape"
   ]
  },
  {
   "cell_type": "code",
   "execution_count": null,
   "metadata": {},
   "outputs": [],
   "source": [
    "gdf_places.head()"
   ]
  },
  {
   "cell_type": "code",
   "execution_count": null,
   "metadata": {},
   "outputs": [],
   "source": [
    "fig = px.choropleth_mapbox(gdf_places,\n",
    "                   geojson=gdf_places,\n",
    "                   featureidkey='properties.GEOID',\n",
    "                   #color=\"energy_norm\",\n",
    "                   locations='GEOID',\n",
    "                   width=1000,\n",
    "                   height=700,\n",
    "                   center={'lat':41.6, 'lon':-88.99},\n",
    "                   zoom=6,\n",
    "                   range_color=(0, 1),\n",
    "                   mapbox_style='carto-positron',\n",
    "                   opacity=0.65,\n",
    "                   )\n",
    "fig.update_geos(fitbounds=\"locations\", visible=False)\n",
    "#fig.show()"
   ]
  }
 ],
 "metadata": {
  "kernelspec": {
   "display_name": "Python 3",
   "language": "python",
   "name": "python3"
  },
  "language_info": {
   "codemirror_mode": {
    "name": "ipython",
    "version": 3
   },
   "file_extension": ".py",
   "mimetype": "text/x-python",
   "name": "python",
   "nbconvert_exporter": "python",
   "pygments_lexer": "ipython3",
   "version": "3.10.9"
  },
  "orig_nbformat": 4,
  "vscode": {
   "interpreter": {
    "hash": "ce44fec16a475fa863ad058858edc7cc1f739abe18a15028f7309c6483d88bee"
   }
  }
 },
 "nbformat": 4,
 "nbformat_minor": 2
}
