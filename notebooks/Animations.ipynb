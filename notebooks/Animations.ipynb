{
 "cells": [
  {
   "cell_type": "code",
   "execution_count": 1,
   "metadata": {
    "ExecuteTime": {
     "end_time": "2023-11-01T20:16:43.979847700Z",
     "start_time": "2023-11-01T20:16:41.443218500Z"
    }
   },
   "outputs": [],
   "source": [
    "import datetime\n",
    "\n",
    "import pandas as pd\n",
    "import geopandas as gpd\n",
    "\n",
    "import plotly.express as px\n",
    "\n",
    "px.set_mapbox_access_token(\"pk.eyJ1IjoiamdhY29zdGFzIiwiYSI6ImNsYWJwd3g1ZDAwaGUzb3Q0ZG04NDNndGgifQ.brk6kVA6biVSH0ovZ1dreA\")"
   ]
  },
  {
   "cell_type": "code",
   "execution_count": 2,
   "metadata": {
    "ExecuteTime": {
     "end_time": "2023-11-01T20:16:57.487781300Z",
     "start_time": "2023-11-01T20:16:43.983847600Z"
    }
   },
   "outputs": [],
   "source": [
    "df_data = pd.read_csv('../data/comed_month/comed_202002.csv')\n",
    "df_data['date_time'] = pd.to_datetime(df_data.date_time)\n",
    "df_data = df_data[df_data.service_name.str.contains('RESIDENTIAL')]\n",
    "df_data = df_data.groupby(['zip5', 'date_time']).energy.sum().reset_index()\n",
    "\n",
    "day = 19\n",
    "df_data = df_data[(df_data.date_time.dt.day==day)].copy()\n",
    "\n",
    "gdf_zc = gpd.read_file('../data/geo/Chicago_ZC.geojson')\n",
    "gdf_zc['GEOID20'] = gdf_zc['GEOID20'].astype(int)\n",
    "\n",
    "gdf_data = pd.merge(gdf_zc, df_data, left_on='GEOID20', right_on='zip5')\n"
   ]
  },
  {
   "cell_type": "code",
   "execution_count": null,
   "metadata": {},
   "outputs": [],
   "source": [
    "hour = 19\n",
    "minute = 0\n",
    "\n",
    "#gdf_plot = gdf_data[(gdf_data.date_time.dt.hour==hour) & (gdf_data.date_time.dt.minute==minute)].copy().set_index('GEOID20')\n",
    "gdf_plot = gdf_data.copy().sort_values('date_time')#.set_index('GEOID20')\n",
    "#gdf_plot = gdf_data[(gdf_data.date_time.dt.hour>=12) & (gdf_data.date_time.dt.hour<=20)].copy().sort_values('date_time')\n",
    "\n",
    "gdf_plot['time'] = gdf_plot['date_time'].dt.time\n",
    "\n",
    "df_max_en = gdf_plot.groupby('zip5').energy.max().reset_index().rename(columns={'energy': 'max_energy'})\n",
    "\n",
    "gdf_plot = pd.merge(gdf_plot, df_max_en, on='zip5')\n",
    "\n",
    "gdf_plot['energy_norm'] = gdf_plot.energy / gdf_plot.max_energy"
   ]
  },
  {
   "cell_type": "code",
   "execution_count": null,
   "metadata": {},
   "outputs": [],
   "source": [
    "fig = px.choropleth_mapbox(gdf_plot,\n",
    "                   geojson=gdf_zc,\n",
    "                   featureidkey='properties.GEOID20',\n",
    "                   color=\"energy_norm\",\n",
    "                   locations='GEOID20',\n",
    "                   width=1000,\n",
    "                   height=700,\n",
    "                   center={'lat':41.6, 'lon':-88.99},\n",
    "                   zoom=6,\n",
    "                   range_color=(0, 1),\n",
    "                   mapbox_style='carto-positron',\n",
    "                   animation_frame='time',\n",
    "                   opacity=0.65,\n",
    "                   )\n",
    "fig.update_geos(fitbounds=\"locations\", visible=False)\n",
    "#fig.show()\n",
    "fig.write_html('20180131_animation.html')"
   ]
  },
  {
   "cell_type": "code",
   "execution_count": null,
   "metadata": {},
   "outputs": [],
   "source": [
    "gdf_places = gpd.read_file('data/census_places/tl_2019_17_place.shp')"
   ]
  },
  {
   "cell_type": "code",
   "execution_count": 5,
   "outputs": [],
   "source": [
    "df_data = pd.read_csv('../data/comed_month/comed_202002.csv')\n",
    "df_data['date_time'] = pd.to_datetime(df_data.date_time)\n",
    "#df_data = df_data[df_data.service_name.str.contains('RESIDENTIAL')]\n",
    "#df_data = df_data.groupby(['zip5', 'date_time']).energy.sum().reset_index()\n",
    "\n",
    "day = 19\n",
    "hour = 19\n",
    "minute = 0\n",
    "df_data = df_data[(df_data.date_time.dt.day==day)].copy()"
   ],
   "metadata": {
    "collapsed": false,
    "ExecuteTime": {
     "end_time": "2023-11-01T20:17:10.717060700Z",
     "start_time": "2023-11-01T20:17:05.860280800Z"
    }
   }
  },
  {
   "cell_type": "code",
   "execution_count": 12,
   "outputs": [
    {
     "data": {
      "text/plain": "          zip5  n_acc                     service_name           date_time  \\\n126      60002    191                     COM KWH ONLY 2020-02-19 00:30:00   \n127      60002     36                  MED (100 - 400) 2020-02-19 00:30:00   \n128      60002    488                RESIDENTIAL MULTI 2020-02-19 00:30:00   \n129      60002    539   RESIDENTIAL MULTI (SPACE HEAT) 2020-02-19 00:30:00   \n130      60002   9249               RESIDENTIAL SINGLE 2020-02-19 00:30:00   \n...        ...    ...                              ...                 ...   \n3638529  61764    169  RESIDENTIAL SINGLE (SPACE HEAT) 2020-02-19 00:00:00   \n3638530  61764    569                  SMALL (0 - 100) 2020-02-19 00:00:00   \n3638655  61769    197               RESIDENTIAL SINGLE 2020-02-19 00:00:00   \n3638656  61769     33  RESIDENTIAL SINGLE (SPACE HEAT) 2020-02-19 00:00:00   \n3638657  61769     27                  SMALL (0 - 100) 2020-02-19 00:00:00   \n\n              energy  \n126        33.250300  \n127       813.934200  \n128       101.428400  \n129       370.519600  \n130      4045.723163  \n...              ...  \n3638529   299.798100  \n3638530  1021.961100  \n3638655   140.301900  \n3638656    63.942000  \n3638657    16.487600  \n\n[125472 rows x 5 columns]",
      "text/html": "<div>\n<style scoped>\n    .dataframe tbody tr th:only-of-type {\n        vertical-align: middle;\n    }\n\n    .dataframe tbody tr th {\n        vertical-align: top;\n    }\n\n    .dataframe thead th {\n        text-align: right;\n    }\n</style>\n<table border=\"1\" class=\"dataframe\">\n  <thead>\n    <tr style=\"text-align: right;\">\n      <th></th>\n      <th>zip5</th>\n      <th>n_acc</th>\n      <th>service_name</th>\n      <th>date_time</th>\n      <th>energy</th>\n    </tr>\n  </thead>\n  <tbody>\n    <tr>\n      <th>126</th>\n      <td>60002</td>\n      <td>191</td>\n      <td>COM KWH ONLY</td>\n      <td>2020-02-19 00:30:00</td>\n      <td>33.250300</td>\n    </tr>\n    <tr>\n      <th>127</th>\n      <td>60002</td>\n      <td>36</td>\n      <td>MED (100 - 400)</td>\n      <td>2020-02-19 00:30:00</td>\n      <td>813.934200</td>\n    </tr>\n    <tr>\n      <th>128</th>\n      <td>60002</td>\n      <td>488</td>\n      <td>RESIDENTIAL MULTI</td>\n      <td>2020-02-19 00:30:00</td>\n      <td>101.428400</td>\n    </tr>\n    <tr>\n      <th>129</th>\n      <td>60002</td>\n      <td>539</td>\n      <td>RESIDENTIAL MULTI (SPACE HEAT)</td>\n      <td>2020-02-19 00:30:00</td>\n      <td>370.519600</td>\n    </tr>\n    <tr>\n      <th>130</th>\n      <td>60002</td>\n      <td>9249</td>\n      <td>RESIDENTIAL SINGLE</td>\n      <td>2020-02-19 00:30:00</td>\n      <td>4045.723163</td>\n    </tr>\n    <tr>\n      <th>...</th>\n      <td>...</td>\n      <td>...</td>\n      <td>...</td>\n      <td>...</td>\n      <td>...</td>\n    </tr>\n    <tr>\n      <th>3638529</th>\n      <td>61764</td>\n      <td>169</td>\n      <td>RESIDENTIAL SINGLE (SPACE HEAT)</td>\n      <td>2020-02-19 00:00:00</td>\n      <td>299.798100</td>\n    </tr>\n    <tr>\n      <th>3638530</th>\n      <td>61764</td>\n      <td>569</td>\n      <td>SMALL (0 - 100)</td>\n      <td>2020-02-19 00:00:00</td>\n      <td>1021.961100</td>\n    </tr>\n    <tr>\n      <th>3638655</th>\n      <td>61769</td>\n      <td>197</td>\n      <td>RESIDENTIAL SINGLE</td>\n      <td>2020-02-19 00:00:00</td>\n      <td>140.301900</td>\n    </tr>\n    <tr>\n      <th>3638656</th>\n      <td>61769</td>\n      <td>33</td>\n      <td>RESIDENTIAL SINGLE (SPACE HEAT)</td>\n      <td>2020-02-19 00:00:00</td>\n      <td>63.942000</td>\n    </tr>\n    <tr>\n      <th>3638657</th>\n      <td>61769</td>\n      <td>27</td>\n      <td>SMALL (0 - 100)</td>\n      <td>2020-02-19 00:00:00</td>\n      <td>16.487600</td>\n    </tr>\n  </tbody>\n</table>\n<p>125472 rows × 5 columns</p>\n</div>"
     },
     "execution_count": 12,
     "metadata": {},
     "output_type": "execute_result"
    }
   ],
   "source": [
    "df_data"
   ],
   "metadata": {
    "collapsed": false,
    "ExecuteTime": {
     "end_time": "2023-11-01T20:20:41.112913800Z",
     "start_time": "2023-11-01T20:20:41.066905500Z"
    }
   }
  },
  {
   "cell_type": "code",
   "execution_count": 11,
   "outputs": [
    {
     "data": {
      "text/plain": "service_name\n000)                                   16752\nCOM KWH ONLY                         2793936\nDUSK TO DAWN                           22464\nLARGE (400 - 1000)                    111168\nMED (100 - 400)                       699936\nRESIDENTIAL MULTI                   55980192\nRESIDENTIAL MULTI (SPACE HEAT)       7965360\nRESIDENTIAL SINGLE                 108768672\nRESIDENTIAL SINGLE (SPACE HEAT)      1609728\nSMALL (0 - 100)                     12703296\nName: n_acc, dtype: int64"
     },
     "execution_count": 11,
     "metadata": {},
     "output_type": "execute_result"
    }
   ],
   "source": [
    "df_data.groupby('service_name').n_acc.sum()"
   ],
   "metadata": {
    "collapsed": false,
    "ExecuteTime": {
     "end_time": "2023-11-01T20:20:29.125677Z",
     "start_time": "2023-11-01T20:20:29.084668Z"
    }
   }
  },
  {
   "cell_type": "code",
   "execution_count": null,
   "metadata": {},
   "outputs": [],
   "source": [
    "df_data = pd.read_csv('../data/comed_month/comed_202002.csv')\n",
    "df_data['date_time'] = pd.to_datetime(df_data.date_time)\n",
    "df_data = df_data[df_data.service_name.str.contains('RESIDENTIAL')]\n",
    "df_data = df_data.groupby(['zip5', 'date_time']).energy.sum().reset_index()\n",
    "\n",
    "day = 19\n",
    "hour = 19\n",
    "minute = 0\n",
    "df_data = df_data[(df_data.date_time.dt.day==day)].copy()\n",
    "\n",
    "gdf_zc = gpd.read_file('../data/geo/Chicago_ZC.geojson')\n",
    "gdf_zc['GEOID20'] = gdf_zc['GEOID20'].astype(int)\n",
    "\n",
    "gdf_data = pd.merge(gdf_zc, df_data, left_on='GEOID20', right_on='zip5')\n",
    "\n",
    "gdf_places = gdf_data[(gdf_data.date_time.dt.hour==hour) & (gdf_data.date_time.dt.minute==minute)]"
   ]
  },
  {
   "cell_type": "code",
   "execution_count": null,
   "metadata": {},
   "outputs": [],
   "source": [
    "gdf_places"
   ]
  },
  {
   "cell_type": "code",
   "execution_count": null,
   "metadata": {},
   "outputs": [],
   "source": [
    "fig = px.choropleth_mapbox(gdf_places,\n",
    "                   geojson=gdf_places,\n",
    "                   featureidkey='properties.GEOID20',\n",
    "                   color=\"energy\",\n",
    "                   locations='GEOID20',\n",
    "                   width=1000,\n",
    "                   height=700,\n",
    "                   center={'lat':41.6, 'lon':-88.99},\n",
    "                   zoom=6,\n",
    "                   #range_color=(0, 1),\n",
    "                   mapbox_style='carto-positron',\n",
    "                   opacity=0.65,\n",
    "                   )\n",
    "fig.update_geos(fitbounds=\"locations\", visible=False)\n",
    "#fig.show()"
   ]
  },
  {
   "cell_type": "code",
   "execution_count": null,
   "outputs": [],
   "source": [],
   "metadata": {
    "collapsed": false
   }
  }
 ],
 "metadata": {
  "kernelspec": {
   "display_name": "Python 3",
   "language": "python",
   "name": "python3"
  },
  "language_info": {
   "codemirror_mode": {
    "name": "ipython",
    "version": 3
   },
   "file_extension": ".py",
   "mimetype": "text/x-python",
   "name": "python",
   "nbconvert_exporter": "python",
   "pygments_lexer": "ipython3",
   "version": "3.10.9"
  },
  "orig_nbformat": 4,
  "vscode": {
   "interpreter": {
    "hash": "ce44fec16a475fa863ad058858edc7cc1f739abe18a15028f7309c6483d88bee"
   }
  }
 },
 "nbformat": 4,
 "nbformat_minor": 2
}
