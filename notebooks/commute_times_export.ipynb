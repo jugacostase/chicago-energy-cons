{
 "cells": [
  {
   "cell_type": "code",
   "execution_count": 29,
   "id": "2f3f05643170c395",
   "metadata": {
    "collapsed": true,
    "ExecuteTime": {
     "end_time": "2023-08-23T22:52:09.061178100Z",
     "start_time": "2023-08-23T22:52:09.047119300Z"
    }
   },
   "outputs": [],
   "source": [
    "import pandas as pd\n",
    "import geopandas as gpd"
   ]
  },
  {
   "cell_type": "code",
   "execution_count": 30,
   "outputs": [],
   "source": [
    "df_comtime = pd.read_csv('data/census/commute_times_mode/ACSDT5Y2019.B08134-Data.csv', skiprows=[1])\n",
    "df_cnames = pd.read_csv('data/census/commute_times_mode/column_names.csv')\n",
    "df_zip2tract = pd.read_excel('data/census/ZIP_TRACT_032019.xlsx')\n",
    "gdf_zc = gpd.read_file('data/geo/Chicago_ZC.geojson')"
   ],
   "metadata": {
    "collapsed": false,
    "ExecuteTime": {
     "end_time": "2023-08-23T22:53:15.153969600Z",
     "start_time": "2023-08-23T22:52:42.862057100Z"
    }
   },
   "id": "b19659dc6aa53b46"
  },
  {
   "cell_type": "code",
   "execution_count": 31,
   "outputs": [
    {
     "data": {
      "text/plain": "(34505, 483)"
     },
     "execution_count": 31,
     "metadata": {},
     "output_type": "execute_result"
    }
   ],
   "source": [
    "df_comtime.shape"
   ],
   "metadata": {
    "collapsed": false,
    "ExecuteTime": {
     "end_time": "2023-08-23T22:53:15.168973500Z",
     "start_time": "2023-08-23T22:53:15.156971300Z"
    }
   },
   "id": "f3912aa84b832e49"
  },
  {
   "cell_type": "code",
   "execution_count": 32,
   "outputs": [],
   "source": [
    "df_comtime = df_comtime.drop_duplicates()"
   ],
   "metadata": {
    "collapsed": false,
    "ExecuteTime": {
     "end_time": "2023-08-23T22:53:48.963292300Z",
     "start_time": "2023-08-23T22:53:48.370073600Z"
    }
   },
   "id": "e87d3426d1de53f1"
  },
  {
   "cell_type": "code",
   "execution_count": 33,
   "outputs": [],
   "source": [
    "dict_comtime_names = df_cnames.set_index('column').to_dict()['label']\n",
    "columns_comtime = list(dict_comtime_names.keys())\n",
    "df_comtime = df_comtime[columns_comtime].rename(columns=dict_comtime_names)\n",
    "columns_comtime = list(df_comtime.columns)\n",
    "df_comtime['GEOID'] = df_comtime.GEOID.str[9:]\n",
    "\n",
    "df = pd.merge(df_comtime, gdf_zc, left_on='GEOID', right_on='GEOID20').rename(columns={'GEOID': 'zip'})\n",
    "df = df.groupby('zip')[columns_comtime[1:]].sum().reset_index()"
   ],
   "metadata": {
    "collapsed": false,
    "ExecuteTime": {
     "end_time": "2023-08-23T22:53:59.532053300Z",
     "start_time": "2023-08-23T22:53:59.451023500Z"
    }
   },
   "id": "d579a0dfbe4e13fa"
  },
  {
   "cell_type": "code",
   "execution_count": 35,
   "outputs": [],
   "source": [
    "df.to_csv('data/census/commute_times_mode/commute_times_zc_il.csv', index=False)"
   ],
   "metadata": {
    "collapsed": false,
    "ExecuteTime": {
     "end_time": "2023-08-23T22:54:40.689255200Z",
     "start_time": "2023-08-23T22:54:40.655248800Z"
    }
   },
   "id": "6e61580ee160f294"
  },
  {
   "cell_type": "code",
   "execution_count": null,
   "outputs": [],
   "source": [],
   "metadata": {
    "collapsed": false
   },
   "id": "2a1b59641ab30c51"
  }
 ],
 "metadata": {
  "kernelspec": {
   "display_name": "Python 3",
   "language": "python",
   "name": "python3"
  },
  "language_info": {
   "codemirror_mode": {
    "name": "ipython",
    "version": 2
   },
   "file_extension": ".py",
   "mimetype": "text/x-python",
   "name": "python",
   "nbconvert_exporter": "python",
   "pygments_lexer": "ipython2",
   "version": "2.7.6"
  }
 },
 "nbformat": 4,
 "nbformat_minor": 5
}
