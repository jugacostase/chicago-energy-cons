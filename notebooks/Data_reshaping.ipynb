{
 "cells": [
  {
   "cell_type": "code",
   "execution_count": 1,
   "metadata": {
    "ExecuteTime": {
     "end_time": "2023-10-31T21:44:20.994901300Z",
     "start_time": "2023-10-31T21:44:18.124806100Z"
    }
   },
   "outputs": [],
   "source": [
    "import os\n",
    "import re\n",
    "\n",
    "import datetime\n",
    "\n",
    "import pandas as pd\n",
    "from dask import dataframe as dd\n",
    "import zipfile\n",
    "import plotly.express as px\n",
    "\n",
    "from IPython.display import clear_output"
   ]
  },
  {
   "cell_type": "code",
   "execution_count": 2,
   "outputs": [],
   "source": [
    "#df = pd.read_csv(\"data/comed_month/comed_201901.csv\", parse_dates=['date_time'])\n",
    "#df[df.date_time.dt.day == 30].to_csv('data/comed_month/comed_201901_30.csv', index=False)"
   ],
   "metadata": {
    "collapsed": false,
    "ExecuteTime": {
     "end_time": "2023-10-30T03:46:50.118767500Z",
     "start_time": "2023-10-30T03:46:50.100753900Z"
    }
   }
  },
  {
   "cell_type": "code",
   "execution_count": 2,
   "metadata": {
    "ExecuteTime": {
     "end_time": "2023-10-31T17:35:47.358038200Z",
     "start_time": "2023-10-31T17:35:47.267017400Z"
    }
   },
   "outputs": [],
   "source": [
    "#path_data = \"D:/CSUN/COMED/Comed DATA/201801.zip\" \n",
    "path_data = \"I:/CSUN_data/ENERGY DATA_Juan & Hevar/ComEd Anonymous Data 11.2019-08.2021/202005-202108\" \n",
    "#zip = zipfile.ZipFile(path_data)\n",
    "#files= (zip.namelist())\n",
    "#month = '201711'\n",
    "#zips = [os.path.join(dirpath,f) for (dirpath, dirnames, filenames) in os.walk(f'data/comed/{month}/') for f in filenames]\n",
    "zips = [os.path.join(dirpath,f) for (dirpath, dirnames, filenames) in os.walk(path_data) for f in filenames]\n",
    "zips = zips\n",
    "N_zips = len(zips)"
   ]
  },
  {
   "cell_type": "code",
   "execution_count": 2,
   "metadata": {
    "ExecuteTime": {
     "end_time": "2023-10-31T20:56:48.167403200Z",
     "start_time": "2023-10-31T20:56:48.149389400Z"
    }
   },
   "outputs": [],
   "source": [
    "def get_HR(x):\n",
    "    time_str = re.search(r'INTERVAL_HR(.*?)_ENERGY_QTY', x)[1]\n",
    "    return time_str\n",
    "\n",
    "selected_columns = ['ZIP_CODE', 'INTERVAL_READING_DATE', \n",
    "                    'DELIVERY_SERVICE_NAME', 'ACCOUNT_IDENTIFIER', \n",
    "                    'INTERVAL_HR0030_ENERGY_QTY', \n",
    "                    'INTERVAL_HR0100_ENERGY_QTY', 'INTERVAL_HR0130_ENERGY_QTY',\n",
    "                    'INTERVAL_HR0200_ENERGY_QTY', 'INTERVAL_HR0230_ENERGY_QTY',\n",
    "                    'INTERVAL_HR0300_ENERGY_QTY', 'INTERVAL_HR0330_ENERGY_QTY',\n",
    "                    'INTERVAL_HR0400_ENERGY_QTY', 'INTERVAL_HR0430_ENERGY_QTY',\n",
    "                    'INTERVAL_HR0500_ENERGY_QTY', 'INTERVAL_HR0530_ENERGY_QTY',\n",
    "                    'INTERVAL_HR0600_ENERGY_QTY', 'INTERVAL_HR0630_ENERGY_QTY',\n",
    "                    'INTERVAL_HR0700_ENERGY_QTY', 'INTERVAL_HR0730_ENERGY_QTY',\n",
    "                    'INTERVAL_HR0800_ENERGY_QTY', 'INTERVAL_HR0830_ENERGY_QTY',\n",
    "                    'INTERVAL_HR0900_ENERGY_QTY', 'INTERVAL_HR0930_ENERGY_QTY',\n",
    "                    'INTERVAL_HR1000_ENERGY_QTY', 'INTERVAL_HR1030_ENERGY_QTY',\n",
    "                    'INTERVAL_HR1100_ENERGY_QTY', 'INTERVAL_HR1130_ENERGY_QTY',\n",
    "                    'INTERVAL_HR1200_ENERGY_QTY', 'INTERVAL_HR1230_ENERGY_QTY',\n",
    "                    'INTERVAL_HR1300_ENERGY_QTY', 'INTERVAL_HR1330_ENERGY_QTY',\n",
    "                    'INTERVAL_HR1400_ENERGY_QTY', 'INTERVAL_HR1430_ENERGY_QTY',\n",
    "                    'INTERVAL_HR1500_ENERGY_QTY', 'INTERVAL_HR1530_ENERGY_QTY',\n",
    "                    'INTERVAL_HR1600_ENERGY_QTY', 'INTERVAL_HR1630_ENERGY_QTY',\n",
    "                    'INTERVAL_HR1700_ENERGY_QTY', 'INTERVAL_HR1730_ENERGY_QTY',\n",
    "                    'INTERVAL_HR1800_ENERGY_QTY', 'INTERVAL_HR1830_ENERGY_QTY',\n",
    "                    'INTERVAL_HR1900_ENERGY_QTY', 'INTERVAL_HR1930_ENERGY_QTY',\n",
    "                    'INTERVAL_HR2000_ENERGY_QTY', 'INTERVAL_HR2030_ENERGY_QTY',\n",
    "                    'INTERVAL_HR2100_ENERGY_QTY', 'INTERVAL_HR2130_ENERGY_QTY',\n",
    "                    'INTERVAL_HR2200_ENERGY_QTY', 'INTERVAL_HR2230_ENERGY_QTY',\n",
    "                    'INTERVAL_HR2300_ENERGY_QTY', 'INTERVAL_HR2330_ENERGY_QTY',\n",
    "                    'INTERVAL_HR0000_ENERGY_QTY']"
   ]
  },
  {
   "cell_type": "code",
   "execution_count": 3,
   "metadata": {
    "ExecuteTime": {
     "end_time": "2023-10-31T20:56:52.232039600Z",
     "start_time": "2023-10-31T20:56:52.211026500Z"
    }
   },
   "outputs": [],
   "source": [
    "dict_col_agg = {}\n",
    "\n",
    "for col in selected_columns[3:]:\n",
    "    dict_col_agg[col] = 'sum'\n",
    "#dict_col_agg['DELIVERY_SERVICE_NAME'] = lambda x: (x.value_counts().index, x.value_counts())\n",
    "#dict_col_agg['DELIVERY_SERVICE_CLASS'] = lambda x: (x.value_counts().index, x.value_counts())\n",
    "dict_col_agg['ACCOUNT_IDENTIFIER'] = 'count'"
   ]
  },
  {
   "cell_type": "code",
   "execution_count": 9,
   "outputs": [
    {
     "data": {
      "text/plain": "['202001',\n '202002',\n '202004',\n '202005',\n '202006',\n '202007',\n '202008',\n '202009',\n '202010',\n '202011',\n '202012',\n '202101',\n '202102',\n '202103',\n '202104',\n '202105',\n '202106',\n '202107',\n '202108']"
     },
     "execution_count": 9,
     "metadata": {},
     "output_type": "execute_result"
    }
   ],
   "source": [
    "months = os.listdir(path_data)\n",
    "months"
   ],
   "metadata": {
    "collapsed": false,
    "ExecuteTime": {
     "end_time": "2023-10-31T17:37:26.142658400Z",
     "start_time": "2023-10-31T17:37:26.116024900Z"
    }
   }
  },
  {
   "cell_type": "code",
   "execution_count": 10,
   "metadata": {},
   "outputs": [
    {
     "name": "stdout",
     "output_type": "stream",
     "text": [
      "485/486 --------> 99.794 % progress in month 202001 and file I:/CSUN_data/ENERGY DATA_Juan & Hevar/ComEd Anonymous Data 11.2019-08.2021/202005-202108/202001/ANONYMOUS_DATA_202001_61769.csv.zip\n",
      "Reshaping data...\n"
     ]
    },
    {
     "ename": "MemoryError",
     "evalue": "Unable to allocate 4.26 GiB for an array with shape (3, 190510176) and data type object",
     "output_type": "error",
     "traceback": [
      "\u001B[1;31m---------------------------------------------------------------------------\u001B[0m",
      "\u001B[1;31mMemoryError\u001B[0m                               Traceback (most recent call last)",
      "Cell \u001B[1;32mIn[10], line 44\u001B[0m\n\u001B[0;32m     40\u001B[0m \u001B[38;5;66;03m#df = df.drop(['DELIVERY_SERVICE_NAME', 'DELIVERY_SERVICE_CLASS'], axis=1)\u001B[39;00m\n\u001B[0;32m     42\u001B[0m \u001B[38;5;28mprint\u001B[39m(\u001B[38;5;124m'\u001B[39m\u001B[38;5;124mReshaping data...\u001B[39m\u001B[38;5;124m'\u001B[39m)\n\u001B[1;32m---> 44\u001B[0m df \u001B[38;5;241m=\u001B[39m \u001B[43mdf\u001B[49m\u001B[43m[\u001B[49m\u001B[43mselected_columns\u001B[49m\u001B[43m]\u001B[49m\u001B[38;5;241;43m.\u001B[39;49m\u001B[43mmelt\u001B[49m\u001B[43m(\u001B[49m\n\u001B[0;32m     45\u001B[0m \u001B[43m    \u001B[49m\u001B[43mid_vars\u001B[49m\u001B[38;5;241;43m=\u001B[39;49m\u001B[43m[\u001B[49m\u001B[38;5;124;43m\"\u001B[39;49m\u001B[38;5;124;43mZIP_CODE\u001B[39;49m\u001B[38;5;124;43m\"\u001B[39;49m\u001B[43m,\u001B[49m\u001B[43m \u001B[49m\u001B[38;5;124;43m\"\u001B[39;49m\u001B[38;5;124;43mACCOUNT_IDENTIFIER\u001B[39;49m\u001B[38;5;124;43m\"\u001B[39;49m\u001B[43m,\u001B[49m\u001B[43m \u001B[49m\u001B[38;5;124;43m\"\u001B[39;49m\u001B[38;5;124;43mINTERVAL_READING_DATE\u001B[39;49m\u001B[38;5;124;43m\"\u001B[39;49m\u001B[43m,\u001B[49m\u001B[43m \u001B[49m\u001B[38;5;124;43m'\u001B[39;49m\u001B[38;5;124;43mDELIVERY_SERVICE_NAME\u001B[39;49m\u001B[38;5;124;43m'\u001B[39;49m\u001B[43m]\u001B[49m\u001B[43m,\u001B[49m\n\u001B[0;32m     46\u001B[0m \u001B[43m    \u001B[49m\u001B[43mvar_name\u001B[49m\u001B[38;5;241;43m=\u001B[39;49m\u001B[38;5;124;43m\"\u001B[39;49m\u001B[38;5;124;43mTime\u001B[39;49m\u001B[38;5;124;43m\"\u001B[39;49m\u001B[43m,\u001B[49m\n\u001B[0;32m     47\u001B[0m \u001B[43m    \u001B[49m\u001B[43mvalue_name\u001B[49m\u001B[38;5;241;43m=\u001B[39;49m\u001B[38;5;124;43m\"\u001B[39;49m\u001B[38;5;124;43menergy\u001B[39;49m\u001B[38;5;124;43m\"\u001B[39;49m\u001B[43m)\u001B[49m\n\u001B[0;32m     50\u001B[0m df[\u001B[38;5;124m'\u001B[39m\u001B[38;5;124mTime\u001B[39m\u001B[38;5;124m'\u001B[39m] \u001B[38;5;241m=\u001B[39m df\u001B[38;5;241m.\u001B[39mTime\u001B[38;5;241m.\u001B[39mmap(\u001B[38;5;28;01mlambda\u001B[39;00m x: get_HR(x))\n\u001B[0;32m     51\u001B[0m \u001B[38;5;66;03m#df['date_time'] = df.INTERVAL_READING_DATE.astype(str)  + \" \" + df.Time\u001B[39;00m\n\u001B[0;32m     52\u001B[0m \u001B[38;5;66;03m#df['date_time'] = df.date_time.map(lambda x: datetime.datetime.strptime(x,'%m/%d/%Y %H%M')).astype(str)\u001B[39;00m\n",
      "File \u001B[1;32mJ:\\PhD\\Projects\\chicago-energy-cons\\env\\lib\\site-packages\\pandas\\core\\frame.py:9639\u001B[0m, in \u001B[0;36mDataFrame.melt\u001B[1;34m(self, id_vars, value_vars, var_name, value_name, col_level, ignore_index)\u001B[0m\n\u001B[0;32m   9629\u001B[0m \u001B[38;5;129m@Appender\u001B[39m(_shared_docs[\u001B[38;5;124m\"\u001B[39m\u001B[38;5;124mmelt\u001B[39m\u001B[38;5;124m\"\u001B[39m] \u001B[38;5;241m%\u001B[39m {\u001B[38;5;124m\"\u001B[39m\u001B[38;5;124mcaller\u001B[39m\u001B[38;5;124m\"\u001B[39m: \u001B[38;5;124m\"\u001B[39m\u001B[38;5;124mdf.melt(\u001B[39m\u001B[38;5;124m\"\u001B[39m, \u001B[38;5;124m\"\u001B[39m\u001B[38;5;124mother\u001B[39m\u001B[38;5;124m\"\u001B[39m: \u001B[38;5;124m\"\u001B[39m\u001B[38;5;124mmelt\u001B[39m\u001B[38;5;124m\"\u001B[39m})\n\u001B[0;32m   9630\u001B[0m \u001B[38;5;28;01mdef\u001B[39;00m \u001B[38;5;21mmelt\u001B[39m(\n\u001B[0;32m   9631\u001B[0m     \u001B[38;5;28mself\u001B[39m,\n\u001B[1;32m   (...)\u001B[0m\n\u001B[0;32m   9637\u001B[0m     ignore_index: \u001B[38;5;28mbool\u001B[39m \u001B[38;5;241m=\u001B[39m \u001B[38;5;28;01mTrue\u001B[39;00m,\n\u001B[0;32m   9638\u001B[0m ) \u001B[38;5;241m-\u001B[39m\u001B[38;5;241m>\u001B[39m DataFrame:\n\u001B[1;32m-> 9639\u001B[0m     \u001B[38;5;28;01mreturn\u001B[39;00m \u001B[43mmelt\u001B[49m\u001B[43m(\u001B[49m\n\u001B[0;32m   9640\u001B[0m \u001B[43m        \u001B[49m\u001B[38;5;28;43mself\u001B[39;49m\u001B[43m,\u001B[49m\n\u001B[0;32m   9641\u001B[0m \u001B[43m        \u001B[49m\u001B[43mid_vars\u001B[49m\u001B[38;5;241;43m=\u001B[39;49m\u001B[43mid_vars\u001B[49m\u001B[43m,\u001B[49m\n\u001B[0;32m   9642\u001B[0m \u001B[43m        \u001B[49m\u001B[43mvalue_vars\u001B[49m\u001B[38;5;241;43m=\u001B[39;49m\u001B[43mvalue_vars\u001B[49m\u001B[43m,\u001B[49m\n\u001B[0;32m   9643\u001B[0m \u001B[43m        \u001B[49m\u001B[43mvar_name\u001B[49m\u001B[38;5;241;43m=\u001B[39;49m\u001B[43mvar_name\u001B[49m\u001B[43m,\u001B[49m\n\u001B[0;32m   9644\u001B[0m \u001B[43m        \u001B[49m\u001B[43mvalue_name\u001B[49m\u001B[38;5;241;43m=\u001B[39;49m\u001B[43mvalue_name\u001B[49m\u001B[43m,\u001B[49m\n\u001B[0;32m   9645\u001B[0m \u001B[43m        \u001B[49m\u001B[43mcol_level\u001B[49m\u001B[38;5;241;43m=\u001B[39;49m\u001B[43mcol_level\u001B[49m\u001B[43m,\u001B[49m\n\u001B[0;32m   9646\u001B[0m \u001B[43m        \u001B[49m\u001B[43mignore_index\u001B[49m\u001B[38;5;241;43m=\u001B[39;49m\u001B[43mignore_index\u001B[49m\u001B[43m,\u001B[49m\n\u001B[0;32m   9647\u001B[0m \u001B[43m    \u001B[49m\u001B[43m)\u001B[49m\u001B[38;5;241m.\u001B[39m__finalize__(\u001B[38;5;28mself\u001B[39m, method\u001B[38;5;241m=\u001B[39m\u001B[38;5;124m\"\u001B[39m\u001B[38;5;124mmelt\u001B[39m\u001B[38;5;124m\"\u001B[39m)\n",
      "File \u001B[1;32mJ:\\PhD\\Projects\\chicago-energy-cons\\env\\lib\\site-packages\\pandas\\core\\reshape\\melt.py:146\u001B[0m, in \u001B[0;36mmelt\u001B[1;34m(frame, id_vars, value_vars, var_name, value_name, col_level, ignore_index)\u001B[0m\n\u001B[0;32m    143\u001B[0m \u001B[38;5;28;01mfor\u001B[39;00m i, col \u001B[38;5;129;01min\u001B[39;00m \u001B[38;5;28menumerate\u001B[39m(var_name):\n\u001B[0;32m    144\u001B[0m     mdata[col] \u001B[38;5;241m=\u001B[39m frame\u001B[38;5;241m.\u001B[39mcolumns\u001B[38;5;241m.\u001B[39m_get_level_values(i)\u001B[38;5;241m.\u001B[39mrepeat(N)\n\u001B[1;32m--> 146\u001B[0m result \u001B[38;5;241m=\u001B[39m \u001B[43mframe\u001B[49m\u001B[38;5;241;43m.\u001B[39;49m\u001B[43m_constructor\u001B[49m\u001B[43m(\u001B[49m\u001B[43mmdata\u001B[49m\u001B[43m,\u001B[49m\u001B[43m \u001B[49m\u001B[43mcolumns\u001B[49m\u001B[38;5;241;43m=\u001B[39;49m\u001B[43mmcolumns\u001B[49m\u001B[43m)\u001B[49m\n\u001B[0;32m    148\u001B[0m \u001B[38;5;28;01mif\u001B[39;00m \u001B[38;5;129;01mnot\u001B[39;00m ignore_index:\n\u001B[0;32m    149\u001B[0m     result\u001B[38;5;241m.\u001B[39mindex \u001B[38;5;241m=\u001B[39m tile_compat(frame\u001B[38;5;241m.\u001B[39mindex, K)\n",
      "File \u001B[1;32mJ:\\PhD\\Projects\\chicago-energy-cons\\env\\lib\\site-packages\\pandas\\core\\frame.py:736\u001B[0m, in \u001B[0;36mDataFrame.__init__\u001B[1;34m(self, data, index, columns, dtype, copy)\u001B[0m\n\u001B[0;32m    730\u001B[0m     mgr \u001B[38;5;241m=\u001B[39m \u001B[38;5;28mself\u001B[39m\u001B[38;5;241m.\u001B[39m_init_mgr(\n\u001B[0;32m    731\u001B[0m         data, axes\u001B[38;5;241m=\u001B[39m{\u001B[38;5;124m\"\u001B[39m\u001B[38;5;124mindex\u001B[39m\u001B[38;5;124m\"\u001B[39m: index, \u001B[38;5;124m\"\u001B[39m\u001B[38;5;124mcolumns\u001B[39m\u001B[38;5;124m\"\u001B[39m: columns}, dtype\u001B[38;5;241m=\u001B[39mdtype, copy\u001B[38;5;241m=\u001B[39mcopy\n\u001B[0;32m    732\u001B[0m     )\n\u001B[0;32m    734\u001B[0m \u001B[38;5;28;01melif\u001B[39;00m \u001B[38;5;28misinstance\u001B[39m(data, \u001B[38;5;28mdict\u001B[39m):\n\u001B[0;32m    735\u001B[0m     \u001B[38;5;66;03m# GH#38939 de facto copy defaults to False only in non-dict cases\u001B[39;00m\n\u001B[1;32m--> 736\u001B[0m     mgr \u001B[38;5;241m=\u001B[39m \u001B[43mdict_to_mgr\u001B[49m\u001B[43m(\u001B[49m\u001B[43mdata\u001B[49m\u001B[43m,\u001B[49m\u001B[43m \u001B[49m\u001B[43mindex\u001B[49m\u001B[43m,\u001B[49m\u001B[43m \u001B[49m\u001B[43mcolumns\u001B[49m\u001B[43m,\u001B[49m\u001B[43m \u001B[49m\u001B[43mdtype\u001B[49m\u001B[38;5;241;43m=\u001B[39;49m\u001B[43mdtype\u001B[49m\u001B[43m,\u001B[49m\u001B[43m \u001B[49m\u001B[43mcopy\u001B[49m\u001B[38;5;241;43m=\u001B[39;49m\u001B[43mcopy\u001B[49m\u001B[43m,\u001B[49m\u001B[43m \u001B[49m\u001B[43mtyp\u001B[49m\u001B[38;5;241;43m=\u001B[39;49m\u001B[43mmanager\u001B[49m\u001B[43m)\u001B[49m\n\u001B[0;32m    737\u001B[0m \u001B[38;5;28;01melif\u001B[39;00m \u001B[38;5;28misinstance\u001B[39m(data, ma\u001B[38;5;241m.\u001B[39mMaskedArray):\n\u001B[0;32m    738\u001B[0m     \u001B[38;5;28;01mfrom\u001B[39;00m \u001B[38;5;21;01mnumpy\u001B[39;00m\u001B[38;5;21;01m.\u001B[39;00m\u001B[38;5;21;01mma\u001B[39;00m \u001B[38;5;28;01mimport\u001B[39;00m mrecords\n",
      "File \u001B[1;32mJ:\\PhD\\Projects\\chicago-energy-cons\\env\\lib\\site-packages\\pandas\\core\\internals\\construction.py:503\u001B[0m, in \u001B[0;36mdict_to_mgr\u001B[1;34m(data, index, columns, dtype, typ, copy)\u001B[0m\n\u001B[0;32m    499\u001B[0m     \u001B[38;5;28;01melse\u001B[39;00m:\n\u001B[0;32m    500\u001B[0m         \u001B[38;5;66;03m# dtype check to exclude e.g. range objects, scalars\u001B[39;00m\n\u001B[0;32m    501\u001B[0m         arrays \u001B[38;5;241m=\u001B[39m [x\u001B[38;5;241m.\u001B[39mcopy() \u001B[38;5;28;01mif\u001B[39;00m \u001B[38;5;28mhasattr\u001B[39m(x, \u001B[38;5;124m\"\u001B[39m\u001B[38;5;124mdtype\u001B[39m\u001B[38;5;124m\"\u001B[39m) \u001B[38;5;28;01melse\u001B[39;00m x \u001B[38;5;28;01mfor\u001B[39;00m x \u001B[38;5;129;01min\u001B[39;00m arrays]\n\u001B[1;32m--> 503\u001B[0m \u001B[38;5;28;01mreturn\u001B[39;00m \u001B[43marrays_to_mgr\u001B[49m\u001B[43m(\u001B[49m\u001B[43marrays\u001B[49m\u001B[43m,\u001B[49m\u001B[43m \u001B[49m\u001B[43mcolumns\u001B[49m\u001B[43m,\u001B[49m\u001B[43m \u001B[49m\u001B[43mindex\u001B[49m\u001B[43m,\u001B[49m\u001B[43m \u001B[49m\u001B[43mdtype\u001B[49m\u001B[38;5;241;43m=\u001B[39;49m\u001B[43mdtype\u001B[49m\u001B[43m,\u001B[49m\u001B[43m \u001B[49m\u001B[43mtyp\u001B[49m\u001B[38;5;241;43m=\u001B[39;49m\u001B[43mtyp\u001B[49m\u001B[43m,\u001B[49m\u001B[43m \u001B[49m\u001B[43mconsolidate\u001B[49m\u001B[38;5;241;43m=\u001B[39;49m\u001B[43mcopy\u001B[49m\u001B[43m)\u001B[49m\n",
      "File \u001B[1;32mJ:\\PhD\\Projects\\chicago-energy-cons\\env\\lib\\site-packages\\pandas\\core\\internals\\construction.py:152\u001B[0m, in \u001B[0;36marrays_to_mgr\u001B[1;34m(arrays, columns, index, dtype, verify_integrity, typ, consolidate)\u001B[0m\n\u001B[0;32m    149\u001B[0m axes \u001B[38;5;241m=\u001B[39m [columns, index]\n\u001B[0;32m    151\u001B[0m \u001B[38;5;28;01mif\u001B[39;00m typ \u001B[38;5;241m==\u001B[39m \u001B[38;5;124m\"\u001B[39m\u001B[38;5;124mblock\u001B[39m\u001B[38;5;124m\"\u001B[39m:\n\u001B[1;32m--> 152\u001B[0m     \u001B[38;5;28;01mreturn\u001B[39;00m \u001B[43mcreate_block_manager_from_column_arrays\u001B[49m\u001B[43m(\u001B[49m\n\u001B[0;32m    153\u001B[0m \u001B[43m        \u001B[49m\u001B[43marrays\u001B[49m\u001B[43m,\u001B[49m\u001B[43m \u001B[49m\u001B[43maxes\u001B[49m\u001B[43m,\u001B[49m\u001B[43m \u001B[49m\u001B[43mconsolidate\u001B[49m\u001B[38;5;241;43m=\u001B[39;49m\u001B[43mconsolidate\u001B[49m\u001B[43m,\u001B[49m\u001B[43m \u001B[49m\u001B[43mrefs\u001B[49m\u001B[38;5;241;43m=\u001B[39;49m\u001B[43mrefs\u001B[49m\n\u001B[0;32m    154\u001B[0m \u001B[43m    \u001B[49m\u001B[43m)\u001B[49m\n\u001B[0;32m    155\u001B[0m \u001B[38;5;28;01melif\u001B[39;00m typ \u001B[38;5;241m==\u001B[39m \u001B[38;5;124m\"\u001B[39m\u001B[38;5;124marray\u001B[39m\u001B[38;5;124m\"\u001B[39m:\n\u001B[0;32m    156\u001B[0m     \u001B[38;5;28;01mreturn\u001B[39;00m ArrayManager(arrays, [index, columns])\n",
      "File \u001B[1;32mJ:\\PhD\\Projects\\chicago-energy-cons\\env\\lib\\site-packages\\pandas\\core\\internals\\managers.py:2091\u001B[0m, in \u001B[0;36mcreate_block_manager_from_column_arrays\u001B[1;34m(arrays, axes, consolidate, refs)\u001B[0m\n\u001B[0;32m   2089\u001B[0m     raise_construction_error(\u001B[38;5;28mlen\u001B[39m(arrays), arrays[\u001B[38;5;241m0\u001B[39m]\u001B[38;5;241m.\u001B[39mshape, axes, e)\n\u001B[0;32m   2090\u001B[0m \u001B[38;5;28;01mif\u001B[39;00m consolidate:\n\u001B[1;32m-> 2091\u001B[0m     \u001B[43mmgr\u001B[49m\u001B[38;5;241;43m.\u001B[39;49m\u001B[43m_consolidate_inplace\u001B[49m\u001B[43m(\u001B[49m\u001B[43m)\u001B[49m\n\u001B[0;32m   2092\u001B[0m \u001B[38;5;28;01mreturn\u001B[39;00m mgr\n",
      "File \u001B[1;32mJ:\\PhD\\Projects\\chicago-energy-cons\\env\\lib\\site-packages\\pandas\\core\\internals\\managers.py:1750\u001B[0m, in \u001B[0;36mBlockManager._consolidate_inplace\u001B[1;34m(self)\u001B[0m\n\u001B[0;32m   1744\u001B[0m \u001B[38;5;28;01mdef\u001B[39;00m \u001B[38;5;21m_consolidate_inplace\u001B[39m(\u001B[38;5;28mself\u001B[39m) \u001B[38;5;241m-\u001B[39m\u001B[38;5;241m>\u001B[39m \u001B[38;5;28;01mNone\u001B[39;00m:\n\u001B[0;32m   1745\u001B[0m     \u001B[38;5;66;03m# In general, _consolidate_inplace should only be called via\u001B[39;00m\n\u001B[0;32m   1746\u001B[0m     \u001B[38;5;66;03m#  DataFrame._consolidate_inplace, otherwise we will fail to invalidate\u001B[39;00m\n\u001B[0;32m   1747\u001B[0m     \u001B[38;5;66;03m#  the DataFrame's _item_cache. The exception is for newly-created\u001B[39;00m\n\u001B[0;32m   1748\u001B[0m     \u001B[38;5;66;03m#  BlockManager objects not yet attached to a DataFrame.\u001B[39;00m\n\u001B[0;32m   1749\u001B[0m     \u001B[38;5;28;01mif\u001B[39;00m \u001B[38;5;129;01mnot\u001B[39;00m \u001B[38;5;28mself\u001B[39m\u001B[38;5;241m.\u001B[39mis_consolidated():\n\u001B[1;32m-> 1750\u001B[0m         \u001B[38;5;28mself\u001B[39m\u001B[38;5;241m.\u001B[39mblocks \u001B[38;5;241m=\u001B[39m \u001B[43m_consolidate\u001B[49m\u001B[43m(\u001B[49m\u001B[38;5;28;43mself\u001B[39;49m\u001B[38;5;241;43m.\u001B[39;49m\u001B[43mblocks\u001B[49m\u001B[43m)\u001B[49m\n\u001B[0;32m   1751\u001B[0m         \u001B[38;5;28mself\u001B[39m\u001B[38;5;241m.\u001B[39m_is_consolidated \u001B[38;5;241m=\u001B[39m \u001B[38;5;28;01mTrue\u001B[39;00m\n\u001B[0;32m   1752\u001B[0m         \u001B[38;5;28mself\u001B[39m\u001B[38;5;241m.\u001B[39m_known_consolidated \u001B[38;5;241m=\u001B[39m \u001B[38;5;28;01mTrue\u001B[39;00m\n",
      "File \u001B[1;32mJ:\\PhD\\Projects\\chicago-energy-cons\\env\\lib\\site-packages\\pandas\\core\\internals\\managers.py:2217\u001B[0m, in \u001B[0;36m_consolidate\u001B[1;34m(blocks)\u001B[0m\n\u001B[0;32m   2215\u001B[0m new_blocks: \u001B[38;5;28mlist\u001B[39m[Block] \u001B[38;5;241m=\u001B[39m []\n\u001B[0;32m   2216\u001B[0m \u001B[38;5;28;01mfor\u001B[39;00m (_can_consolidate, dtype), group_blocks \u001B[38;5;129;01min\u001B[39;00m grouper:\n\u001B[1;32m-> 2217\u001B[0m     merged_blocks, _ \u001B[38;5;241m=\u001B[39m \u001B[43m_merge_blocks\u001B[49m\u001B[43m(\u001B[49m\n\u001B[0;32m   2218\u001B[0m \u001B[43m        \u001B[49m\u001B[38;5;28;43mlist\u001B[39;49m\u001B[43m(\u001B[49m\u001B[43mgroup_blocks\u001B[49m\u001B[43m)\u001B[49m\u001B[43m,\u001B[49m\u001B[43m \u001B[49m\u001B[43mdtype\u001B[49m\u001B[38;5;241;43m=\u001B[39;49m\u001B[43mdtype\u001B[49m\u001B[43m,\u001B[49m\u001B[43m \u001B[49m\u001B[43mcan_consolidate\u001B[49m\u001B[38;5;241;43m=\u001B[39;49m\u001B[43m_can_consolidate\u001B[49m\n\u001B[0;32m   2219\u001B[0m \u001B[43m    \u001B[49m\u001B[43m)\u001B[49m\n\u001B[0;32m   2220\u001B[0m     new_blocks \u001B[38;5;241m=\u001B[39m extend_blocks(merged_blocks, new_blocks)\n\u001B[0;32m   2221\u001B[0m \u001B[38;5;28;01mreturn\u001B[39;00m \u001B[38;5;28mtuple\u001B[39m(new_blocks)\n",
      "File \u001B[1;32mJ:\\PhD\\Projects\\chicago-energy-cons\\env\\lib\\site-packages\\pandas\\core\\internals\\managers.py:2249\u001B[0m, in \u001B[0;36m_merge_blocks\u001B[1;34m(blocks, dtype, can_consolidate)\u001B[0m\n\u001B[0;32m   2246\u001B[0m     new_values \u001B[38;5;241m=\u001B[39m bvals2[\u001B[38;5;241m0\u001B[39m]\u001B[38;5;241m.\u001B[39m_concat_same_type(bvals2, axis\u001B[38;5;241m=\u001B[39m\u001B[38;5;241m0\u001B[39m)\n\u001B[0;32m   2248\u001B[0m argsort \u001B[38;5;241m=\u001B[39m np\u001B[38;5;241m.\u001B[39margsort(new_mgr_locs)\n\u001B[1;32m-> 2249\u001B[0m new_values \u001B[38;5;241m=\u001B[39m \u001B[43mnew_values\u001B[49m\u001B[43m[\u001B[49m\u001B[43margsort\u001B[49m\u001B[43m]\u001B[49m\n\u001B[0;32m   2250\u001B[0m new_mgr_locs \u001B[38;5;241m=\u001B[39m new_mgr_locs[argsort]\n\u001B[0;32m   2252\u001B[0m bp \u001B[38;5;241m=\u001B[39m BlockPlacement(new_mgr_locs)\n",
      "\u001B[1;31mMemoryError\u001B[0m: Unable to allocate 4.26 GiB for an array with shape (3, 190510176) and data type object"
     ]
    }
   ],
   "source": [
    "months = os.listdir(path_data)\n",
    "\n",
    "day = 29\n",
    "\n",
    "for month in months[:1]:\n",
    "    zips = [os.path.join(dirpath,f) for (dirpath, dirnames, filenames) in os.walk(f'{path_data}/{month}/') for f in filenames if f.endswith('.zip')]\n",
    "    zips = zips\n",
    "    N_zips = len(zips)\n",
    "\n",
    "    df_total = pd.DataFrame()\n",
    "    #df_total = dd.from_pandas(df_total, npartitions=1)\n",
    "\n",
    "    count = 0\n",
    "\n",
    "    for zip_path in zips:\n",
    "        if 'LIST' not in zip_path:\n",
    "            zip = zipfile.ZipFile(zip_path)\n",
    "            count = count + 1\n",
    "            clear_output(wait=True)\n",
    "            print(f'{count}/{N_zips} --------> {round(100*count/N_zips, 3)} % progress in month {month} and file {zip_path}')\n",
    "            #for file in zip.namelist():\n",
    "            #zip2 = zipfile.ZipFile(f'data/comed/{month}/{file}')\n",
    "            #df = pd.read_csv(zip2.open(zip2.namelist()[0]))\n",
    "            df = pd.read_csv(zip.open(zip.namelist()[0]), on_bad_lines=lambda x: x[:2] + x[2+1 :], engine='python', parse_dates=['INTERVAL_READING_DATE'])\n",
    "            df = df[df.INTERVAL_READING_DATE.dt.day==day]\n",
    "            df['ZIP_CODE'] = df['ZIP_CODE'].astype(str)\n",
    "            df['ZIP_CODE'] = df['ZIP_CODE'].str[:5]\n",
    "            df = df.rename(columns={'INTERVAL_HR2400_ENERGY_QTY': 'INTERVAL_HR0000_ENERGY_QTY'})\n",
    "            #THISdf = df.groupby(['ZIP_CODE','INTERVAL_READING_DATE', 'DELIVERY_SERVICE_NAME']).agg(dict_col_agg).reset_index()\n",
    "            df_total = pd.concat([df_total,df])\n",
    "            #THISdf_total = df_total.groupby(['ZIP_CODE', 'INTERVAL_READING_DATE', 'DELIVERY_SERVICE_NAME']).sum().reset_index()\n",
    "\n",
    "    df = df_total\n",
    "\n",
    "    #df['DELIVERY_SERVICE_NAME'] = df.DELIVERY_SERVICE_NAME.astype(str)\n",
    "    #df['DELIVERY_SERVICE_CLASS'] = df.DELIVERY_SERVICE_CLASS.astype(str)\n",
    "\n",
    "    df = df.rename(columns={'INTERVAL_HR2400_ENERGY_QTY': 'INTERVAL_HR0000_ENERGY_QTY'})\n",
    "\n",
    "    #df = df.drop(['DELIVERY_SERVICE_NAME', 'DELIVERY_SERVICE_CLASS'], axis=1)\n",
    "\n",
    "    print('Reshaping data...')\n",
    "\n",
    "    df = df[selected_columns].melt(\n",
    "        id_vars=[\"ZIP_CODE\", \"ACCOUNT_IDENTIFIER\", \"INTERVAL_READING_DATE\", 'DELIVERY_SERVICE_NAME'],\n",
    "        var_name=\"Time\",\n",
    "        value_name=\"energy\")\n",
    "\n",
    "\n",
    "    df['Time'] = df.Time.map(lambda x: get_HR(x))\n",
    "    #df['date_time'] = df.INTERVAL_READING_DATE.astype(str)  + \" \" + df.Time\n",
    "    #df['date_time'] = df.date_time.map(lambda x: datetime.datetime.strptime(x,'%m/%d/%Y %H%M')).astype(str)\n",
    "    df['date_time'] = df.Time.map(lambda x: datetime.datetime.strptime(f'01/{day}/2020 {x}','%m/%d/%Y %H%M')).astype(str)\n",
    "\n",
    "    df = df[['ZIP_CODE', 'ACCOUNT_IDENTIFIER', 'DELIVERY_SERVICE_NAME', 'date_time', 'energy']]\n",
    "\n",
    "    df['zip5'] = df.ZIP_CODE.str[:5]\n",
    "\n",
    "    df = df.rename(columns={'ZIP_CODE': 'zip9','ACCOUNT_IDENTIFIER': 'n_acc', 'DELIVERY_SERVICE_NAME': 'service_name'})\n",
    "\n",
    "\n",
    "    df = df[['zip5', 'n_acc', 'service_name', 'date_time', 'energy']]    \n",
    "     \n",
    "\n",
    "    print('Exporting data...')\n",
    "\n",
    "    df.to_csv(f'../data/comed_month/comed_{month}_{day}_only.csv', index=False)\n",
    "\n",
    "    del df\n",
    "    del df_total\n",
    "\n"
   ]
  },
  {
   "cell_type": "code",
   "execution_count": 4,
   "outputs": [],
   "source": [
    "df = pd.read_parquet('../data/comed_day/2020_02_19_temp.parquet')"
   ],
   "metadata": {
    "collapsed": false,
    "ExecuteTime": {
     "end_time": "2023-10-31T20:57:13.264830300Z",
     "start_time": "2023-10-31T20:57:10.698734300Z"
    }
   }
  },
  {
   "cell_type": "code",
   "execution_count": 5,
   "outputs": [],
   "source": [
    "df = df[selected_columns].melt(\n",
    "    id_vars=[\"ZIP_CODE\", \"ACCOUNT_IDENTIFIER\", \"INTERVAL_READING_DATE\", 'DELIVERY_SERVICE_NAME'],\n",
    "    var_name=\"Time\",\n",
    "    value_name=\"energy\")\n",
    "\n",
    "\n",
    "df['Time'] = df.Time.map(lambda x: get_HR(x))\n",
    "#df['date_time'] = df.INTERVAL_READING_DATE.astype(str)  + \" \" + df.Time\n",
    "#df['date_time'] = df.date_time.map(lambda x: datetime.datetime.strptime(x,'%m/%d/%Y %H%M')).astype(str)"
   ],
   "metadata": {
    "collapsed": false,
    "ExecuteTime": {
     "end_time": "2023-10-31T21:06:41.068634600Z",
     "start_time": "2023-10-31T20:57:21.696428500Z"
    }
   }
  },
  {
   "cell_type": "code",
   "execution_count": 9,
   "outputs": [
    {
     "name": "stderr",
     "output_type": "stream",
     "text": [
      "J:\\PhD\\Projects\\chicago-energy-cons\\env\\lib\\site-packages\\pyarrow\\pandas_compat.py:373: FutureWarning: is_sparse is deprecated and will be removed in a future version. Check `isinstance(dtype, pd.SparseDtype)` instead.\n",
      "  if _pandas_api.is_sparse(col):\n"
     ]
    }
   ],
   "source": [
    "df.to_parquet('../data/comed_day/2020_01_29_melted.parquet', engine='pyarrow')"
   ],
   "metadata": {
    "collapsed": false,
    "ExecuteTime": {
     "end_time": "2023-10-31T21:15:20.808366300Z",
     "start_time": "2023-10-31T21:12:25.883204200Z"
    }
   }
  },
  {
   "cell_type": "code",
   "execution_count": 2,
   "outputs": [],
   "source": [
    "df = dd.read_parquet('../data/comed_day/2020_01_29_melted.parquet')\n",
    "df = df.repartition(npartitions=50)"
   ],
   "metadata": {
    "collapsed": false,
    "ExecuteTime": {
     "end_time": "2023-10-31T21:44:55.531761Z",
     "start_time": "2023-10-31T21:44:55.436741400Z"
    }
   }
  },
  {
   "cell_type": "code",
   "execution_count": 3,
   "outputs": [],
   "source": [
    "\n",
    "#df['date_time'] = df.Time.map(lambda x: datetime.datetime.strptime(f'01/{29}/2020 {x}','%m/%d/%Y %H%M')).astype(str)\n",
    "\n",
    "del df['INTERVAL_READING_DATE']\n",
    "\n",
    "df['date_time'] = \"01/29/2020 \" + df.Time\n",
    "\n",
    "df = df[['ZIP_CODE', 'ACCOUNT_IDENTIFIER', 'DELIVERY_SERVICE_NAME', 'date_time', 'energy']]\n",
    "\n",
    "df['zip5'] = df.ZIP_CODE.str[:5]\n",
    "\n",
    "df = df.rename(columns={'ZIP_CODE': 'zip9','ACCOUNT_IDENTIFIER': 'n_acc', 'DELIVERY_SERVICE_NAME': 'service_name'})\n",
    "\n",
    "\n",
    "df = df[['zip5', 'n_acc', 'service_name', 'date_time', 'energy']]    \n",
    " "
   ],
   "metadata": {
    "collapsed": false,
    "ExecuteTime": {
     "end_time": "2023-10-31T21:45:00.114904300Z",
     "start_time": "2023-10-31T21:45:00.047547200Z"
    }
   }
  },
  {
   "cell_type": "code",
   "execution_count": 4,
   "outputs": [
    {
     "name": "stderr",
     "output_type": "stream",
     "text": [
      "J:\\PhD\\Projects\\chicago-energy-cons\\env\\lib\\site-packages\\pyarrow\\pandas_compat.py:373: FutureWarning: is_sparse is deprecated and will be removed in a future version. Check `isinstance(dtype, pd.SparseDtype)` instead.\n",
      "  if _pandas_api.is_sparse(col):\n",
      "J:\\PhD\\Projects\\chicago-energy-cons\\env\\lib\\site-packages\\pyarrow\\pandas_compat.py:456: FutureWarning: is_sparse is deprecated and will be removed in a future version. Check `isinstance(dtype, pd.SparseDtype)` instead.\n",
      "  if _pandas_api.is_sparse(col):\n",
      "J:\\PhD\\Projects\\chicago-energy-cons\\env\\lib\\site-packages\\pyarrow\\pandas_compat.py:456: FutureWarning: is_sparse is deprecated and will be removed in a future version. Check `isinstance(dtype, pd.SparseDtype)` instead.\n",
      "  if _pandas_api.is_sparse(col):\n",
      "J:\\PhD\\Projects\\chicago-energy-cons\\env\\lib\\site-packages\\pyarrow\\pandas_compat.py:456: FutureWarning: is_sparse is deprecated and will be removed in a future version. Check `isinstance(dtype, pd.SparseDtype)` instead.\n",
      "  if _pandas_api.is_sparse(col):\n",
      "J:\\PhD\\Projects\\chicago-energy-cons\\env\\lib\\site-packages\\pyarrow\\pandas_compat.py:456: FutureWarning: is_sparse is deprecated and will be removed in a future version. Check `isinstance(dtype, pd.SparseDtype)` instead.\n",
      "  if _pandas_api.is_sparse(col):\n",
      "J:\\PhD\\Projects\\chicago-energy-cons\\env\\lib\\site-packages\\pyarrow\\pandas_compat.py:456: FutureWarning: is_sparse is deprecated and will be removed in a future version. Check `isinstance(dtype, pd.SparseDtype)` instead.\n",
      "  if _pandas_api.is_sparse(col):\n",
      "J:\\PhD\\Projects\\chicago-energy-cons\\env\\lib\\site-packages\\pyarrow\\pandas_compat.py:456: FutureWarning: is_sparse is deprecated and will be removed in a future version. Check `isinstance(dtype, pd.SparseDtype)` instead.\n",
      "  if _pandas_api.is_sparse(col):\n",
      "J:\\PhD\\Projects\\chicago-energy-cons\\env\\lib\\site-packages\\pyarrow\\pandas_compat.py:456: FutureWarning: is_sparse is deprecated and will be removed in a future version. Check `isinstance(dtype, pd.SparseDtype)` instead.\n",
      "  if _pandas_api.is_sparse(col):\n",
      "J:\\PhD\\Projects\\chicago-energy-cons\\env\\lib\\site-packages\\pyarrow\\pandas_compat.py:456: FutureWarning: is_sparse is deprecated and will be removed in a future version. Check `isinstance(dtype, pd.SparseDtype)` instead.\n",
      "  if _pandas_api.is_sparse(col):\n",
      "J:\\PhD\\Projects\\chicago-energy-cons\\env\\lib\\site-packages\\pyarrow\\pandas_compat.py:456: FutureWarning: is_sparse is deprecated and will be removed in a future version. Check `isinstance(dtype, pd.SparseDtype)` instead.\n",
      "  if _pandas_api.is_sparse(col):\n",
      "J:\\PhD\\Projects\\chicago-energy-cons\\env\\lib\\site-packages\\pyarrow\\pandas_compat.py:456: FutureWarning: is_sparse is deprecated and will be removed in a future version. Check `isinstance(dtype, pd.SparseDtype)` instead.\n",
      "  if _pandas_api.is_sparse(col):\n",
      "J:\\PhD\\Projects\\chicago-energy-cons\\env\\lib\\site-packages\\pyarrow\\pandas_compat.py:456: FutureWarning: is_sparse is deprecated and will be removed in a future version. Check `isinstance(dtype, pd.SparseDtype)` instead.\n",
      "  if _pandas_api.is_sparse(col):\n",
      "J:\\PhD\\Projects\\chicago-energy-cons\\env\\lib\\site-packages\\pyarrow\\pandas_compat.py:456: FutureWarning: is_sparse is deprecated and will be removed in a future version. Check `isinstance(dtype, pd.SparseDtype)` instead.\n",
      "  if _pandas_api.is_sparse(col):\n",
      "J:\\PhD\\Projects\\chicago-energy-cons\\env\\lib\\site-packages\\pyarrow\\pandas_compat.py:456: FutureWarning: is_sparse is deprecated and will be removed in a future version. Check `isinstance(dtype, pd.SparseDtype)` instead.\n",
      "  if _pandas_api.is_sparse(col):\n",
      "J:\\PhD\\Projects\\chicago-energy-cons\\env\\lib\\site-packages\\pyarrow\\pandas_compat.py:456: FutureWarning: is_sparse is deprecated and will be removed in a future version. Check `isinstance(dtype, pd.SparseDtype)` instead.\n",
      "  if _pandas_api.is_sparse(col):\n",
      "J:\\PhD\\Projects\\chicago-energy-cons\\env\\lib\\site-packages\\pyarrow\\pandas_compat.py:456: FutureWarning: is_sparse is deprecated and will be removed in a future version. Check `isinstance(dtype, pd.SparseDtype)` instead.\n",
      "  if _pandas_api.is_sparse(col):\n",
      "J:\\PhD\\Projects\\chicago-energy-cons\\env\\lib\\site-packages\\pyarrow\\pandas_compat.py:456: FutureWarning: is_sparse is deprecated and will be removed in a future version. Check `isinstance(dtype, pd.SparseDtype)` instead.\n",
      "  if _pandas_api.is_sparse(col):\n",
      "J:\\PhD\\Projects\\chicago-energy-cons\\env\\lib\\site-packages\\pyarrow\\pandas_compat.py:456: FutureWarning: is_sparse is deprecated and will be removed in a future version. Check `isinstance(dtype, pd.SparseDtype)` instead.\n",
      "  if _pandas_api.is_sparse(col):\n",
      "J:\\PhD\\Projects\\chicago-energy-cons\\env\\lib\\site-packages\\pyarrow\\pandas_compat.py:456: FutureWarning: is_sparse is deprecated and will be removed in a future version. Check `isinstance(dtype, pd.SparseDtype)` instead.\n",
      "  if _pandas_api.is_sparse(col):\n",
      "J:\\PhD\\Projects\\chicago-energy-cons\\env\\lib\\site-packages\\pyarrow\\pandas_compat.py:456: FutureWarning: is_sparse is deprecated and will be removed in a future version. Check `isinstance(dtype, pd.SparseDtype)` instead.\n",
      "  if _pandas_api.is_sparse(col):\n",
      "J:\\PhD\\Projects\\chicago-energy-cons\\env\\lib\\site-packages\\pyarrow\\pandas_compat.py:456: FutureWarning: is_sparse is deprecated and will be removed in a future version. Check `isinstance(dtype, pd.SparseDtype)` instead.\n",
      "  if _pandas_api.is_sparse(col):\n",
      "J:\\PhD\\Projects\\chicago-energy-cons\\env\\lib\\site-packages\\pyarrow\\pandas_compat.py:456: FutureWarning: is_sparse is deprecated and will be removed in a future version. Check `isinstance(dtype, pd.SparseDtype)` instead.\n",
      "  if _pandas_api.is_sparse(col):\n",
      "J:\\PhD\\Projects\\chicago-energy-cons\\env\\lib\\site-packages\\pyarrow\\pandas_compat.py:456: FutureWarning: is_sparse is deprecated and will be removed in a future version. Check `isinstance(dtype, pd.SparseDtype)` instead.\n",
      "  if _pandas_api.is_sparse(col):\n",
      "J:\\PhD\\Projects\\chicago-energy-cons\\env\\lib\\site-packages\\pyarrow\\pandas_compat.py:456: FutureWarning: is_sparse is deprecated and will be removed in a future version. Check `isinstance(dtype, pd.SparseDtype)` instead.\n",
      "  if _pandas_api.is_sparse(col):\n",
      "J:\\PhD\\Projects\\chicago-energy-cons\\env\\lib\\site-packages\\pyarrow\\pandas_compat.py:456: FutureWarning: is_sparse is deprecated and will be removed in a future version. Check `isinstance(dtype, pd.SparseDtype)` instead.\n",
      "  if _pandas_api.is_sparse(col):\n",
      "J:\\PhD\\Projects\\chicago-energy-cons\\env\\lib\\site-packages\\pyarrow\\pandas_compat.py:456: FutureWarning: is_sparse is deprecated and will be removed in a future version. Check `isinstance(dtype, pd.SparseDtype)` instead.\n",
      "  if _pandas_api.is_sparse(col):\n",
      "J:\\PhD\\Projects\\chicago-energy-cons\\env\\lib\\site-packages\\pyarrow\\pandas_compat.py:456: FutureWarning: is_sparse is deprecated and will be removed in a future version. Check `isinstance(dtype, pd.SparseDtype)` instead.\n",
      "  if _pandas_api.is_sparse(col):\n",
      "J:\\PhD\\Projects\\chicago-energy-cons\\env\\lib\\site-packages\\pyarrow\\pandas_compat.py:456: FutureWarning: is_sparse is deprecated and will be removed in a future version. Check `isinstance(dtype, pd.SparseDtype)` instead.\n",
      "  if _pandas_api.is_sparse(col):\n",
      "J:\\PhD\\Projects\\chicago-energy-cons\\env\\lib\\site-packages\\pyarrow\\pandas_compat.py:456: FutureWarning: is_sparse is deprecated and will be removed in a future version. Check `isinstance(dtype, pd.SparseDtype)` instead.\n",
      "  if _pandas_api.is_sparse(col):\n",
      "J:\\PhD\\Projects\\chicago-energy-cons\\env\\lib\\site-packages\\pyarrow\\pandas_compat.py:456: FutureWarning: is_sparse is deprecated and will be removed in a future version. Check `isinstance(dtype, pd.SparseDtype)` instead.\n",
      "  if _pandas_api.is_sparse(col):\n",
      "J:\\PhD\\Projects\\chicago-energy-cons\\env\\lib\\site-packages\\pyarrow\\pandas_compat.py:456: FutureWarning: is_sparse is deprecated and will be removed in a future version. Check `isinstance(dtype, pd.SparseDtype)` instead.\n",
      "  if _pandas_api.is_sparse(col):\n",
      "J:\\PhD\\Projects\\chicago-energy-cons\\env\\lib\\site-packages\\pyarrow\\pandas_compat.py:456: FutureWarning: is_sparse is deprecated and will be removed in a future version. Check `isinstance(dtype, pd.SparseDtype)` instead.\n",
      "  if _pandas_api.is_sparse(col):\n",
      "J:\\PhD\\Projects\\chicago-energy-cons\\env\\lib\\site-packages\\pyarrow\\pandas_compat.py:456: FutureWarning: is_sparse is deprecated and will be removed in a future version. Check `isinstance(dtype, pd.SparseDtype)` instead.\n",
      "  if _pandas_api.is_sparse(col):\n",
      "J:\\PhD\\Projects\\chicago-energy-cons\\env\\lib\\site-packages\\pyarrow\\pandas_compat.py:456: FutureWarning: is_sparse is deprecated and will be removed in a future version. Check `isinstance(dtype, pd.SparseDtype)` instead.\n",
      "  if _pandas_api.is_sparse(col):\n",
      "J:\\PhD\\Projects\\chicago-energy-cons\\env\\lib\\site-packages\\pyarrow\\pandas_compat.py:456: FutureWarning: is_sparse is deprecated and will be removed in a future version. Check `isinstance(dtype, pd.SparseDtype)` instead.\n",
      "  if _pandas_api.is_sparse(col):\n",
      "J:\\PhD\\Projects\\chicago-energy-cons\\env\\lib\\site-packages\\pyarrow\\pandas_compat.py:456: FutureWarning: is_sparse is deprecated and will be removed in a future version. Check `isinstance(dtype, pd.SparseDtype)` instead.\n",
      "  if _pandas_api.is_sparse(col):\n",
      "J:\\PhD\\Projects\\chicago-energy-cons\\env\\lib\\site-packages\\pyarrow\\pandas_compat.py:456: FutureWarning: is_sparse is deprecated and will be removed in a future version. Check `isinstance(dtype, pd.SparseDtype)` instead.\n",
      "  if _pandas_api.is_sparse(col):\n",
      "J:\\PhD\\Projects\\chicago-energy-cons\\env\\lib\\site-packages\\pyarrow\\pandas_compat.py:456: FutureWarning: is_sparse is deprecated and will be removed in a future version. Check `isinstance(dtype, pd.SparseDtype)` instead.\n",
      "  if _pandas_api.is_sparse(col):\n",
      "J:\\PhD\\Projects\\chicago-energy-cons\\env\\lib\\site-packages\\pyarrow\\pandas_compat.py:456: FutureWarning: is_sparse is deprecated and will be removed in a future version. Check `isinstance(dtype, pd.SparseDtype)` instead.\n",
      "  if _pandas_api.is_sparse(col):\n",
      "J:\\PhD\\Projects\\chicago-energy-cons\\env\\lib\\site-packages\\pyarrow\\pandas_compat.py:456: FutureWarning: is_sparse is deprecated and will be removed in a future version. Check `isinstance(dtype, pd.SparseDtype)` instead.\n",
      "  if _pandas_api.is_sparse(col):\n",
      "J:\\PhD\\Projects\\chicago-energy-cons\\env\\lib\\site-packages\\pyarrow\\pandas_compat.py:456: FutureWarning: is_sparse is deprecated and will be removed in a future version. Check `isinstance(dtype, pd.SparseDtype)` instead.\n",
      "  if _pandas_api.is_sparse(col):\n",
      "J:\\PhD\\Projects\\chicago-energy-cons\\env\\lib\\site-packages\\pyarrow\\pandas_compat.py:456: FutureWarning: is_sparse is deprecated and will be removed in a future version. Check `isinstance(dtype, pd.SparseDtype)` instead.\n",
      "  if _pandas_api.is_sparse(col):\n",
      "J:\\PhD\\Projects\\chicago-energy-cons\\env\\lib\\site-packages\\pyarrow\\pandas_compat.py:456: FutureWarning: is_sparse is deprecated and will be removed in a future version. Check `isinstance(dtype, pd.SparseDtype)` instead.\n",
      "  if _pandas_api.is_sparse(col):\n",
      "J:\\PhD\\Projects\\chicago-energy-cons\\env\\lib\\site-packages\\pyarrow\\pandas_compat.py:456: FutureWarning: is_sparse is deprecated and will be removed in a future version. Check `isinstance(dtype, pd.SparseDtype)` instead.\n",
      "  if _pandas_api.is_sparse(col):\n",
      "J:\\PhD\\Projects\\chicago-energy-cons\\env\\lib\\site-packages\\pyarrow\\pandas_compat.py:456: FutureWarning: is_sparse is deprecated and will be removed in a future version. Check `isinstance(dtype, pd.SparseDtype)` instead.\n",
      "  if _pandas_api.is_sparse(col):\n",
      "J:\\PhD\\Projects\\chicago-energy-cons\\env\\lib\\site-packages\\pyarrow\\pandas_compat.py:456: FutureWarning: is_sparse is deprecated and will be removed in a future version. Check `isinstance(dtype, pd.SparseDtype)` instead.\n",
      "  if _pandas_api.is_sparse(col):\n",
      "J:\\PhD\\Projects\\chicago-energy-cons\\env\\lib\\site-packages\\pyarrow\\pandas_compat.py:456: FutureWarning: is_sparse is deprecated and will be removed in a future version. Check `isinstance(dtype, pd.SparseDtype)` instead.\n",
      "  if _pandas_api.is_sparse(col):\n",
      "J:\\PhD\\Projects\\chicago-energy-cons\\env\\lib\\site-packages\\pyarrow\\pandas_compat.py:456: FutureWarning: is_sparse is deprecated and will be removed in a future version. Check `isinstance(dtype, pd.SparseDtype)` instead.\n",
      "  if _pandas_api.is_sparse(col):\n",
      "J:\\PhD\\Projects\\chicago-energy-cons\\env\\lib\\site-packages\\pyarrow\\pandas_compat.py:456: FutureWarning: is_sparse is deprecated and will be removed in a future version. Check `isinstance(dtype, pd.SparseDtype)` instead.\n",
      "  if _pandas_api.is_sparse(col):\n",
      "J:\\PhD\\Projects\\chicago-energy-cons\\env\\lib\\site-packages\\pyarrow\\pandas_compat.py:456: FutureWarning: is_sparse is deprecated and will be removed in a future version. Check `isinstance(dtype, pd.SparseDtype)` instead.\n",
      "  if _pandas_api.is_sparse(col):\n"
     ]
    }
   ],
   "source": [
    "df.to_parquet('../data/comed_day/2020_01_29.parquet', engine='pyarrow')"
   ],
   "metadata": {
    "collapsed": false,
    "ExecuteTime": {
     "end_time": "2023-10-31T21:51:56.793334500Z",
     "start_time": "2023-10-31T21:45:05.419492100Z"
    }
   }
  },
  {
   "cell_type": "code",
   "execution_count": 44,
   "outputs": [
    {
     "ename": "MemoryError",
     "evalue": "",
     "output_type": "error",
     "traceback": [
      "\u001B[1;31m---------------------------------------------------------------------------\u001B[0m",
      "\u001B[1;31mMemoryError\u001B[0m                               Traceback (most recent call last)",
      "Cell \u001B[1;32mIn[44], line 2\u001B[0m\n\u001B[0;32m      1\u001B[0m \u001B[38;5;66;03m#df['date_time'] = df.INTERVAL_READING_DATE.astype(str)  + \" \" + df.Time\u001B[39;00m\n\u001B[1;32m----> 2\u001B[0m df[\u001B[38;5;124m'\u001B[39m\u001B[38;5;124mdate_time\u001B[39m\u001B[38;5;124m'\u001B[39m] \u001B[38;5;241m=\u001B[39m \u001B[43mdf\u001B[49m\u001B[38;5;241;43m.\u001B[39;49m\u001B[43mTime\u001B[49m\u001B[38;5;241;43m.\u001B[39;49m\u001B[43mmap\u001B[49m\u001B[43m(\u001B[49m\u001B[38;5;28;43;01mlambda\u001B[39;49;00m\u001B[43m \u001B[49m\u001B[43mx\u001B[49m\u001B[43m:\u001B[49m\u001B[43m \u001B[49m\u001B[43mdatetime\u001B[49m\u001B[38;5;241;43m.\u001B[39;49m\u001B[43mdatetime\u001B[49m\u001B[38;5;241;43m.\u001B[39;49m\u001B[43mstrptime\u001B[49m\u001B[43m(\u001B[49m\u001B[38;5;124;43mf\u001B[39;49m\u001B[38;5;124;43m'\u001B[39;49m\u001B[38;5;124;43m02/\u001B[39;49m\u001B[38;5;132;43;01m{\u001B[39;49;00m\u001B[43mday\u001B[49m\u001B[38;5;132;43;01m}\u001B[39;49;00m\u001B[38;5;124;43m/2020 \u001B[39;49m\u001B[38;5;132;43;01m{\u001B[39;49;00m\u001B[43mx\u001B[49m\u001B[38;5;132;43;01m}\u001B[39;49;00m\u001B[38;5;124;43m'\u001B[39;49m\u001B[43m,\u001B[49m\u001B[38;5;124;43m'\u001B[39;49m\u001B[38;5;124;43m%\u001B[39;49m\u001B[38;5;124;43mm/\u001B[39;49m\u001B[38;5;132;43;01m%d\u001B[39;49;00m\u001B[38;5;124;43m/\u001B[39;49m\u001B[38;5;124;43m%\u001B[39;49m\u001B[38;5;124;43mY \u001B[39;49m\u001B[38;5;124;43m%\u001B[39;49m\u001B[38;5;124;43mH\u001B[39;49m\u001B[38;5;124;43m%\u001B[39;49m\u001B[38;5;124;43mM\u001B[39;49m\u001B[38;5;124;43m'\u001B[39;49m\u001B[43m)\u001B[49m\u001B[43m)\u001B[49m\u001B[38;5;241m.\u001B[39mastype(\u001B[38;5;28mstr\u001B[39m)\n\u001B[0;32m      4\u001B[0m df \u001B[38;5;241m=\u001B[39m df[[\u001B[38;5;124m'\u001B[39m\u001B[38;5;124mZIP_CODE\u001B[39m\u001B[38;5;124m'\u001B[39m, \u001B[38;5;124m'\u001B[39m\u001B[38;5;124mACCOUNT_IDENTIFIER\u001B[39m\u001B[38;5;124m'\u001B[39m, \u001B[38;5;124m'\u001B[39m\u001B[38;5;124mDELIVERY_SERVICE_NAME\u001B[39m\u001B[38;5;124m'\u001B[39m, \u001B[38;5;124m'\u001B[39m\u001B[38;5;124mdate_time\u001B[39m\u001B[38;5;124m'\u001B[39m, \u001B[38;5;124m'\u001B[39m\u001B[38;5;124menergy\u001B[39m\u001B[38;5;124m'\u001B[39m]]\n\u001B[0;32m      6\u001B[0m \u001B[38;5;66;03m#df['zip5'] = df.ZIP_CODE.str[:5]\u001B[39;00m\n",
      "File \u001B[1;32mJ:\\PhD\\Projects\\chicago-energy-cons\\env\\lib\\site-packages\\pandas\\core\\series.py:4540\u001B[0m, in \u001B[0;36mSeries.map\u001B[1;34m(self, arg, na_action)\u001B[0m\n\u001B[0;32m   4460\u001B[0m \u001B[38;5;28;01mdef\u001B[39;00m \u001B[38;5;21mmap\u001B[39m(\n\u001B[0;32m   4461\u001B[0m     \u001B[38;5;28mself\u001B[39m,\n\u001B[0;32m   4462\u001B[0m     arg: Callable \u001B[38;5;241m|\u001B[39m Mapping \u001B[38;5;241m|\u001B[39m Series,\n\u001B[0;32m   4463\u001B[0m     na_action: Literal[\u001B[38;5;124m\"\u001B[39m\u001B[38;5;124mignore\u001B[39m\u001B[38;5;124m\"\u001B[39m] \u001B[38;5;241m|\u001B[39m \u001B[38;5;28;01mNone\u001B[39;00m \u001B[38;5;241m=\u001B[39m \u001B[38;5;28;01mNone\u001B[39;00m,\n\u001B[0;32m   4464\u001B[0m ) \u001B[38;5;241m-\u001B[39m\u001B[38;5;241m>\u001B[39m Series:\n\u001B[0;32m   4465\u001B[0m \u001B[38;5;250m    \u001B[39m\u001B[38;5;124;03m\"\"\"\u001B[39;00m\n\u001B[0;32m   4466\u001B[0m \u001B[38;5;124;03m    Map values of Series according to an input mapping or function.\u001B[39;00m\n\u001B[0;32m   4467\u001B[0m \n\u001B[1;32m   (...)\u001B[0m\n\u001B[0;32m   4538\u001B[0m \u001B[38;5;124;03m    dtype: object\u001B[39;00m\n\u001B[0;32m   4539\u001B[0m \u001B[38;5;124;03m    \"\"\"\u001B[39;00m\n\u001B[1;32m-> 4540\u001B[0m     new_values \u001B[38;5;241m=\u001B[39m \u001B[38;5;28;43mself\u001B[39;49m\u001B[38;5;241;43m.\u001B[39;49m\u001B[43m_map_values\u001B[49m\u001B[43m(\u001B[49m\u001B[43marg\u001B[49m\u001B[43m,\u001B[49m\u001B[43m \u001B[49m\u001B[43mna_action\u001B[49m\u001B[38;5;241;43m=\u001B[39;49m\u001B[43mna_action\u001B[49m\u001B[43m)\u001B[49m\n\u001B[0;32m   4541\u001B[0m     \u001B[38;5;28;01mreturn\u001B[39;00m \u001B[38;5;28mself\u001B[39m\u001B[38;5;241m.\u001B[39m_constructor(new_values, index\u001B[38;5;241m=\u001B[39m\u001B[38;5;28mself\u001B[39m\u001B[38;5;241m.\u001B[39mindex, copy\u001B[38;5;241m=\u001B[39m\u001B[38;5;28;01mFalse\u001B[39;00m)\u001B[38;5;241m.\u001B[39m__finalize__(\n\u001B[0;32m   4542\u001B[0m         \u001B[38;5;28mself\u001B[39m, method\u001B[38;5;241m=\u001B[39m\u001B[38;5;124m\"\u001B[39m\u001B[38;5;124mmap\u001B[39m\u001B[38;5;124m\"\u001B[39m\n\u001B[0;32m   4543\u001B[0m     )\n",
      "File \u001B[1;32mJ:\\PhD\\Projects\\chicago-energy-cons\\env\\lib\\site-packages\\pandas\\core\\base.py:921\u001B[0m, in \u001B[0;36mIndexOpsMixin._map_values\u001B[1;34m(self, mapper, na_action, convert)\u001B[0m\n\u001B[0;32m    918\u001B[0m \u001B[38;5;28;01mif\u001B[39;00m \u001B[38;5;28misinstance\u001B[39m(arr, ExtensionArray):\n\u001B[0;32m    919\u001B[0m     \u001B[38;5;28;01mreturn\u001B[39;00m arr\u001B[38;5;241m.\u001B[39mmap(mapper, na_action\u001B[38;5;241m=\u001B[39mna_action)\n\u001B[1;32m--> 921\u001B[0m \u001B[38;5;28;01mreturn\u001B[39;00m \u001B[43malgorithms\u001B[49m\u001B[38;5;241;43m.\u001B[39;49m\u001B[43mmap_array\u001B[49m\u001B[43m(\u001B[49m\u001B[43marr\u001B[49m\u001B[43m,\u001B[49m\u001B[43m \u001B[49m\u001B[43mmapper\u001B[49m\u001B[43m,\u001B[49m\u001B[43m \u001B[49m\u001B[43mna_action\u001B[49m\u001B[38;5;241;43m=\u001B[39;49m\u001B[43mna_action\u001B[49m\u001B[43m,\u001B[49m\u001B[43m \u001B[49m\u001B[43mconvert\u001B[49m\u001B[38;5;241;43m=\u001B[39;49m\u001B[43mconvert\u001B[49m\u001B[43m)\u001B[49m\n",
      "File \u001B[1;32mJ:\\PhD\\Projects\\chicago-energy-cons\\env\\lib\\site-packages\\pandas\\core\\algorithms.py:1814\u001B[0m, in \u001B[0;36mmap_array\u001B[1;34m(arr, mapper, na_action, convert)\u001B[0m\n\u001B[0;32m   1812\u001B[0m values \u001B[38;5;241m=\u001B[39m arr\u001B[38;5;241m.\u001B[39mastype(\u001B[38;5;28mobject\u001B[39m, copy\u001B[38;5;241m=\u001B[39m\u001B[38;5;28;01mFalse\u001B[39;00m)\n\u001B[0;32m   1813\u001B[0m \u001B[38;5;28;01mif\u001B[39;00m na_action \u001B[38;5;129;01mis\u001B[39;00m \u001B[38;5;28;01mNone\u001B[39;00m:\n\u001B[1;32m-> 1814\u001B[0m     \u001B[38;5;28;01mreturn\u001B[39;00m \u001B[43mlib\u001B[49m\u001B[38;5;241;43m.\u001B[39;49m\u001B[43mmap_infer\u001B[49m\u001B[43m(\u001B[49m\u001B[43mvalues\u001B[49m\u001B[43m,\u001B[49m\u001B[43m \u001B[49m\u001B[43mmapper\u001B[49m\u001B[43m,\u001B[49m\u001B[43m \u001B[49m\u001B[43mconvert\u001B[49m\u001B[38;5;241;43m=\u001B[39;49m\u001B[43mconvert\u001B[49m\u001B[43m)\u001B[49m\n\u001B[0;32m   1815\u001B[0m \u001B[38;5;28;01melse\u001B[39;00m:\n\u001B[0;32m   1816\u001B[0m     \u001B[38;5;28;01mreturn\u001B[39;00m lib\u001B[38;5;241m.\u001B[39mmap_infer_mask(\n\u001B[0;32m   1817\u001B[0m         values, mapper, mask\u001B[38;5;241m=\u001B[39misna(values)\u001B[38;5;241m.\u001B[39mview(np\u001B[38;5;241m.\u001B[39muint8), convert\u001B[38;5;241m=\u001B[39mconvert\n\u001B[0;32m   1818\u001B[0m     )\n",
      "File \u001B[1;32mlib.pyx:2917\u001B[0m, in \u001B[0;36mpandas._libs.lib.map_infer\u001B[1;34m()\u001B[0m\n",
      "Cell \u001B[1;32mIn[44], line 2\u001B[0m, in \u001B[0;36m<lambda>\u001B[1;34m(x)\u001B[0m\n\u001B[0;32m      1\u001B[0m \u001B[38;5;66;03m#df['date_time'] = df.INTERVAL_READING_DATE.astype(str)  + \" \" + df.Time\u001B[39;00m\n\u001B[1;32m----> 2\u001B[0m df[\u001B[38;5;124m'\u001B[39m\u001B[38;5;124mdate_time\u001B[39m\u001B[38;5;124m'\u001B[39m] \u001B[38;5;241m=\u001B[39m df\u001B[38;5;241m.\u001B[39mTime\u001B[38;5;241m.\u001B[39mmap(\u001B[38;5;28;01mlambda\u001B[39;00m x: \u001B[43mdatetime\u001B[49m\u001B[38;5;241;43m.\u001B[39;49m\u001B[43mdatetime\u001B[49m\u001B[38;5;241;43m.\u001B[39;49m\u001B[43mstrptime\u001B[49m\u001B[43m(\u001B[49m\u001B[38;5;124;43mf\u001B[39;49m\u001B[38;5;124;43m'\u001B[39;49m\u001B[38;5;124;43m02/\u001B[39;49m\u001B[38;5;132;43;01m{\u001B[39;49;00m\u001B[43mday\u001B[49m\u001B[38;5;132;43;01m}\u001B[39;49;00m\u001B[38;5;124;43m/2020 \u001B[39;49m\u001B[38;5;132;43;01m{\u001B[39;49;00m\u001B[43mx\u001B[49m\u001B[38;5;132;43;01m}\u001B[39;49;00m\u001B[38;5;124;43m'\u001B[39;49m\u001B[43m,\u001B[49m\u001B[38;5;124;43m'\u001B[39;49m\u001B[38;5;124;43m%\u001B[39;49m\u001B[38;5;124;43mm/\u001B[39;49m\u001B[38;5;132;43;01m%d\u001B[39;49;00m\u001B[38;5;124;43m/\u001B[39;49m\u001B[38;5;124;43m%\u001B[39;49m\u001B[38;5;124;43mY \u001B[39;49m\u001B[38;5;124;43m%\u001B[39;49m\u001B[38;5;124;43mH\u001B[39;49m\u001B[38;5;124;43m%\u001B[39;49m\u001B[38;5;124;43mM\u001B[39;49m\u001B[38;5;124;43m'\u001B[39;49m\u001B[43m)\u001B[49m)\u001B[38;5;241m.\u001B[39mastype(\u001B[38;5;28mstr\u001B[39m)\n\u001B[0;32m      4\u001B[0m df \u001B[38;5;241m=\u001B[39m df[[\u001B[38;5;124m'\u001B[39m\u001B[38;5;124mZIP_CODE\u001B[39m\u001B[38;5;124m'\u001B[39m, \u001B[38;5;124m'\u001B[39m\u001B[38;5;124mACCOUNT_IDENTIFIER\u001B[39m\u001B[38;5;124m'\u001B[39m, \u001B[38;5;124m'\u001B[39m\u001B[38;5;124mDELIVERY_SERVICE_NAME\u001B[39m\u001B[38;5;124m'\u001B[39m, \u001B[38;5;124m'\u001B[39m\u001B[38;5;124mdate_time\u001B[39m\u001B[38;5;124m'\u001B[39m, \u001B[38;5;124m'\u001B[39m\u001B[38;5;124menergy\u001B[39m\u001B[38;5;124m'\u001B[39m]]\n\u001B[0;32m      6\u001B[0m \u001B[38;5;66;03m#df['zip5'] = df.ZIP_CODE.str[:5]\u001B[39;00m\n",
      "File \u001B[1;32mJ:\\PhD\\Projects\\chicago-energy-cons\\env\\lib\\_strptime.py:568\u001B[0m, in \u001B[0;36m_strptime_datetime\u001B[1;34m(cls, data_string, format)\u001B[0m\n\u001B[0;32m    565\u001B[0m \u001B[38;5;28;01mdef\u001B[39;00m \u001B[38;5;21m_strptime_datetime\u001B[39m(\u001B[38;5;28mcls\u001B[39m, data_string, \u001B[38;5;28mformat\u001B[39m\u001B[38;5;241m=\u001B[39m\u001B[38;5;124m\"\u001B[39m\u001B[38;5;132;01m%a\u001B[39;00m\u001B[38;5;124m \u001B[39m\u001B[38;5;124m%\u001B[39m\u001B[38;5;124mb \u001B[39m\u001B[38;5;132;01m%d\u001B[39;00m\u001B[38;5;124m \u001B[39m\u001B[38;5;124m%\u001B[39m\u001B[38;5;124mH:\u001B[39m\u001B[38;5;124m%\u001B[39m\u001B[38;5;124mM:\u001B[39m\u001B[38;5;124m%\u001B[39m\u001B[38;5;124mS \u001B[39m\u001B[38;5;124m%\u001B[39m\u001B[38;5;124mY\u001B[39m\u001B[38;5;124m\"\u001B[39m):\n\u001B[0;32m    566\u001B[0m \u001B[38;5;250m    \u001B[39m\u001B[38;5;124;03m\"\"\"Return a class cls instance based on the input string and the\u001B[39;00m\n\u001B[0;32m    567\u001B[0m \u001B[38;5;124;03m    format string.\"\"\"\u001B[39;00m\n\u001B[1;32m--> 568\u001B[0m     tt, fraction, gmtoff_fraction \u001B[38;5;241m=\u001B[39m \u001B[43m_strptime\u001B[49m\u001B[43m(\u001B[49m\u001B[43mdata_string\u001B[49m\u001B[43m,\u001B[49m\u001B[43m \u001B[49m\u001B[38;5;28;43mformat\u001B[39;49m\u001B[43m)\u001B[49m\n\u001B[0;32m    569\u001B[0m     tzname, gmtoff \u001B[38;5;241m=\u001B[39m tt[\u001B[38;5;241m-\u001B[39m\u001B[38;5;241m2\u001B[39m:]\n\u001B[0;32m    570\u001B[0m     args \u001B[38;5;241m=\u001B[39m tt[:\u001B[38;5;241m6\u001B[39m] \u001B[38;5;241m+\u001B[39m (fraction,)\n",
      "File \u001B[1;32mJ:\\PhD\\Projects\\chicago-energy-cons\\env\\lib\\_strptime.py:369\u001B[0m, in \u001B[0;36m_strptime\u001B[1;34m(data_string, format)\u001B[0m\n\u001B[0;32m    367\u001B[0m weekday \u001B[38;5;241m=\u001B[39m julian \u001B[38;5;241m=\u001B[39m \u001B[38;5;28;01mNone\u001B[39;00m\n\u001B[0;32m    368\u001B[0m found_dict \u001B[38;5;241m=\u001B[39m found\u001B[38;5;241m.\u001B[39mgroupdict()\n\u001B[1;32m--> 369\u001B[0m \u001B[38;5;28;01mfor\u001B[39;00m group_key \u001B[38;5;129;01min\u001B[39;00m \u001B[43mfound_dict\u001B[49m\u001B[38;5;241;43m.\u001B[39;49m\u001B[43mkeys\u001B[49m\u001B[43m(\u001B[49m\u001B[43m)\u001B[49m:\n\u001B[0;32m    370\u001B[0m     \u001B[38;5;66;03m# Directives not explicitly handled below:\u001B[39;00m\n\u001B[0;32m    371\u001B[0m     \u001B[38;5;66;03m#   c, x, X\u001B[39;00m\n\u001B[0;32m    372\u001B[0m     \u001B[38;5;66;03m#      handled by making out of other directives\u001B[39;00m\n\u001B[0;32m    373\u001B[0m     \u001B[38;5;66;03m#   U, W\u001B[39;00m\n\u001B[0;32m    374\u001B[0m     \u001B[38;5;66;03m#      worthless without day of the week\u001B[39;00m\n\u001B[0;32m    375\u001B[0m     \u001B[38;5;28;01mif\u001B[39;00m group_key \u001B[38;5;241m==\u001B[39m \u001B[38;5;124m'\u001B[39m\u001B[38;5;124my\u001B[39m\u001B[38;5;124m'\u001B[39m:\n\u001B[0;32m    376\u001B[0m         year \u001B[38;5;241m=\u001B[39m \u001B[38;5;28mint\u001B[39m(found_dict[\u001B[38;5;124m'\u001B[39m\u001B[38;5;124my\u001B[39m\u001B[38;5;124m'\u001B[39m])\n",
      "\u001B[1;31mMemoryError\u001B[0m: "
     ]
    }
   ],
   "source": [
    "#df['date_time'] = df.INTERVAL_READING_DATE.astype(str)  + \" \" + df.Time\n",
    "df['date_time'] = df.Time.map(lambda x: datetime.datetime.strptime(f'02/{day}/2020 {x}','%m/%d/%Y %H%M')).astype(str)\n",
    "\n",
    "df = df[['ZIP_CODE', 'ACCOUNT_IDENTIFIER', 'DELIVERY_SERVICE_NAME', 'date_time', 'energy']]\n",
    "\n",
    "#df['zip5'] = df.ZIP_CODE.str[:5]\n",
    "\n",
    "df = df.rename(columns={'ZIP_CODE': 'zip9','ACCOUNT_IDENTIFIER': 'n_acc', 'DELIVERY_SERVICE_NAME': 'service_name'})\n",
    "\n",
    "\n",
    "df = df[['zip5', 'n_acc', 'service_name', 'date_time', 'energy']]    "
   ],
   "metadata": {
    "collapsed": false,
    "ExecuteTime": {
     "end_time": "2023-10-30T17:23:42.900878800Z",
     "start_time": "2023-10-30T17:19:02.844392900Z"
    }
   }
  },
  {
   "cell_type": "code",
   "execution_count": 54,
   "outputs": [
    {
     "data": {
      "text/plain": "          ZIP_CODE   ACCOUNT_IDENTIFIER DELIVERY_SERVICE_NAME  Time   energy\n0            60002      100165079286762    RESIDENTIAL SINGLE  0030   0.7000\n1            60002     1001612044853455    RESIDENTIAL SINGLE  0030   0.1950\n2            60002     1001618796973926    RESIDENTIAL SINGLE  0030   0.3575\n3            60002     1001621807998827    RESIDENTIAL SINGLE  0030   0.5550\n4            60002     1001625165455245    RESIDENTIAL SINGLE  0030   0.0475\n...            ...                  ...                   ...   ...      ...\n127422907    60617  1001706220068127931       MED (100 - 400)  0000  60.7680\n127422908    60617  1001706491419733703       MED (100 - 400)  0000  40.9680\n127422909    60617  1001706995463356353       MED (100 - 400)  0000  11.8200\n127422910    60617  1001707360696072175       MED (100 - 400)  0000  41.2490\n127422911    60617  1001707690643251209       MED (100 - 400)  0000  22.8480\n\n[127422912 rows x 5 columns]",
      "text/html": "<div>\n<style scoped>\n    .dataframe tbody tr th:only-of-type {\n        vertical-align: middle;\n    }\n\n    .dataframe tbody tr th {\n        vertical-align: top;\n    }\n\n    .dataframe thead th {\n        text-align: right;\n    }\n</style>\n<table border=\"1\" class=\"dataframe\">\n  <thead>\n    <tr style=\"text-align: right;\">\n      <th></th>\n      <th>ZIP_CODE</th>\n      <th>ACCOUNT_IDENTIFIER</th>\n      <th>DELIVERY_SERVICE_NAME</th>\n      <th>Time</th>\n      <th>energy</th>\n    </tr>\n  </thead>\n  <tbody>\n    <tr>\n      <th>0</th>\n      <td>60002</td>\n      <td>100165079286762</td>\n      <td>RESIDENTIAL SINGLE</td>\n      <td>0030</td>\n      <td>0.7000</td>\n    </tr>\n    <tr>\n      <th>1</th>\n      <td>60002</td>\n      <td>1001612044853455</td>\n      <td>RESIDENTIAL SINGLE</td>\n      <td>0030</td>\n      <td>0.1950</td>\n    </tr>\n    <tr>\n      <th>2</th>\n      <td>60002</td>\n      <td>1001618796973926</td>\n      <td>RESIDENTIAL SINGLE</td>\n      <td>0030</td>\n      <td>0.3575</td>\n    </tr>\n    <tr>\n      <th>3</th>\n      <td>60002</td>\n      <td>1001621807998827</td>\n      <td>RESIDENTIAL SINGLE</td>\n      <td>0030</td>\n      <td>0.5550</td>\n    </tr>\n    <tr>\n      <th>4</th>\n      <td>60002</td>\n      <td>1001625165455245</td>\n      <td>RESIDENTIAL SINGLE</td>\n      <td>0030</td>\n      <td>0.0475</td>\n    </tr>\n    <tr>\n      <th>...</th>\n      <td>...</td>\n      <td>...</td>\n      <td>...</td>\n      <td>...</td>\n      <td>...</td>\n    </tr>\n    <tr>\n      <th>127422907</th>\n      <td>60617</td>\n      <td>1001706220068127931</td>\n      <td>MED (100 - 400)</td>\n      <td>0000</td>\n      <td>60.7680</td>\n    </tr>\n    <tr>\n      <th>127422908</th>\n      <td>60617</td>\n      <td>1001706491419733703</td>\n      <td>MED (100 - 400)</td>\n      <td>0000</td>\n      <td>40.9680</td>\n    </tr>\n    <tr>\n      <th>127422909</th>\n      <td>60617</td>\n      <td>1001706995463356353</td>\n      <td>MED (100 - 400)</td>\n      <td>0000</td>\n      <td>11.8200</td>\n    </tr>\n    <tr>\n      <th>127422910</th>\n      <td>60617</td>\n      <td>1001707360696072175</td>\n      <td>MED (100 - 400)</td>\n      <td>0000</td>\n      <td>41.2490</td>\n    </tr>\n    <tr>\n      <th>127422911</th>\n      <td>60617</td>\n      <td>1001707690643251209</td>\n      <td>MED (100 - 400)</td>\n      <td>0000</td>\n      <td>22.8480</td>\n    </tr>\n  </tbody>\n</table>\n<p>127422912 rows × 5 columns</p>\n</div>"
     },
     "execution_count": 54,
     "metadata": {},
     "output_type": "execute_result"
    }
   ],
   "source": [
    "df\n"
   ],
   "metadata": {
    "collapsed": false,
    "ExecuteTime": {
     "end_time": "2023-10-30T17:46:05.639251600Z",
     "start_time": "2023-10-30T17:46:05.571236Z"
    }
   }
  },
  {
   "cell_type": "code",
   "execution_count": 53,
   "outputs": [
    {
     "name": "stderr",
     "output_type": "stream",
     "text": [
      "J:\\PhD\\Projects\\chicago-energy-cons\\env\\lib\\site-packages\\pyarrow\\pandas_compat.py:373: FutureWarning: is_sparse is deprecated and will be removed in a future version. Check `isinstance(dtype, pd.SparseDtype)` instead.\n",
      "  if _pandas_api.is_sparse(col):\n"
     ]
    }
   ],
   "source": [],
   "metadata": {
    "collapsed": false,
    "ExecuteTime": {
     "end_time": "2023-10-30T17:38:07.418878900Z",
     "start_time": "2023-10-30T17:36:21.210224800Z"
    }
   }
  },
  {
   "cell_type": "code",
   "execution_count": 51,
   "outputs": [
    {
     "data": {
      "text/plain": "5096916608"
     },
     "execution_count": 51,
     "metadata": {},
     "output_type": "execute_result"
    }
   ],
   "source": [
    "df.memory_usage().sum()"
   ],
   "metadata": {
    "collapsed": false,
    "ExecuteTime": {
     "end_time": "2023-10-30T17:31:34.856303900Z",
     "start_time": "2023-10-30T17:31:34.810411500Z"
    }
   }
  },
  {
   "cell_type": "code",
   "execution_count": null,
   "outputs": [],
   "source": [],
   "metadata": {
    "collapsed": false
   }
  },
  {
   "cell_type": "code",
   "execution_count": null,
   "outputs": [],
   "source": [],
   "metadata": {
    "collapsed": false
   }
  }
 ],
 "metadata": {
  "kernelspec": {
   "display_name": "Python 3",
   "language": "python",
   "name": "python3"
  },
  "language_info": {
   "codemirror_mode": {
    "name": "ipython",
    "version": 3
   },
   "file_extension": ".py",
   "mimetype": "text/x-python",
   "name": "python",
   "nbconvert_exporter": "python",
   "pygments_lexer": "ipython3",
   "version": "3.10.9"
  },
  "orig_nbformat": 4,
  "vscode": {
   "interpreter": {
    "hash": "ce44fec16a475fa863ad058858edc7cc1f739abe18a15028f7309c6483d88bee"
   }
  }
 },
 "nbformat": 4,
 "nbformat_minor": 2
}
