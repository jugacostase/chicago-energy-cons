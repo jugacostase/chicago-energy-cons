{
 "cells": [
  {
   "cell_type": "code",
   "execution_count": 1,
   "metadata": {
    "ExecuteTime": {
     "end_time": "2023-09-27T22:24:35.303508400Z",
     "start_time": "2023-09-27T22:24:34.427308700Z"
    }
   },
   "outputs": [],
   "source": [
    "import datetime\n",
    "\n",
    "import numpy as np\n",
    "import pandas as pd\n",
    "import geopandas as gpd\n",
    "\n",
    "import plotly.express as px\n",
    "\n",
    "px.set_mapbox_access_token(\"pk.eyJ1IjoiamdhY29zdGFzIiwiYSI6ImNsYWJwd3g1ZDAwaGUzb3Q0ZG04NDNndGgifQ.brk6kVA6biVSH0ovZ1dreA\")"
   ]
  },
  {
   "cell_type": "code",
   "execution_count": 2,
   "metadata": {
    "ExecuteTime": {
     "end_time": "2023-09-27T22:24:37.325967800Z",
     "start_time": "2023-09-27T22:24:35.292506400Z"
    }
   },
   "outputs": [
    {
     "ename": "FileNotFoundError",
     "evalue": "[Errno 2] No such file or directory: 'data/comed_month/comed_201801.csv'",
     "output_type": "error",
     "traceback": [
      "\u001B[1;31m---------------------------------------------------------------------------\u001B[0m",
      "\u001B[1;31mFileNotFoundError\u001B[0m                         Traceback (most recent call last)",
      "Cell \u001B[1;32mIn[2], line 1\u001B[0m\n\u001B[1;32m----> 1\u001B[0m df_data \u001B[38;5;241m=\u001B[39m \u001B[43mpd\u001B[49m\u001B[38;5;241;43m.\u001B[39;49m\u001B[43mread_csv\u001B[49m\u001B[43m(\u001B[49m\u001B[38;5;124;43m'\u001B[39;49m\u001B[38;5;124;43mdata/comed_month/comed_201801.csv\u001B[39;49m\u001B[38;5;124;43m'\u001B[39;49m\u001B[43m)\u001B[49m\n\u001B[0;32m      2\u001B[0m df_data[\u001B[38;5;124m'\u001B[39m\u001B[38;5;124mdate_time\u001B[39m\u001B[38;5;124m'\u001B[39m] \u001B[38;5;241m=\u001B[39m pd\u001B[38;5;241m.\u001B[39mto_datetime(df_data\u001B[38;5;241m.\u001B[39mdate_time)\n\u001B[0;32m      4\u001B[0m df_data \u001B[38;5;241m=\u001B[39m df_data\u001B[38;5;241m.\u001B[39mgroupby([\u001B[38;5;124m'\u001B[39m\u001B[38;5;124mzip5\u001B[39m\u001B[38;5;124m'\u001B[39m, \u001B[38;5;124m'\u001B[39m\u001B[38;5;124mdate_time\u001B[39m\u001B[38;5;124m'\u001B[39m])\u001B[38;5;241m.\u001B[39menergy\u001B[38;5;241m.\u001B[39msum()\u001B[38;5;241m.\u001B[39mreset_index()\n",
      "File \u001B[1;32mJ:\\PhD\\Conferences\\ASCE-INSPIRE2023\\env\\lib\\site-packages\\pandas\\io\\parsers\\readers.py:912\u001B[0m, in \u001B[0;36mread_csv\u001B[1;34m(filepath_or_buffer, sep, delimiter, header, names, index_col, usecols, dtype, engine, converters, true_values, false_values, skipinitialspace, skiprows, skipfooter, nrows, na_values, keep_default_na, na_filter, verbose, skip_blank_lines, parse_dates, infer_datetime_format, keep_date_col, date_parser, date_format, dayfirst, cache_dates, iterator, chunksize, compression, thousands, decimal, lineterminator, quotechar, quoting, doublequote, escapechar, comment, encoding, encoding_errors, dialect, on_bad_lines, delim_whitespace, low_memory, memory_map, float_precision, storage_options, dtype_backend)\u001B[0m\n\u001B[0;32m    899\u001B[0m kwds_defaults \u001B[38;5;241m=\u001B[39m _refine_defaults_read(\n\u001B[0;32m    900\u001B[0m     dialect,\n\u001B[0;32m    901\u001B[0m     delimiter,\n\u001B[1;32m   (...)\u001B[0m\n\u001B[0;32m    908\u001B[0m     dtype_backend\u001B[38;5;241m=\u001B[39mdtype_backend,\n\u001B[0;32m    909\u001B[0m )\n\u001B[0;32m    910\u001B[0m kwds\u001B[38;5;241m.\u001B[39mupdate(kwds_defaults)\n\u001B[1;32m--> 912\u001B[0m \u001B[38;5;28;01mreturn\u001B[39;00m \u001B[43m_read\u001B[49m\u001B[43m(\u001B[49m\u001B[43mfilepath_or_buffer\u001B[49m\u001B[43m,\u001B[49m\u001B[43m \u001B[49m\u001B[43mkwds\u001B[49m\u001B[43m)\u001B[49m\n",
      "File \u001B[1;32mJ:\\PhD\\Conferences\\ASCE-INSPIRE2023\\env\\lib\\site-packages\\pandas\\io\\parsers\\readers.py:577\u001B[0m, in \u001B[0;36m_read\u001B[1;34m(filepath_or_buffer, kwds)\u001B[0m\n\u001B[0;32m    574\u001B[0m _validate_names(kwds\u001B[38;5;241m.\u001B[39mget(\u001B[38;5;124m\"\u001B[39m\u001B[38;5;124mnames\u001B[39m\u001B[38;5;124m\"\u001B[39m, \u001B[38;5;28;01mNone\u001B[39;00m))\n\u001B[0;32m    576\u001B[0m \u001B[38;5;66;03m# Create the parser.\u001B[39;00m\n\u001B[1;32m--> 577\u001B[0m parser \u001B[38;5;241m=\u001B[39m TextFileReader(filepath_or_buffer, \u001B[38;5;241m*\u001B[39m\u001B[38;5;241m*\u001B[39mkwds)\n\u001B[0;32m    579\u001B[0m \u001B[38;5;28;01mif\u001B[39;00m chunksize \u001B[38;5;129;01mor\u001B[39;00m iterator:\n\u001B[0;32m    580\u001B[0m     \u001B[38;5;28;01mreturn\u001B[39;00m parser\n",
      "File \u001B[1;32mJ:\\PhD\\Conferences\\ASCE-INSPIRE2023\\env\\lib\\site-packages\\pandas\\io\\parsers\\readers.py:1407\u001B[0m, in \u001B[0;36mTextFileReader.__init__\u001B[1;34m(self, f, engine, **kwds)\u001B[0m\n\u001B[0;32m   1404\u001B[0m     \u001B[38;5;28mself\u001B[39m\u001B[38;5;241m.\u001B[39moptions[\u001B[38;5;124m\"\u001B[39m\u001B[38;5;124mhas_index_names\u001B[39m\u001B[38;5;124m\"\u001B[39m] \u001B[38;5;241m=\u001B[39m kwds[\u001B[38;5;124m\"\u001B[39m\u001B[38;5;124mhas_index_names\u001B[39m\u001B[38;5;124m\"\u001B[39m]\n\u001B[0;32m   1406\u001B[0m \u001B[38;5;28mself\u001B[39m\u001B[38;5;241m.\u001B[39mhandles: IOHandles \u001B[38;5;241m|\u001B[39m \u001B[38;5;28;01mNone\u001B[39;00m \u001B[38;5;241m=\u001B[39m \u001B[38;5;28;01mNone\u001B[39;00m\n\u001B[1;32m-> 1407\u001B[0m \u001B[38;5;28mself\u001B[39m\u001B[38;5;241m.\u001B[39m_engine \u001B[38;5;241m=\u001B[39m \u001B[38;5;28;43mself\u001B[39;49m\u001B[38;5;241;43m.\u001B[39;49m\u001B[43m_make_engine\u001B[49m\u001B[43m(\u001B[49m\u001B[43mf\u001B[49m\u001B[43m,\u001B[49m\u001B[43m \u001B[49m\u001B[38;5;28;43mself\u001B[39;49m\u001B[38;5;241;43m.\u001B[39;49m\u001B[43mengine\u001B[49m\u001B[43m)\u001B[49m\n",
      "File \u001B[1;32mJ:\\PhD\\Conferences\\ASCE-INSPIRE2023\\env\\lib\\site-packages\\pandas\\io\\parsers\\readers.py:1661\u001B[0m, in \u001B[0;36mTextFileReader._make_engine\u001B[1;34m(self, f, engine)\u001B[0m\n\u001B[0;32m   1659\u001B[0m     \u001B[38;5;28;01mif\u001B[39;00m \u001B[38;5;124m\"\u001B[39m\u001B[38;5;124mb\u001B[39m\u001B[38;5;124m\"\u001B[39m \u001B[38;5;129;01mnot\u001B[39;00m \u001B[38;5;129;01min\u001B[39;00m mode:\n\u001B[0;32m   1660\u001B[0m         mode \u001B[38;5;241m+\u001B[39m\u001B[38;5;241m=\u001B[39m \u001B[38;5;124m\"\u001B[39m\u001B[38;5;124mb\u001B[39m\u001B[38;5;124m\"\u001B[39m\n\u001B[1;32m-> 1661\u001B[0m \u001B[38;5;28mself\u001B[39m\u001B[38;5;241m.\u001B[39mhandles \u001B[38;5;241m=\u001B[39m \u001B[43mget_handle\u001B[49m\u001B[43m(\u001B[49m\n\u001B[0;32m   1662\u001B[0m \u001B[43m    \u001B[49m\u001B[43mf\u001B[49m\u001B[43m,\u001B[49m\n\u001B[0;32m   1663\u001B[0m \u001B[43m    \u001B[49m\u001B[43mmode\u001B[49m\u001B[43m,\u001B[49m\n\u001B[0;32m   1664\u001B[0m \u001B[43m    \u001B[49m\u001B[43mencoding\u001B[49m\u001B[38;5;241;43m=\u001B[39;49m\u001B[38;5;28;43mself\u001B[39;49m\u001B[38;5;241;43m.\u001B[39;49m\u001B[43moptions\u001B[49m\u001B[38;5;241;43m.\u001B[39;49m\u001B[43mget\u001B[49m\u001B[43m(\u001B[49m\u001B[38;5;124;43m\"\u001B[39;49m\u001B[38;5;124;43mencoding\u001B[39;49m\u001B[38;5;124;43m\"\u001B[39;49m\u001B[43m,\u001B[49m\u001B[43m \u001B[49m\u001B[38;5;28;43;01mNone\u001B[39;49;00m\u001B[43m)\u001B[49m\u001B[43m,\u001B[49m\n\u001B[0;32m   1665\u001B[0m \u001B[43m    \u001B[49m\u001B[43mcompression\u001B[49m\u001B[38;5;241;43m=\u001B[39;49m\u001B[38;5;28;43mself\u001B[39;49m\u001B[38;5;241;43m.\u001B[39;49m\u001B[43moptions\u001B[49m\u001B[38;5;241;43m.\u001B[39;49m\u001B[43mget\u001B[49m\u001B[43m(\u001B[49m\u001B[38;5;124;43m\"\u001B[39;49m\u001B[38;5;124;43mcompression\u001B[39;49m\u001B[38;5;124;43m\"\u001B[39;49m\u001B[43m,\u001B[49m\u001B[43m \u001B[49m\u001B[38;5;28;43;01mNone\u001B[39;49;00m\u001B[43m)\u001B[49m\u001B[43m,\u001B[49m\n\u001B[0;32m   1666\u001B[0m \u001B[43m    \u001B[49m\u001B[43mmemory_map\u001B[49m\u001B[38;5;241;43m=\u001B[39;49m\u001B[38;5;28;43mself\u001B[39;49m\u001B[38;5;241;43m.\u001B[39;49m\u001B[43moptions\u001B[49m\u001B[38;5;241;43m.\u001B[39;49m\u001B[43mget\u001B[49m\u001B[43m(\u001B[49m\u001B[38;5;124;43m\"\u001B[39;49m\u001B[38;5;124;43mmemory_map\u001B[39;49m\u001B[38;5;124;43m\"\u001B[39;49m\u001B[43m,\u001B[49m\u001B[43m \u001B[49m\u001B[38;5;28;43;01mFalse\u001B[39;49;00m\u001B[43m)\u001B[49m\u001B[43m,\u001B[49m\n\u001B[0;32m   1667\u001B[0m \u001B[43m    \u001B[49m\u001B[43mis_text\u001B[49m\u001B[38;5;241;43m=\u001B[39;49m\u001B[43mis_text\u001B[49m\u001B[43m,\u001B[49m\n\u001B[0;32m   1668\u001B[0m \u001B[43m    \u001B[49m\u001B[43merrors\u001B[49m\u001B[38;5;241;43m=\u001B[39;49m\u001B[38;5;28;43mself\u001B[39;49m\u001B[38;5;241;43m.\u001B[39;49m\u001B[43moptions\u001B[49m\u001B[38;5;241;43m.\u001B[39;49m\u001B[43mget\u001B[49m\u001B[43m(\u001B[49m\u001B[38;5;124;43m\"\u001B[39;49m\u001B[38;5;124;43mencoding_errors\u001B[39;49m\u001B[38;5;124;43m\"\u001B[39;49m\u001B[43m,\u001B[49m\u001B[43m \u001B[49m\u001B[38;5;124;43m\"\u001B[39;49m\u001B[38;5;124;43mstrict\u001B[39;49m\u001B[38;5;124;43m\"\u001B[39;49m\u001B[43m)\u001B[49m\u001B[43m,\u001B[49m\n\u001B[0;32m   1669\u001B[0m \u001B[43m    \u001B[49m\u001B[43mstorage_options\u001B[49m\u001B[38;5;241;43m=\u001B[39;49m\u001B[38;5;28;43mself\u001B[39;49m\u001B[38;5;241;43m.\u001B[39;49m\u001B[43moptions\u001B[49m\u001B[38;5;241;43m.\u001B[39;49m\u001B[43mget\u001B[49m\u001B[43m(\u001B[49m\u001B[38;5;124;43m\"\u001B[39;49m\u001B[38;5;124;43mstorage_options\u001B[39;49m\u001B[38;5;124;43m\"\u001B[39;49m\u001B[43m,\u001B[49m\u001B[43m \u001B[49m\u001B[38;5;28;43;01mNone\u001B[39;49;00m\u001B[43m)\u001B[49m\u001B[43m,\u001B[49m\n\u001B[0;32m   1670\u001B[0m \u001B[43m\u001B[49m\u001B[43m)\u001B[49m\n\u001B[0;32m   1671\u001B[0m \u001B[38;5;28;01massert\u001B[39;00m \u001B[38;5;28mself\u001B[39m\u001B[38;5;241m.\u001B[39mhandles \u001B[38;5;129;01mis\u001B[39;00m \u001B[38;5;129;01mnot\u001B[39;00m \u001B[38;5;28;01mNone\u001B[39;00m\n\u001B[0;32m   1672\u001B[0m f \u001B[38;5;241m=\u001B[39m \u001B[38;5;28mself\u001B[39m\u001B[38;5;241m.\u001B[39mhandles\u001B[38;5;241m.\u001B[39mhandle\n",
      "File \u001B[1;32mJ:\\PhD\\Conferences\\ASCE-INSPIRE2023\\env\\lib\\site-packages\\pandas\\io\\common.py:859\u001B[0m, in \u001B[0;36mget_handle\u001B[1;34m(path_or_buf, mode, encoding, compression, memory_map, is_text, errors, storage_options)\u001B[0m\n\u001B[0;32m    854\u001B[0m \u001B[38;5;28;01melif\u001B[39;00m \u001B[38;5;28misinstance\u001B[39m(handle, \u001B[38;5;28mstr\u001B[39m):\n\u001B[0;32m    855\u001B[0m     \u001B[38;5;66;03m# Check whether the filename is to be opened in binary mode.\u001B[39;00m\n\u001B[0;32m    856\u001B[0m     \u001B[38;5;66;03m# Binary mode does not support 'encoding' and 'newline'.\u001B[39;00m\n\u001B[0;32m    857\u001B[0m     \u001B[38;5;28;01mif\u001B[39;00m ioargs\u001B[38;5;241m.\u001B[39mencoding \u001B[38;5;129;01mand\u001B[39;00m \u001B[38;5;124m\"\u001B[39m\u001B[38;5;124mb\u001B[39m\u001B[38;5;124m\"\u001B[39m \u001B[38;5;129;01mnot\u001B[39;00m \u001B[38;5;129;01min\u001B[39;00m ioargs\u001B[38;5;241m.\u001B[39mmode:\n\u001B[0;32m    858\u001B[0m         \u001B[38;5;66;03m# Encoding\u001B[39;00m\n\u001B[1;32m--> 859\u001B[0m         handle \u001B[38;5;241m=\u001B[39m \u001B[38;5;28;43mopen\u001B[39;49m\u001B[43m(\u001B[49m\n\u001B[0;32m    860\u001B[0m \u001B[43m            \u001B[49m\u001B[43mhandle\u001B[49m\u001B[43m,\u001B[49m\n\u001B[0;32m    861\u001B[0m \u001B[43m            \u001B[49m\u001B[43mioargs\u001B[49m\u001B[38;5;241;43m.\u001B[39;49m\u001B[43mmode\u001B[49m\u001B[43m,\u001B[49m\n\u001B[0;32m    862\u001B[0m \u001B[43m            \u001B[49m\u001B[43mencoding\u001B[49m\u001B[38;5;241;43m=\u001B[39;49m\u001B[43mioargs\u001B[49m\u001B[38;5;241;43m.\u001B[39;49m\u001B[43mencoding\u001B[49m\u001B[43m,\u001B[49m\n\u001B[0;32m    863\u001B[0m \u001B[43m            \u001B[49m\u001B[43merrors\u001B[49m\u001B[38;5;241;43m=\u001B[39;49m\u001B[43merrors\u001B[49m\u001B[43m,\u001B[49m\n\u001B[0;32m    864\u001B[0m \u001B[43m            \u001B[49m\u001B[43mnewline\u001B[49m\u001B[38;5;241;43m=\u001B[39;49m\u001B[38;5;124;43m\"\u001B[39;49m\u001B[38;5;124;43m\"\u001B[39;49m\u001B[43m,\u001B[49m\n\u001B[0;32m    865\u001B[0m \u001B[43m        \u001B[49m\u001B[43m)\u001B[49m\n\u001B[0;32m    866\u001B[0m     \u001B[38;5;28;01melse\u001B[39;00m:\n\u001B[0;32m    867\u001B[0m         \u001B[38;5;66;03m# Binary mode\u001B[39;00m\n\u001B[0;32m    868\u001B[0m         handle \u001B[38;5;241m=\u001B[39m \u001B[38;5;28mopen\u001B[39m(handle, ioargs\u001B[38;5;241m.\u001B[39mmode)\n",
      "\u001B[1;31mFileNotFoundError\u001B[0m: [Errno 2] No such file or directory: 'data/comed_month/comed_201801.csv'"
     ]
    }
   ],
   "source": [
    "df_data = pd.read_csv('data/comed_month/comed_201801.csv')\n",
    "df_data['date_time'] = pd.to_datetime(df_data.date_time)\n",
    "\n",
    "df_data = df_data.groupby(['zip5', 'date_time']).energy.sum().reset_index()\n",
    "df_data['weekday'] = df_data.date_time.dt.weekday\n",
    "gdf_zc = gpd.read_file('data/geo/Chicago_ZC.geojson')\n",
    "gdf_zc['GEOID20'] = gdf_zc['GEOID20'].astype(int)\n",
    "\n",
    "gdf_data = pd.merge(gdf_zc, df_data, left_on='GEOID20', right_on='zip5')\n",
    "gdf_data = gdf_data.groupby(['zip5', 'weekday']).sum().reset_index()\n",
    "gdf_data['zip5'] = gdf_data['zip5'].astype(str)\n",
    "\n",
    "df_acs = pd.read_csv('data/census/Census_Clean_Zip5_IL_Sex_Age_Ethnicity_2018.csv')\n",
    "dict_names = dict(zip(df_acs.columns, df_acs.loc[0].values))\n",
    "df_acs = df_acs.drop(0)\n",
    "df_acs['zip5'] = df_acs.NAME.str[6:]\n",
    "\n",
    "gdf_data = pd.merge(gdf_data, df_acs, on='zip5')\n",
    "\n",
    "gdf_counties = gpd.read_file('data/geo/US_counties.json')\n"
   ]
  },
  {
   "cell_type": "code",
   "execution_count": null,
   "metadata": {
    "ExecuteTime": {
     "start_time": "2023-09-27T22:24:37.308963900Z"
    }
   },
   "outputs": [],
   "source": [
    "df_plot = gdf_data[['zip5', 'weekday', 'energy', 'DP05_0001E', 'DP05_0001M']].astype(int)\n",
    "df_plot['type_day'] = np.where(df_plot.weekday<=4, 'workday', 'weekend')\n",
    "#df_plot['type_day'] = np.where(df_plot.weekday==6, 'sunday', df_plot['type_day'])\n",
    "df_plot = df_plot.groupby(['zip5', 'type_day']).agg({\n",
    "    'energy': 'sum',\n",
    "    'DP05_0001E': 'sum',\n",
    "    'weekday': 'count'\n",
    "}).reset_index()\n",
    "\n",
    "gdf_zc_c = gdf_zc.sjoin(gdf_counties, how='left')\n",
    "city_zc = gdf_zc_c.query('NAME==\"Cook\"').GEOID20.values\n",
    "\n",
    "df_plot['energy_pp'] = df_plot.energy/df_plot.DP05_0001E\n",
    "df_plot['Class'] = np.where(df_plot.zip5.isin(city_zc), 'Urban', 'Suburban')\n",
    "\n",
    "df_plot['energy_pp_pd'] = df_plot.energy_pp/df_plot.weekday\n",
    "df_plot['zip5'] = df_plot['zip5'].astype(str)"
   ]
  },
  {
   "cell_type": "code",
   "execution_count": null,
   "metadata": {
    "ExecuteTime": {
     "start_time": "2023-09-27T22:24:37.316965700Z"
    }
   },
   "outputs": [],
   "source": [
    "fig = px.scatter(df_plot, x=df_plot.index, y='energy_pp_pd',  color='type_day', symbol='type_day',\n",
    "                 width=800, height=800, hover_data=['zip5'])\n",
    "fig.show()"
   ]
  },
  {
   "cell_type": "code",
   "execution_count": null,
   "metadata": {
    "ExecuteTime": {
     "start_time": "2023-09-27T22:24:37.322965700Z"
    }
   },
   "outputs": [],
   "source": [
    "fig = px.bar(df_plot, x='zip5', y='energy_pp_pd',  color='type_day',width=1600, height=800, hover_data=['zip5'])\n",
    "fig.show()"
   ]
  },
  {
   "cell_type": "code",
   "execution_count": null,
   "metadata": {
    "ExecuteTime": {
     "end_time": "2023-09-27T22:24:37.406983800Z",
     "start_time": "2023-09-27T22:24:37.329967600Z"
    }
   },
   "outputs": [],
   "source": [
    "df_plot = gdf_data[['zip5', 'weekday', 'energy', 'DP05_0001E', 'DP05_0001M']].astype(int)\n",
    "df_plot = df_plot.groupby(['zip5']).agg({\n",
    "    'energy': 'sum',\n",
    "    'DP05_0001E': 'sum',\n",
    "}).reset_index()\n",
    "\n",
    "gdf_zc_c = gdf_zc.sjoin(gdf_counties, how='left')\n",
    "city_zc = gdf_zc_c.query('NAME==\"Cook\"').GEOID20.values\n",
    "\n",
    "df_plot['energy_pp'] = df_plot.energy/df_plot.DP05_0001E\n",
    "df_plot['Class'] = np.where(df_plot.zip5.isin(city_zc), 'Urban', 'Suburban')\n"
   ]
  },
  {
   "cell_type": "code",
   "execution_count": null,
   "metadata": {
    "ExecuteTime": {
     "start_time": "2023-09-27T22:24:37.335966300Z"
    }
   },
   "outputs": [],
   "source": [
    "fig = px.choropleth_mapbox(df_plot,\n",
    "                   geojson=gdf_zc,\n",
    "                   featureidkey='properties.GEOID20',\n",
    "                   color=\"energy_pp\",\n",
    "                   locations='zip5',\n",
    "                   width=1000,\n",
    "                   height=700,\n",
    "                   center={'lat':41.6, 'lon':-88.99},\n",
    "                   zoom=6,\n",
    "                   range_color=(0, 30),\n",
    "                   mapbox_style='carto-positron',\n",
    "                   opacity=0.5,\n",
    "                   )\n",
    "fig.update_geos(fitbounds=\"locations\", visible=False)\n",
    "fig.show()\n",
    "#fig.write_html('20180131_animation.html')"
   ]
  },
  {
   "cell_type": "code",
   "execution_count": null,
   "metadata": {
    "ExecuteTime": {
     "start_time": "2023-09-27T22:24:37.343970800Z"
    }
   },
   "outputs": [],
   "source": [
    "fig = px.choropleth_mapbox(df_plot,\n",
    "                   geojson=gdf_zc,\n",
    "                   featureidkey='properties.GEOID20',\n",
    "                   color=\"energy_pp\",\n",
    "                   locations='zip5',\n",
    "                   width=1000,\n",
    "                   height=700,\n",
    "                   center={'lat':41.6, 'lon':-88.99},\n",
    "                   zoom=6,\n",
    "                   range_color=(0, 60),\n",
    "                   mapbox_style='carto-positron',\n",
    "                   opacity=0.5,\n",
    "                   )\n",
    "fig.update_geos(fitbounds=\"locations\", visible=False)\n",
    "fig.show()"
   ]
  },
  {
   "cell_type": "code",
   "execution_count": null,
   "metadata": {
    "ExecuteTime": {
     "start_time": "2023-09-27T22:24:37.349972Z"
    }
   },
   "outputs": [],
   "source": [
    "for i in dict_names.keys():\n",
    "    print(i, dict_names[i])\n"
   ]
  },
  {
   "attachments": {},
   "cell_type": "markdown",
   "metadata": {},
   "source": [
    "## Energy consumption per person by age range"
   ]
  },
  {
   "cell_type": "code",
   "execution_count": null,
   "metadata": {
    "ExecuteTime": {
     "start_time": "2023-09-27T22:24:37.356975100Z"
    }
   },
   "outputs": [],
   "source": [
    "columns_age = [\"DP05_0005E\",\"DP05_0006E\",\"DP05_0007E\",\"DP05_0008E\",\"DP05_0009E\",\"DP05_0010E\",\"DP05_0011E\",\"DP05_0012E\",\"DP05_0013E\",\"DP05_0014E\",\"DP05_0015E\",\"DP05_0016E\",\"DP05_0017E\"]\n",
    "\n",
    "df_plot = gdf_data[['zip5', 'energy', \"DP05_0001E\"]+columns_age].astype(int)\n",
    "df_plot = df_plot.groupby('zip5').sum().reset_index()\n",
    "\n",
    "for col in columns_age:\n",
    "    df_plot[col] = df_plot[col]/df_plot.DP05_0001E\n",
    "\n",
    "df_plot['energy_pp'] = df_plot.energy/df_plot.DP05_0001E\n",
    "\n",
    "df_plot = pd.melt(df_plot, id_vars=['zip5', 'energy_pp'], value_vars=columns_age, var_name='age_range', value_name='people')\n",
    "\n",
    "df = px.data.iris()\n",
    "fig = px.scatter(df_plot, x=\"people\", y=\"energy_pp\", color=\"age_range\",\n",
    "                  hover_data=['zip5'])\n",
    "fig.show()"
   ]
  },
  {
   "attachments": {},
   "cell_type": "markdown",
   "metadata": {},
   "source": [
    "## Energy consumption per person by sex"
   ]
  },
  {
   "cell_type": "code",
   "execution_count": null,
   "metadata": {
    "ExecuteTime": {
     "start_time": "2023-09-27T22:24:37.362974800Z"
    }
   },
   "outputs": [],
   "source": [
    "columns_sex = [\"DP05_0002E\",\"DP05_0003E\"]\n",
    "\n",
    "df_plot = gdf_data[['zip5', 'energy', \"DP05_0001E\"]+columns_sex].astype(int)\n",
    "df_plot = df_plot.groupby('zip5').sum().reset_index()\n",
    "\n",
    "for col in columns_sex:\n",
    "    df_plot[col] = df_plot[col]/df_plot.DP05_0001E\n",
    "\n",
    "df_plot['energy_pp'] = df_plot.energy/df_plot.DP05_0001E\n",
    "\n",
    "df_plot = pd.melt(df_plot, id_vars=['zip5', 'energy_pp'], value_vars=columns_sex, var_name='sex', value_name='people')\n",
    "\n",
    "df = px.data.iris()\n",
    "fig = px.scatter(df_plot, x=\"people\", y=\"energy_pp\", color=\"sex\",\n",
    "                  hover_data=['zip5'])\n",
    "fig.show()"
   ]
  },
  {
   "attachments": {},
   "cell_type": "markdown",
   "metadata": {},
   "source": [
    "## Energy consumption per person by (limited) age range and sex"
   ]
  },
  {
   "cell_type": "code",
   "execution_count": null,
   "metadata": {
    "ExecuteTime": {
     "start_time": "2023-09-27T22:24:37.369976100Z"
    }
   },
   "outputs": [],
   "source": [
    "columns_sex_age = [\"DP05_0026E\",\"DP05_0027E\", \"DP05_0030E\",\"DP05_0031E\"]\n",
    "\n",
    "df_plot = gdf_data[['zip5', 'energy', \"DP05_0001E\"]+columns_sex_age].astype(int)\n",
    "df_plot = df_plot.groupby('zip5').sum().reset_index()\n",
    "\n",
    "for col in columns_sex_age:\n",
    "    df_plot[col] = df_plot[col]/df_plot.DP05_0001E\n",
    "\n",
    "df_plot['energy_pp'] = df_plot.energy/df_plot.DP05_0001E\n",
    "\n",
    "df_plot = pd.melt(df_plot, id_vars=['zip5', 'energy_pp'], value_vars=columns_sex_age, var_name='sex_age', value_name='people')\n",
    "\n",
    "df = px.data.iris()\n",
    "fig = px.scatter(df_plot, x=\"people\", y=\"energy_pp\", color=\"sex_age\",\n",
    "                  hover_data=['zip5'])\n",
    "fig.show()"
   ]
  },
  {
   "attachments": {},
   "cell_type": "markdown",
   "metadata": {},
   "source": [
    "## Energy consumption per person by etnicity/race"
   ]
  },
  {
   "cell_type": "code",
   "execution_count": null,
   "metadata": {
    "ExecuteTime": {
     "start_time": "2023-09-27T22:24:37.373977Z"
    }
   },
   "outputs": [],
   "source": [
    "columns_race = [\"DP05_0037E\", 'DP05_0038E', 'DP05_0039E', 'DP05_0044E', 'DP05_0052E', 'DP05_0057E']\n",
    "\n",
    "df_plot = gdf_data[['zip5', 'energy', \"DP05_0001E\"]+columns_race].astype(int)\n",
    "df_plot = df_plot.groupby('zip5').sum().reset_index()\n",
    "\n",
    "for col in columns_race:\n",
    "    df_plot[col] = df_plot[col]/df_plot.DP05_0001E\n",
    "\n",
    "df_plot['energy_pp'] = df_plot.energy/df_plot.DP05_0001E\n",
    "\n",
    "df_plot = pd.melt(df_plot, id_vars=['zip5', 'energy_pp'], value_vars=columns_race, var_name='race', value_name='people')\n",
    "\n",
    "df = px.data.iris()\n",
    "fig = px.scatter(df_plot, x=\"people\", y=\"energy_pp\", color=\"race\",\n",
    "                  hover_data=['zip5'])\n",
    "fig.show()"
   ]
  },
  {
   "cell_type": "code",
   "execution_count": null,
   "metadata": {
    "ExecuteTime": {
     "start_time": "2023-09-27T22:24:37.377977600Z"
    }
   },
   "outputs": [],
   "source": [
    "df_data = pd.read_csv('data/comed_month/comed_201801.csv')\n",
    "df_data['date_time'] = pd.to_datetime(df_data.date_time)\n",
    "\n",
    "df_data = df_data.groupby(['zip5', 'date_time']).energy.sum().reset_index()\n",
    "df_data['weekday'] = df_data.date_time.dt.weekday\n",
    "gdf_zc = gpd.read_file('data/geo/Chicago_ZC.geojson')\n",
    "gdf_zc['GEOID20'] = gdf_zc['GEOID20'].astype(int)\n",
    "\n",
    "gdf_data = pd.merge(gdf_zc, df_data, left_on='GEOID20', right_on='zip5')\n",
    "gdf_data = gdf_data.groupby(['zip5', 'weekday']).sum().reset_index()\n",
    "gdf_data['zip5'] = gdf_data['zip5'].astype(str)\n",
    "\n",
    "df_acs = pd.read_csv('data/census/Census_Clean_Zip5_IL_Household&Family_Married&Nonmarried_Income_2018.csv')\n",
    "dict_names = dict(zip(df_acs.columns, df_acs.loc[0].values))\n",
    "df_acs = df_acs.drop(0)\n",
    "df_acs['zip5'] = df_acs.NAME.str[6:]\n",
    "\n",
    "gdf_data = pd.merge(gdf_data, df_acs, on='zip5')\n",
    "\n",
    "gdf_counties = gpd.read_file('data/geo/US_counties.json')"
   ]
  },
  {
   "cell_type": "markdown",
   "source": [],
   "metadata": {
    "collapsed": false
   }
  },
  {
   "attachments": {},
   "cell_type": "markdown",
   "metadata": {},
   "source": [
    "## Energy consumption per person by income"
   ]
  },
  {
   "cell_type": "code",
   "execution_count": null,
   "metadata": {
    "ExecuteTime": {
     "start_time": "2023-09-27T22:24:37.382978100Z"
    }
   },
   "outputs": [],
   "source": [
    "columns_income = ['S1901_C01_012E', 'S1901_C01_013E']\n",
    "\n",
    "df_pop = pd.read_csv('data/census/Census_Clean_Zip5_IL_Sex_Age_Ethnicity_2018.csv')\n",
    "df_pop = df_pop.drop(0)\n",
    "df_pop['zip5'] = df_pop.NAME.str[6:].astype(int)\n",
    "\n",
    "df_plot = gdf_data[['zip5', 'energy']+columns_income].astype(int)\n",
    "df_plot = pd.merge(df_plot, df_pop[['zip5', 'DP05_0001E']], on='zip5').astype(int)\n",
    "df_plot['energy_pp'] = df_plot.energy/df_plot.DP05_0001E\n",
    "df_plot = df_plot.groupby('zip5').mean().reset_index()\n",
    "\n",
    "\n",
    "\n",
    "df_plot = pd.melt(df_plot, id_vars=['zip5', 'energy_pp'], value_vars=columns_income, var_name='income', value_name='people')\n",
    "\n",
    "df = px.data.iris()\n",
    "fig = px.scatter(df_plot, x=\"people\", y=\"energy_pp\", color=\"income\",\n",
    "                  hover_data=['zip5'])\n",
    "fig.show()"
   ]
  },
  {
   "attachments": {},
   "cell_type": "markdown",
   "metadata": {},
   "source": [
    "## Energy consumption per person by education level"
   ]
  },
  {
   "cell_type": "code",
   "execution_count": null,
   "metadata": {
    "ExecuteTime": {
     "start_time": "2023-09-27T22:24:37.388979300Z"
    }
   },
   "outputs": [],
   "source": [
    "df_data = pd.read_csv('data/comed_month/comed_201801.csv')\n",
    "df_data['date_time'] = pd.to_datetime(df_data.date_time)\n",
    "\n",
    "df_data = df_data.groupby(['zip5', 'date_time']).energy.sum().reset_index()\n",
    "df_data['weekday'] = df_data.date_time.dt.weekday\n",
    "gdf_zc = gpd.read_file('data/geo/Chicago_ZC.geojson')\n",
    "gdf_zc['GEOID20'] = gdf_zc['GEOID20'].astype(int)\n",
    "\n",
    "gdf_data = pd.merge(gdf_zc, df_data, left_on='GEOID20', right_on='zip5')\n",
    "gdf_data = gdf_data.groupby(['zip5', 'weekday']).sum().reset_index()\n",
    "gdf_data['zip5'] = gdf_data['zip5'].astype(str)\n",
    "\n",
    "df_acs = pd.read_csv('data/census/Census_Clean_Zip5_IL_EducationLevel_byAge_byIncome_Ethnicity_bySex.csv')\n",
    "dict_names = dict(zip(df_acs.columns, df_acs.loc[0].values))\n",
    "df_acs = df_acs.drop(0)\n",
    "df_acs['zip5'] = df_acs.NAME.str[6:]\n",
    "\n",
    "gdf_data = pd.merge(gdf_data, df_acs, on='zip5')\n",
    "\n",
    "gdf_counties = gpd.read_file('data/geo/US_counties.json')"
   ]
  },
  {
   "cell_type": "code",
   "execution_count": null,
   "metadata": {
    "ExecuteTime": {
     "start_time": "2023-09-27T22:24:37.393981400Z"
    }
   },
   "outputs": [],
   "source": [
    "columns_education = ['S1501_C01_002E', 'S1501_C01_003E', 'S1501_C01_004E', 'S1501_C01_005E', 'S1501_C01_007E', \n",
    "                     'S1501_C01_008E', 'S1501_C01_009E', 'S1501_C01_010E', 'S1501_C01_011E', 'S1501_C01_012E',\n",
    "                     'S1501_C01_013E', 'S1501_C01_014E', 'S1501_C01_015E']\n",
    "\n",
    "df_pop = pd.read_csv('data/census/Census_Clean_Zip5_IL_Sex_Age_Ethnicity_2018.csv')\n",
    "df_pop = df_pop.drop(0)\n",
    "df_pop['zip5'] = df_pop.NAME.str[6:].astype(int)\n",
    "\n",
    "df_plot = gdf_data[['zip5', 'energy']+columns_education].astype(int)\n",
    "\n",
    "df_plot = df_plot.groupby('zip5').mean().reset_index()\n",
    "\n",
    "df_plot = pd.merge(df_plot, df_pop[['zip5', 'DP05_0001E']], on='zip5').astype(int)\n",
    "df_plot['energy_pp'] = df_plot.energy/df_plot.DP05_0001E\n",
    "\n",
    "for col in columns_education:\n",
    "    df_plot[col] = df_plot[col]/df_plot.DP05_0001E\n",
    "\n",
    "\n",
    "df_plot = pd.melt(df_plot, id_vars=['zip5', 'energy_pp'], value_vars=columns_education, var_name='education', value_name='people')\n",
    "\n",
    "df = px.data.iris()\n",
    "fig = px.scatter(df_plot, x=\"people\", y=\"energy_pp\", color=\"education\",\n",
    "                  hover_data=['zip5'])\n",
    "fig.show()"
   ]
  },
  {
   "cell_type": "code",
   "execution_count": null,
   "metadata": {
    "ExecuteTime": {
     "start_time": "2023-09-27T22:24:37.397981200Z"
    }
   },
   "outputs": [],
   "source": [
    "df_plot"
   ]
  },
  {
   "cell_type": "code",
   "execution_count": null,
   "metadata": {
    "ExecuteTime": {
     "start_time": "2023-09-27T22:24:37.401982800Z"
    }
   },
   "outputs": [],
   "source": []
  },
  {
   "cell_type": "code",
   "execution_count": null,
   "metadata": {
    "ExecuteTime": {
     "start_time": "2023-09-27T22:24:37.405983900Z"
    }
   },
   "outputs": [],
   "source": []
  }
 ],
 "metadata": {
  "kernelspec": {
   "display_name": "Python 3",
   "language": "python",
   "name": "python3"
  },
  "language_info": {
   "codemirror_mode": {
    "name": "ipython",
    "version": 3
   },
   "file_extension": ".py",
   "mimetype": "text/x-python",
   "name": "python",
   "nbconvert_exporter": "python",
   "pygments_lexer": "ipython3",
   "version": "3.10.9"
  },
  "orig_nbformat": 4,
  "vscode": {
   "interpreter": {
    "hash": "ce44fec16a475fa863ad058858edc7cc1f739abe18a15028f7309c6483d88bee"
   }
  }
 },
 "nbformat": 4,
 "nbformat_minor": 2
}
