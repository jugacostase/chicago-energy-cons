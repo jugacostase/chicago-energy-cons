{
 "cells": [
  {
   "cell_type": "code",
   "execution_count": null,
   "id": "initial_id",
   "metadata": {
    "collapsed": true
   },
   "outputs": [],
   "source": [
    "import os\n",
    "import numpy as np\n",
    "import pandas as pd\n",
    "import plotly.express as px\n",
    "import plotly.graph_objects as go\n",
    "from plotly.subplots import make_subplots\n",
    "\n",
    "from utils.utils import *\n",
    "\n",
    "px.set_mapbox_access_token(\"pk.eyJ1IjoiamdhY29zdGFzIiwiYSI6ImNsYWJwd3g1ZDAwaGUzb3Q0ZG04NDNndGgifQ.brk6kVA6biVSH0ovZ1dreA\")"
   ]
  },
  {
   "cell_type": "code",
   "execution_count": null,
   "outputs": [],
   "source": [
    "months = os.listdir('../data/comed_month')"
   ],
   "metadata": {
    "collapsed": false
   },
   "id": "16b5c8cb4883dd7c"
  },
  {
   "cell_type": "code",
   "execution_count": null,
   "outputs": [],
   "source": [
    "df19 = pd.DataFrame()\n",
    "df20 = pd.DataFrame()\n",
    "df21 = pd.DataFrame()\n",
    "for month in months[8:]:\n",
    "    df_data = pd.read_csv(f'../data/comed_month/{month}', parse_dates=['date_time'])\n",
    "    df_data = df_data[df_data.service_name.str.contains('RESIDENTIAL')]\n",
    "    df_data['day'] = df_data.date_time.dt.date\n",
    "    df = df_data.groupby(['zip5', 'day'])[['energy']].sum().reset_index()\n",
    "    df_acc = df_data.groupby(['zip5', 'day', 'service_name'])['n_acc'].mean().reset_index().groupby(['zip5', 'day']).n_acc.sum().reset_index()\n",
    "    df = pd.merge(df, df_acc, on=['zip5', 'day'])\n",
    "    df = df.groupby('day')[['energy', 'n_acc']].sum().reset_index()\n",
    "    if '2019' in month:\n",
    "        df19 = pd.concat([df19, df]) \n",
    "    if '2020' in month:\n",
    "        df20 = pd.concat([df20, df])\n",
    "    if '2021' in month:\n",
    "        df21 = pd.concat([df21, df])\n",
    "\n",
    "    \n",
    "    "
   ],
   "metadata": {
    "collapsed": false
   },
   "id": "8de8236e054de79e"
  },
  {
   "cell_type": "code",
   "execution_count": null,
   "outputs": [],
   "source": [
    "df_plot = pd.merge(df19.assign(grouper=pd.to_datetime(df19['day']).dt.dayofyear),\n",
    "               df20.assign(grouper=pd.to_datetime(df20['day']).dt.dayofyear),\n",
    "               how='left', on='grouper', suffixes=('_2019', '_2020'))\n",
    "df_plot = pd.merge(df_plot,\n",
    "               df21.assign(grouper=pd.to_datetime(df21['day']).dt.dayofyear),\n",
    "               how='left', on='grouper', suffixes=('', '_2021'))\n",
    "\n",
    "df_plot = df_plot.rename(columns={'n_acc': 'n_acc_2021', 'energy': 'energy_2021'})\n"
   ],
   "metadata": {
    "collapsed": false
   },
   "id": "210dc53555fe700b"
  },
  {
   "cell_type": "code",
   "execution_count": null,
   "outputs": [],
   "source": [
    "colors = px.colors.qualitative.Safe\n",
    "# Create figure with secondary y-axis\n",
    "fig = make_subplots(specs=[[{\"secondary_y\": True}]])\n",
    "\n",
    "\n",
    "fig.add_trace(go.Scatter(x=df_plot.day_2019, y=df_plot.energy_2019, name=\"2019 electricity usage\", marker_color=colors[0]),secondary_y=False,)\n",
    "fig.add_trace(go.Scatter(x=df_plot.day_2019, y=df_plot.energy_2020, name=\"2020 electricity usage\", marker_color=colors[1]),secondary_y=False,)\n",
    "fig.add_trace(go.Scatter(x=df_plot.day_2019, y=df_plot.energy_2021, name=\"2021 electricity usage\", marker_color=colors[2]),secondary_y=False,)\n",
    "\n",
    "fig.add_trace(go.Scatter(x=df_plot.day_2019, y=df_plot.n_acc_2020, name=\"2020 ComEd accounts\", marker_color=colors[4]), secondary_y=True)\n",
    "fig.add_trace(go.Scatter(x=df_plot.day_2019, y=df_plot.n_acc_2019, name=\"2019 ComEd accounts\", marker_color=colors[3]), secondary_y=True)\n",
    "fig.add_trace(go.Scatter(x=df_plot.day_2019, y=df_plot.n_acc_2021, name=\"2021 ComEd accounts\", marker_color=colors[5]), secondary_y=True)\n",
    "\n",
    "fig.update_xaxes(dtick=\"M1\",tickformat=\"%b\", ticklabelmode=\"period\")\n",
    "\n",
    "fig.update_layout(title_text=\"2019- 2020 Non-Residential Daily Electricity Usage\")\n",
    "\n",
    "# Set x-axis title\n",
    "fig.update_xaxes(title_text=\"Month\")\n",
    "\n",
    "# Set y-axes titles\n",
    "fig.update_yaxes(title_text=\"Electricity usage (kWh)\", secondary_y=False)\n",
    "fig.update_yaxes(title_text=\"Number of accounts\", secondary_y=True)\n",
    "\n",
    "\n",
    "fig.show()"
   ],
   "metadata": {
    "collapsed": false
   },
   "id": "f986274dc887f673"
  },
  {
   "cell_type": "code",
   "execution_count": null,
   "outputs": [],
   "source": [
    "colors = px.colors.qualitative.Plotly\n",
    "# Create figure with secondary y-axis\n",
    "fig = make_subplots(specs=[[{\"secondary_y\": True}]])\n",
    "\n",
    "\n",
    "fig.add_trace(go.Scatter(x=df_plot.day_2019, y=df_plot.energy_2019, name=\"2019 electricity usage\", marker_color=colors[0]),secondary_y=False,)\n",
    "fig.add_trace(go.Scatter(x=df_plot.day_2019, y=df_plot.energy_2020, name=\"2020 electricity usage\", marker_color=colors[1]),secondary_y=False,)\n",
    "fig.add_trace(go.Scatter(x=df_plot.day_2019, y=df_plot.energy_2021, name=\"2021 electricity usage\", marker_color=colors[2]),secondary_y=False,)\n",
    "\n",
    "fig.add_trace(go.Scatter(x=df_plot.day_2019, y=df_plot.n_acc_2020, name=\"2020 ComEd accounts\", marker_color=colors[4]), secondary_y=True)\n",
    "fig.add_trace(go.Scatter(x=df_plot.day_2019, y=df_plot.n_acc_2019, name=\"2019 ComEd accounts\", marker_color=colors[3]), secondary_y=True)\n",
    "fig.add_trace(go.Scatter(x=df_plot.day_2019, y=df_plot.n_acc_2021, name=\"2021 ComEd accounts\", marker_color=colors[5]), secondary_y=True)\n",
    "\n",
    "fig.update_xaxes(dtick=\"M1\",tickformat=\"%b\", ticklabelmode=\"period\")\n",
    "\n",
    "fig.update_layout(title_text=\"2019- 2020 Non-Residential Daily Electricity Usage\")\n",
    "\n",
    "# Set x-axis title\n",
    "fig.update_xaxes(title_text=\"Month\")\n",
    "\n",
    "# Set y-axes titles\n",
    "fig.update_yaxes(title_text=\"Electricity usage (kWh)\", secondary_y=False)\n",
    "fig.update_yaxes(title_text=\"Number of accounts\", secondary_y=True)\n",
    "\n",
    "\n",
    "fig.show()"
   ],
   "metadata": {
    "collapsed": false
   },
   "id": "36498990c4ae7cc0"
  },
  {
   "cell_type": "code",
   "execution_count": null,
   "outputs": [],
   "source": [],
   "metadata": {
    "collapsed": false
   },
   "id": "9976f2c3dadb5cb4"
  }
 ],
 "metadata": {
  "kernelspec": {
   "display_name": "Python 3",
   "language": "python",
   "name": "python3"
  },
  "language_info": {
   "codemirror_mode": {
    "name": "ipython",
    "version": 2
   },
   "file_extension": ".py",
   "mimetype": "text/x-python",
   "name": "python",
   "nbconvert_exporter": "python",
   "pygments_lexer": "ipython2",
   "version": "2.7.6"
  }
 },
 "nbformat": 4,
 "nbformat_minor": 5
}
