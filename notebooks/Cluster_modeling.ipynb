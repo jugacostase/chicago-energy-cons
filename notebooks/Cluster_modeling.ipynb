{
 "cells": [
  {
   "cell_type": "code",
   "execution_count": null,
   "metadata": {},
   "outputs": [],
   "source": [
    "import numpy as np\n",
    "import pandas as pd\n",
    "import geopandas as gpd\n",
    "\n",
    "from matplotlib import cm\n",
    "import matplotlib.pyplot as plt\n",
    "from models import estimate_knn_clusters, estimate_som_clusters, prepare_whole_year, prepare_TS\n",
    "from utils.utils import generate_filename\n",
    "from tslearn.clustering import TimeSeriesKMeans, silhouette_score\n",
    "from IPython.display import clear_output\n",
    "from tslearn.barycenters import dtw_barycenter_averaging\n",
    "\n",
    "from sklearn.inspection import permutation_importance\n",
    "from sklearn.linear_model import LogisticRegression\n",
    "from sklearn.ensemble import GradientBoostingClassifier, RandomForestClassifier\n",
    "from sklearn.model_selection import train_test_split, GridSearchCV, cross_validate\n",
    "from sklearn.metrics import confusion_matrix, f1_score\n",
    "from sklearn.svm import SVC\n",
    "\n",
    "\n",
    "import plotly.express as px\n",
    "\n",
    "from plotly.colors import qualitative\n",
    "from matplotlib.colors import ListedColormap\n",
    "\n",
    "px.set_mapbox_access_token(\"pk.eyJ1IjoiamdhY29zdGFzIiwiYSI6ImNsYWJwd3g1ZDAwaGUzb3Q0ZG04NDNndGgifQ.brk6kVA6biVSH0ovZ1dreA\")"
   ]
  },
  {
   "cell_type": "code",
   "execution_count": null,
   "metadata": {},
   "outputs": [],
   "source": [
    "estimate_som_clusters(year=2019, month=1,  day=30, som_x=2, som_y=3, sigma=1, learning_rate = 0.5, plot=True)"
   ]
  },
  {
   "cell_type": "code",
   "execution_count": null,
   "metadata": {},
   "outputs": [],
   "source": [
    "df_comtime = pd.read_csv('data/census/commute_times/commute_times_zc_il.csv')\n",
    "\n",
    "cols_comtimes = list(df_comtime.columns)[2:]\n",
    "cols_comtimes_perc = []\n",
    "\n",
    "for col in cols_comtimes:\n",
    "    new_col = f'{col}_perc'\n",
    "    df_comtime[new_col] = df_comtime[col] / df_comtime['Total']\n",
    "    cols_comtimes_perc.append(new_col)\n",
    "    \n",
    "df_comtime[['zip', 'Total']+cols_comtimes_perc]\n",
    "\n",
    "#df_clusters = estimate_knn_clusters(year=2019, month=7, day=10, n_clusters=5, metric='euclidean', df=True)\n",
    "df_clusters = estimate_som_clusters(year=2019, month=1,  day=30, som_x=2, som_y=3, sigma=1, learning_rate = 0.5, df=True)\n",
    "df_clusters['zip'] = df_clusters['GEOID20'].astype(int)\n",
    "\n",
    "df_data = pd.merge(df_clusters[['zip', 'Cluster']], df_comtime[['zip', 'Total']+cols_comtimes_perc], on='zip').dropna()\n",
    "df_data['Cluster_n'] = df_data['Cluster'].str[-1]#.astype(int)"
   ]
  },
  {
   "cell_type": "code",
   "execution_count": null,
   "metadata": {},
   "outputs": [],
   "source": [
    "gb_params = {\n",
    "    'criterion':('friedman_mse', 'squared_error'), \n",
    "    'learning_rate':[0.0001, 0.001, 0.01, 0.1],\n",
    "    'n_estimators': [20,40,50,60,80,90,100,150, 200],\n",
    "    'max_depth': [3,5,7,9,11,15]\n",
    "    }"
   ]
  },
  {
   "cell_type": "code",
   "execution_count": null,
   "metadata": {},
   "outputs": [],
   "source": [
    "X = df_data[cols_comtimes_perc]\n",
    "y = df_data['Cluster_n']\n",
    "\n",
    "X_train, X_test, y_train, y_test = train_test_split(X, y, test_size=0.2, random_state=1234, stratify=y)"
   ]
  },
  {
   "cell_type": "code",
   "execution_count": null,
   "metadata": {},
   "outputs": [],
   "source": [
    "cols_numeric = []\n",
    "count_i = 0\n",
    "for col in X.columns:\n",
    "    df_data[f'{count_i}'] = df_data[col]\n",
    "    cols_numeric.append(f'{count_i}') \n",
    "    count_i += 1"
   ]
  },
  {
   "cell_type": "code",
   "execution_count": null,
   "metadata": {},
   "outputs": [],
   "source": [
    "train_zips = df_data.loc[X_train.index].zip\n",
    "test_zips = df_data.loc[X_test.index].zip"
   ]
  },
  {
   "cell_type": "code",
   "execution_count": null,
   "metadata": {},
   "outputs": [],
   "source": [
    "model_gb = GradientBoostingClassifier(learning_rate=0.1, n_estimators=60, criterion='squared_error', max_depth=3, random_state=1234)\n",
    "model_gb.fit(X_train, y_train)\n",
    "print(model_gb.score(X_train, y_train))\n",
    "print(model_gb.score(X_test, y_test))"
   ]
  },
  {
   "cell_type": "code",
   "execution_count": null,
   "metadata": {},
   "outputs": [],
   "source": [
    "model_rf = RandomForestClassifier(n_estimators=30, criterion='gini', max_depth=7, random_state=1234)\n",
    "model_rf.fit(X_train, y_train)\n",
    "print(model_rf.score(X_train, y_train))\n",
    "print(model_rf.score(X_test, y_test))"
   ]
  },
  {
   "cell_type": "code",
   "execution_count": null,
   "metadata": {},
   "outputs": [],
   "source": [
    "feature_importance = model_gb.feature_importances_\n",
    "sorted_idx = np.argsort(feature_importance)\n",
    "pos = np.arange(sorted_idx.shape[0]) + 0.5\n",
    "fig = plt.figure(figsize=(12, 6))\n",
    "plt.subplot(1, 2, 1)\n",
    "plt.barh(pos, feature_importance[sorted_idx], align=\"center\")\n",
    "plt.yticks(pos, np.array(cols_comtimes_perc)[sorted_idx])\n",
    "plt.title(\"Feature Importance (MDI)\")\n",
    "\n",
    "result = permutation_importance(\n",
    "    model_gb, X_test, y_test, n_repeats=10, random_state=42, n_jobs=2\n",
    ")\n",
    "sorted_idx = result.importances_mean.argsort()\n",
    "plt.subplot(1, 2, 2)\n",
    "plt.boxplot(\n",
    "    result.importances[sorted_idx].T,\n",
    "    vert=False,\n",
    "    labels=np.array(cols_comtimes_perc)[sorted_idx],\n",
    ")\n",
    "plt.title(\"Permutation Importance (test set)\")\n",
    "fig.tight_layout()\n",
    "plt.show()"
   ]
  },
  {
   "cell_type": "code",
   "execution_count": null,
   "metadata": {},
   "outputs": [],
   "source": [
    "feature_importance = model_gb.feature_importances_\n",
    "sorted_idx = np.argsort(feature_importance)\n",
    "pos = np.arange(sorted_idx.shape[0]) + 0.5\n",
    "fig = plt.figure(figsize=(12, 6))\n",
    "plt.subplot(1, 2, 1)\n",
    "plt.barh(pos, feature_importance[sorted_idx], align=\"center\")\n",
    "plt.yticks(pos, np.array(cols_comtimes_perc)[sorted_idx])\n",
    "plt.title(\"Feature Importance (MDI)\")\n",
    "\n",
    "result = permutation_importance(\n",
    "    model_gb, X_train, y_train, n_repeats=10, random_state=42, n_jobs=2\n",
    ")\n",
    "sorted_idx = result.importances_mean.argsort()\n",
    "plt.subplot(1, 2, 2)\n",
    "plt.boxplot(\n",
    "    result.importances[sorted_idx].T,\n",
    "    vert=False,\n",
    "    labels=np.array(cols_comtimes_perc)[sorted_idx],\n",
    ")\n",
    "plt.title(\"Permutation Importance (test set)\")\n",
    "fig.tight_layout()\n",
    "plt.show()"
   ]
  },
  {
   "cell_type": "code",
   "execution_count": null,
   "metadata": {},
   "outputs": [],
   "source": [
    "df_data['Predicted'] = model_gb.predict(df_data[cols_comtimes_perc])"
   ]
  },
  {
   "cell_type": "code",
   "execution_count": null,
   "metadata": {},
   "outputs": [],
   "source": [
    "df_data['correct'] = (df_data.Cluster == df_data.Predicted).astype(int)"
   ]
  },
  {
   "cell_type": "code",
   "execution_count": null,
   "metadata": {},
   "outputs": [],
   "source": [
    "gdf_zip = gpd.read_file('data/geo/Chicago_ZC.geojson')\n",
    "gdf_zip['zip'] = gdf_zip.GEOID20.astype(int) \n",
    "gdf_data = pd.merge(gdf_zip, df_data, on='zip').sort_values('Cluster')"
   ]
  },
  {
   "cell_type": "code",
   "execution_count": null,
   "metadata": {},
   "outputs": [],
   "source": [
    "fig = px.choropleth_mapbox(gdf_data,\n",
    "                   geojson=gdf_data,\n",
    "                   featureidkey='properties.GEOID20',\n",
    "                   color=\"Cluster\",\n",
    "                   locations='GEOID20',\n",
    "                   width=1000,\n",
    "                   height=700,\n",
    "                   center={'lat':41.6, 'lon':-88.99},\n",
    "                   zoom=6,\n",
    "                   mapbox_style='carto-positron',\n",
    "                   opacity=0.65,\n",
    "                   #mapbox_style='open-street-map'\n",
    "                   )\n",
    "fig.update_geos(fitbounds=\"locations\", visible=False)\n",
    "fig.show()"
   ]
  },
  {
   "cell_type": "code",
   "execution_count": null,
   "metadata": {},
   "outputs": [],
   "source": [
    "fig = px.choropleth_mapbox(gdf_data.sort_values('Predicted'),\n",
    "                   geojson=gdf_data.sort_values('Predicted'),\n",
    "                   featureidkey='properties.GEOID20',\n",
    "                   color=\"Predicted\",\n",
    "                   locations='GEOID20',\n",
    "                   width=1000,\n",
    "                   height=700,\n",
    "                   center={'lat':41.6, 'lon':-88.99},\n",
    "                   zoom=6,\n",
    "                   mapbox_style='carto-positron',\n",
    "                   opacity=0.65,\n",
    "                   )\n",
    "fig.update_geos(fitbounds=\"locations\", visible=False)\n",
    "fig.show()"
   ]
  },
  {
   "cell_type": "code",
   "execution_count": null,
   "metadata": {},
   "outputs": [],
   "source": [
    "fig = px.choropleth_mapbox(gdf_data[gdf_data.zip.isin(test_zips)],\n",
    "                   geojson=gdf_data[gdf_data.zip.isin(test_zips)],\n",
    "                   featureidkey='properties.GEOID20',\n",
    "                   color=\"correct\",\n",
    "                   locations='GEOID20',\n",
    "                   width=1000,\n",
    "                   height=700,\n",
    "                   center={'lat':41.6, 'lon':-88.99},\n",
    "                   zoom=6,\n",
    "                   mapbox_style='carto-positron',\n",
    "                   opacity=0.65,\n",
    "                   )\n",
    "fig.update_geos(fitbounds=\"locations\", visible=False)\n",
    "fig.show()"
   ]
  },
  {
   "cell_type": "code",
   "execution_count": null,
   "metadata": {},
   "outputs": [],
   "source": [
    "import shap\n",
    "shap.initjs()"
   ]
  },
  {
   "cell_type": "code",
   "execution_count": null,
   "metadata": {},
   "outputs": [],
   "source": [
    "import xgboost\n",
    "from sklearn.preprocessing import LabelEncoder\n",
    "le = LabelEncoder()\n"
   ]
  },
  {
   "cell_type": "code",
   "execution_count": null,
   "metadata": {},
   "outputs": [],
   "source": [
    "X = df_data[cols_numeric]\n",
    "y = df_data['Cluster_n']\n",
    "\n",
    "X = df_data[cols_comtimes_perc]\n",
    "y = df_data['Cluster']\n",
    "\n",
    "X_train, X_test, y_train, y_test = train_test_split(X, y, test_size=0.3, random_state=1234, stratify=y)\n",
    "y_train = le.fit_transform(y_train)\n",
    "y_test = le.fit_transform(y_test)"
   ]
  },
  {
   "cell_type": "code",
   "execution_count": null,
   "metadata": {},
   "outputs": [],
   "source": [
    "bst = xgboost.XGBClassifier(n_estimators=49, max_depth=6, learning_rate=0.1, objective='multi:softmaxc')"
   ]
  },
  {
   "cell_type": "code",
   "execution_count": null,
   "metadata": {},
   "outputs": [],
   "source": [
    "bst.fit(X_train, y_train)\n",
    "bst.score(X_train, y_train)"
   ]
  },
  {
   "cell_type": "code",
   "execution_count": null,
   "metadata": {},
   "outputs": [],
   "source": [
    "bst.score(X_test, y_test)"
   ]
  },
  {
   "cell_type": "code",
   "execution_count": null,
   "metadata": {},
   "outputs": [],
   "source": [
    "explainer = shap.Explainer(bst, X_train)\n",
    "shap_values = explainer.shap_values(X_train)"
   ]
  },
  {
   "cell_type": "code",
   "execution_count": null,
   "metadata": {},
   "outputs": [],
   "source": [
    "xgboost.plot_importance(bst)"
   ]
  },
  {
   "cell_type": "code",
   "execution_count": null,
   "metadata": {},
   "outputs": [],
   "source": [
    "plotly_cm = ListedColormap(['#EF553B', '#19D3F3', '#FFA15A', '#AB63FA', '#00CC96', '#636EFA'], name='my_colormap_name')"
   ]
  },
  {
   "cell_type": "code",
   "execution_count": null,
   "metadata": {},
   "outputs": [],
   "source": [
    "show_cols = []\n",
    "for col in X_train.columns:\n",
    "    a = col.replace('_perc', 'min %')\n",
    "    a = a.replace(' to ', '-')\n",
    "    show_cols.append(a)"
   ]
  },
  {
   "cell_type": "code",
   "execution_count": null,
   "metadata": {},
   "outputs": [],
   "source": [
    "shap.summary_plot(shap_values, X_train, class_names=['Cluster 1', 'Cluster 2', 'Cluster 3', 'Cluster 4', 'Cluster 5', 'Cluster 6'], color=plotly_cm, feature_names=show_cols)"
   ]
  },
  {
   "cell_type": "code",
   "execution_count": null,
   "metadata": {},
   "outputs": [],
   "source": [
    "shap.summary_plot(shap_values[0], X_train.values, feature_names = show_cols, cmap=plt.get_cmap(\"cool_r\"), show=False)\n",
    "plt.title('Cluster 1', fontsize=20)\n",
    "plt.show()"
   ]
  },
  {
   "cell_type": "code",
   "execution_count": null,
   "metadata": {},
   "outputs": [],
   "source": [
    "shap.summary_plot(shap_values[1], X_train.values, feature_names = show_cols, cmap=plt.get_cmap(\"Reds\"), show=False)\n",
    "plt.title('Cluster 2', fontsize=20)\n",
    "plt.show()"
   ]
  },
  {
   "cell_type": "code",
   "execution_count": null,
   "metadata": {},
   "outputs": [],
   "source": [
    "shap.summary_plot(shap_values[2], X_train.values, feature_names = show_cols, cmap=plt.get_cmap(\"Greens\"), show=False)\n",
    "plt.title('Cluster 3', fontsize=20)\n",
    "plt.show()"
   ]
  },
  {
   "cell_type": "code",
   "execution_count": null,
   "metadata": {},
   "outputs": [],
   "source": [
    "shap.summary_plot(shap_values[3], X_train.values, feature_names = show_cols, cmap=plt.get_cmap(\"Purples\"), show=False)\n",
    "plt.title('Cluster 4', fontsize=20)\n",
    "plt.show()"
   ]
  },
  {
   "cell_type": "code",
   "execution_count": null,
   "metadata": {},
   "outputs": [],
   "source": [
    "shap.summary_plot(shap_values[4], X_train.values, feature_names = show_cols, cmap=plt.get_cmap(\"Oranges\"), show=False)\n",
    "plt.title('Cluster 5', fontsize=20)\n",
    "plt.show()"
   ]
  },
  {
   "cell_type": "code",
   "execution_count": null,
   "metadata": {},
   "outputs": [],
   "source": [
    "shap.summary_plot(shap_values[5], X_train.values, feature_names = show_cols, cmap=plt.get_cmap(\"Blues\"), show=False)\n",
    "plt.title('Cluster 6', fontsize=20)\n",
    "plt.show()"
   ]
  }
 ],
 "metadata": {
  "kernelspec": {
   "display_name": "Python 3",
   "language": "python",
   "name": "python3"
  },
  "language_info": {
   "codemirror_mode": {
    "name": "ipython",
    "version": 3
   },
   "file_extension": ".py",
   "mimetype": "text/x-python",
   "name": "python",
   "nbconvert_exporter": "python",
   "pygments_lexer": "ipython3",
   "version": "3.10.9"
  },
  "orig_nbformat": 4
 },
 "nbformat": 4,
 "nbformat_minor": 2
}
