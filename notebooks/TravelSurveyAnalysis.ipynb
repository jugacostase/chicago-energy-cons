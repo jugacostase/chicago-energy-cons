{
 "cells": [
  {
   "cell_type": "code",
   "execution_count": 2,
   "id": "initial_id",
   "metadata": {
    "collapsed": true,
    "ExecuteTime": {
     "end_time": "2023-09-13T22:10:38.158312200Z",
     "start_time": "2023-09-13T22:10:28.917549700Z"
    }
   },
   "outputs": [],
   "source": [
    "import pandas as pd"
   ]
  },
  {
   "cell_type": "code",
   "execution_count": 3,
   "outputs": [],
   "source": [
    "df_house = pd.read_csv('../data/cmap/travel_data/household.csv')\n",
    "df_person = pd.read_csv('../data/cmap/travel_data/person.csv', low_memory=False)\n",
    "df_place = pd.read_csv('../data/cmap/travel_data/place.csv', low_memory=False, parse_dates=['arrtime', 'deptime'])"
   ],
   "metadata": {
    "collapsed": false,
    "ExecuteTime": {
     "end_time": "2023-09-13T22:10:41.395170Z",
     "start_time": "2023-09-13T22:10:38.162312Z"
    }
   },
   "id": "f553e9722e4d727a"
  },
  {
   "cell_type": "code",
   "execution_count": 12,
   "outputs": [
    {
     "data": {
      "text/plain": "          sampno  perno  traveldayno  placeno  locno             arrtime  \\\n105     20001619      1            1        1  10000 2018-01-15 03:00:00   \n106     20001619      1            1        2  20003 2018-01-15 09:00:00   \n107     20001619      1            1        3  10000 2018-01-15 09:17:00   \n108     20001619      1            1        4  20003 2018-01-15 14:58:00   \n109     20001619      1            1        5  10000 2018-01-15 15:47:00   \n...          ...    ...          ...      ...    ...                 ...   \n128152  70100914      1            1        4  10000 2019-03-22 15:50:00   \n128153  70100914      2            1        1  10000 2019-03-22 03:00:00   \n128154  70100914      2            1        2  20002 2019-03-22 10:30:00   \n128155  70100914      2            1        3  10000 2019-03-22 16:30:00   \n128156  70100914      3            1        1  10000 2019-03-22 03:00:00   \n\n                   deptime  travtime  actdur  distance  ...  plaza_2_cash  \\\n105    2018-01-15 08:50:00         0     350    -1.000  ...          -1.0   \n106    2018-01-15 09:15:00        10      15     0.274  ...          -1.0   \n107    2018-01-15 14:55:00         2     338     0.274  ...          -1.0   \n108    2018-01-15 15:15:00         3      17     0.274  ...          -1.0   \n109    2018-01-15 19:02:00        32     195     0.274  ...          -1.0   \n...                    ...       ...     ...       ...  ...           ...   \n128152 2019-03-23 03:00:00        10     670     1.243  ...          -1.0   \n128153 2019-03-22 09:40:00         0     400    -1.000  ...          -1.0   \n128154 2019-03-22 15:00:00        50     270    10.264  ...          -1.0   \n128155 2019-03-23 03:00:00        90     630     8.786  ...          -1.0   \n128156 2019-03-23 03:00:00         0    1440    -1.000  ...          -1.0   \n\n       plaza_3_cash  plaza_4_cash  plaza_5_cash  plaza_6_cash  placeGroup  \\\n105            -1.0          -1.0          -1.0          -1.0           1   \n106            -1.0          -1.0          -1.0          -1.0           2   \n107            -1.0          -1.0          -1.0          -1.0           3   \n108            -1.0          -1.0          -1.0          -1.0           4   \n109            -1.0          -1.0          -1.0          -1.0           5   \n...             ...           ...           ...           ...         ...   \n128152         -1.0          -1.0          -1.0          -1.0           4   \n128153         -1.0          -1.0          -1.0          -1.0           1   \n128154         -1.0          -1.0          -1.0          -1.0           2   \n128155         -1.0          -1.0          -1.0          -1.0           3   \n128156         -1.0          -1.0          -1.0          -1.0           1   \n\n       transitPlaceno  hdist  Loop_Trip_definition  time_distance_flag  \n105                -9 -1.000                     0                   0  \n106                -9  0.261                     0                   0  \n107                -9  0.261                     0                   0  \n108                -9  0.261                     0                   0  \n109                -9  0.261                     0                   0  \n...               ...    ...                   ...                 ...  \n128152              4  0.959                     0                   0  \n128153             -9 -1.000                     0                   0  \n128154              2  6.577                     0                   0  \n128155              3  6.577                     0                   0  \n128156             -9 -1.000                     0                   0  \n\n[63024 rows x 105 columns]",
      "text/html": "<div>\n<style scoped>\n    .dataframe tbody tr th:only-of-type {\n        vertical-align: middle;\n    }\n\n    .dataframe tbody tr th {\n        vertical-align: top;\n    }\n\n    .dataframe thead th {\n        text-align: right;\n    }\n</style>\n<table border=\"1\" class=\"dataframe\">\n  <thead>\n    <tr style=\"text-align: right;\">\n      <th></th>\n      <th>sampno</th>\n      <th>perno</th>\n      <th>traveldayno</th>\n      <th>placeno</th>\n      <th>locno</th>\n      <th>arrtime</th>\n      <th>deptime</th>\n      <th>travtime</th>\n      <th>actdur</th>\n      <th>distance</th>\n      <th>...</th>\n      <th>plaza_2_cash</th>\n      <th>plaza_3_cash</th>\n      <th>plaza_4_cash</th>\n      <th>plaza_5_cash</th>\n      <th>plaza_6_cash</th>\n      <th>placeGroup</th>\n      <th>transitPlaceno</th>\n      <th>hdist</th>\n      <th>Loop_Trip_definition</th>\n      <th>time_distance_flag</th>\n    </tr>\n  </thead>\n  <tbody>\n    <tr>\n      <th>105</th>\n      <td>20001619</td>\n      <td>1</td>\n      <td>1</td>\n      <td>1</td>\n      <td>10000</td>\n      <td>2018-01-15 03:00:00</td>\n      <td>2018-01-15 08:50:00</td>\n      <td>0</td>\n      <td>350</td>\n      <td>-1.000</td>\n      <td>...</td>\n      <td>-1.0</td>\n      <td>-1.0</td>\n      <td>-1.0</td>\n      <td>-1.0</td>\n      <td>-1.0</td>\n      <td>1</td>\n      <td>-9</td>\n      <td>-1.000</td>\n      <td>0</td>\n      <td>0</td>\n    </tr>\n    <tr>\n      <th>106</th>\n      <td>20001619</td>\n      <td>1</td>\n      <td>1</td>\n      <td>2</td>\n      <td>20003</td>\n      <td>2018-01-15 09:00:00</td>\n      <td>2018-01-15 09:15:00</td>\n      <td>10</td>\n      <td>15</td>\n      <td>0.274</td>\n      <td>...</td>\n      <td>-1.0</td>\n      <td>-1.0</td>\n      <td>-1.0</td>\n      <td>-1.0</td>\n      <td>-1.0</td>\n      <td>2</td>\n      <td>-9</td>\n      <td>0.261</td>\n      <td>0</td>\n      <td>0</td>\n    </tr>\n    <tr>\n      <th>107</th>\n      <td>20001619</td>\n      <td>1</td>\n      <td>1</td>\n      <td>3</td>\n      <td>10000</td>\n      <td>2018-01-15 09:17:00</td>\n      <td>2018-01-15 14:55:00</td>\n      <td>2</td>\n      <td>338</td>\n      <td>0.274</td>\n      <td>...</td>\n      <td>-1.0</td>\n      <td>-1.0</td>\n      <td>-1.0</td>\n      <td>-1.0</td>\n      <td>-1.0</td>\n      <td>3</td>\n      <td>-9</td>\n      <td>0.261</td>\n      <td>0</td>\n      <td>0</td>\n    </tr>\n    <tr>\n      <th>108</th>\n      <td>20001619</td>\n      <td>1</td>\n      <td>1</td>\n      <td>4</td>\n      <td>20003</td>\n      <td>2018-01-15 14:58:00</td>\n      <td>2018-01-15 15:15:00</td>\n      <td>3</td>\n      <td>17</td>\n      <td>0.274</td>\n      <td>...</td>\n      <td>-1.0</td>\n      <td>-1.0</td>\n      <td>-1.0</td>\n      <td>-1.0</td>\n      <td>-1.0</td>\n      <td>4</td>\n      <td>-9</td>\n      <td>0.261</td>\n      <td>0</td>\n      <td>0</td>\n    </tr>\n    <tr>\n      <th>109</th>\n      <td>20001619</td>\n      <td>1</td>\n      <td>1</td>\n      <td>5</td>\n      <td>10000</td>\n      <td>2018-01-15 15:47:00</td>\n      <td>2018-01-15 19:02:00</td>\n      <td>32</td>\n      <td>195</td>\n      <td>0.274</td>\n      <td>...</td>\n      <td>-1.0</td>\n      <td>-1.0</td>\n      <td>-1.0</td>\n      <td>-1.0</td>\n      <td>-1.0</td>\n      <td>5</td>\n      <td>-9</td>\n      <td>0.261</td>\n      <td>0</td>\n      <td>0</td>\n    </tr>\n    <tr>\n      <th>...</th>\n      <td>...</td>\n      <td>...</td>\n      <td>...</td>\n      <td>...</td>\n      <td>...</td>\n      <td>...</td>\n      <td>...</td>\n      <td>...</td>\n      <td>...</td>\n      <td>...</td>\n      <td>...</td>\n      <td>...</td>\n      <td>...</td>\n      <td>...</td>\n      <td>...</td>\n      <td>...</td>\n      <td>...</td>\n      <td>...</td>\n      <td>...</td>\n      <td>...</td>\n      <td>...</td>\n    </tr>\n    <tr>\n      <th>128152</th>\n      <td>70100914</td>\n      <td>1</td>\n      <td>1</td>\n      <td>4</td>\n      <td>10000</td>\n      <td>2019-03-22 15:50:00</td>\n      <td>2019-03-23 03:00:00</td>\n      <td>10</td>\n      <td>670</td>\n      <td>1.243</td>\n      <td>...</td>\n      <td>-1.0</td>\n      <td>-1.0</td>\n      <td>-1.0</td>\n      <td>-1.0</td>\n      <td>-1.0</td>\n      <td>4</td>\n      <td>4</td>\n      <td>0.959</td>\n      <td>0</td>\n      <td>0</td>\n    </tr>\n    <tr>\n      <th>128153</th>\n      <td>70100914</td>\n      <td>2</td>\n      <td>1</td>\n      <td>1</td>\n      <td>10000</td>\n      <td>2019-03-22 03:00:00</td>\n      <td>2019-03-22 09:40:00</td>\n      <td>0</td>\n      <td>400</td>\n      <td>-1.000</td>\n      <td>...</td>\n      <td>-1.0</td>\n      <td>-1.0</td>\n      <td>-1.0</td>\n      <td>-1.0</td>\n      <td>-1.0</td>\n      <td>1</td>\n      <td>-9</td>\n      <td>-1.000</td>\n      <td>0</td>\n      <td>0</td>\n    </tr>\n    <tr>\n      <th>128154</th>\n      <td>70100914</td>\n      <td>2</td>\n      <td>1</td>\n      <td>2</td>\n      <td>20002</td>\n      <td>2019-03-22 10:30:00</td>\n      <td>2019-03-22 15:00:00</td>\n      <td>50</td>\n      <td>270</td>\n      <td>10.264</td>\n      <td>...</td>\n      <td>-1.0</td>\n      <td>-1.0</td>\n      <td>-1.0</td>\n      <td>-1.0</td>\n      <td>-1.0</td>\n      <td>2</td>\n      <td>2</td>\n      <td>6.577</td>\n      <td>0</td>\n      <td>0</td>\n    </tr>\n    <tr>\n      <th>128155</th>\n      <td>70100914</td>\n      <td>2</td>\n      <td>1</td>\n      <td>3</td>\n      <td>10000</td>\n      <td>2019-03-22 16:30:00</td>\n      <td>2019-03-23 03:00:00</td>\n      <td>90</td>\n      <td>630</td>\n      <td>8.786</td>\n      <td>...</td>\n      <td>-1.0</td>\n      <td>-1.0</td>\n      <td>-1.0</td>\n      <td>-1.0</td>\n      <td>-1.0</td>\n      <td>3</td>\n      <td>3</td>\n      <td>6.577</td>\n      <td>0</td>\n      <td>0</td>\n    </tr>\n    <tr>\n      <th>128156</th>\n      <td>70100914</td>\n      <td>3</td>\n      <td>1</td>\n      <td>1</td>\n      <td>10000</td>\n      <td>2019-03-22 03:00:00</td>\n      <td>2019-03-23 03:00:00</td>\n      <td>0</td>\n      <td>1440</td>\n      <td>-1.000</td>\n      <td>...</td>\n      <td>-1.0</td>\n      <td>-1.0</td>\n      <td>-1.0</td>\n      <td>-1.0</td>\n      <td>-1.0</td>\n      <td>1</td>\n      <td>-9</td>\n      <td>-1.000</td>\n      <td>0</td>\n      <td>0</td>\n    </tr>\n  </tbody>\n</table>\n<p>63024 rows × 105 columns</p>\n</div>"
     },
     "execution_count": 12,
     "metadata": {},
     "output_type": "execute_result"
    }
   ],
   "source": [
    "df_place[df_place.arrtime.dt.month.isin([1,2,3])]"
   ],
   "metadata": {
    "collapsed": false,
    "ExecuteTime": {
     "end_time": "2023-09-14T16:56:09.302704900Z",
     "start_time": "2023-09-14T16:56:09.193480600Z"
    }
   },
   "id": "9f8761459065268e"
  },
  {
   "cell_type": "code",
   "execution_count": null,
   "outputs": [],
   "source": [],
   "metadata": {
    "collapsed": false
   },
   "id": "57bb2135e517021b"
  }
 ],
 "metadata": {
  "kernelspec": {
   "display_name": "Python 3",
   "language": "python",
   "name": "python3"
  },
  "language_info": {
   "codemirror_mode": {
    "name": "ipython",
    "version": 2
   },
   "file_extension": ".py",
   "mimetype": "text/x-python",
   "name": "python",
   "nbconvert_exporter": "python",
   "pygments_lexer": "ipython2",
   "version": "2.7.6"
  }
 },
 "nbformat": 4,
 "nbformat_minor": 5
}
