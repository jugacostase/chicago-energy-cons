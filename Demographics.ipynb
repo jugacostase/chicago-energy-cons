{
 "cells": [
  {
   "cell_type": "code",
   "execution_count": null,
   "metadata": {},
   "outputs": [],
   "source": [
    "import datetime\n",
    "\n",
    "import numpy as np\n",
    "import pandas as pd\n",
    "import geopandas as gpd\n",
    "\n",
    "import plotly.express as px\n",
    "\n",
    "px.set_mapbox_access_token(\"pk.eyJ1IjoiamdhY29zdGFzIiwiYSI6ImNsYWJwd3g1ZDAwaGUzb3Q0ZG04NDNndGgifQ.brk6kVA6biVSH0ovZ1dreA\")"
   ]
  },
  {
   "cell_type": "code",
   "execution_count": null,
   "metadata": {},
   "outputs": [],
   "source": [
    "df_data = pd.read_csv('data/comed_month/comed_201801.csv')\n",
    "df_data['date_time'] = pd.to_datetime(df_data.date_time)\n",
    "\n",
    "df_data = df_data.groupby(['zip5', 'date_time']).energy.sum().reset_index()\n",
    "df_data['weekday'] = df_data.date_time.dt.weekday\n",
    "gdf_zc = gpd.read_file('data/geo/Chicago_ZC.geojson')\n",
    "gdf_zc['GEOID20'] = gdf_zc['GEOID20'].astype(int)\n",
    "\n",
    "gdf_data = pd.merge(gdf_zc, df_data, left_on='GEOID20', right_on='zip5')\n",
    "gdf_data = gdf_data.groupby(['zip5', 'weekday']).sum().reset_index()\n",
    "gdf_data['zip5'] = gdf_data['zip5'].astype(str)\n",
    "\n",
    "df_acs = pd.read_csv('data/census/Census_Clean_Zip5_IL_Sex_Age_Ethnicity_2018.csv')\n",
    "dict_names = dict(zip(df_acs.columns, df_acs.loc[0].values))\n",
    "df_acs = df_acs.drop(0)\n",
    "df_acs['zip5'] = df_acs.NAME.str[6:]\n",
    "\n",
    "gdf_data = pd.merge(gdf_data, df_acs, on='zip5')\n",
    "\n",
    "gdf_counties = gpd.read_file('data/geo/US_counties.json')\n"
   ]
  },
  {
   "cell_type": "code",
   "execution_count": null,
   "metadata": {},
   "outputs": [],
   "source": [
    "df_plot = gdf_data[['zip5', 'weekday', 'energy', 'DP05_0001E', 'DP05_0001M']].astype(int)\n",
    "df_plot['type_day'] = np.where(df_plot.weekday<=4, 'workday', 'weekend')\n",
    "#df_plot['type_day'] = np.where(df_plot.weekday==6, 'sunday', df_plot['type_day'])\n",
    "df_plot = df_plot.groupby(['zip5', 'type_day']).agg({\n",
    "    'energy': 'sum',\n",
    "    'DP05_0001E': 'sum',\n",
    "    'weekday': 'count'\n",
    "}).reset_index()\n",
    "\n",
    "gdf_zc_c = gdf_zc.sjoin(gdf_counties, how='left')\n",
    "city_zc = gdf_zc_c.query('NAME==\"Cook\"').GEOID20.values\n",
    "\n",
    "df_plot['energy_pp'] = df_plot.energy/df_plot.DP05_0001E\n",
    "df_plot['Class'] = np.where(df_plot.zip5.isin(city_zc), 'Urban', 'Suburban')\n",
    "\n",
    "df_plot['energy_pp_pd'] = df_plot.energy_pp/df_plot.weekday\n",
    "df_plot['zip5'] = df_plot['zip5'].astype(str)"
   ]
  },
  {
   "cell_type": "code",
   "execution_count": null,
   "metadata": {},
   "outputs": [],
   "source": [
    "fig = px.scatter(df_plot, x=df_plot.index, y='energy_pp_pd',  color='type_day', symbol='type_day',\n",
    "                 width=800, height=800, hover_data=['zip5'])\n",
    "fig.show()"
   ]
  },
  {
   "cell_type": "code",
   "execution_count": null,
   "metadata": {},
   "outputs": [],
   "source": [
    "fig = px.bar(df_plot, x='zip5', y='energy_pp_pd',  color='type_day',width=1600, height=800, hover_data=['zip5'])\n",
    "fig.show()"
   ]
  },
  {
   "cell_type": "code",
   "execution_count": null,
   "metadata": {},
   "outputs": [],
   "source": [
    "df_plot = gdf_data[['zip5', 'weekday', 'energy', 'DP05_0001E', 'DP05_0001M']].astype(int)\n",
    "df_plot = df_plot.groupby(['zip5']).agg({\n",
    "    'energy': 'sum',\n",
    "    'DP05_0001E': 'sum',\n",
    "}).reset_index()\n",
    "\n",
    "gdf_zc_c = gdf_zc.sjoin(gdf_counties, how='left')\n",
    "city_zc = gdf_zc_c.query('NAME==\"Cook\"').GEOID20.values\n",
    "\n",
    "df_plot['energy_pp'] = df_plot.energy/df_plot.DP05_0001E\n",
    "df_plot['Class'] = np.where(df_plot.zip5.isin(city_zc), 'Urban', 'Suburban')\n"
   ]
  },
  {
   "cell_type": "code",
   "execution_count": null,
   "metadata": {},
   "outputs": [],
   "source": [
    "fig = px.choropleth_mapbox(df_plot,\n",
    "                   geojson=gdf_zc,\n",
    "                   featureidkey='properties.GEOID20',\n",
    "                   color=\"energy_pp\",\n",
    "                   locations='zip5',\n",
    "                   width=1000,\n",
    "                   height=700,\n",
    "                   center={'lat':41.6, 'lon':-88.99},\n",
    "                   zoom=6,\n",
    "                   range_color=(0, 30),\n",
    "                   mapbox_style='carto-positron',\n",
    "                   opacity=0.5,\n",
    "                   )\n",
    "fig.update_geos(fitbounds=\"locations\", visible=False)\n",
    "fig.show()\n",
    "#fig.write_html('20180131_animation.html')"
   ]
  },
  {
   "cell_type": "code",
   "execution_count": null,
   "metadata": {},
   "outputs": [],
   "source": [
    "fig = px.choropleth_mapbox(df_plot,\n",
    "                   geojson=gdf_zc,\n",
    "                   featureidkey='properties.GEOID20',\n",
    "                   color=\"energy_pp\",\n",
    "                   locations='zip5',\n",
    "                   width=1000,\n",
    "                   height=700,\n",
    "                   center={'lat':41.6, 'lon':-88.99},\n",
    "                   zoom=6,\n",
    "                   range_color=(0, 60),\n",
    "                   mapbox_style='carto-positron',\n",
    "                   opacity=0.5,\n",
    "                   )\n",
    "fig.update_geos(fitbounds=\"locations\", visible=False)\n",
    "fig.show()"
   ]
  },
  {
   "cell_type": "code",
   "execution_count": null,
   "metadata": {},
   "outputs": [],
   "source": [
    "for i in dict_names.keys():\n",
    "    print(i, dict_names[i])\n"
   ]
  },
  {
   "attachments": {},
   "cell_type": "markdown",
   "metadata": {},
   "source": [
    "## Energy consumption per person by age range"
   ]
  },
  {
   "cell_type": "code",
   "execution_count": null,
   "metadata": {},
   "outputs": [],
   "source": [
    "columns_age = [\"DP05_0005E\",\"DP05_0006E\",\"DP05_0007E\",\"DP05_0008E\",\"DP05_0009E\",\"DP05_0010E\",\"DP05_0011E\",\"DP05_0012E\",\"DP05_0013E\",\"DP05_0014E\",\"DP05_0015E\",\"DP05_0016E\",\"DP05_0017E\"]\n",
    "\n",
    "df_plot = gdf_data[['zip5', 'energy', \"DP05_0001E\"]+columns_age].astype(int)\n",
    "df_plot = df_plot.groupby('zip5').sum().reset_index()\n",
    "\n",
    "for col in columns_age:\n",
    "    df_plot[col] = df_plot[col]/df_plot.DP05_0001E\n",
    "\n",
    "df_plot['energy_pp'] = df_plot.energy/df_plot.DP05_0001E\n",
    "\n",
    "df_plot = pd.melt(df_plot, id_vars=['zip5', 'energy_pp'], value_vars=columns_age, var_name='age_range', value_name='people')\n",
    "\n",
    "df = px.data.iris()\n",
    "fig = px.scatter(df_plot, x=\"people\", y=\"energy_pp\", color=\"age_range\",\n",
    "                  hover_data=['zip5'])\n",
    "fig.show()"
   ]
  },
  {
   "attachments": {},
   "cell_type": "markdown",
   "metadata": {},
   "source": [
    "## Energy consumption per person by sex"
   ]
  },
  {
   "cell_type": "code",
   "execution_count": null,
   "metadata": {},
   "outputs": [],
   "source": [
    "columns_sex = [\"DP05_0002E\",\"DP05_0003E\"]\n",
    "\n",
    "df_plot = gdf_data[['zip5', 'energy', \"DP05_0001E\"]+columns_sex].astype(int)\n",
    "df_plot = df_plot.groupby('zip5').sum().reset_index()\n",
    "\n",
    "for col in columns_sex:\n",
    "    df_plot[col] = df_plot[col]/df_plot.DP05_0001E\n",
    "\n",
    "df_plot['energy_pp'] = df_plot.energy/df_plot.DP05_0001E\n",
    "\n",
    "df_plot = pd.melt(df_plot, id_vars=['zip5', 'energy_pp'], value_vars=columns_sex, var_name='sex', value_name='people')\n",
    "\n",
    "df = px.data.iris()\n",
    "fig = px.scatter(df_plot, x=\"people\", y=\"energy_pp\", color=\"sex\",\n",
    "                  hover_data=['zip5'])\n",
    "fig.show()"
   ]
  },
  {
   "attachments": {},
   "cell_type": "markdown",
   "metadata": {},
   "source": [
    "## Energy consumption per person by (limited) age range and sex"
   ]
  },
  {
   "cell_type": "code",
   "execution_count": null,
   "metadata": {},
   "outputs": [],
   "source": [
    "columns_sex_age = [\"DP05_0026E\",\"DP05_0027E\", \"DP05_0030E\",\"DP05_0031E\"]\n",
    "\n",
    "df_plot = gdf_data[['zip5', 'energy', \"DP05_0001E\"]+columns_sex_age].astype(int)\n",
    "df_plot = df_plot.groupby('zip5').sum().reset_index()\n",
    "\n",
    "for col in columns_sex_age:\n",
    "    df_plot[col] = df_plot[col]/df_plot.DP05_0001E\n",
    "\n",
    "df_plot['energy_pp'] = df_plot.energy/df_plot.DP05_0001E\n",
    "\n",
    "df_plot = pd.melt(df_plot, id_vars=['zip5', 'energy_pp'], value_vars=columns_sex_age, var_name='sex_age', value_name='people')\n",
    "\n",
    "df = px.data.iris()\n",
    "fig = px.scatter(df_plot, x=\"people\", y=\"energy_pp\", color=\"sex_age\",\n",
    "                  hover_data=['zip5'])\n",
    "fig.show()"
   ]
  },
  {
   "attachments": {},
   "cell_type": "markdown",
   "metadata": {},
   "source": [
    "## Energy consumption per person by etnicity/race"
   ]
  },
  {
   "cell_type": "code",
   "execution_count": null,
   "metadata": {},
   "outputs": [],
   "source": [
    "columns_race = [\"DP05_0037E\", 'DP05_0038E', 'DP05_0039E', 'DP05_0044E', 'DP05_0052E', 'DP05_0057E']\n",
    "\n",
    "df_plot = gdf_data[['zip5', 'energy', \"DP05_0001E\"]+columns_race].astype(int)\n",
    "df_plot = df_plot.groupby('zip5').sum().reset_index()\n",
    "\n",
    "for col in columns_race:\n",
    "    df_plot[col] = df_plot[col]/df_plot.DP05_0001E\n",
    "\n",
    "df_plot['energy_pp'] = df_plot.energy/df_plot.DP05_0001E\n",
    "\n",
    "df_plot = pd.melt(df_plot, id_vars=['zip5', 'energy_pp'], value_vars=columns_race, var_name='race', value_name='people')\n",
    "\n",
    "df = px.data.iris()\n",
    "fig = px.scatter(df_plot, x=\"people\", y=\"energy_pp\", color=\"race\",\n",
    "                  hover_data=['zip5'])\n",
    "fig.show()"
   ]
  },
  {
   "cell_type": "code",
   "execution_count": null,
   "metadata": {},
   "outputs": [],
   "source": [
    "df_data = pd.read_csv('data/comed_month/comed_201801.csv')\n",
    "df_data['date_time'] = pd.to_datetime(df_data.date_time)\n",
    "\n",
    "df_data = df_data.groupby(['zip5', 'date_time']).energy.sum().reset_index()\n",
    "df_data['weekday'] = df_data.date_time.dt.weekday\n",
    "gdf_zc = gpd.read_file('data/geo/Chicago_ZC.geojson')\n",
    "gdf_zc['GEOID20'] = gdf_zc['GEOID20'].astype(int)\n",
    "\n",
    "gdf_data = pd.merge(gdf_zc, df_data, left_on='GEOID20', right_on='zip5')\n",
    "gdf_data = gdf_data.groupby(['zip5', 'weekday']).sum().reset_index()\n",
    "gdf_data['zip5'] = gdf_data['zip5'].astype(str)\n",
    "\n",
    "df_acs = pd.read_csv('data/census/Census_Clean_Zip5_IL_Household&Family_Married&Nonmarried_Income_2018.csv')\n",
    "dict_names = dict(zip(df_acs.columns, df_acs.loc[0].values))\n",
    "df_acs = df_acs.drop(0)\n",
    "df_acs['zip5'] = df_acs.NAME.str[6:]\n",
    "\n",
    "gdf_data = pd.merge(gdf_data, df_acs, on='zip5')\n",
    "\n",
    "gdf_counties = gpd.read_file('data/geo/US_counties.json')"
   ]
  },
  {
   "cell_type": "markdown",
   "source": [],
   "metadata": {
    "collapsed": false
   }
  },
  {
   "attachments": {},
   "cell_type": "markdown",
   "metadata": {},
   "source": [
    "## Energy consumption per person by income"
   ]
  },
  {
   "cell_type": "code",
   "execution_count": null,
   "metadata": {},
   "outputs": [],
   "source": [
    "columns_income = ['S1901_C01_012E', 'S1901_C01_013E']\n",
    "\n",
    "df_pop = pd.read_csv('data/census/Census_Clean_Zip5_IL_Sex_Age_Ethnicity_2018.csv')\n",
    "df_pop = df_pop.drop(0)\n",
    "df_pop['zip5'] = df_pop.NAME.str[6:].astype(int)\n",
    "\n",
    "df_plot = gdf_data[['zip5', 'energy']+columns_income].astype(int)\n",
    "df_plot = pd.merge(df_plot, df_pop[['zip5', 'DP05_0001E']], on='zip5').astype(int)\n",
    "df_plot['energy_pp'] = df_plot.energy/df_plot.DP05_0001E\n",
    "df_plot = df_plot.groupby('zip5').mean().reset_index()\n",
    "\n",
    "\n",
    "\n",
    "df_plot = pd.melt(df_plot, id_vars=['zip5', 'energy_pp'], value_vars=columns_income, var_name='income', value_name='people')\n",
    "\n",
    "df = px.data.iris()\n",
    "fig = px.scatter(df_plot, x=\"people\", y=\"energy_pp\", color=\"income\",\n",
    "                  hover_data=['zip5'])\n",
    "fig.show()"
   ]
  },
  {
   "attachments": {},
   "cell_type": "markdown",
   "metadata": {},
   "source": [
    "## Energy consumption per person by education level"
   ]
  },
  {
   "cell_type": "code",
   "execution_count": null,
   "metadata": {},
   "outputs": [],
   "source": [
    "df_data = pd.read_csv('data/comed_month/comed_201801.csv')\n",
    "df_data['date_time'] = pd.to_datetime(df_data.date_time)\n",
    "\n",
    "df_data = df_data.groupby(['zip5', 'date_time']).energy.sum().reset_index()\n",
    "df_data['weekday'] = df_data.date_time.dt.weekday\n",
    "gdf_zc = gpd.read_file('data/geo/Chicago_ZC.geojson')\n",
    "gdf_zc['GEOID20'] = gdf_zc['GEOID20'].astype(int)\n",
    "\n",
    "gdf_data = pd.merge(gdf_zc, df_data, left_on='GEOID20', right_on='zip5')\n",
    "gdf_data = gdf_data.groupby(['zip5', 'weekday']).sum().reset_index()\n",
    "gdf_data['zip5'] = gdf_data['zip5'].astype(str)\n",
    "\n",
    "df_acs = pd.read_csv('data/census/Census_Clean_Zip5_IL_EducationLevel_byAge_byIncome_Ethnicity_bySex.csv')\n",
    "dict_names = dict(zip(df_acs.columns, df_acs.loc[0].values))\n",
    "df_acs = df_acs.drop(0)\n",
    "df_acs['zip5'] = df_acs.NAME.str[6:]\n",
    "\n",
    "gdf_data = pd.merge(gdf_data, df_acs, on='zip5')\n",
    "\n",
    "gdf_counties = gpd.read_file('data/geo/US_counties.json')"
   ]
  },
  {
   "cell_type": "code",
   "execution_count": null,
   "metadata": {},
   "outputs": [],
   "source": [
    "columns_education = ['S1501_C01_002E', 'S1501_C01_003E', 'S1501_C01_004E', 'S1501_C01_005E', 'S1501_C01_007E', \n",
    "                     'S1501_C01_008E', 'S1501_C01_009E', 'S1501_C01_010E', 'S1501_C01_011E', 'S1501_C01_012E',\n",
    "                     'S1501_C01_013E', 'S1501_C01_014E', 'S1501_C01_015E']\n",
    "\n",
    "df_pop = pd.read_csv('data/census/Census_Clean_Zip5_IL_Sex_Age_Ethnicity_2018.csv')\n",
    "df_pop = df_pop.drop(0)\n",
    "df_pop['zip5'] = df_pop.NAME.str[6:].astype(int)\n",
    "\n",
    "df_plot = gdf_data[['zip5', 'energy']+columns_education].astype(int)\n",
    "\n",
    "df_plot = df_plot.groupby('zip5').mean().reset_index()\n",
    "\n",
    "df_plot = pd.merge(df_plot, df_pop[['zip5', 'DP05_0001E']], on='zip5').astype(int)\n",
    "df_plot['energy_pp'] = df_plot.energy/df_plot.DP05_0001E\n",
    "\n",
    "for col in columns_education:\n",
    "    df_plot[col] = df_plot[col]/df_plot.DP05_0001E\n",
    "\n",
    "\n",
    "df_plot = pd.melt(df_plot, id_vars=['zip5', 'energy_pp'], value_vars=columns_education, var_name='education', value_name='people')\n",
    "\n",
    "df = px.data.iris()\n",
    "fig = px.scatter(df_plot, x=\"people\", y=\"energy_pp\", color=\"education\",\n",
    "                  hover_data=['zip5'])\n",
    "fig.show()"
   ]
  },
  {
   "cell_type": "code",
   "execution_count": null,
   "metadata": {},
   "outputs": [],
   "source": [
    "df_plot"
   ]
  },
  {
   "cell_type": "code",
   "execution_count": null,
   "metadata": {},
   "outputs": [],
   "source": []
  },
  {
   "cell_type": "code",
   "execution_count": null,
   "metadata": {},
   "outputs": [],
   "source": []
  }
 ],
 "metadata": {
  "kernelspec": {
   "display_name": "Python 3",
   "language": "python",
   "name": "python3"
  },
  "language_info": {
   "codemirror_mode": {
    "name": "ipython",
    "version": 3
   },
   "file_extension": ".py",
   "mimetype": "text/x-python",
   "name": "python",
   "nbconvert_exporter": "python",
   "pygments_lexer": "ipython3",
   "version": "3.10.9"
  },
  "orig_nbformat": 4,
  "vscode": {
   "interpreter": {
    "hash": "ce44fec16a475fa863ad058858edc7cc1f739abe18a15028f7309c6483d88bee"
   }
  }
 },
 "nbformat": 4,
 "nbformat_minor": 2
}
